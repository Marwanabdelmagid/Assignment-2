{
 "cells": [
  {
   "cell_type": "markdown",
   "id": "d3d46527",
   "metadata": {},
   "source": [
    "Assignment 2:\n",
    "    \n",
    "Marwan Abdelmagid, 900211676"
   ]
  },
  {
   "cell_type": "code",
   "execution_count": null,
   "id": "5bea0c42",
   "metadata": {},
   "outputs": [],
   "source": [
    "Abstarct \n",
    "Part 1: compare nations probility of wining friendly home matches, offical home matches, and imoportant home matches.\n",
    "\n",
    "Data description\n",
    "\n",
    "1: calculation of the probability of wining friendly matches in  neutral stadiums and home stadiums. \n",
    "\n",
    "2: calculation of the probability of wining official matches in  neutral stadiums and home stadiums.\n",
    "\n",
    "3: calculation of the probability of wining official matches in  neutral stadiums and home stadiums.\n",
    "\n",
    "4: conclusion\n",
    "\n",
    "Part2: comparing the daily infections, deaths and fatality rate across diffrent critaries comparing between 2020 and 2021\n",
    "\n",
    "Data description\n",
    "\n",
    "5: Comparison between daily death infections, daily deaths, and fatality rate between 2020 and 2021.\n",
    "\n",
    "6: Comparison between daily death infections, daily deaths, and fatality rate between the 7 regions.\n",
    "\n",
    "7: Comparison between daily death infections, daily deaths, and fatality rate between the 7 continents.\n",
    "\n",
    "8: Comparison between daily death infections, daily deaths, and fatality rate between countries with diffrent income levels \n",
    "\n",
    "\n",
    "\n"
   ]
  },
  {
   "cell_type": "markdown",
   "id": "214b3117",
   "metadata": {},
   "source": [
    "\"Results\" data describition:\n",
    "\n",
    "date: date match was played on.\n",
    "\n",
    "home_team, away_team: home team and away team respectively.\n",
    "\n",
    "home_score,away_score: home teams score and away team score respectively.\n",
    "\n",
    "tournament: type of toutnament match was played in.\n",
    "\n",
    "city,country: city and country match was played in.\n",
    "\n",
    "neutral: True if the match is played on ground that does not belong to home or away team.\n",
    "\n",
    "result_home,result_away: win, lose or draw for the home team or away team respectively."
   ]
  },
  {
   "cell_type": "markdown",
   "id": "2a507ee1",
   "metadata": {},
   "source": [
    "\n",
    "\n",
    "\n",
    "\"Covid data\" data describition:\n",
    "\n",
    "date: date of which data was collected.\n",
    "\n",
    "iso3c: country code. \n",
    "\n",
    "income: country income level.\n",
    "\n",
    "region: which region does country belong to.\n",
    "\n",
    "continent: which contient is the country on.\n",
    "\n",
    "dcases: number of cases reported on that day.\n",
    "\n",
    "ddeaths: number of deaths reported on that day.\n",
    "\n",
    "population: popoulation of country.\n",
    "\n",
    "weekdays: which month was these numbers reoprted in.\n",
    "\n",
    "month: which month was these numbers reoprted in."
   ]
  },
  {
   "cell_type": "code",
   "execution_count": null,
   "id": "dc29983a",
   "metadata": {},
   "outputs": [],
   "source": [
    "import pandas as pd\n",
    "import numpy as np\n",
    "from statsmodels.stats.proportion import proportion_confint\n",
    "import statsmodels.api as sm\n",
    "import matplotlib.pyplot as plt\n",
    "import scipy.stats \n",
    "from pandas.api.types import CategoricalDtype\n",
    "from scipy.stats import norm,t"
   ]
  },
  {
   "cell_type": "markdown",
   "id": "5f7e7096",
   "metadata": {},
   "source": [
    "Part 1:"
   ]
  },
  {
   "cell_type": "code",
   "execution_count": 284,
   "id": "69e7a25e",
   "metadata": {},
   "outputs": [],
   "source": [
    "df=pd.read_csv(\"results.csv\")"
   ]
  },
  {
   "cell_type": "code",
   "execution_count": 285,
   "id": "482f158c",
   "metadata": {},
   "outputs": [
    {
     "data": {
      "text/plain": [
       "(43188, 9)"
      ]
     },
     "execution_count": 285,
     "metadata": {},
     "output_type": "execute_result"
    }
   ],
   "source": [
    "df.head()\n",
    "df.shape"
   ]
  },
  {
   "cell_type": "code",
   "execution_count": 286,
   "id": "3b80cf44",
   "metadata": {},
   "outputs": [],
   "source": [
    "df.loc[df['home_team'] == df['country'], 'home_match'] = True\n",
    "df.loc[df['home_team'] != df['country'], 'home_match'] = False"
   ]
  },
  {
   "cell_type": "code",
   "execution_count": 287,
   "id": "51b27272",
   "metadata": {},
   "outputs": [],
   "source": [
    "df.loc[df['home_match'] == True, 'away_match'] = False\n",
    "df.loc[df['home_match']==False,'away_match']= True\n",
    "df.loc[df['neutral']==True, 'away_match'] = False"
   ]
  },
  {
   "cell_type": "code",
   "execution_count": 288,
   "id": "573c58e3",
   "metadata": {},
   "outputs": [],
   "source": [
    "x=df[\"home_score\"] - df[\"away_score\"]"
   ]
  },
  {
   "cell_type": "code",
   "execution_count": 289,
   "id": "eb848a03",
   "metadata": {},
   "outputs": [],
   "source": [
    "conditions=[(x<0),(x>0),(x==0)]\n",
    "values=[\"lose\",\"win\",\"draw\"]"
   ]
  },
  {
   "cell_type": "code",
   "execution_count": 290,
   "id": "db865a5a",
   "metadata": {},
   "outputs": [],
   "source": [
    "df[\"result_home\"]=np.select(conditions,values)"
   ]
  },
  {
   "cell_type": "code",
   "execution_count": 291,
   "id": "714924bd",
   "metadata": {},
   "outputs": [],
   "source": [
    "condition1=[(x>0),(x<0),(x==0)]\n",
    "value1=[\"lose\",\"win\",\"draw\"]"
   ]
  },
  {
   "cell_type": "code",
   "execution_count": 292,
   "id": "b436b19e",
   "metadata": {},
   "outputs": [
    {
     "data": {
      "text/html": [
       "<div>\n",
       "<style scoped>\n",
       "    .dataframe tbody tr th:only-of-type {\n",
       "        vertical-align: middle;\n",
       "    }\n",
       "\n",
       "    .dataframe tbody tr th {\n",
       "        vertical-align: top;\n",
       "    }\n",
       "\n",
       "    .dataframe thead th {\n",
       "        text-align: right;\n",
       "    }\n",
       "</style>\n",
       "<table border=\"1\" class=\"dataframe\">\n",
       "  <thead>\n",
       "    <tr style=\"text-align: right;\">\n",
       "      <th></th>\n",
       "      <th>date</th>\n",
       "      <th>home_team</th>\n",
       "      <th>away_team</th>\n",
       "      <th>home_score</th>\n",
       "      <th>away_score</th>\n",
       "      <th>tournament</th>\n",
       "      <th>city</th>\n",
       "      <th>country</th>\n",
       "      <th>neutral</th>\n",
       "      <th>home_match</th>\n",
       "      <th>away_match</th>\n",
       "      <th>result_home</th>\n",
       "      <th>result_away</th>\n",
       "    </tr>\n",
       "  </thead>\n",
       "  <tbody>\n",
       "    <tr>\n",
       "      <th>0</th>\n",
       "      <td>1872-11-30</td>\n",
       "      <td>Scotland</td>\n",
       "      <td>England</td>\n",
       "      <td>0</td>\n",
       "      <td>0</td>\n",
       "      <td>Friendly</td>\n",
       "      <td>Glasgow</td>\n",
       "      <td>Scotland</td>\n",
       "      <td>False</td>\n",
       "      <td>True</td>\n",
       "      <td>False</td>\n",
       "      <td>draw</td>\n",
       "      <td>draw</td>\n",
       "    </tr>\n",
       "    <tr>\n",
       "      <th>1</th>\n",
       "      <td>1873-03-08</td>\n",
       "      <td>England</td>\n",
       "      <td>Scotland</td>\n",
       "      <td>4</td>\n",
       "      <td>2</td>\n",
       "      <td>Friendly</td>\n",
       "      <td>London</td>\n",
       "      <td>England</td>\n",
       "      <td>False</td>\n",
       "      <td>True</td>\n",
       "      <td>False</td>\n",
       "      <td>win</td>\n",
       "      <td>lose</td>\n",
       "    </tr>\n",
       "    <tr>\n",
       "      <th>2</th>\n",
       "      <td>1874-03-07</td>\n",
       "      <td>Scotland</td>\n",
       "      <td>England</td>\n",
       "      <td>2</td>\n",
       "      <td>1</td>\n",
       "      <td>Friendly</td>\n",
       "      <td>Glasgow</td>\n",
       "      <td>Scotland</td>\n",
       "      <td>False</td>\n",
       "      <td>True</td>\n",
       "      <td>False</td>\n",
       "      <td>win</td>\n",
       "      <td>lose</td>\n",
       "    </tr>\n",
       "    <tr>\n",
       "      <th>3</th>\n",
       "      <td>1875-03-06</td>\n",
       "      <td>England</td>\n",
       "      <td>Scotland</td>\n",
       "      <td>2</td>\n",
       "      <td>2</td>\n",
       "      <td>Friendly</td>\n",
       "      <td>London</td>\n",
       "      <td>England</td>\n",
       "      <td>False</td>\n",
       "      <td>True</td>\n",
       "      <td>False</td>\n",
       "      <td>draw</td>\n",
       "      <td>draw</td>\n",
       "    </tr>\n",
       "    <tr>\n",
       "      <th>4</th>\n",
       "      <td>1876-03-04</td>\n",
       "      <td>Scotland</td>\n",
       "      <td>England</td>\n",
       "      <td>3</td>\n",
       "      <td>0</td>\n",
       "      <td>Friendly</td>\n",
       "      <td>Glasgow</td>\n",
       "      <td>Scotland</td>\n",
       "      <td>False</td>\n",
       "      <td>True</td>\n",
       "      <td>False</td>\n",
       "      <td>win</td>\n",
       "      <td>lose</td>\n",
       "    </tr>\n",
       "    <tr>\n",
       "      <th>...</th>\n",
       "      <td>...</td>\n",
       "      <td>...</td>\n",
       "      <td>...</td>\n",
       "      <td>...</td>\n",
       "      <td>...</td>\n",
       "      <td>...</td>\n",
       "      <td>...</td>\n",
       "      <td>...</td>\n",
       "      <td>...</td>\n",
       "      <td>...</td>\n",
       "      <td>...</td>\n",
       "      <td>...</td>\n",
       "      <td>...</td>\n",
       "    </tr>\n",
       "    <tr>\n",
       "      <th>43183</th>\n",
       "      <td>2/1/2022</td>\n",
       "      <td>Suriname</td>\n",
       "      <td>Guyana</td>\n",
       "      <td>2</td>\n",
       "      <td>1</td>\n",
       "      <td>Friendly</td>\n",
       "      <td>Paramaribo</td>\n",
       "      <td>Suriname</td>\n",
       "      <td>False</td>\n",
       "      <td>True</td>\n",
       "      <td>False</td>\n",
       "      <td>win</td>\n",
       "      <td>lose</td>\n",
       "    </tr>\n",
       "    <tr>\n",
       "      <th>43184</th>\n",
       "      <td>2/2/2022</td>\n",
       "      <td>Burkina Faso</td>\n",
       "      <td>Senegal</td>\n",
       "      <td>1</td>\n",
       "      <td>3</td>\n",
       "      <td>African Cup of Nations</td>\n",
       "      <td>Yaoundé</td>\n",
       "      <td>Cameroon</td>\n",
       "      <td>True</td>\n",
       "      <td>False</td>\n",
       "      <td>False</td>\n",
       "      <td>lose</td>\n",
       "      <td>win</td>\n",
       "    </tr>\n",
       "    <tr>\n",
       "      <th>43185</th>\n",
       "      <td>2/3/2022</td>\n",
       "      <td>Cameroon</td>\n",
       "      <td>Egypt</td>\n",
       "      <td>0</td>\n",
       "      <td>0</td>\n",
       "      <td>African Cup of Nations</td>\n",
       "      <td>Yaoundé</td>\n",
       "      <td>Cameroon</td>\n",
       "      <td>False</td>\n",
       "      <td>True</td>\n",
       "      <td>False</td>\n",
       "      <td>draw</td>\n",
       "      <td>draw</td>\n",
       "    </tr>\n",
       "    <tr>\n",
       "      <th>43186</th>\n",
       "      <td>2/5/2022</td>\n",
       "      <td>Cameroon</td>\n",
       "      <td>Burkina Faso</td>\n",
       "      <td>3</td>\n",
       "      <td>3</td>\n",
       "      <td>African Cup of Nations</td>\n",
       "      <td>Yaoundé</td>\n",
       "      <td>Cameroon</td>\n",
       "      <td>False</td>\n",
       "      <td>True</td>\n",
       "      <td>False</td>\n",
       "      <td>draw</td>\n",
       "      <td>draw</td>\n",
       "    </tr>\n",
       "    <tr>\n",
       "      <th>43187</th>\n",
       "      <td>2/6/2022</td>\n",
       "      <td>Senegal</td>\n",
       "      <td>Egypt</td>\n",
       "      <td>0</td>\n",
       "      <td>0</td>\n",
       "      <td>African Cup of Nations</td>\n",
       "      <td>Yaoundé</td>\n",
       "      <td>Cameroon</td>\n",
       "      <td>True</td>\n",
       "      <td>False</td>\n",
       "      <td>False</td>\n",
       "      <td>draw</td>\n",
       "      <td>draw</td>\n",
       "    </tr>\n",
       "  </tbody>\n",
       "</table>\n",
       "<p>43188 rows × 13 columns</p>\n",
       "</div>"
      ],
      "text/plain": [
       "             date     home_team     away_team  home_score  away_score  \\\n",
       "0      1872-11-30      Scotland       England           0           0   \n",
       "1      1873-03-08       England      Scotland           4           2   \n",
       "2      1874-03-07      Scotland       England           2           1   \n",
       "3      1875-03-06       England      Scotland           2           2   \n",
       "4      1876-03-04      Scotland       England           3           0   \n",
       "...           ...           ...           ...         ...         ...   \n",
       "43183    2/1/2022      Suriname        Guyana           2           1   \n",
       "43184    2/2/2022  Burkina Faso       Senegal           1           3   \n",
       "43185    2/3/2022      Cameroon         Egypt           0           0   \n",
       "43186    2/5/2022      Cameroon  Burkina Faso           3           3   \n",
       "43187    2/6/2022       Senegal         Egypt           0           0   \n",
       "\n",
       "                   tournament        city   country  neutral home_match  \\\n",
       "0                    Friendly     Glasgow  Scotland    False       True   \n",
       "1                    Friendly      London   England    False       True   \n",
       "2                    Friendly     Glasgow  Scotland    False       True   \n",
       "3                    Friendly      London   England    False       True   \n",
       "4                    Friendly     Glasgow  Scotland    False       True   \n",
       "...                       ...         ...       ...      ...        ...   \n",
       "43183                Friendly  Paramaribo  Suriname    False       True   \n",
       "43184  African Cup of Nations     Yaoundé  Cameroon     True      False   \n",
       "43185  African Cup of Nations     Yaoundé  Cameroon    False       True   \n",
       "43186  African Cup of Nations     Yaoundé  Cameroon    False       True   \n",
       "43187  African Cup of Nations     Yaoundé  Cameroon     True      False   \n",
       "\n",
       "      away_match result_home result_away  \n",
       "0          False        draw        draw  \n",
       "1          False         win        lose  \n",
       "2          False         win        lose  \n",
       "3          False        draw        draw  \n",
       "4          False         win        lose  \n",
       "...          ...         ...         ...  \n",
       "43183      False         win        lose  \n",
       "43184      False        lose         win  \n",
       "43185      False        draw        draw  \n",
       "43186      False        draw        draw  \n",
       "43187      False        draw        draw  \n",
       "\n",
       "[43188 rows x 13 columns]"
      ]
     },
     "execution_count": 292,
     "metadata": {},
     "output_type": "execute_result"
    }
   ],
   "source": [
    "df[\"result_away\"]=np.select(condition1,value1)\n",
    "df"
   ]
  },
  {
   "cell_type": "markdown",
   "id": "e5459f3d",
   "metadata": {},
   "source": [
    "1: Friendly matches "
   ]
  },
  {
   "cell_type": "markdown",
   "id": "68c4157c",
   "metadata": {},
   "source": [
    "1.1: probility of wining home games "
   ]
  },
  {
   "cell_type": "code",
   "execution_count": 293,
   "id": "07a3089a",
   "metadata": {
    "scrolled": true
   },
   "outputs": [
    {
     "data": {
      "text/html": [
       "<div>\n",
       "<style scoped>\n",
       "    .dataframe tbody tr th:only-of-type {\n",
       "        vertical-align: middle;\n",
       "    }\n",
       "\n",
       "    .dataframe tbody tr th {\n",
       "        vertical-align: top;\n",
       "    }\n",
       "\n",
       "    .dataframe thead th {\n",
       "        text-align: right;\n",
       "    }\n",
       "</style>\n",
       "<table border=\"1\" class=\"dataframe\">\n",
       "  <thead>\n",
       "    <tr style=\"text-align: right;\">\n",
       "      <th></th>\n",
       "      <th>date</th>\n",
       "      <th>home_team</th>\n",
       "      <th>away_team</th>\n",
       "      <th>home_score</th>\n",
       "      <th>away_score</th>\n",
       "      <th>tournament</th>\n",
       "      <th>city</th>\n",
       "      <th>country</th>\n",
       "      <th>neutral</th>\n",
       "      <th>home_match</th>\n",
       "      <th>away_match</th>\n",
       "      <th>result_home</th>\n",
       "      <th>result_away</th>\n",
       "    </tr>\n",
       "  </thead>\n",
       "  <tbody>\n",
       "    <tr>\n",
       "      <th>0</th>\n",
       "      <td>1872-11-30</td>\n",
       "      <td>Scotland</td>\n",
       "      <td>England</td>\n",
       "      <td>0</td>\n",
       "      <td>0</td>\n",
       "      <td>Friendly</td>\n",
       "      <td>Glasgow</td>\n",
       "      <td>Scotland</td>\n",
       "      <td>False</td>\n",
       "      <td>True</td>\n",
       "      <td>False</td>\n",
       "      <td>draw</td>\n",
       "      <td>draw</td>\n",
       "    </tr>\n",
       "    <tr>\n",
       "      <th>1</th>\n",
       "      <td>1873-03-08</td>\n",
       "      <td>England</td>\n",
       "      <td>Scotland</td>\n",
       "      <td>4</td>\n",
       "      <td>2</td>\n",
       "      <td>Friendly</td>\n",
       "      <td>London</td>\n",
       "      <td>England</td>\n",
       "      <td>False</td>\n",
       "      <td>True</td>\n",
       "      <td>False</td>\n",
       "      <td>win</td>\n",
       "      <td>lose</td>\n",
       "    </tr>\n",
       "    <tr>\n",
       "      <th>2</th>\n",
       "      <td>1874-03-07</td>\n",
       "      <td>Scotland</td>\n",
       "      <td>England</td>\n",
       "      <td>2</td>\n",
       "      <td>1</td>\n",
       "      <td>Friendly</td>\n",
       "      <td>Glasgow</td>\n",
       "      <td>Scotland</td>\n",
       "      <td>False</td>\n",
       "      <td>True</td>\n",
       "      <td>False</td>\n",
       "      <td>win</td>\n",
       "      <td>lose</td>\n",
       "    </tr>\n",
       "    <tr>\n",
       "      <th>3</th>\n",
       "      <td>1875-03-06</td>\n",
       "      <td>England</td>\n",
       "      <td>Scotland</td>\n",
       "      <td>2</td>\n",
       "      <td>2</td>\n",
       "      <td>Friendly</td>\n",
       "      <td>London</td>\n",
       "      <td>England</td>\n",
       "      <td>False</td>\n",
       "      <td>True</td>\n",
       "      <td>False</td>\n",
       "      <td>draw</td>\n",
       "      <td>draw</td>\n",
       "    </tr>\n",
       "    <tr>\n",
       "      <th>4</th>\n",
       "      <td>1876-03-04</td>\n",
       "      <td>Scotland</td>\n",
       "      <td>England</td>\n",
       "      <td>3</td>\n",
       "      <td>0</td>\n",
       "      <td>Friendly</td>\n",
       "      <td>Glasgow</td>\n",
       "      <td>Scotland</td>\n",
       "      <td>False</td>\n",
       "      <td>True</td>\n",
       "      <td>False</td>\n",
       "      <td>win</td>\n",
       "      <td>lose</td>\n",
       "    </tr>\n",
       "    <tr>\n",
       "      <th>...</th>\n",
       "      <td>...</td>\n",
       "      <td>...</td>\n",
       "      <td>...</td>\n",
       "      <td>...</td>\n",
       "      <td>...</td>\n",
       "      <td>...</td>\n",
       "      <td>...</td>\n",
       "      <td>...</td>\n",
       "      <td>...</td>\n",
       "      <td>...</td>\n",
       "      <td>...</td>\n",
       "      <td>...</td>\n",
       "      <td>...</td>\n",
       "    </tr>\n",
       "    <tr>\n",
       "      <th>43179</th>\n",
       "      <td>2/1/2022</td>\n",
       "      <td>Bahrain</td>\n",
       "      <td>DR Congo</td>\n",
       "      <td>1</td>\n",
       "      <td>0</td>\n",
       "      <td>Friendly</td>\n",
       "      <td>Riffa</td>\n",
       "      <td>Bahrain</td>\n",
       "      <td>False</td>\n",
       "      <td>True</td>\n",
       "      <td>False</td>\n",
       "      <td>win</td>\n",
       "      <td>lose</td>\n",
       "    </tr>\n",
       "    <tr>\n",
       "      <th>43180</th>\n",
       "      <td>2/1/2022</td>\n",
       "      <td>Kuwait</td>\n",
       "      <td>Libya</td>\n",
       "      <td>0</td>\n",
       "      <td>2</td>\n",
       "      <td>Friendly</td>\n",
       "      <td>Kuwait City</td>\n",
       "      <td>Kuwait</td>\n",
       "      <td>False</td>\n",
       "      <td>True</td>\n",
       "      <td>False</td>\n",
       "      <td>lose</td>\n",
       "      <td>win</td>\n",
       "    </tr>\n",
       "    <tr>\n",
       "      <th>43181</th>\n",
       "      <td>2/1/2022</td>\n",
       "      <td>Nepal</td>\n",
       "      <td>Mauritius</td>\n",
       "      <td>1</td>\n",
       "      <td>0</td>\n",
       "      <td>Friendly</td>\n",
       "      <td>Kathmandu</td>\n",
       "      <td>Nepal</td>\n",
       "      <td>False</td>\n",
       "      <td>True</td>\n",
       "      <td>False</td>\n",
       "      <td>win</td>\n",
       "      <td>lose</td>\n",
       "    </tr>\n",
       "    <tr>\n",
       "      <th>43182</th>\n",
       "      <td>2/1/2022</td>\n",
       "      <td>Nicaragua</td>\n",
       "      <td>Belize</td>\n",
       "      <td>1</td>\n",
       "      <td>1</td>\n",
       "      <td>Friendly</td>\n",
       "      <td>Managua</td>\n",
       "      <td>Nicaragua</td>\n",
       "      <td>False</td>\n",
       "      <td>True</td>\n",
       "      <td>False</td>\n",
       "      <td>draw</td>\n",
       "      <td>draw</td>\n",
       "    </tr>\n",
       "    <tr>\n",
       "      <th>43183</th>\n",
       "      <td>2/1/2022</td>\n",
       "      <td>Suriname</td>\n",
       "      <td>Guyana</td>\n",
       "      <td>2</td>\n",
       "      <td>1</td>\n",
       "      <td>Friendly</td>\n",
       "      <td>Paramaribo</td>\n",
       "      <td>Suriname</td>\n",
       "      <td>False</td>\n",
       "      <td>True</td>\n",
       "      <td>False</td>\n",
       "      <td>win</td>\n",
       "      <td>lose</td>\n",
       "    </tr>\n",
       "  </tbody>\n",
       "</table>\n",
       "<p>14457 rows × 13 columns</p>\n",
       "</div>"
      ],
      "text/plain": [
       "             date  home_team  away_team  home_score  away_score tournament  \\\n",
       "0      1872-11-30   Scotland    England           0           0   Friendly   \n",
       "1      1873-03-08    England   Scotland           4           2   Friendly   \n",
       "2      1874-03-07   Scotland    England           2           1   Friendly   \n",
       "3      1875-03-06    England   Scotland           2           2   Friendly   \n",
       "4      1876-03-04   Scotland    England           3           0   Friendly   \n",
       "...           ...        ...        ...         ...         ...        ...   \n",
       "43179    2/1/2022    Bahrain   DR Congo           1           0   Friendly   \n",
       "43180    2/1/2022     Kuwait      Libya           0           2   Friendly   \n",
       "43181    2/1/2022      Nepal  Mauritius           1           0   Friendly   \n",
       "43182    2/1/2022  Nicaragua     Belize           1           1   Friendly   \n",
       "43183    2/1/2022   Suriname     Guyana           2           1   Friendly   \n",
       "\n",
       "              city    country  neutral home_match away_match result_home  \\\n",
       "0          Glasgow   Scotland    False       True      False        draw   \n",
       "1           London    England    False       True      False         win   \n",
       "2          Glasgow   Scotland    False       True      False         win   \n",
       "3           London    England    False       True      False        draw   \n",
       "4          Glasgow   Scotland    False       True      False         win   \n",
       "...            ...        ...      ...        ...        ...         ...   \n",
       "43179        Riffa    Bahrain    False       True      False         win   \n",
       "43180  Kuwait City     Kuwait    False       True      False        lose   \n",
       "43181    Kathmandu      Nepal    False       True      False         win   \n",
       "43182      Managua  Nicaragua    False       True      False        draw   \n",
       "43183   Paramaribo   Suriname    False       True      False         win   \n",
       "\n",
       "      result_away  \n",
       "0            draw  \n",
       "1            lose  \n",
       "2            lose  \n",
       "3            draw  \n",
       "4            lose  \n",
       "...           ...  \n",
       "43179        lose  \n",
       "43180         win  \n",
       "43181        lose  \n",
       "43182        draw  \n",
       "43183        lose  \n",
       "\n",
       "[14457 rows x 13 columns]"
      ]
     },
     "execution_count": 293,
     "metadata": {},
     "output_type": "execute_result"
    }
   ],
   "source": [
    "df_f=df[df[\"tournament\"]==\"Friendly\"]\n",
    "df_homegame=df_f[df_f[\"home_match\"]==True]\n",
    "df_homegame"
   ]
  },
  {
   "cell_type": "code",
   "execution_count": 294,
   "id": "255c1e6b",
   "metadata": {},
   "outputs": [
    {
     "data": {
      "text/plain": [
       "(292, 13)"
      ]
     },
     "execution_count": 294,
     "metadata": {},
     "output_type": "execute_result"
    }
   ],
   "source": [
    "df_francehome=df_homegame[df_homegame[\"country\"]==\"France\"]\n",
    "df_francehome.shape"
   ]
  },
  {
   "cell_type": "code",
   "execution_count": 295,
   "id": "73309335",
   "metadata": {},
   "outputs": [],
   "source": [
    "a=np.array(df_francehome[\"result_home\"].value_counts())\n",
    "a1=a.sum()"
   ]
  },
  {
   "cell_type": "code",
   "execution_count": 296,
   "id": "6ed97bc4",
   "metadata": {},
   "outputs": [
    {
     "data": {
      "text/plain": [
       "(0.4632472850239812, 0.5778486053869777)"
      ]
     },
     "execution_count": 296,
     "metadata": {},
     "output_type": "execute_result"
    }
   ],
   "source": [
    "CI_france=proportion_confint(count=a[0],nobs=a1,alpha=(1-.95))\n",
    "CI_france"
   ]
  },
  {
   "cell_type": "code",
   "execution_count": 297,
   "id": "64339969",
   "metadata": {},
   "outputs": [
    {
     "data": {
      "text/plain": [
       "(193, 13)"
      ]
     },
     "execution_count": 297,
     "metadata": {},
     "output_type": "execute_result"
    }
   ],
   "source": [
    "df_englandhome=df_homegame[df_homegame[\"country\"]==\"England\"]\n",
    "df_englandhome.shape"
   ]
  },
  {
   "cell_type": "code",
   "execution_count": 298,
   "id": "013deb8d",
   "metadata": {},
   "outputs": [],
   "source": [
    "b=np.array(df_englandhome[\"result_home\"].value_counts())\n",
    "b1=b.sum()"
   ]
  },
  {
   "cell_type": "code",
   "execution_count": 299,
   "id": "8d5995cd",
   "metadata": {},
   "outputs": [
    {
     "data": {
      "text/plain": [
       "(0.6272415832438014, 0.7380720698927299)"
      ]
     },
     "execution_count": 299,
     "metadata": {},
     "output_type": "execute_result"
    }
   ],
   "source": [
    "CI_england=proportion_confint(count=b[0],nobs=b1,alpha=(1-.95))\n",
    "CI_england\n",
    "(0.6272415832438014, 0.7380720698927299)"
   ]
  },
  {
   "cell_type": "code",
   "execution_count": 300,
   "id": "8d654dd9",
   "metadata": {},
   "outputs": [
    {
     "data": {
      "text/plain": [
       "(212, 13)"
      ]
     },
     "execution_count": 300,
     "metadata": {},
     "output_type": "execute_result"
    }
   ],
   "source": [
    "df_italyhome=df_homegame[df_homegame[\"country\"]==\"Italy\"]\n",
    "df_italyhome.shape"
   ]
  },
  {
   "cell_type": "code",
   "execution_count": 301,
   "id": "84b572af",
   "metadata": {},
   "outputs": [],
   "source": [
    "c=np.array(df_italyhome[\"result_home\"].value_counts())\n",
    "c1=c.sum()"
   ]
  },
  {
   "cell_type": "code",
   "execution_count": 302,
   "id": "c8c7434f",
   "metadata": {},
   "outputs": [
    {
     "data": {
      "text/plain": [
       "(0.5622730774546754, 0.6924439036774002)"
      ]
     },
     "execution_count": 302,
     "metadata": {},
     "output_type": "execute_result"
    }
   ],
   "source": [
    "CI_italy=proportion_confint(count=c[0],nobs=c1,alpha=(1-.95))\n",
    "CI_italy"
   ]
  },
  {
   "cell_type": "code",
   "execution_count": 38,
   "id": "5ba05246",
   "metadata": {},
   "outputs": [
    {
     "data": {
      "text/plain": [
       "(429, 13)"
      ]
     },
     "execution_count": 38,
     "metadata": {},
     "output_type": "execute_result"
    }
   ],
   "source": [
    "df_germanyhome=df_homegame[df_homegame[\"country\"]==\"Germany\"]\n",
    "df_germanyhome.shape"
   ]
  },
  {
   "cell_type": "code",
   "execution_count": 39,
   "id": "563548b1",
   "metadata": {},
   "outputs": [],
   "source": [
    "d=np.array(df_germanyhome[\"result_home\"].value_counts())\n",
    "d1=d.sum()"
   ]
  },
  {
   "cell_type": "code",
   "execution_count": 40,
   "id": "b399dec5",
   "metadata": {},
   "outputs": [
    {
     "data": {
      "text/plain": [
       "(0.5836678515881967, 0.6750734071530621)"
      ]
     },
     "execution_count": 40,
     "metadata": {},
     "output_type": "execute_result"
    }
   ],
   "source": [
    "CI_germany=proportion_confint(count=d[0],nobs=d1,alpha=(1-.95))\n",
    "CI_germany"
   ]
  },
  {
   "cell_type": "code",
   "execution_count": 41,
   "id": "47307150",
   "metadata": {},
   "outputs": [],
   "source": [
    "df_spainhome=df_homegame[df_homegame[\"country\"]==\"Spain\"]"
   ]
  },
  {
   "cell_type": "code",
   "execution_count": 42,
   "id": "67443e0e",
   "metadata": {},
   "outputs": [],
   "source": [
    "e=np.array(df_spainhome[\"result_home\"].value_counts())\n",
    "e1=e.sum()"
   ]
  },
  {
   "cell_type": "code",
   "execution_count": 43,
   "id": "bd6b5a0b",
   "metadata": {},
   "outputs": [
    {
     "data": {
      "text/plain": [
       "(0.6498844681357391, 0.7507464466907593)"
      ]
     },
     "execution_count": 43,
     "metadata": {},
     "output_type": "execute_result"
    }
   ],
   "source": [
    "CI_spain=proportion_confint(count=e[0],nobs=e1,alpha=(1-.95))\n",
    "CI_spain"
   ]
  },
  {
   "cell_type": "code",
   "execution_count": 46,
   "id": "317c0d61",
   "metadata": {},
   "outputs": [],
   "source": [
    "CI_home={}\n",
    "CI_home[\"country\"]=[\"England\",\"France\",\"Germany\",\"Italy\",\"Spain\"]\n",
    "CI_home[\"lb\"]=[CI_england[0],CI_france[0],CI_germany[0],CI_italy[0],CI_spain[0]]\n",
    "CI_home[\"ub\"]=[CI_england[1],CI_france[1],CI_germany[1],CI_italy[1],CI_spain[1]]\n",
    "df_CIhome=pd.DataFrame(CI_home)"
   ]
  },
  {
   "cell_type": "code",
   "execution_count": 60,
   "id": "3abf7857",
   "metadata": {
    "scrolled": true
   },
   "outputs": [
    {
     "data": {
      "text/plain": [
       "([<matplotlib.axis.YTick at 0x2328f3d1be0>,\n",
       "  <matplotlib.axis.YTick at 0x2328f3d1ac0>,\n",
       "  <matplotlib.axis.YTick at 0x2328f3c78e0>,\n",
       "  <matplotlib.axis.YTick at 0x2328f404a60>,\n",
       "  <matplotlib.axis.YTick at 0x2328f4101f0>],\n",
       " [Text(0, 0, 'England'),\n",
       "  Text(0, 1, 'France'),\n",
       "  Text(0, 2, 'Germany'),\n",
       "  Text(0, 3, 'Italy'),\n",
       "  Text(0, 4, 'Spain')])"
      ]
     },
     "execution_count": 60,
     "metadata": {},
     "output_type": "execute_result"
    },
    {
     "data": {
      "image/png": "[encoded data removed]",
      "text/plain": [
       "<Figure size 432x288 with 1 Axes>"
      ]
     },
     "metadata": {
      "needs_background": "light"
     },
     "output_type": "display_data"
    }
   ],
   "source": [
    "for lb,ub,y in zip(df_CIhome['lb'],df_CIhome['ub'],range(len(df_CIhome))):\n",
    "    plt.plot((lb,ub),(y,y),'ro-')\n",
    "plt.yticks(range(len(df_CIhome)),list(df_CIhome['country']))"
   ]
  },
  {
   "cell_type": "markdown",
   "id": "232b0f3c",
   "metadata": {},
   "source": [
    "There is no signifcant diffrence between the countries chances of wining home matches, \n",
    "with all 5 countries have a higher than 50 precent chance of wining home matches. \n",
    "Spain has the highes probility of wining, and France has the lowest"
   ]
  },
  {
   "cell_type": "markdown",
   "id": "2cb1b987",
   "metadata": {},
   "source": [
    "1.2: probility of losing home games"
   ]
  },
  {
   "cell_type": "code",
   "execution_count": 61,
   "id": "b3e1e677",
   "metadata": {
    "scrolled": true
   },
   "outputs": [
    {
     "data": {
      "text/plain": [
       "(0.17411643713822142, 0.2502627953674219)"
      ]
     },
     "execution_count": 61,
     "metadata": {},
     "output_type": "execute_result"
    }
   ],
   "source": [
    "CI_francel=proportion_confint(count=a[1],nobs=a1,alpha=(1-.95))\n",
    "CI_francel"
   ]
  },
  {
   "cell_type": "code",
   "execution_count": 62,
   "id": "bd0bbb0d",
   "metadata": {},
   "outputs": [
    {
     "data": {
      "text/plain": [
       "(0.18012455987106055, 0.2552202677151464)"
      ]
     },
     "execution_count": 62,
     "metadata": {},
     "output_type": "execute_result"
    }
   ],
   "source": [
    "CI_englandl=proportion_confint(count=b[1],nobs=b1,alpha=(1-.95))\n",
    "CI_englandl"
   ]
  },
  {
   "cell_type": "code",
   "execution_count": 63,
   "id": "c63fee42",
   "metadata": {},
   "outputs": [
    {
     "data": {
      "text/plain": [
       "(0.20288031354554617, 0.28926628331309256)"
      ]
     },
     "execution_count": 63,
     "metadata": {},
     "output_type": "execute_result"
    }
   ],
   "source": [
    "CI_italyl=proportion_confint(count=c[1],nobs=c1,alpha=(1-.95))\n",
    "CI_italyl"
   ]
  },
  {
   "cell_type": "code",
   "execution_count": 64,
   "id": "885513a5",
   "metadata": {},
   "outputs": [
    {
     "data": {
      "text/plain": [
       "(0.16691788481812214, 0.2433385254382881)"
      ]
     },
     "execution_count": 64,
     "metadata": {},
     "output_type": "execute_result"
    }
   ],
   "source": [
    "CI_germanyl=proportion_confint(count=d[1],nobs=d1,alpha=(1-.95))\n",
    "CI_germanyl"
   ]
  },
  {
   "cell_type": "code",
   "execution_count": 65,
   "id": "b89b5202",
   "metadata": {},
   "outputs": [
    {
     "data": {
      "text/plain": [
       "(0.14040319686664388, 0.2255274025024413)"
      ]
     },
     "execution_count": 65,
     "metadata": {},
     "output_type": "execute_result"
    }
   ],
   "source": [
    "CI_spainl=proportion_confint(count=e[1],nobs=e1,alpha=(1-.95))\n",
    "CI_spainl"
   ]
  },
  {
   "cell_type": "code",
   "execution_count": 73,
   "id": "4b27c506",
   "metadata": {},
   "outputs": [
    {
     "data": {
      "text/html": [
       "<div>\n",
       "<style scoped>\n",
       "    .dataframe tbody tr th:only-of-type {\n",
       "        vertical-align: middle;\n",
       "    }\n",
       "\n",
       "    .dataframe tbody tr th {\n",
       "        vertical-align: top;\n",
       "    }\n",
       "\n",
       "    .dataframe thead th {\n",
       "        text-align: right;\n",
       "    }\n",
       "</style>\n",
       "<table border=\"1\" class=\"dataframe\">\n",
       "  <thead>\n",
       "    <tr style=\"text-align: right;\">\n",
       "      <th></th>\n",
       "      <th>country</th>\n",
       "      <th>lb</th>\n",
       "      <th>ub</th>\n",
       "    </tr>\n",
       "  </thead>\n",
       "  <tbody>\n",
       "    <tr>\n",
       "      <th>0</th>\n",
       "      <td>England</td>\n",
       "      <td>0.180125</td>\n",
       "      <td>0.255220</td>\n",
       "    </tr>\n",
       "    <tr>\n",
       "      <th>1</th>\n",
       "      <td>France</td>\n",
       "      <td>0.174116</td>\n",
       "      <td>0.250263</td>\n",
       "    </tr>\n",
       "    <tr>\n",
       "      <th>2</th>\n",
       "      <td>Germany</td>\n",
       "      <td>0.166918</td>\n",
       "      <td>0.243339</td>\n",
       "    </tr>\n",
       "    <tr>\n",
       "      <th>3</th>\n",
       "      <td>Italy</td>\n",
       "      <td>0.202880</td>\n",
       "      <td>0.289266</td>\n",
       "    </tr>\n",
       "    <tr>\n",
       "      <th>4</th>\n",
       "      <td>Spain</td>\n",
       "      <td>0.140403</td>\n",
       "      <td>0.225527</td>\n",
       "    </tr>\n",
       "  </tbody>\n",
       "</table>\n",
       "</div>"
      ],
      "text/plain": [
       "   country        lb        ub\n",
       "0  England  0.180125  0.255220\n",
       "1   France  0.174116  0.250263\n",
       "2  Germany  0.166918  0.243339\n",
       "3    Italy  0.202880  0.289266\n",
       "4    Spain  0.140403  0.225527"
      ]
     },
     "execution_count": 73,
     "metadata": {},
     "output_type": "execute_result"
    }
   ],
   "source": [
    "CI_homel={}\n",
    "CI_homel[\"country\"]=[\"England\",\"France\",\"Germany\",\"Italy\",\"Spain\"]\n",
    "CI_homel[\"lb\"]=[CI_englandl[0],CI_francel[0],CI_germanyl[0],CI_italyl[0],CI_spainl[0]]\n",
    "CI_homel[\"ub\"]=[CI_englandl[1],CI_francel[1],CI_germanyl[1],CI_italyl[1],CI_spainl[1]]\n",
    "df_CIhomel=pd.DataFrame(CI_homel)\n",
    "df_CIhomel"
   ]
  },
  {
   "cell_type": "code",
   "execution_count": 74,
   "id": "744b7c60",
   "metadata": {
    "scrolled": true
   },
   "outputs": [
    {
     "data": {
      "text/plain": [
       "([<matplotlib.axis.YTick at 0x2328fc62c70>,\n",
       "  <matplotlib.axis.YTick at 0x2328fc624f0>,\n",
       "  <matplotlib.axis.YTick at 0x2328fc5e2b0>,\n",
       "  <matplotlib.axis.YTick at 0x2328fc9e550>,\n",
       "  <matplotlib.axis.YTick at 0x2328fc9eca0>],\n",
       " [Text(0, 0, 'England'),\n",
       "  Text(0, 1, 'France'),\n",
       "  Text(0, 2, 'Germany'),\n",
       "  Text(0, 3, 'Italy'),\n",
       "  Text(0, 4, 'Spain')])"
      ]
     },
     "execution_count": 74,
     "metadata": {},
     "output_type": "execute_result"
    },
    {
     "data": {
      "image/png": "[encoded data removed]",
      "text/plain": [
       "<Figure size 432x288 with 1 Axes>"
      ]
     },
     "metadata": {
      "needs_background": "light"
     },
     "output_type": "display_data"
    }
   ],
   "source": [
    "for lb,ub,y in zip(df_CIhomel['lb'],df_CIhomel['ub'],range(len(df_CIhomel))):\n",
    "    plt.plot((lb,ub),(y,y),'ro-')\n",
    "plt.yticks(range(len(df_CIhomel)),list(df_CIhomel['country']))"
   ]
  },
  {
   "cell_type": "markdown",
   "id": "4c8a4fa3",
   "metadata": {},
   "source": [
    "As seen in the graph all of the countries have a low probiblity of losing home matches, with spain having the lowest probility of losing. There is no signifcant diffrence between the countries, and italy having the highest probility of lose."
   ]
  },
  {
   "cell_type": "markdown",
   "id": "987378e3",
   "metadata": {},
   "source": [
    "1.3: probility of wining matches on neutral ground"
   ]
  },
  {
   "cell_type": "code",
   "execution_count": 99,
   "id": "cfa4d37a",
   "metadata": {
    "scrolled": true
   },
   "outputs": [
    {
     "data": {
      "text/html": [
       "<div>\n",
       "<style scoped>\n",
       "    .dataframe tbody tr th:only-of-type {\n",
       "        vertical-align: middle;\n",
       "    }\n",
       "\n",
       "    .dataframe tbody tr th {\n",
       "        vertical-align: top;\n",
       "    }\n",
       "\n",
       "    .dataframe thead th {\n",
       "        text-align: right;\n",
       "    }\n",
       "</style>\n",
       "<table border=\"1\" class=\"dataframe\">\n",
       "  <thead>\n",
       "    <tr style=\"text-align: right;\">\n",
       "      <th></th>\n",
       "      <th>date</th>\n",
       "      <th>home_team</th>\n",
       "      <th>away_team</th>\n",
       "      <th>home_score</th>\n",
       "      <th>away_score</th>\n",
       "      <th>tournament</th>\n",
       "      <th>city</th>\n",
       "      <th>country</th>\n",
       "      <th>neutral</th>\n",
       "      <th>home_match</th>\n",
       "      <th>away_match</th>\n",
       "      <th>result_home</th>\n",
       "      <th>result_away</th>\n",
       "    </tr>\n",
       "  </thead>\n",
       "  <tbody>\n",
       "    <tr>\n",
       "      <th>267</th>\n",
       "      <td>5/29/1910</td>\n",
       "      <td>Chile</td>\n",
       "      <td>Uruguay</td>\n",
       "      <td>0</td>\n",
       "      <td>3</td>\n",
       "      <td>Friendly</td>\n",
       "      <td>Buenos Aires</td>\n",
       "      <td>Argentina</td>\n",
       "      <td>True</td>\n",
       "      <td>False</td>\n",
       "      <td>False</td>\n",
       "      <td>lose</td>\n",
       "      <td>win</td>\n",
       "    </tr>\n",
       "    <tr>\n",
       "      <th>331</th>\n",
       "      <td>6/30/1912</td>\n",
       "      <td>Austria</td>\n",
       "      <td>Italy</td>\n",
       "      <td>5</td>\n",
       "      <td>1</td>\n",
       "      <td>Friendly</td>\n",
       "      <td>Stockholm</td>\n",
       "      <td>Sweden</td>\n",
       "      <td>True</td>\n",
       "      <td>False</td>\n",
       "      <td>False</td>\n",
       "      <td>win</td>\n",
       "      <td>lose</td>\n",
       "    </tr>\n",
       "    <tr>\n",
       "      <th>332</th>\n",
       "      <td>7/1/1912</td>\n",
       "      <td>Austria</td>\n",
       "      <td>Norway</td>\n",
       "      <td>1</td>\n",
       "      <td>1</td>\n",
       "      <td>Friendly</td>\n",
       "      <td>Stockholm</td>\n",
       "      <td>Sweden</td>\n",
       "      <td>True</td>\n",
       "      <td>False</td>\n",
       "      <td>False</td>\n",
       "      <td>draw</td>\n",
       "      <td>draw</td>\n",
       "    </tr>\n",
       "    <tr>\n",
       "      <th>333</th>\n",
       "      <td>7/3/1912</td>\n",
       "      <td>Hungary</td>\n",
       "      <td>Austria</td>\n",
       "      <td>3</td>\n",
       "      <td>0</td>\n",
       "      <td>Friendly</td>\n",
       "      <td>Stockholm</td>\n",
       "      <td>Sweden</td>\n",
       "      <td>True</td>\n",
       "      <td>False</td>\n",
       "      <td>False</td>\n",
       "      <td>win</td>\n",
       "      <td>lose</td>\n",
       "    </tr>\n",
       "    <tr>\n",
       "      <th>334</th>\n",
       "      <td>7/3/1912</td>\n",
       "      <td>Norway</td>\n",
       "      <td>Russia</td>\n",
       "      <td>2</td>\n",
       "      <td>1</td>\n",
       "      <td>Friendly</td>\n",
       "      <td>Stockholm</td>\n",
       "      <td>Sweden</td>\n",
       "      <td>True</td>\n",
       "      <td>False</td>\n",
       "      <td>False</td>\n",
       "      <td>win</td>\n",
       "      <td>lose</td>\n",
       "    </tr>\n",
       "    <tr>\n",
       "      <th>...</th>\n",
       "      <td>...</td>\n",
       "      <td>...</td>\n",
       "      <td>...</td>\n",
       "      <td>...</td>\n",
       "      <td>...</td>\n",
       "      <td>...</td>\n",
       "      <td>...</td>\n",
       "      <td>...</td>\n",
       "      <td>...</td>\n",
       "      <td>...</td>\n",
       "      <td>...</td>\n",
       "      <td>...</td>\n",
       "      <td>...</td>\n",
       "    </tr>\n",
       "    <tr>\n",
       "      <th>43135</th>\n",
       "      <td>1/16/2022</td>\n",
       "      <td>Colombia</td>\n",
       "      <td>Honduras</td>\n",
       "      <td>2</td>\n",
       "      <td>1</td>\n",
       "      <td>Friendly</td>\n",
       "      <td>Fort Lauderdale</td>\n",
       "      <td>United States</td>\n",
       "      <td>True</td>\n",
       "      <td>False</td>\n",
       "      <td>False</td>\n",
       "      <td>win</td>\n",
       "      <td>lose</td>\n",
       "    </tr>\n",
       "    <tr>\n",
       "      <th>43143</th>\n",
       "      <td>1/18/2022</td>\n",
       "      <td>Moldova</td>\n",
       "      <td>Uganda</td>\n",
       "      <td>2</td>\n",
       "      <td>3</td>\n",
       "      <td>Friendly</td>\n",
       "      <td>Belek</td>\n",
       "      <td>Turkey</td>\n",
       "      <td>True</td>\n",
       "      <td>False</td>\n",
       "      <td>False</td>\n",
       "      <td>lose</td>\n",
       "      <td>win</td>\n",
       "    </tr>\n",
       "    <tr>\n",
       "      <th>43150</th>\n",
       "      <td>1/20/2022</td>\n",
       "      <td>South Korea</td>\n",
       "      <td>Moldova</td>\n",
       "      <td>4</td>\n",
       "      <td>0</td>\n",
       "      <td>Friendly</td>\n",
       "      <td>Antalya</td>\n",
       "      <td>Turkey</td>\n",
       "      <td>True</td>\n",
       "      <td>False</td>\n",
       "      <td>False</td>\n",
       "      <td>win</td>\n",
       "      <td>lose</td>\n",
       "    </tr>\n",
       "    <tr>\n",
       "      <th>43168</th>\n",
       "      <td>1/27/2022</td>\n",
       "      <td>Uzbekistan</td>\n",
       "      <td>South Sudan</td>\n",
       "      <td>3</td>\n",
       "      <td>0</td>\n",
       "      <td>Friendly</td>\n",
       "      <td>Dubai</td>\n",
       "      <td>United Arab Emirates</td>\n",
       "      <td>True</td>\n",
       "      <td>False</td>\n",
       "      <td>False</td>\n",
       "      <td>win</td>\n",
       "      <td>lose</td>\n",
       "    </tr>\n",
       "    <tr>\n",
       "      <th>43169</th>\n",
       "      <td>1/28/2022</td>\n",
       "      <td>Jordan</td>\n",
       "      <td>New Zealand</td>\n",
       "      <td>3</td>\n",
       "      <td>1</td>\n",
       "      <td>Friendly</td>\n",
       "      <td>Abu Dhabi</td>\n",
       "      <td>United Arab Emirates</td>\n",
       "      <td>True</td>\n",
       "      <td>False</td>\n",
       "      <td>False</td>\n",
       "      <td>win</td>\n",
       "      <td>lose</td>\n",
       "    </tr>\n",
       "  </tbody>\n",
       "</table>\n",
       "<p>2301 rows × 13 columns</p>\n",
       "</div>"
      ],
      "text/plain": [
       "            date    home_team    away_team  home_score  away_score tournament  \\\n",
       "267    5/29/1910        Chile      Uruguay           0           3   Friendly   \n",
       "331    6/30/1912      Austria        Italy           5           1   Friendly   \n",
       "332     7/1/1912      Austria       Norway           1           1   Friendly   \n",
       "333     7/3/1912      Hungary      Austria           3           0   Friendly   \n",
       "334     7/3/1912       Norway       Russia           2           1   Friendly   \n",
       "...          ...          ...          ...         ...         ...        ...   \n",
       "43135  1/16/2022     Colombia     Honduras           2           1   Friendly   \n",
       "43143  1/18/2022      Moldova       Uganda           2           3   Friendly   \n",
       "43150  1/20/2022  South Korea      Moldova           4           0   Friendly   \n",
       "43168  1/27/2022   Uzbekistan  South Sudan           3           0   Friendly   \n",
       "43169  1/28/2022       Jordan  New Zealand           3           1   Friendly   \n",
       "\n",
       "                  city               country  neutral home_match away_match  \\\n",
       "267       Buenos Aires             Argentina     True      False      False   \n",
       "331          Stockholm                Sweden     True      False      False   \n",
       "332          Stockholm                Sweden     True      False      False   \n",
       "333          Stockholm                Sweden     True      False      False   \n",
       "334          Stockholm                Sweden     True      False      False   \n",
       "...                ...                   ...      ...        ...        ...   \n",
       "43135  Fort Lauderdale         United States     True      False      False   \n",
       "43143            Belek                Turkey     True      False      False   \n",
       "43150          Antalya                Turkey     True      False      False   \n",
       "43168            Dubai  United Arab Emirates     True      False      False   \n",
       "43169        Abu Dhabi  United Arab Emirates     True      False      False   \n",
       "\n",
       "      result_home result_away  \n",
       "267          lose         win  \n",
       "331           win        lose  \n",
       "332          draw        draw  \n",
       "333           win        lose  \n",
       "334           win        lose  \n",
       "...           ...         ...  \n",
       "43135         win        lose  \n",
       "43143        lose         win  \n",
       "43150         win        lose  \n",
       "43168         win        lose  \n",
       "43169         win        lose  \n",
       "\n",
       "[2301 rows x 13 columns]"
      ]
     },
     "execution_count": 99,
     "metadata": {},
     "output_type": "execute_result"
    }
   ],
   "source": [
    "df_f=df[df[\"tournament\"]==\"Friendly\"]\n",
    "df_neutral=df_f[df_f[\"neutral\"]==True]\n",
    "df_neutral"
   ]
  },
  {
   "cell_type": "code",
   "execution_count": 100,
   "id": "f9759092",
   "metadata": {},
   "outputs": [
    {
     "data": {
      "text/plain": [
       "(162, 13)"
      ]
     },
     "execution_count": 100,
     "metadata": {},
     "output_type": "execute_result"
    }
   ],
   "source": [
    "df_franceneu=df_neutral[df_neutral[\"country\"]==\"France\"]\n",
    "df_franceneu.shape"
   ]
  },
  {
   "cell_type": "code",
   "execution_count": 101,
   "id": "7b3a90d1",
   "metadata": {},
   "outputs": [],
   "source": [
    "a=np.array(df_franceneu[\"result_home\"].value_counts())\n",
    "a1=a.sum()\n"
   ]
  },
  {
   "cell_type": "code",
   "execution_count": 102,
   "id": "6a21b83e",
   "metadata": {},
   "outputs": [
    {
     "data": {
      "text/plain": [
       "(0.3437565232589405, 0.4957496495805656)"
      ]
     },
     "execution_count": 102,
     "metadata": {},
     "output_type": "execute_result"
    }
   ],
   "source": [
    "CI_france=proportion_confint(count=a[0],nobs=a1,alpha=(1-.95))\n",
    "CI_france"
   ]
  },
  {
   "cell_type": "code",
   "execution_count": 103,
   "id": "1fc655f6",
   "metadata": {},
   "outputs": [
    {
     "data": {
      "text/plain": [
       "(77, 13)"
      ]
     },
     "execution_count": 103,
     "metadata": {},
     "output_type": "execute_result"
    }
   ],
   "source": [
    "df_englandneu=df_neutral[df_neutral[\"country\"]==\"England\"]\n",
    "df_englandneu.shape\n"
   ]
  },
  {
   "cell_type": "code",
   "execution_count": 104,
   "id": "9ac27b58",
   "metadata": {},
   "outputs": [],
   "source": [
    "b=np.array(df_englandneu[\"result_home\"].value_counts())\n",
    "b1=b.sum()"
   ]
  },
  {
   "cell_type": "code",
   "execution_count": 105,
   "id": "ec253c47",
   "metadata": {},
   "outputs": [
    {
     "data": {
      "text/plain": [
       "(0.31803757494100876, 0.5391052822018484)"
      ]
     },
     "execution_count": 105,
     "metadata": {},
     "output_type": "execute_result"
    }
   ],
   "source": [
    "CI_england=proportion_confint(count=b[0],nobs=b1,alpha=(1-.95))\n",
    "CI_england"
   ]
  },
  {
   "cell_type": "code",
   "execution_count": 106,
   "id": "e70a1cb2",
   "metadata": {},
   "outputs": [
    {
     "data": {
      "text/plain": [
       "(20, 13)"
      ]
     },
     "execution_count": 106,
     "metadata": {},
     "output_type": "execute_result"
    }
   ],
   "source": [
    "df_italyneu=df_neutral[df_neutral[\"country\"]==\"Italy\"]\n",
    "df_italyneu.shape"
   ]
  },
  {
   "cell_type": "code",
   "execution_count": 107,
   "id": "0524a3e8",
   "metadata": {},
   "outputs": [],
   "source": [
    "c=np.array(df_italyneu[\"result_home\"].value_counts())\n",
    "c1=c.sum()\n"
   ]
  },
  {
   "cell_type": "code",
   "execution_count": 108,
   "id": "a13353ff",
   "metadata": {},
   "outputs": [
    {
     "data": {
      "text/plain": [
       "(0.18529670275394117, 0.6147032972460589)"
      ]
     },
     "execution_count": 108,
     "metadata": {},
     "output_type": "execute_result"
    }
   ],
   "source": [
    "CI_italy=proportion_confint(count=c[0],nobs=c1,alpha=(1-.95))\n",
    "CI_italy"
   ]
  },
  {
   "cell_type": "code",
   "execution_count": 109,
   "id": "15d225d6",
   "metadata": {},
   "outputs": [],
   "source": [
    "df_germanyneu=df_neutral[df_neutral[\"country\"]==\"Germany\"]"
   ]
  },
  {
   "cell_type": "code",
   "execution_count": 110,
   "id": "e615235d",
   "metadata": {},
   "outputs": [],
   "source": [
    "d=np.array(df_germanyneu[\"result_home\"].value_counts())\n",
    "d1=d.sum()"
   ]
  },
  {
   "cell_type": "code",
   "execution_count": 111,
   "id": "c2e475d0",
   "metadata": {},
   "outputs": [
    {
     "data": {
      "text/plain": [
       "(0.27115231267547785, 0.5660569896501035)"
      ]
     },
     "execution_count": 111,
     "metadata": {},
     "output_type": "execute_result"
    }
   ],
   "source": [
    "CI_germany=proportion_confint(count=d[0],nobs=d1,alpha=(1-.95))\n",
    "CI_germany"
   ]
  },
  {
   "cell_type": "code",
   "execution_count": 112,
   "id": "ac1b2290",
   "metadata": {},
   "outputs": [],
   "source": [
    "df_spainneu=df_neutral[df_neutral[\"country\"]==\"Spain\"]\n"
   ]
  },
  {
   "cell_type": "code",
   "execution_count": 113,
   "id": "afafcbff",
   "metadata": {},
   "outputs": [],
   "source": [
    "e=np.array(df_spainneu[\"result_home\"].value_counts())\n",
    "e1=e.sum()"
   ]
  },
  {
   "cell_type": "code",
   "execution_count": 114,
   "id": "2d08f488",
   "metadata": {},
   "outputs": [
    {
     "data": {
      "text/plain": [
       "(0.28641917703539904, 0.5332529541121419)"
      ]
     },
     "execution_count": 114,
     "metadata": {},
     "output_type": "execute_result"
    }
   ],
   "source": [
    "CI_spain=proportion_confint(count=e[0],nobs=e1,alpha=(1-.95))\n",
    "CI_spain"
   ]
  },
  {
   "cell_type": "code",
   "execution_count": 115,
   "id": "7d371917",
   "metadata": {},
   "outputs": [],
   "source": [
    "CI_neu={}\n",
    "CI_neu[\"country\"]=[\"England\",\"France\",\"Germany\",\"Italy\",\"Spain\"]\n",
    "CI_neu[\"lb\"]=[CI_england[0],CI_france[0],CI_germany[0],CI_italy[0],CI_spain[0]]\n",
    "CI_neu[\"ub\"]=[CI_england[1],CI_france[1],CI_germany[1],CI_italy[1],CI_spain[1]]\n",
    "df_CIneu=pd.DataFrame(CI_neu)"
   ]
  },
  {
   "cell_type": "code",
   "execution_count": 134,
   "id": "c2313679",
   "metadata": {},
   "outputs": [
    {
     "data": {
      "text/plain": [
       "([<matplotlib.axis.YTick at 0x23290459d60>,\n",
       "  <matplotlib.axis.YTick at 0x232904595e0>,\n",
       "  <matplotlib.axis.YTick at 0x23290453520>,\n",
       "  <matplotlib.axis.YTick at 0x23290490580>,\n",
       "  <matplotlib.axis.YTick at 0x23290490a00>],\n",
       " [Text(0, 0, 'England'),\n",
       "  Text(0, 1, 'France'),\n",
       "  Text(0, 2, 'Germany'),\n",
       "  Text(0, 3, 'Italy'),\n",
       "  Text(0, 4, 'Spain')])"
      ]
     },
     "execution_count": 134,
     "metadata": {},
     "output_type": "execute_result"
    },
    {
     "data": {
      "image/png": "[encoded data removed]",
      "text/plain": [
       "<Figure size 432x288 with 1 Axes>"
      ]
     },
     "metadata": {
      "needs_background": "light"
     },
     "output_type": "display_data"
    }
   ],
   "source": [
    "for lb,ub,y in zip(df_CIneu['lb'],df_CIneu['ub'],range(len(df_CIneu))):\n",
    "    plt.plot((lb,ub),(y,y),'ro-')\n",
    "plt.yticks(range(len(df_CIneu)),list(df_CIneu['country']))"
   ]
  },
  {
   "cell_type": "markdown",
   "id": "232c78ac",
   "metadata": {},
   "source": [
    "All four countries have almost equal probilities of wining gmaes on neutral ground, with the exception of italy which has a higher variance in its results in both the upper and lower results."
   ]
  },
  {
   "cell_type": "markdown",
   "id": "06c0e4fa",
   "metadata": {},
   "source": [
    "1.4: probility of losing fiendly matches on neutral stadiums"
   ]
  },
  {
   "cell_type": "code",
   "execution_count": 122,
   "id": "84b1592b",
   "metadata": {},
   "outputs": [
    {
     "data": {
      "text/plain": [
       "(0.2375092279597225, 0.3797747226575614)"
      ]
     },
     "execution_count": 122,
     "metadata": {},
     "output_type": "execute_result"
    }
   ],
   "source": [
    "CI_francel=proportion_confint(count=a[1],nobs=a1,alpha=(1-.95))\n",
    "CI_francel"
   ]
  },
  {
   "cell_type": "code",
   "execution_count": 123,
   "id": "e620046d",
   "metadata": {},
   "outputs": [
    {
     "data": {
      "text/plain": [
       "(0.1848111440453603, 0.3866174273832111)"
      ]
     },
     "execution_count": 123,
     "metadata": {},
     "output_type": "execute_result"
    }
   ],
   "source": [
    "CI_englandl=proportion_confint(count=b[1],nobs=b1,alpha=(1-.95))\n",
    "CI_englandl\n"
   ]
  },
  {
   "cell_type": "code",
   "execution_count": 124,
   "id": "ee0346f0",
   "metadata": {},
   "outputs": [
    {
     "data": {
      "text/plain": [
       "(0.09916345547364067, 0.5008365445263593)"
      ]
     },
     "execution_count": 124,
     "metadata": {},
     "output_type": "execute_result"
    }
   ],
   "source": [
    "\n",
    "CI_italyl=proportion_confint(count=c[1],nobs=c1,alpha=(1-.95))\n",
    "CI_italyl"
   ]
  },
  {
   "cell_type": "code",
   "execution_count": 125,
   "id": "1124e5fb",
   "metadata": {},
   "outputs": [
    {
     "data": {
      "text/plain": [
       "(0.16505492475188838, 0.43959623803880926)"
      ]
     },
     "execution_count": 125,
     "metadata": {},
     "output_type": "execute_result"
    }
   ],
   "source": [
    "CI_germanyl=proportion_confint(count=d[1],nobs=d1,alpha=(1-.95))\n",
    "CI_germanyl"
   ]
  },
  {
   "cell_type": "code",
   "execution_count": 126,
   "id": "edab0e1c",
   "metadata": {},
   "outputs": [
    {
     "data": {
      "text/plain": [
       "(0.25542804455024765, 0.49867031610549)"
      ]
     },
     "execution_count": 126,
     "metadata": {},
     "output_type": "execute_result"
    }
   ],
   "source": [
    "CI_spainl=proportion_confint(count=e[1],nobs=e1,alpha=(1-.95))\n",
    "CI_spainl"
   ]
  },
  {
   "cell_type": "code",
   "execution_count": 132,
   "id": "0bf1444e",
   "metadata": {},
   "outputs": [],
   "source": [
    "CI_neul={}\n",
    "CI_neul[\"country\"]=[\"England\",\"France\",\"Germany\",\"Italy\",\"Spain\"]\n",
    "CI_neul[\"lb\"]=[CI_englandl[0],CI_francel[0],CI_germanyl[0],CI_italyl[0],CI_spainl[0]]\n",
    "CI_neul[\"ub\"]=[CI_englandl[1],CI_francel[1],CI_germanyl[1],CI_italyl[1],CI_spainl[1]]\n",
    "df_CIneul=pd.DataFrame(CI_neul)"
   ]
  },
  {
   "cell_type": "code",
   "execution_count": 133,
   "id": "534ed849",
   "metadata": {},
   "outputs": [
    {
     "data": {
      "text/plain": [
       "([<matplotlib.axis.YTick at 0x2329028d2e0>,\n",
       "  <matplotlib.axis.YTick at 0x232902b7d90>,\n",
       "  <matplotlib.axis.YTick at 0x232902b71c0>,\n",
       "  <matplotlib.axis.YTick at 0x2329041aeb0>,\n",
       "  <matplotlib.axis.YTick at 0x23290423640>],\n",
       " [Text(0, 0, 'England'),\n",
       "  Text(0, 1, 'France'),\n",
       "  Text(0, 2, 'Germany'),\n",
       "  Text(0, 3, 'Italy'),\n",
       "  Text(0, 4, 'Spain')])"
      ]
     },
     "execution_count": 133,
     "metadata": {},
     "output_type": "execute_result"
    },
    {
     "data": {
      "image/png": "[encoded data removed]",
      "text/plain": [
       "<Figure size 432x288 with 1 Axes>"
      ]
     },
     "metadata": {
      "needs_background": "light"
     },
     "output_type": "display_data"
    }
   ],
   "source": [
    "for lb,ub,y in zip(df_CIneul['lb'],df_CIneul['ub'],range(len(df_CIneul))):\n",
    "    plt.plot((lb,ub),(y,y),'ro-')\n",
    "plt.yticks(range(len(df_CIneul)),list(df_CIneul['country']))"
   ]
  },
  {
   "cell_type": "markdown",
   "id": "24d33c08",
   "metadata": {},
   "source": [
    "The four of of england,germanym spain and france, have a similar probility of losing,with the eralier three having a lower variance in their probilibty, Italy has a large variance in its results. THere is no signifcant diffrence between their probibilty of losing"
   ]
  },
  {
   "cell_type": "markdown",
   "id": "4d14c60d",
   "metadata": {},
   "source": [
    "Spain: spain has a higher probibility of wining friendly matches on home ground than one neutral ground, and a smaller probility of wining friendly matches in neutral stadiums, showing that they are affected by wither it is a home match or not"
   ]
  },
  {
   "cell_type": "markdown",
   "id": "6e17a104",
   "metadata": {},
   "source": [
    "Italy: italy has a higher probibliyt of wining friendly matches at home and a lower prbibility of losing at neutral games , showng that the team preforemones better at home game "
   ]
  },
  {
   "cell_type": "markdown",
   "id": "b1372afa",
   "metadata": {},
   "source": [
    "Germany: germany has a similar probibility of wining and losing frinedly matches played on neutral or hoem stadiums, showing they are not affected by where the match is played "
   ]
  },
  {
   "cell_type": "markdown",
   "id": "c9c846c6",
   "metadata": {},
   "source": [
    "France: france has a higher probibility of wining friendly matches in home stadiums than one neutral ground, and a smaller probility of losing friendly matches on neutral stadiums, showing that they are affected by wither it is a home match or not"
   ]
  },
  {
   "cell_type": "markdown",
   "id": "187b02d7",
   "metadata": {},
   "source": [
    "England: england has a lower probility of wining firendly matches if they are played on neutral ground than in their home stadium, showing that they are affected by wither it is a home match or not"
   ]
  },
  {
   "cell_type": "markdown",
   "id": "86dea6d4",
   "metadata": {},
   "source": [
    "2: Playing offical matches "
   ]
  },
  {
   "cell_type": "markdown",
   "id": "dea59c78",
   "metadata": {},
   "source": [
    "2.1: wining home games"
   ]
  },
  {
   "cell_type": "code",
   "execution_count": 142,
   "id": "43128ec0",
   "metadata": {},
   "outputs": [
    {
     "data": {
      "text/plain": [
       "(17225, 13)"
      ]
     },
     "execution_count": 142,
     "metadata": {},
     "output_type": "execute_result"
    }
   ],
   "source": [
    "df_o=df[df[\"tournament\"]!=\"Friendly\"]\n",
    "df_homegame=df_o[df_o[\"home_match\"]==True]\n",
    "df_homegame.shape"
   ]
  },
  {
   "cell_type": "code",
   "execution_count": 143,
   "id": "9507f67f",
   "metadata": {},
   "outputs": [
    {
     "data": {
      "text/plain": [
       "(292, 13)"
      ]
     },
     "execution_count": 143,
     "metadata": {},
     "output_type": "execute_result"
    }
   ],
   "source": [
    "df_francehomeo=df_homegame[df_homegame[\"country\"]==\"France\"]\n",
    "df_francehomeo.shape"
   ]
  },
  {
   "cell_type": "code",
   "execution_count": 144,
   "id": "d11ee8c1",
   "metadata": {},
   "outputs": [],
   "source": [
    "a=np.array(df_francehomeo[\"result_home\"].value_counts())\n",
    "a1=a.sum()"
   ]
  },
  {
   "cell_type": "code",
   "execution_count": 145,
   "id": "30a4748d",
   "metadata": {},
   "outputs": [
    {
     "data": {
      "text/plain": [
       "(0.4632472850239812, 0.5778486053869777)"
      ]
     },
     "execution_count": 145,
     "metadata": {},
     "output_type": "execute_result"
    }
   ],
   "source": [
    "CI_franceo=proportion_confint(count=a[0],nobs=a1,alpha=(1-.95))\n",
    "CI_franceo\n"
   ]
  },
  {
   "cell_type": "code",
   "execution_count": 146,
   "id": "19748641",
   "metadata": {},
   "outputs": [
    {
     "data": {
      "text/plain": [
       "(193, 13)"
      ]
     },
     "execution_count": 146,
     "metadata": {},
     "output_type": "execute_result"
    }
   ],
   "source": [
    "df_englandhomeo=df_homegame[df_homegame[\"country\"]==\"England\"]\n",
    "df_englandhomeo.shape"
   ]
  },
  {
   "cell_type": "code",
   "execution_count": 147,
   "id": "21a33f48",
   "metadata": {},
   "outputs": [],
   "source": [
    "b=np.array(df_englandhomeo[\"result_home\"].value_counts())\n",
    "b1=b.sum()"
   ]
  },
  {
   "cell_type": "code",
   "execution_count": 148,
   "id": "e602770f",
   "metadata": {},
   "outputs": [
    {
     "data": {
      "text/plain": [
       "(0.5266226877554671, 0.6650871568041185)"
      ]
     },
     "execution_count": 148,
     "metadata": {},
     "output_type": "execute_result"
    }
   ],
   "source": [
    "CI_englando=proportion_confint(count=b[0],nobs=b1,alpha=(1-.95))\n",
    "CI_englando"
   ]
  },
  {
   "cell_type": "code",
   "execution_count": 149,
   "id": "892424c4",
   "metadata": {},
   "outputs": [
    {
     "data": {
      "text/plain": [
       "(212, 13)"
      ]
     },
     "execution_count": 149,
     "metadata": {},
     "output_type": "execute_result"
    }
   ],
   "source": [
    "df_italyhomeo=df_homegame[df_homegame[\"country\"]==\"Italy\"]\n",
    "df_italyhomeo.shape"
   ]
  },
  {
   "cell_type": "code",
   "execution_count": 150,
   "id": "64513b6a",
   "metadata": {},
   "outputs": [],
   "source": [
    "c=np.array(df_italyhomeo[\"result_home\"].value_counts())\n",
    "c1=c.sum()"
   ]
  },
  {
   "cell_type": "code",
   "execution_count": 151,
   "id": "b0d963a1",
   "metadata": {},
   "outputs": [
    {
     "data": {
      "text/plain": [
       "(0.5622730774546754, 0.6924439036774002)"
      ]
     },
     "execution_count": 151,
     "metadata": {},
     "output_type": "execute_result"
    }
   ],
   "source": [
    "CI_italyo=proportion_confint(count=c[0],nobs=c1,alpha=(1-.95))\n",
    "CI_italyo"
   ]
  },
  {
   "cell_type": "code",
   "execution_count": 152,
   "id": "9a5a3fa5",
   "metadata": {},
   "outputs": [
    {
     "data": {
      "text/plain": [
       "(293, 13)"
      ]
     },
     "execution_count": 152,
     "metadata": {},
     "output_type": "execute_result"
    }
   ],
   "source": [
    "df_germanyhomeo=df_homegame[df_homegame[\"country\"]==\"Germany\"]\n",
    "df_germanyhomeo.shape\n"
   ]
  },
  {
   "cell_type": "code",
   "execution_count": 153,
   "id": "9403658f",
   "metadata": {},
   "outputs": [],
   "source": [
    "d=np.array(df_germanyhomeo[\"result_home\"].value_counts())\n",
    "d1=d.sum()"
   ]
  },
  {
   "cell_type": "code",
   "execution_count": 154,
   "id": "0a1a5360",
   "metadata": {},
   "outputs": [
    {
     "data": {
      "text/plain": [
       "(0.523694990302764, 0.6367145660112291)"
      ]
     },
     "execution_count": 154,
     "metadata": {},
     "output_type": "execute_result"
    }
   ],
   "source": [
    "CI_germanyo=proportion_confint(count=d[0],nobs=d1,alpha=(1-.95))\n",
    "CI_germanyo"
   ]
  },
  {
   "cell_type": "code",
   "execution_count": 155,
   "id": "51d0cb01",
   "metadata": {},
   "outputs": [],
   "source": [
    "df_spainhomeo=df_homegame[df_homegame[\"country\"]==\"Spain\"]"
   ]
  },
  {
   "cell_type": "code",
   "execution_count": 156,
   "id": "912688e9",
   "metadata": {},
   "outputs": [],
   "source": [
    "e=np.array(df_spainhomeo[\"result_home\"].value_counts())\n",
    "e1=e.sum()"
   ]
  },
  {
   "cell_type": "code",
   "execution_count": 157,
   "id": "d49781fa",
   "metadata": {},
   "outputs": [
    {
     "data": {
      "text/plain": [
       "(0.5490092941741966, 0.6912141695129541)"
      ]
     },
     "execution_count": 157,
     "metadata": {},
     "output_type": "execute_result"
    }
   ],
   "source": [
    "CI_spaino=proportion_confint(count=e[0],nobs=e1,alpha=(1-.95))\n",
    "CI_spaino"
   ]
  },
  {
   "cell_type": "code",
   "execution_count": 158,
   "id": "213a2e7e",
   "metadata": {},
   "outputs": [],
   "source": [
    "CI_homeo={}\n",
    "CI_homeo[\"country\"]=[\"England\",\"France\",\"Germany\",\"Italy\",\"Spain\"]\n",
    "CI_homeo[\"lb\"]=[CI_englando[0],CI_franceo[0],CI_germanyo[0],CI_italyo[0],CI_spaino[0]]\n",
    "CI_homeo[\"ub\"]=[CI_englando[1],CI_franceo[1],CI_germanyo[1],CI_italyo[1],CI_spaino[1]]\n",
    "df_CIhomeo=pd.DataFrame(CI_homeo)"
   ]
  },
  {
   "cell_type": "code",
   "execution_count": 159,
   "id": "a3ad85c9",
   "metadata": {},
   "outputs": [
    {
     "data": {
      "text/plain": [
       "([<matplotlib.axis.YTick at 0x232905fd670>,\n",
       "  <matplotlib.axis.YTick at 0x232905f4eb0>,\n",
       "  <matplotlib.axis.YTick at 0x232905f42b0>,\n",
       "  <matplotlib.axis.YTick at 0x23290bc0160>,\n",
       "  <matplotlib.axis.YTick at 0x23290bc07f0>],\n",
       " [Text(0, 0, 'England'),\n",
       "  Text(0, 1, 'France'),\n",
       "  Text(0, 2, 'Germany'),\n",
       "  Text(0, 3, 'Italy'),\n",
       "  Text(0, 4, 'Spain')])"
      ]
     },
     "execution_count": 159,
     "metadata": {},
     "output_type": "execute_result"
    },
    {
     "data": {
      "image/png": "[encoded data removed]",
      "text/plain": [
       "<Figure size 432x288 with 1 Axes>"
      ]
     },
     "metadata": {
      "needs_background": "light"
     },
     "output_type": "display_data"
    }
   ],
   "source": [
    "for lb,ub,y in zip(df_CIhomeo['lb'],df_CIhomeo['ub'],range(len(df_CIhomeo))):\n",
    "    plt.plot((lb,ub),(y,y),'ro-')\n",
    "plt.yticks(range(len(df_CIhomeo)),list(df_CIhomeo['country']))"
   ]
  },
  {
   "cell_type": "markdown",
   "id": "e07b6f8b",
   "metadata": {},
   "source": [
    "Almost all five countries have equal probilitt of wining official games at home stadium, with france having the lowest probility of the five."
   ]
  },
  {
   "cell_type": "markdown",
   "id": "87756ea7",
   "metadata": {},
   "source": [
    "2.2:losing in home stadium"
   ]
  },
  {
   "cell_type": "code",
   "execution_count": 160,
   "id": "7a259ef6",
   "metadata": {},
   "outputs": [
    {
     "data": {
      "text/plain": [
       "(0.21637422773763815, 0.31787234760482763)"
      ]
     },
     "execution_count": 160,
     "metadata": {},
     "output_type": "execute_result"
    }
   ],
   "source": [
    "CI_franceol=proportion_confint(count=a[1],nobs=a1,alpha=(1-.95))\n",
    "CI_franceol"
   ]
  },
  {
   "cell_type": "code",
   "execution_count": 161,
   "id": "bca79bea",
   "metadata": {},
   "outputs": [
    {
     "data": {
      "text/plain": [
       "(0.18297006230998059, 0.30407656981437176)"
      ]
     },
     "execution_count": 161,
     "metadata": {},
     "output_type": "execute_result"
    }
   ],
   "source": [
    "CI_englandol=proportion_confint(count=b[1],nobs=b1,alpha=(1-.95))\n",
    "CI_englandol"
   ]
  },
  {
   "cell_type": "code",
   "execution_count": 162,
   "id": "751a85c1",
   "metadata": {},
   "outputs": [
    {
     "data": {
      "text/plain": [
       "(0.19606675066590884, 0.3133672115982421)"
      ]
     },
     "execution_count": 162,
     "metadata": {},
     "output_type": "execute_result"
    }
   ],
   "source": [
    "CI_italyol=proportion_confint(count=c[1],nobs=c1,alpha=(1-.95))\n",
    "CI_italyol"
   ]
  },
  {
   "cell_type": "code",
   "execution_count": 163,
   "id": "23cdec8c",
   "metadata": {},
   "outputs": [
    {
     "data": {
      "text/plain": [
       "(0.16797559824042385, 0.2620585314524089)"
      ]
     },
     "execution_count": 163,
     "metadata": {},
     "output_type": "execute_result"
    }
   ],
   "source": [
    "CI_germanyol=proportion_confint(count=d[1],nobs=d1,alpha=(1-.95))\n",
    "CI_germanyol"
   ]
  },
  {
   "cell_type": "code",
   "execution_count": 164,
   "id": "3989a890",
   "metadata": {},
   "outputs": [
    {
     "data": {
      "text/plain": [
       "(0.15238456113798096, 0.2721964444486112)"
      ]
     },
     "execution_count": 164,
     "metadata": {},
     "output_type": "execute_result"
    }
   ],
   "source": [
    "CI_spainol=proportion_confint(count=e[1],nobs=e1,alpha=(1-.95))\n",
    "CI_spainol"
   ]
  },
  {
   "cell_type": "code",
   "execution_count": 165,
   "id": "42deae65",
   "metadata": {},
   "outputs": [
    {
     "data": {
      "text/html": [
       "<div>\n",
       "<style scoped>\n",
       "    .dataframe tbody tr th:only-of-type {\n",
       "        vertical-align: middle;\n",
       "    }\n",
       "\n",
       "    .dataframe tbody tr th {\n",
       "        vertical-align: top;\n",
       "    }\n",
       "\n",
       "    .dataframe thead th {\n",
       "        text-align: right;\n",
       "    }\n",
       "</style>\n",
       "<table border=\"1\" class=\"dataframe\">\n",
       "  <thead>\n",
       "    <tr style=\"text-align: right;\">\n",
       "      <th></th>\n",
       "      <th>country</th>\n",
       "      <th>lb</th>\n",
       "      <th>ub</th>\n",
       "    </tr>\n",
       "  </thead>\n",
       "  <tbody>\n",
       "    <tr>\n",
       "      <th>0</th>\n",
       "      <td>England</td>\n",
       "      <td>0.182970</td>\n",
       "      <td>0.304077</td>\n",
       "    </tr>\n",
       "    <tr>\n",
       "      <th>1</th>\n",
       "      <td>France</td>\n",
       "      <td>0.216374</td>\n",
       "      <td>0.317872</td>\n",
       "    </tr>\n",
       "    <tr>\n",
       "      <th>2</th>\n",
       "      <td>Germany</td>\n",
       "      <td>0.167976</td>\n",
       "      <td>0.262059</td>\n",
       "    </tr>\n",
       "    <tr>\n",
       "      <th>3</th>\n",
       "      <td>Italy</td>\n",
       "      <td>0.196067</td>\n",
       "      <td>0.313367</td>\n",
       "    </tr>\n",
       "    <tr>\n",
       "      <th>4</th>\n",
       "      <td>Spain</td>\n",
       "      <td>0.152385</td>\n",
       "      <td>0.272196</td>\n",
       "    </tr>\n",
       "  </tbody>\n",
       "</table>\n",
       "</div>"
      ],
      "text/plain": [
       "   country        lb        ub\n",
       "0  England  0.182970  0.304077\n",
       "1   France  0.216374  0.317872\n",
       "2  Germany  0.167976  0.262059\n",
       "3    Italy  0.196067  0.313367\n",
       "4    Spain  0.152385  0.272196"
      ]
     },
     "execution_count": 165,
     "metadata": {},
     "output_type": "execute_result"
    }
   ],
   "source": [
    "CI_homeol={}\n",
    "CI_homeol[\"country\"]=[\"England\",\"France\",\"Germany\",\"Italy\",\"Spain\"]\n",
    "CI_homeol[\"lb\"]=[CI_englandol[0],CI_franceol[0],CI_germanyol[0],CI_italyol[0],CI_spainol[0]]\n",
    "CI_homeol[\"ub\"]=[CI_englandol[1],CI_franceol[1],CI_germanyol[1],CI_italyol[1],CI_spainol[1]]\n",
    "df_CIhomeol=pd.DataFrame(CI_homeol)"
   ]
  },
  {
   "cell_type": "code",
   "execution_count": 166,
   "id": "7e6d7c55",
   "metadata": {
    "scrolled": true
   },
   "outputs": [
    {
     "data": {
      "text/plain": [
       "([<matplotlib.axis.YTick at 0x2328f49a0d0>,\n",
       "  <matplotlib.axis.YTick at 0x2329106ec10>,\n",
       "  <matplotlib.axis.YTick at 0x2328ddb9b50>,\n",
       "  <matplotlib.axis.YTick at 0x23291094d00>,\n",
       "  <matplotlib.axis.YTick at 0x2329109a490>],\n",
       " [Text(0, 0, 'England'),\n",
       "  Text(0, 1, 'France'),\n",
       "  Text(0, 2, 'Germany'),\n",
       "  Text(0, 3, 'Italy'),\n",
       "  Text(0, 4, 'Spain')])"
      ]
     },
     "execution_count": 166,
     "metadata": {},
     "output_type": "execute_result"
    },
    {
     "data": {
      "image/png": "[encoded data removed]",
      "text/plain": [
       "<Figure size 432x288 with 1 Axes>"
      ]
     },
     "metadata": {
      "needs_background": "light"
     },
     "output_type": "display_data"
    }
   ],
   "source": [
    "for lb,ub,y in zip(df_CIhomeol['lb'],df_CIhomeol['ub'],range(len(df_CIhomeol))):\n",
    "    plt.plot((lb,ub),(y,y),'ro-')\n",
    "plt.yticks(range(len(df_CIhomeol)),list(df_CIhomeol['country']))"
   ]
  },
  {
   "cell_type": "markdown",
   "id": "045dbd08",
   "metadata": {},
   "source": [
    "ALl five countires have equal probobility of losing offical matches in home stadiums."
   ]
  },
  {
   "cell_type": "markdown",
   "id": "2d16daa5",
   "metadata": {},
   "source": [
    "2.3: wining on neutral ground"
   ]
  },
  {
   "cell_type": "code",
   "execution_count": 191,
   "id": "8c45ba9a",
   "metadata": {},
   "outputs": [],
   "source": [
    "df_o=df[df[\"tournament\"]!=\"Friendly\"]\n",
    "df_neutral=df_o[df_o[\"neutral\"]==True]"
   ]
  },
  {
   "cell_type": "code",
   "execution_count": 192,
   "id": "12f2e8f0",
   "metadata": {},
   "outputs": [],
   "source": [
    "df_franceneuo=df_neutral[df_neutral[\"country\"]==\"France\"]"
   ]
  },
  {
   "cell_type": "code",
   "execution_count": 193,
   "id": "c406bce6",
   "metadata": {},
   "outputs": [],
   "source": [
    "a=np.array(df_franceneuo[\"result_home\"].value_counts())\n",
    "a1=a.sum()"
   ]
  },
  {
   "cell_type": "code",
   "execution_count": 194,
   "id": "19af5c8d",
   "metadata": {},
   "outputs": [
    {
     "data": {
      "text/plain": [
       "(0.34813092544065977, 0.48692062095109284)"
      ]
     },
     "execution_count": 194,
     "metadata": {},
     "output_type": "execute_result"
    }
   ],
   "source": [
    "CI_franceo=proportion_confint(count=a[0],nobs=a1,alpha=(1-.95))\n",
    "CI_franceo"
   ]
  },
  {
   "cell_type": "code",
   "execution_count": 195,
   "id": "f9115320",
   "metadata": {},
   "outputs": [],
   "source": [
    "df_englandneuo=df_neutral[df_neutral[\"country\"]==\"England\"]"
   ]
  },
  {
   "cell_type": "code",
   "execution_count": 196,
   "id": "3c2b43d4",
   "metadata": {},
   "outputs": [],
   "source": [
    "b=np.array(df_englandneuo[\"result_home\"].value_counts())\n",
    "b1=b.sum()"
   ]
  },
  {
   "cell_type": "code",
   "execution_count": 197,
   "id": "e8254a3c",
   "metadata": {},
   "outputs": [
    {
     "data": {
      "text/plain": [
       "(0.3647474741499174, 0.5288695471266783)"
      ]
     },
     "execution_count": 197,
     "metadata": {},
     "output_type": "execute_result"
    }
   ],
   "source": [
    "CI_englando=proportion_confint(count=b[0],nobs=b1,alpha=(1-.95))\n",
    "CI_englando"
   ]
  },
  {
   "cell_type": "code",
   "execution_count": 198,
   "id": "62317841",
   "metadata": {},
   "outputs": [
    {
     "data": {
      "text/plain": [
       "(96, 13)"
      ]
     },
     "execution_count": 198,
     "metadata": {},
     "output_type": "execute_result"
    }
   ],
   "source": [
    "df_italyneuo=df_neutral[df_neutral[\"country\"]==\"Italy\"]\n",
    "df_italyneuo.shape"
   ]
  },
  {
   "cell_type": "code",
   "execution_count": 199,
   "id": "54a80fc8",
   "metadata": {},
   "outputs": [],
   "source": [
    "c=np.array(df_italyneuo[\"result_home\"].value_counts())\n",
    "c1=c.sum()"
   ]
  },
  {
   "cell_type": "code",
   "execution_count": 200,
   "id": "36a93f80",
   "metadata": {},
   "outputs": [
    {
     "data": {
      "text/plain": [
       "(0.3080048833111753, 0.5044951166888246)"
      ]
     },
     "execution_count": 200,
     "metadata": {},
     "output_type": "execute_result"
    }
   ],
   "source": [
    "CI_italyo=proportion_confint(count=c[0],nobs=c1,alpha=(1-.95))\n",
    "CI_italyo"
   ]
  },
  {
   "cell_type": "code",
   "execution_count": 201,
   "id": "f7d1b3af",
   "metadata": {},
   "outputs": [],
   "source": [
    "df_germanyneuo=df_neutral[df_neutral[\"country\"]==\"Germany\"]"
   ]
  },
  {
   "cell_type": "code",
   "execution_count": 202,
   "id": "683e5cba",
   "metadata": {},
   "outputs": [],
   "source": [
    "d=np.array(df_germanyneuo[\"result_home\"].value_counts())\n",
    "d1=d.sum()"
   ]
  },
  {
   "cell_type": "code",
   "execution_count": 203,
   "id": "2b55eb06",
   "metadata": {},
   "outputs": [
    {
     "data": {
      "text/plain": [
       "(0.34216314039440565, 0.5149797167484514)"
      ]
     },
     "execution_count": 203,
     "metadata": {},
     "output_type": "execute_result"
    }
   ],
   "source": [
    "CI_germanyo=proportion_confint(count=d[0],nobs=d1,alpha=(1-.95))\n",
    "CI_germanyo"
   ]
  },
  {
   "cell_type": "code",
   "execution_count": 303,
   "id": "f131b0e0",
   "metadata": {},
   "outputs": [
    {
     "data": {
      "text/plain": [
       "(66, 13)"
      ]
     },
     "execution_count": 303,
     "metadata": {},
     "output_type": "execute_result"
    }
   ],
   "source": [
    "df_spainneuo=df_neutral[df_neutral[\"country\"]==\"Spain\"]"
   ]
  },
  {
   "cell_type": "code",
   "execution_count": 205,
   "id": "7180df31",
   "metadata": {},
   "outputs": [],
   "source": [
    "e=np.array(df_spainneuo[\"result_home\"].value_counts())\n",
    "e1=e.sum()"
   ]
  },
  {
   "cell_type": "code",
   "execution_count": 206,
   "id": "8f7deaad",
   "metadata": {},
   "outputs": [
    {
     "data": {
      "text/plain": [
       "(0.27605702429421597, 0.5118217635845719)"
      ]
     },
     "execution_count": 206,
     "metadata": {},
     "output_type": "execute_result"
    }
   ],
   "source": [
    "CI_spaino=proportion_confint(count=e[0],nobs=e1,alpha=(1-.95))\n",
    "CI_spaino"
   ]
  },
  {
   "cell_type": "code",
   "execution_count": 207,
   "id": "4c33109a",
   "metadata": {},
   "outputs": [],
   "source": [
    "CI_neuo={}\n",
    "CI_neuo[\"country\"]=[\"England\",\"France\",\"Germany\",\"Italy\",\"Spain\"]\n",
    "CI_neuo[\"lb\"]=[CI_englando[0],CI_franceo[0],CI_germanyo[0],CI_italyo[0],CI_spaino[0]]\n",
    "CI_neuo[\"ub\"]=[CI_englando[1],CI_franceo[1],CI_germanyo[1],CI_italyo[1],CI_spaino[1]]\n",
    "df_CIneuo=pd.DataFrame(CI_neuo)"
   ]
  },
  {
   "cell_type": "code",
   "execution_count": 208,
   "id": "4e718754",
   "metadata": {
    "scrolled": true
   },
   "outputs": [
    {
     "data": {
      "text/plain": [
       "([<matplotlib.axis.YTick at 0x23292357a00>,\n",
       "  <matplotlib.axis.YTick at 0x23292357280>,\n",
       "  <matplotlib.axis.YTick at 0x2329234f820>,\n",
       "  <matplotlib.axis.YTick at 0x2329238d250>,\n",
       "  <matplotlib.axis.YTick at 0x2329238d6d0>],\n",
       " [Text(0, 0, 'England'),\n",
       "  Text(0, 1, 'France'),\n",
       "  Text(0, 2, 'Germany'),\n",
       "  Text(0, 3, 'Italy'),\n",
       "  Text(0, 4, 'Spain')])"
      ]
     },
     "execution_count": 208,
     "metadata": {},
     "output_type": "execute_result"
    },
    {
     "data": {
      "image/png": "[encoded data removed]",
      "text/plain": [
       "<Figure size 432x288 with 1 Axes>"
      ]
     },
     "metadata": {
      "needs_background": "light"
     },
     "output_type": "display_data"
    }
   ],
   "source": [
    "for lb,ub,y in zip(df_CIneuo['lb'],df_CIneuo['ub'],range(len(df_CIneuo))):\n",
    "    plt.plot((lb,ub),(y,y),'ro-')\n",
    "plt.yticks(range(len(df_CIneuo)),list(df_CIneuo['country']))"
   ]
  },
  {
   "cell_type": "markdown",
   "id": "8f6c3c33",
   "metadata": {},
   "source": [
    "All five have equal probility of losing offical matches in home stadiums, with spain having the largest v=range in its probability "
   ]
  },
  {
   "cell_type": "markdown",
   "id": "e42cd9b4",
   "metadata": {},
   "source": [
    "2.4: losing on neutral ground"
   ]
  },
  {
   "cell_type": "code",
   "execution_count": 209,
   "id": "fe268e79",
   "metadata": {},
   "outputs": [
    {
     "data": {
      "text/plain": [
       "(0.2588474263915707, 0.39063710969090354)"
      ]
     },
     "execution_count": 209,
     "metadata": {},
     "output_type": "execute_result"
    }
   ],
   "source": [
    "CI_francelo=proportion_confint(count=a[1],nobs=a1,alpha=(1-.95))\n",
    "CI_francelo"
   ]
  },
  {
   "cell_type": "code",
   "execution_count": 210,
   "id": "9693133c",
   "metadata": {},
   "outputs": [
    {
     "data": {
      "text/plain": [
       "(0.2689197521097339, 0.4261157088831739)"
      ]
     },
     "execution_count": 210,
     "metadata": {},
     "output_type": "execute_result"
    }
   ],
   "source": [
    "CI_englandlo=proportion_confint(count=b[1],nobs=b1,alpha=(1-.95))\n",
    "CI_englandlo"
   ]
  },
  {
   "cell_type": "code",
   "execution_count": 211,
   "id": "fd602c0b",
   "metadata": {},
   "outputs": [
    {
     "data": {
      "text/plain": [
       "(0.3080048833111753, 0.5044951166888246)"
      ]
     },
     "execution_count": 211,
     "metadata": {},
     "output_type": "execute_result"
    }
   ],
   "source": [
    "CI_italylo=proportion_confint(count=c[1],nobs=c1,alpha=(1-.95))\n",
    "CI_italylo"
   ]
  },
  {
   "cell_type": "code",
   "execution_count": 212,
   "id": "82175bcc",
   "metadata": {},
   "outputs": [
    {
     "data": {
      "text/plain": [
       "(0.2510225828295837, 0.41564408383708296)"
      ]
     },
     "execution_count": 212,
     "metadata": {},
     "output_type": "execute_result"
    }
   ],
   "source": [
    "CI_germanylo=proportion_confint(count=d[1],nobs=d1,alpha=(1-.95))\n",
    "CI_germanylo"
   ]
  },
  {
   "cell_type": "code",
   "execution_count": 215,
   "id": "8a5f3a0e",
   "metadata": {},
   "outputs": [
    {
     "data": {
      "text/plain": [
       "(0.2335291952906477, 0.4634405016790493)"
      ]
     },
     "execution_count": 215,
     "metadata": {},
     "output_type": "execute_result"
    }
   ],
   "source": [
    "CI_spainlo=proportion_confint(count=e[1],nobs=e1,alpha=(1-.95))\n",
    "CI_spainlo"
   ]
  },
  {
   "cell_type": "code",
   "execution_count": 216,
   "id": "bbff66b3",
   "metadata": {},
   "outputs": [],
   "source": [
    "CI_neulo={}\n",
    "CI_neulo[\"country\"]=[\"England\",\"France\",\"Germany\",\"Italy\",\"Spain\"]\n",
    "CI_neulo[\"lb\"]=[CI_englandlo[0],CI_francelo[0],CI_germanylo[0],CI_italylo[0],CI_spainlo[0]]\n",
    "CI_neulo[\"ub\"]=[CI_englandlo[1],CI_francelo[1],CI_germanylo[1],CI_italylo[1],CI_spainlo[1]]\n",
    "df_CIneulo=pd.DataFrame(CI_neulo)"
   ]
  },
  {
   "cell_type": "code",
   "execution_count": 217,
   "id": "6b8e1e92",
   "metadata": {
    "scrolled": false
   },
   "outputs": [
    {
     "data": {
      "text/plain": [
       "([<matplotlib.axis.YTick at 0x232923c3f70>,\n",
       "  <matplotlib.axis.YTick at 0x232923c37f0>,\n",
       "  <matplotlib.axis.YTick at 0x232923bd790>,\n",
       "  <matplotlib.axis.YTick at 0x232923fa8b0>,\n",
       "  <matplotlib.axis.YTick at 0x23292402100>],\n",
       " [Text(0, 0, 'England'),\n",
       "  Text(0, 1, 'France'),\n",
       "  Text(0, 2, 'Germany'),\n",
       "  Text(0, 3, 'Italy'),\n",
       "  Text(0, 4, 'Spain')])"
      ]
     },
     "execution_count": 217,
     "metadata": {},
     "output_type": "execute_result"
    },
    {
     "data": {
      "image/png": "[encoded data removed]",
      "text/plain": [
       "<Figure size 432x288 with 1 Axes>"
      ]
     },
     "metadata": {
      "needs_background": "light"
     },
     "output_type": "display_data"
    }
   ],
   "source": [
    "for lb,ub,y in zip(df_CIneulo['lb'],df_CIneulo['ub'],range(len(df_CIneulo))):\n",
    "    plt.plot((lb,ub),(y,y),'ro-')\n",
    "plt.yticks(range(len(df_CIneulo)),list(df_CIneulo['country']))"
   ]
  },
  {
   "cell_type": "raw",
   "id": "e5374c21",
   "metadata": {},
   "source": [
    "All five havbe equal probility of losing offical matches in home stadiums, with spain having the largest v=range in its probability "
   ]
  },
  {
   "cell_type": "markdown",
   "id": "9bd1d66d",
   "metadata": {},
   "source": [
    "Spain: has a higher probibilty of wining official matches if they are played at home, when compared to playing offical matches at neutral ground. This is similar to Spaain's probiblity of wining for friendly matches showing that there is no signifacnt diffrence between spains preformence in offical and friendly matches. They perfrom better at friendly matches even though diffrence is not signifcant "
   ]
  },
  {
   "cell_type": "markdown",
   "id": "533ea305",
   "metadata": {},
   "source": [
    "Italy: has an equal probiblity of wining and losing offical matches when playing on neutral, moreover their probility of wining friendly matches played at home is higher than that on neutral ground. This is diffrent than their probiblity of wining friendly matches where they preform worse in offical matches played on neutral ground than they do in friendly matches "
   ]
  },
  {
   "cell_type": "markdown",
   "id": "53952764",
   "metadata": {},
   "source": [
    "Germany: has a has a higher probibilty of wining official matches if they are played at home, when compared to playing offical matches at neutral ground. This is diffrent from their probility for friendly matches where there is a signifacnt diffrence in their preformance in neutral games for firendly and offical matches, they preform better in the friendly matches  better for friendly matches "
   ]
  },
  {
   "cell_type": "markdown",
   "id": "61430d15",
   "metadata": {},
   "source": [
    "France: France has a higher probibilty of wining official matches if they are played at home, when compared to playing offical matches at neutral ground. This is similar to their probiblity of wining friendly matches showing that there is no signifacnt diffrence between spains preformence in offical and friendly matches.However, they perfrom better at friendly matches even though diffrence is not signifcant "
   ]
  },
  {
   "cell_type": "markdown",
   "id": "bce16a47",
   "metadata": {},
   "source": [
    "Engalnd:England has an equal probiblity of wining and losing offical matches when playing on neutral, moreover their probility of wining friendly matches played at home is higher than that on neutral ground. This is diffrent than their probiblity of wining friendly matches where they preform worse in offical matches played on neutral ground than they do in friendly matches "
   ]
  },
  {
   "cell_type": "code",
   "execution_count": null,
   "id": "74265c00",
   "metadata": {},
   "outputs": [],
   "source": [
    "3: world cup qualifications matches "
   ]
  },
  {
   "cell_type": "markdown",
   "id": "7d21a705",
   "metadata": {},
   "source": [
    "3.1: wining world cup qualification matches "
   ]
  },
  {
   "cell_type": "code",
   "execution_count": 240,
   "id": "474bb26a",
   "metadata": {},
   "outputs": [
    {
     "data": {
      "text/html": [
       "<div>\n",
       "<style scoped>\n",
       "    .dataframe tbody tr th:only-of-type {\n",
       "        vertical-align: middle;\n",
       "    }\n",
       "\n",
       "    .dataframe tbody tr th {\n",
       "        vertical-align: top;\n",
       "    }\n",
       "\n",
       "    .dataframe thead th {\n",
       "        text-align: right;\n",
       "    }\n",
       "</style>\n",
       "<table border=\"1\" class=\"dataframe\">\n",
       "  <thead>\n",
       "    <tr style=\"text-align: right;\">\n",
       "      <th></th>\n",
       "      <th>date</th>\n",
       "      <th>home_team</th>\n",
       "      <th>away_team</th>\n",
       "      <th>home_score</th>\n",
       "      <th>away_score</th>\n",
       "      <th>tournament</th>\n",
       "      <th>city</th>\n",
       "      <th>country</th>\n",
       "      <th>neutral</th>\n",
       "      <th>home_match</th>\n",
       "      <th>away_match</th>\n",
       "      <th>result_home</th>\n",
       "      <th>result_away</th>\n",
       "    </tr>\n",
       "  </thead>\n",
       "  <tbody>\n",
       "    <tr>\n",
       "      <th>1591</th>\n",
       "      <td>6/11/1933</td>\n",
       "      <td>Sweden</td>\n",
       "      <td>Estonia</td>\n",
       "      <td>6</td>\n",
       "      <td>2</td>\n",
       "      <td>FIFA World Cup qualification</td>\n",
       "      <td>Stockholm</td>\n",
       "      <td>Sweden</td>\n",
       "      <td>False</td>\n",
       "      <td>True</td>\n",
       "      <td>False</td>\n",
       "      <td>win</td>\n",
       "      <td>lose</td>\n",
       "    </tr>\n",
       "    <tr>\n",
       "      <th>1596</th>\n",
       "      <td>6/29/1933</td>\n",
       "      <td>Lithuania</td>\n",
       "      <td>Sweden</td>\n",
       "      <td>0</td>\n",
       "      <td>2</td>\n",
       "      <td>FIFA World Cup qualification</td>\n",
       "      <td>Kaunas</td>\n",
       "      <td>Lithuania</td>\n",
       "      <td>False</td>\n",
       "      <td>True</td>\n",
       "      <td>False</td>\n",
       "      <td>lose</td>\n",
       "      <td>win</td>\n",
       "    </tr>\n",
       "  </tbody>\n",
       "</table>\n",
       "</div>"
      ],
      "text/plain": [
       "           date  home_team away_team  home_score  away_score  \\\n",
       "1591  6/11/1933     Sweden   Estonia           6           2   \n",
       "1596  6/29/1933  Lithuania    Sweden           0           2   \n",
       "\n",
       "                        tournament       city    country  neutral home_match  \\\n",
       "1591  FIFA World Cup qualification  Stockholm     Sweden    False       True   \n",
       "1596  FIFA World Cup qualification     Kaunas  Lithuania    False       True   \n",
       "\n",
       "     away_match result_home result_away  \n",
       "1591      False         win        lose  \n",
       "1596      False        lose         win  "
      ]
     },
     "execution_count": 240,
     "metadata": {},
     "output_type": "execute_result"
    }
   ],
   "source": [
    "df_quali=df[df[\"tournament\"]==\"FIFA World Cup qualification\"]\n",
    "df_quali.head(2)"
   ]
  },
  {
   "cell_type": "code",
   "execution_count": 258,
   "id": "768dca39",
   "metadata": {},
   "outputs": [],
   "source": [
    "df_franceq=df_quali[df_quali[\"country\"]==\"France\"]\n"
   ]
  },
  {
   "cell_type": "code",
   "execution_count": 259,
   "id": "5aabe4bb",
   "metadata": {},
   "outputs": [],
   "source": [
    "a=np.array(df_franceq[\"result_home\"].value_counts())\n",
    "a1=a.sum()"
   ]
  },
  {
   "cell_type": "code",
   "execution_count": 260,
   "id": "64c7abd4",
   "metadata": {},
   "outputs": [
    {
     "data": {
      "text/plain": [
       "(0.5850838683087067, 0.81174152851669)"
      ]
     },
     "execution_count": 260,
     "metadata": {},
     "output_type": "execute_result"
    }
   ],
   "source": [
    "CI_franceq=proportion_confint(count=a[0],nobs=a1,alpha=(1-.95))\n",
    "CI_franceq"
   ]
  },
  {
   "cell_type": "code",
   "execution_count": 270,
   "id": "de8d4a1a",
   "metadata": {},
   "outputs": [],
   "source": [
    "df_englandq=df_quali[df_quali[\"country\"]==\"England\"]\n"
   ]
  },
  {
   "cell_type": "code",
   "execution_count": 271,
   "id": "5983bc62",
   "metadata": {},
   "outputs": [
    {
     "data": {
      "text/plain": [
       "array([48, 13,  3], dtype=int64)"
      ]
     },
     "execution_count": 271,
     "metadata": {},
     "output_type": "execute_result"
    }
   ],
   "source": [
    "b=np.array(df_englandq[\"result_home\"].value_counts())\n",
    "b1=b.sum()\n",
    "b"
   ]
  },
  {
   "cell_type": "code",
   "execution_count": 272,
   "id": "d8aded86",
   "metadata": {},
   "outputs": [
    {
     "data": {
      "text/plain": [
       "(0.6439138374303589, 0.8560861625696411)"
      ]
     },
     "execution_count": 272,
     "metadata": {},
     "output_type": "execute_result"
    }
   ],
   "source": [
    "CI_englandq=proportion_confint(count=b[0],nobs=b1,alpha=(1-.95))\n",
    "CI_englandq"
   ]
  },
  {
   "cell_type": "code",
   "execution_count": 273,
   "id": "13263fed",
   "metadata": {},
   "outputs": [],
   "source": [
    "df_italyq=df_quali[df_quali[\"country\"]==\"Italy\"]\n"
   ]
  },
  {
   "cell_type": "code",
   "execution_count": 274,
   "id": "5203fe2e",
   "metadata": {},
   "outputs": [],
   "source": [
    "c=np.array(df_italyq[\"result_home\"].value_counts())\n",
    "c1=c.sum()"
   ]
  },
  {
   "cell_type": "code",
   "execution_count": 275,
   "id": "083ee54c",
   "metadata": {},
   "outputs": [
    {
     "data": {
      "text/plain": [
       "(0.62439657000099, 0.832746287141867)"
      ]
     },
     "execution_count": 275,
     "metadata": {},
     "output_type": "execute_result"
    }
   ],
   "source": [
    "CI_italyq=proportion_confint(count=c[0],nobs=c1,alpha=(1-.95))\n",
    "CI_italyq"
   ]
  },
  {
   "cell_type": "code",
   "execution_count": 276,
   "id": "65476d60",
   "metadata": {},
   "outputs": [],
   "source": [
    "df_germanyq=df_quali[df_quali[\"country\"]==\"Germany\"]"
   ]
  },
  {
   "cell_type": "code",
   "execution_count": 277,
   "id": "d7dfc021",
   "metadata": {},
   "outputs": [],
   "source": [
    "d=np.array(df_germanyq[\"result_home\"].value_counts())\n",
    "d1=d.sum()"
   ]
  },
  {
   "cell_type": "code",
   "execution_count": 278,
   "id": "f9d2edb5",
   "metadata": {},
   "outputs": [
    {
     "data": {
      "text/plain": [
       "(0.6426394331057614, 0.8661324967188)"
      ]
     },
     "execution_count": 278,
     "metadata": {},
     "output_type": "execute_result"
    }
   ],
   "source": [
    "CI_germanyq=proportion_confint(count=d[0],nobs=d1,alpha=(1-.95))\n",
    "CI_germanyq"
   ]
  },
  {
   "cell_type": "code",
   "execution_count": 279,
   "id": "4cd32406",
   "metadata": {},
   "outputs": [],
   "source": [
    "df_spainq=df_quali[df_quali[\"country\"]==\"Spain\"]"
   ]
  },
  {
   "cell_type": "code",
   "execution_count": 280,
   "id": "d76bb521",
   "metadata": {},
   "outputs": [],
   "source": [
    "e=np.array(df_spainq[\"result_home\"].value_counts())\n",
    "e1=e.sum()"
   ]
  },
  {
   "cell_type": "code",
   "execution_count": 281,
   "id": "bc69e8e7",
   "metadata": {},
   "outputs": [
    {
     "data": {
      "text/plain": [
       "(0.6404715250145009, 0.8452427606997849)"
      ]
     },
     "execution_count": 281,
     "metadata": {},
     "output_type": "execute_result"
    }
   ],
   "source": [
    "CI_spainq=proportion_confint(count=e[0],nobs=e1,alpha=(1-.95))\n",
    "CI_spainq"
   ]
  },
  {
   "cell_type": "code",
   "execution_count": 282,
   "id": "42b514d8",
   "metadata": {},
   "outputs": [],
   "source": [
    "CI_quali={}\n",
    "CI_quali[\"country\"]=[\"England\",\"France\",\"Germany\",\"Italy\",\"Spain\"]\n",
    "CI_quali[\"lb\"]=[CI_englandq[0],CI_franceq[0],CI_germanyq[0],CI_italyq[0],CI_spainq[0]]\n",
    "CI_quali[\"ub\"]=[CI_englandq[1],CI_franceq[1],CI_germanyq[1],CI_italyq[1],CI_spainq[1]]\n",
    "df_CIquali=pd.DataFrame(CI_quali)"
   ]
  },
  {
   "cell_type": "code",
   "execution_count": 283,
   "id": "a66a89ae",
   "metadata": {},
   "outputs": [
    {
     "data": {
      "text/plain": [
       "([<matplotlib.axis.YTick at 0x232924e7670>,\n",
       "  <matplotlib.axis.YTick at 0x232924e0eb0>,\n",
       "  <matplotlib.axis.YTick at 0x2329242f0d0>,\n",
       "  <matplotlib.axis.YTick at 0x23292515f70>,\n",
       "  <matplotlib.axis.YTick at 0x2329251e5e0>],\n",
       " [Text(0, 0, 'England'),\n",
       "  Text(0, 1, 'France'),\n",
       "  Text(0, 2, 'Germany'),\n",
       "  Text(0, 3, 'Italy'),\n",
       "  Text(0, 4, 'Spain')])"
      ]
     },
     "execution_count": 283,
     "metadata": {},
     "output_type": "execute_result"
    },
    {
     "data": {
      "image/png": "[encoded data removed]",
      "text/plain": [
       "<Figure size 432x288 with 1 Axes>"
      ]
     },
     "metadata": {
      "needs_background": "light"
     },
     "output_type": "display_data"
    }
   ],
   "source": [
    "for lb,ub,y in zip(df_CIquali['lb'],df_CIquali['ub'],range(len(df_CIquali))):\n",
    "    plt.plot((lb,ub),(y,y),'ro-')\n",
    "plt.yticks(range(len(df_CIquali)),list(df_CIquali['country']))"
   ]
  },
  {
   "cell_type": "markdown",
   "id": "900d4629",
   "metadata": {},
   "source": []
  },
  {
   "cell_type": "markdown",
   "id": "23e8a47c",
   "metadata": {},
   "source": [
    "4. conclusion about each country:"
   ]
  },
  {
   "cell_type": "markdown",
   "id": "89e129f8",
   "metadata": {},
   "source": [
    "Spain:"
   ]
  },
  {
   "cell_type": "markdown",
   "id": "ff2612eb",
   "metadata": {},
   "source": [
    "Italy:"
   ]
  },
  {
   "cell_type": "markdown",
   "id": "efd2a049",
   "metadata": {},
   "source": [
    "Germany:"
   ]
  },
  {
   "cell_type": "markdown",
   "id": "7ab4b88a",
   "metadata": {},
   "source": [
    "France:"
   ]
  },
  {
   "cell_type": "markdown",
   "id": "210301d4",
   "metadata": {},
   "source": [
    "Engalnd "
   ]
  }
 ],
 "metadata": {
  "kernelspec": {
   "display_name": "Python 3 (ipykernel)",
   "language": "python",
   "name": "python3"
  },
  "language_info": {
   "codemirror_mode": {
    "name": "ipython",
    "version": 3
   },
   "file_extension": ".py",
   "mimetype": "text/x-python",
   "name": "python",
   "nbconvert_exporter": "python",
   "pygments_lexer": "ipython3",
   "version": "3.9.7"
  }
 },
 "nbformat": 4,
 "nbformat_minor": 5
}
