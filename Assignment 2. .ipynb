{
 "cells": [
  {
   "cell_type": "markdown",
   "id": "c2d974fc",
   "metadata": {},
   "source": [
    "Assignment 2:\n",
    "    \n",
    "Marwan Abdelmagid, 900211676"
   ]
  },
  {
   "cell_type": "markdown",
   "id": "6b8e4b63",
   "metadata": {},
   "source": [
    "Abstarct \n",
    "\n",
    "Part 1: In this part I will show the statistical analysis of football Matches played by Spain, Italy, Germany,Engalnd and France based on several terms, such as playing in home or neutral stadiums, offical or friendly matches by calculating the probability of wining losing and drawing, and the confidence interval of the probability of wining and losing.\n",
    "\n",
    "\"Results\" data describition.\n",
    "\n",
    "\"Covid data\" data describition:\n",
    "\n",
    "1: calculation of the probability and the corresponding of confidence intervals wining and losing friendly matches in neutral stadiums and home stadiums and drawing the crossponding graphs. \n",
    "\n",
    "2: calculation of the probability and the corresponding confidence intervals of wining and losing official matches in  neutral stadiums and home stadiums drawing the crossponding graphs. \n",
    "\n",
    "3: calculation of the probability  and the corresponding confidence intervals of wining and losing official matches in  neutral stadiums and home stadiums drawing the crossponding graphs. \n",
    "\n",
    "\n",
    "Part2: In this part I will analyze the data COVID-19 dataset that has been gathered during the pandemic to analyze \n",
    "the daily infections, deaths and fatality rate across diffrent factors comparing them between 2020 and 2021, by calcualting their mean, satndred devivation, confidence intervals.\n",
    "\n",
    "\n",
    "4: Comparison between daily  infections, daily deaths, and fatality rate between 2020 and 2021.\n",
    "\n",
    "5: Comparison between daily  infections, daily deaths, and fatality rate between the 7 regions.\n",
    "\n",
    "6: Comparison between daily  infections, daily deaths, and fatality rate between the 7 continents.\n",
    "\n",
    "7: Comparison between daily  infections, daily deaths, and fatality rate between countries with diffrent income levels \n",
    "\n",
    "ALL Confidence intervlas calculated in part one and part two are caluated for 95% confidence.\n",
    "\n",
    "\n",
    "\n"
   ]
  },
  {
   "cell_type": "markdown",
   "id": "150e58a0",
   "metadata": {},
   "source": [
    "\"Results\" data describition:\n",
    "\n",
    "date: date match was played on.\n",
    "\n",
    "home_team, away_team: home team and away team respectively.\n",
    "\n",
    "home_score,away_score: home teams score and away team score respectively.\n",
    "\n",
    "tournament: type of toutnament match was played in.\n",
    "\n",
    "city,country: city and country match was played in.\n",
    "\n",
    "neutral: True if the match is played on ground that does not belong to home or away team.\n",
    "\n",
    "result_home,result_away: win, lose or draw for the home team or away team respectively."
   ]
  },
  {
   "cell_type": "markdown",
   "id": "b85fcd8d",
   "metadata": {},
   "source": [
    "\"Covid data\" data describition:\n",
    "\n",
    "date: date of which data was collected.\n",
    "\n",
    "iso3c: country code. \n",
    "\n",
    "income: country income level.\n",
    "\n",
    "region: which region does country belong to.\n",
    "\n",
    "continent: which contient is the country on.\n",
    "\n",
    "dcases: number of cases reported on that day.\n",
    "\n",
    "ddeaths: number of deaths reported on that day.\n",
    "\n",
    "population: popoulation of country.\n",
    "\n",
    "weekdays: which month was these numbers reoprted in.\n",
    "\n",
    "month: which month was these numbers reoprted in."
   ]
  },
  {
   "cell_type": "code",
   "execution_count": 224,
   "id": "b8039178",
   "metadata": {},
   "outputs": [],
   "source": [
    "import pandas as pd\n",
    "import numpy as np\n",
    "from statsmodels.stats.proportion import proportion_confint\n",
    "import statsmodels.api as sm\n",
    "import matplotlib.pyplot as plt\n",
    "import scipy.stats \n",
    "from pandas.api.types import CategoricalDtype\n",
    "from scipy.stats import norm,t"
   ]
  },
  {
   "cell_type": "markdown",
   "id": "52f44a1d",
   "metadata": {},
   "source": [
    "Part 1:Statistical Analysis of Football Matches played by Spain, Italy, Germany,Engalnd and France based on sevral terms, such as playing in home or neutral stadiums, offical or friendly matches. "
   ]
  },
  {
   "cell_type": "code",
   "execution_count": 225,
   "id": "95f10f75",
   "metadata": {},
   "outputs": [],
   "source": [
    "df=pd.read_csv(\"results.csv\")"
   ]
  },
  {
   "cell_type": "code",
   "execution_count": 226,
   "id": "fc14980f",
   "metadata": {},
   "outputs": [
    {
     "data": {
      "text/plain": [
       "(43188, 9)"
      ]
     },
     "execution_count": 226,
     "metadata": {},
     "output_type": "execute_result"
    }
   ],
   "source": [
    "df.head()\n",
    "df.shape"
   ]
  },
  {
   "cell_type": "code",
   "execution_count": 227,
   "id": "514edf9c",
   "metadata": {},
   "outputs": [],
   "source": [
    "df.loc[df['home_team'] == df['country'], 'home_match'] = True\n",
    "df.loc[df['home_team'] != df['country'], 'home_match'] = False"
   ]
  },
  {
   "cell_type": "code",
   "execution_count": 228,
   "id": "09c0cb35",
   "metadata": {},
   "outputs": [],
   "source": [
    "df.loc[df['home_match'] == True, 'away_match'] = False\n",
    "df.loc[df['home_match']==False,'away_match']= True\n",
    "df.loc[df['neutral']==True, 'away_match'] = False"
   ]
  },
  {
   "cell_type": "code",
   "execution_count": 229,
   "id": "51ec7abe",
   "metadata": {},
   "outputs": [],
   "source": [
    "x=df[\"home_score\"] - df[\"away_score\"]"
   ]
  },
  {
   "cell_type": "code",
   "execution_count": 230,
   "id": "d229c8a2",
   "metadata": {},
   "outputs": [],
   "source": [
    "conditions=[(x<0),(x>0),(x==0)]\n",
    "values=[\"lose\",\"win\",\"draw\"]"
   ]
  },
  {
   "cell_type": "code",
   "execution_count": 231,
   "id": "4a346f43",
   "metadata": {},
   "outputs": [],
   "source": [
    "df[\"result_home\"]=np.select(conditions,values)"
   ]
  },
  {
   "cell_type": "code",
   "execution_count": 232,
   "id": "18dfe9bb",
   "metadata": {},
   "outputs": [],
   "source": [
    "condition1=[(x>0),(x<0),(x==0)]\n",
    "value1=[\"lose\",\"win\",\"draw\"]"
   ]
  },
  {
   "cell_type": "code",
   "execution_count": 233,
   "id": "3aa6d20f",
   "metadata": {},
   "outputs": [
    {
     "data": {
      "text/html": [
       "<div>\n",
       "<style scoped>\n",
       "    .dataframe tbody tr th:only-of-type {\n",
       "        vertical-align: middle;\n",
       "    }\n",
       "\n",
       "    .dataframe tbody tr th {\n",
       "        vertical-align: top;\n",
       "    }\n",
       "\n",
       "    .dataframe thead th {\n",
       "        text-align: right;\n",
       "    }\n",
       "</style>\n",
       "<table border=\"1\" class=\"dataframe\">\n",
       "  <thead>\n",
       "    <tr style=\"text-align: right;\">\n",
       "      <th></th>\n",
       "      <th>date</th>\n",
       "      <th>home_team</th>\n",
       "      <th>away_team</th>\n",
       "      <th>home_score</th>\n",
       "      <th>away_score</th>\n",
       "      <th>tournament</th>\n",
       "      <th>city</th>\n",
       "      <th>country</th>\n",
       "      <th>neutral</th>\n",
       "      <th>home_match</th>\n",
       "      <th>away_match</th>\n",
       "      <th>result_home</th>\n",
       "      <th>result_away</th>\n",
       "    </tr>\n",
       "  </thead>\n",
       "  <tbody>\n",
       "    <tr>\n",
       "      <th>0</th>\n",
       "      <td>1872-11-30</td>\n",
       "      <td>Scotland</td>\n",
       "      <td>England</td>\n",
       "      <td>0</td>\n",
       "      <td>0</td>\n",
       "      <td>Friendly</td>\n",
       "      <td>Glasgow</td>\n",
       "      <td>Scotland</td>\n",
       "      <td>False</td>\n",
       "      <td>True</td>\n",
       "      <td>False</td>\n",
       "      <td>draw</td>\n",
       "      <td>draw</td>\n",
       "    </tr>\n",
       "    <tr>\n",
       "      <th>1</th>\n",
       "      <td>1873-03-08</td>\n",
       "      <td>England</td>\n",
       "      <td>Scotland</td>\n",
       "      <td>4</td>\n",
       "      <td>2</td>\n",
       "      <td>Friendly</td>\n",
       "      <td>London</td>\n",
       "      <td>England</td>\n",
       "      <td>False</td>\n",
       "      <td>True</td>\n",
       "      <td>False</td>\n",
       "      <td>win</td>\n",
       "      <td>lose</td>\n",
       "    </tr>\n",
       "    <tr>\n",
       "      <th>2</th>\n",
       "      <td>1874-03-07</td>\n",
       "      <td>Scotland</td>\n",
       "      <td>England</td>\n",
       "      <td>2</td>\n",
       "      <td>1</td>\n",
       "      <td>Friendly</td>\n",
       "      <td>Glasgow</td>\n",
       "      <td>Scotland</td>\n",
       "      <td>False</td>\n",
       "      <td>True</td>\n",
       "      <td>False</td>\n",
       "      <td>win</td>\n",
       "      <td>lose</td>\n",
       "    </tr>\n",
       "    <tr>\n",
       "      <th>3</th>\n",
       "      <td>1875-03-06</td>\n",
       "      <td>England</td>\n",
       "      <td>Scotland</td>\n",
       "      <td>2</td>\n",
       "      <td>2</td>\n",
       "      <td>Friendly</td>\n",
       "      <td>London</td>\n",
       "      <td>England</td>\n",
       "      <td>False</td>\n",
       "      <td>True</td>\n",
       "      <td>False</td>\n",
       "      <td>draw</td>\n",
       "      <td>draw</td>\n",
       "    </tr>\n",
       "    <tr>\n",
       "      <th>4</th>\n",
       "      <td>1876-03-04</td>\n",
       "      <td>Scotland</td>\n",
       "      <td>England</td>\n",
       "      <td>3</td>\n",
       "      <td>0</td>\n",
       "      <td>Friendly</td>\n",
       "      <td>Glasgow</td>\n",
       "      <td>Scotland</td>\n",
       "      <td>False</td>\n",
       "      <td>True</td>\n",
       "      <td>False</td>\n",
       "      <td>win</td>\n",
       "      <td>lose</td>\n",
       "    </tr>\n",
       "    <tr>\n",
       "      <th>...</th>\n",
       "      <td>...</td>\n",
       "      <td>...</td>\n",
       "      <td>...</td>\n",
       "      <td>...</td>\n",
       "      <td>...</td>\n",
       "      <td>...</td>\n",
       "      <td>...</td>\n",
       "      <td>...</td>\n",
       "      <td>...</td>\n",
       "      <td>...</td>\n",
       "      <td>...</td>\n",
       "      <td>...</td>\n",
       "      <td>...</td>\n",
       "    </tr>\n",
       "    <tr>\n",
       "      <th>43183</th>\n",
       "      <td>2/1/2022</td>\n",
       "      <td>Suriname</td>\n",
       "      <td>Guyana</td>\n",
       "      <td>2</td>\n",
       "      <td>1</td>\n",
       "      <td>Friendly</td>\n",
       "      <td>Paramaribo</td>\n",
       "      <td>Suriname</td>\n",
       "      <td>False</td>\n",
       "      <td>True</td>\n",
       "      <td>False</td>\n",
       "      <td>win</td>\n",
       "      <td>lose</td>\n",
       "    </tr>\n",
       "    <tr>\n",
       "      <th>43184</th>\n",
       "      <td>2/2/2022</td>\n",
       "      <td>Burkina Faso</td>\n",
       "      <td>Senegal</td>\n",
       "      <td>1</td>\n",
       "      <td>3</td>\n",
       "      <td>African Cup of Nations</td>\n",
       "      <td>Yaoundé</td>\n",
       "      <td>Cameroon</td>\n",
       "      <td>True</td>\n",
       "      <td>False</td>\n",
       "      <td>False</td>\n",
       "      <td>lose</td>\n",
       "      <td>win</td>\n",
       "    </tr>\n",
       "    <tr>\n",
       "      <th>43185</th>\n",
       "      <td>2/3/2022</td>\n",
       "      <td>Cameroon</td>\n",
       "      <td>Egypt</td>\n",
       "      <td>0</td>\n",
       "      <td>0</td>\n",
       "      <td>African Cup of Nations</td>\n",
       "      <td>Yaoundé</td>\n",
       "      <td>Cameroon</td>\n",
       "      <td>False</td>\n",
       "      <td>True</td>\n",
       "      <td>False</td>\n",
       "      <td>draw</td>\n",
       "      <td>draw</td>\n",
       "    </tr>\n",
       "    <tr>\n",
       "      <th>43186</th>\n",
       "      <td>2/5/2022</td>\n",
       "      <td>Cameroon</td>\n",
       "      <td>Burkina Faso</td>\n",
       "      <td>3</td>\n",
       "      <td>3</td>\n",
       "      <td>African Cup of Nations</td>\n",
       "      <td>Yaoundé</td>\n",
       "      <td>Cameroon</td>\n",
       "      <td>False</td>\n",
       "      <td>True</td>\n",
       "      <td>False</td>\n",
       "      <td>draw</td>\n",
       "      <td>draw</td>\n",
       "    </tr>\n",
       "    <tr>\n",
       "      <th>43187</th>\n",
       "      <td>2/6/2022</td>\n",
       "      <td>Senegal</td>\n",
       "      <td>Egypt</td>\n",
       "      <td>0</td>\n",
       "      <td>0</td>\n",
       "      <td>African Cup of Nations</td>\n",
       "      <td>Yaoundé</td>\n",
       "      <td>Cameroon</td>\n",
       "      <td>True</td>\n",
       "      <td>False</td>\n",
       "      <td>False</td>\n",
       "      <td>draw</td>\n",
       "      <td>draw</td>\n",
       "    </tr>\n",
       "  </tbody>\n",
       "</table>\n",
       "<p>43188 rows × 13 columns</p>\n",
       "</div>"
      ],
      "text/plain": [
       "             date     home_team     away_team  home_score  away_score  \\\n",
       "0      1872-11-30      Scotland       England           0           0   \n",
       "1      1873-03-08       England      Scotland           4           2   \n",
       "2      1874-03-07      Scotland       England           2           1   \n",
       "3      1875-03-06       England      Scotland           2           2   \n",
       "4      1876-03-04      Scotland       England           3           0   \n",
       "...           ...           ...           ...         ...         ...   \n",
       "43183    2/1/2022      Suriname        Guyana           2           1   \n",
       "43184    2/2/2022  Burkina Faso       Senegal           1           3   \n",
       "43185    2/3/2022      Cameroon         Egypt           0           0   \n",
       "43186    2/5/2022      Cameroon  Burkina Faso           3           3   \n",
       "43187    2/6/2022       Senegal         Egypt           0           0   \n",
       "\n",
       "                   tournament        city   country  neutral home_match  \\\n",
       "0                    Friendly     Glasgow  Scotland    False       True   \n",
       "1                    Friendly      London   England    False       True   \n",
       "2                    Friendly     Glasgow  Scotland    False       True   \n",
       "3                    Friendly      London   England    False       True   \n",
       "4                    Friendly     Glasgow  Scotland    False       True   \n",
       "...                       ...         ...       ...      ...        ...   \n",
       "43183                Friendly  Paramaribo  Suriname    False       True   \n",
       "43184  African Cup of Nations     Yaoundé  Cameroon     True      False   \n",
       "43185  African Cup of Nations     Yaoundé  Cameroon    False       True   \n",
       "43186  African Cup of Nations     Yaoundé  Cameroon    False       True   \n",
       "43187  African Cup of Nations     Yaoundé  Cameroon     True      False   \n",
       "\n",
       "      away_match result_home result_away  \n",
       "0          False        draw        draw  \n",
       "1          False         win        lose  \n",
       "2          False         win        lose  \n",
       "3          False        draw        draw  \n",
       "4          False         win        lose  \n",
       "...          ...         ...         ...  \n",
       "43183      False         win        lose  \n",
       "43184      False        lose         win  \n",
       "43185      False        draw        draw  \n",
       "43186      False        draw        draw  \n",
       "43187      False        draw        draw  \n",
       "\n",
       "[43188 rows x 13 columns]"
      ]
     },
     "execution_count": 233,
     "metadata": {},
     "output_type": "execute_result"
    }
   ],
   "source": [
    "df[\"result_away\"]=np.select(condition1,value1)\n",
    "df"
   ]
  },
  {
   "cell_type": "markdown",
   "id": "f0a55b7d",
   "metadata": {},
   "source": [
    "1: Friendly matches "
   ]
  },
  {
   "cell_type": "markdown",
   "id": "3be4ca8b",
   "metadata": {},
   "source": [
    "1.1: calculating the probility of wining, losing and drawing home games, and calculating the wining confidence interval."
   ]
  },
  {
   "cell_type": "code",
   "execution_count": 234,
   "id": "de1122ca",
   "metadata": {
    "scrolled": true
   },
   "outputs": [
    {
     "data": {
      "text/html": [
       "<div>\n",
       "<style scoped>\n",
       "    .dataframe tbody tr th:only-of-type {\n",
       "        vertical-align: middle;\n",
       "    }\n",
       "\n",
       "    .dataframe tbody tr th {\n",
       "        vertical-align: top;\n",
       "    }\n",
       "\n",
       "    .dataframe thead th {\n",
       "        text-align: right;\n",
       "    }\n",
       "</style>\n",
       "<table border=\"1\" class=\"dataframe\">\n",
       "  <thead>\n",
       "    <tr style=\"text-align: right;\">\n",
       "      <th></th>\n",
       "      <th>date</th>\n",
       "      <th>home_team</th>\n",
       "      <th>away_team</th>\n",
       "      <th>home_score</th>\n",
       "      <th>away_score</th>\n",
       "      <th>tournament</th>\n",
       "      <th>city</th>\n",
       "      <th>country</th>\n",
       "      <th>neutral</th>\n",
       "      <th>home_match</th>\n",
       "      <th>away_match</th>\n",
       "      <th>result_home</th>\n",
       "      <th>result_away</th>\n",
       "    </tr>\n",
       "  </thead>\n",
       "  <tbody>\n",
       "    <tr>\n",
       "      <th>0</th>\n",
       "      <td>1872-11-30</td>\n",
       "      <td>Scotland</td>\n",
       "      <td>England</td>\n",
       "      <td>0</td>\n",
       "      <td>0</td>\n",
       "      <td>Friendly</td>\n",
       "      <td>Glasgow</td>\n",
       "      <td>Scotland</td>\n",
       "      <td>False</td>\n",
       "      <td>True</td>\n",
       "      <td>False</td>\n",
       "      <td>draw</td>\n",
       "      <td>draw</td>\n",
       "    </tr>\n",
       "    <tr>\n",
       "      <th>1</th>\n",
       "      <td>1873-03-08</td>\n",
       "      <td>England</td>\n",
       "      <td>Scotland</td>\n",
       "      <td>4</td>\n",
       "      <td>2</td>\n",
       "      <td>Friendly</td>\n",
       "      <td>London</td>\n",
       "      <td>England</td>\n",
       "      <td>False</td>\n",
       "      <td>True</td>\n",
       "      <td>False</td>\n",
       "      <td>win</td>\n",
       "      <td>lose</td>\n",
       "    </tr>\n",
       "    <tr>\n",
       "      <th>2</th>\n",
       "      <td>1874-03-07</td>\n",
       "      <td>Scotland</td>\n",
       "      <td>England</td>\n",
       "      <td>2</td>\n",
       "      <td>1</td>\n",
       "      <td>Friendly</td>\n",
       "      <td>Glasgow</td>\n",
       "      <td>Scotland</td>\n",
       "      <td>False</td>\n",
       "      <td>True</td>\n",
       "      <td>False</td>\n",
       "      <td>win</td>\n",
       "      <td>lose</td>\n",
       "    </tr>\n",
       "    <tr>\n",
       "      <th>3</th>\n",
       "      <td>1875-03-06</td>\n",
       "      <td>England</td>\n",
       "      <td>Scotland</td>\n",
       "      <td>2</td>\n",
       "      <td>2</td>\n",
       "      <td>Friendly</td>\n",
       "      <td>London</td>\n",
       "      <td>England</td>\n",
       "      <td>False</td>\n",
       "      <td>True</td>\n",
       "      <td>False</td>\n",
       "      <td>draw</td>\n",
       "      <td>draw</td>\n",
       "    </tr>\n",
       "    <tr>\n",
       "      <th>4</th>\n",
       "      <td>1876-03-04</td>\n",
       "      <td>Scotland</td>\n",
       "      <td>England</td>\n",
       "      <td>3</td>\n",
       "      <td>0</td>\n",
       "      <td>Friendly</td>\n",
       "      <td>Glasgow</td>\n",
       "      <td>Scotland</td>\n",
       "      <td>False</td>\n",
       "      <td>True</td>\n",
       "      <td>False</td>\n",
       "      <td>win</td>\n",
       "      <td>lose</td>\n",
       "    </tr>\n",
       "    <tr>\n",
       "      <th>...</th>\n",
       "      <td>...</td>\n",
       "      <td>...</td>\n",
       "      <td>...</td>\n",
       "      <td>...</td>\n",
       "      <td>...</td>\n",
       "      <td>...</td>\n",
       "      <td>...</td>\n",
       "      <td>...</td>\n",
       "      <td>...</td>\n",
       "      <td>...</td>\n",
       "      <td>...</td>\n",
       "      <td>...</td>\n",
       "      <td>...</td>\n",
       "    </tr>\n",
       "    <tr>\n",
       "      <th>43179</th>\n",
       "      <td>2/1/2022</td>\n",
       "      <td>Bahrain</td>\n",
       "      <td>DR Congo</td>\n",
       "      <td>1</td>\n",
       "      <td>0</td>\n",
       "      <td>Friendly</td>\n",
       "      <td>Riffa</td>\n",
       "      <td>Bahrain</td>\n",
       "      <td>False</td>\n",
       "      <td>True</td>\n",
       "      <td>False</td>\n",
       "      <td>win</td>\n",
       "      <td>lose</td>\n",
       "    </tr>\n",
       "    <tr>\n",
       "      <th>43180</th>\n",
       "      <td>2/1/2022</td>\n",
       "      <td>Kuwait</td>\n",
       "      <td>Libya</td>\n",
       "      <td>0</td>\n",
       "      <td>2</td>\n",
       "      <td>Friendly</td>\n",
       "      <td>Kuwait City</td>\n",
       "      <td>Kuwait</td>\n",
       "      <td>False</td>\n",
       "      <td>True</td>\n",
       "      <td>False</td>\n",
       "      <td>lose</td>\n",
       "      <td>win</td>\n",
       "    </tr>\n",
       "    <tr>\n",
       "      <th>43181</th>\n",
       "      <td>2/1/2022</td>\n",
       "      <td>Nepal</td>\n",
       "      <td>Mauritius</td>\n",
       "      <td>1</td>\n",
       "      <td>0</td>\n",
       "      <td>Friendly</td>\n",
       "      <td>Kathmandu</td>\n",
       "      <td>Nepal</td>\n",
       "      <td>False</td>\n",
       "      <td>True</td>\n",
       "      <td>False</td>\n",
       "      <td>win</td>\n",
       "      <td>lose</td>\n",
       "    </tr>\n",
       "    <tr>\n",
       "      <th>43182</th>\n",
       "      <td>2/1/2022</td>\n",
       "      <td>Nicaragua</td>\n",
       "      <td>Belize</td>\n",
       "      <td>1</td>\n",
       "      <td>1</td>\n",
       "      <td>Friendly</td>\n",
       "      <td>Managua</td>\n",
       "      <td>Nicaragua</td>\n",
       "      <td>False</td>\n",
       "      <td>True</td>\n",
       "      <td>False</td>\n",
       "      <td>draw</td>\n",
       "      <td>draw</td>\n",
       "    </tr>\n",
       "    <tr>\n",
       "      <th>43183</th>\n",
       "      <td>2/1/2022</td>\n",
       "      <td>Suriname</td>\n",
       "      <td>Guyana</td>\n",
       "      <td>2</td>\n",
       "      <td>1</td>\n",
       "      <td>Friendly</td>\n",
       "      <td>Paramaribo</td>\n",
       "      <td>Suriname</td>\n",
       "      <td>False</td>\n",
       "      <td>True</td>\n",
       "      <td>False</td>\n",
       "      <td>win</td>\n",
       "      <td>lose</td>\n",
       "    </tr>\n",
       "  </tbody>\n",
       "</table>\n",
       "<p>14457 rows × 13 columns</p>\n",
       "</div>"
      ],
      "text/plain": [
       "             date  home_team  away_team  home_score  away_score tournament  \\\n",
       "0      1872-11-30   Scotland    England           0           0   Friendly   \n",
       "1      1873-03-08    England   Scotland           4           2   Friendly   \n",
       "2      1874-03-07   Scotland    England           2           1   Friendly   \n",
       "3      1875-03-06    England   Scotland           2           2   Friendly   \n",
       "4      1876-03-04   Scotland    England           3           0   Friendly   \n",
       "...           ...        ...        ...         ...         ...        ...   \n",
       "43179    2/1/2022    Bahrain   DR Congo           1           0   Friendly   \n",
       "43180    2/1/2022     Kuwait      Libya           0           2   Friendly   \n",
       "43181    2/1/2022      Nepal  Mauritius           1           0   Friendly   \n",
       "43182    2/1/2022  Nicaragua     Belize           1           1   Friendly   \n",
       "43183    2/1/2022   Suriname     Guyana           2           1   Friendly   \n",
       "\n",
       "              city    country  neutral home_match away_match result_home  \\\n",
       "0          Glasgow   Scotland    False       True      False        draw   \n",
       "1           London    England    False       True      False         win   \n",
       "2          Glasgow   Scotland    False       True      False         win   \n",
       "3           London    England    False       True      False        draw   \n",
       "4          Glasgow   Scotland    False       True      False         win   \n",
       "...            ...        ...      ...        ...        ...         ...   \n",
       "43179        Riffa    Bahrain    False       True      False         win   \n",
       "43180  Kuwait City     Kuwait    False       True      False        lose   \n",
       "43181    Kathmandu      Nepal    False       True      False         win   \n",
       "43182      Managua  Nicaragua    False       True      False        draw   \n",
       "43183   Paramaribo   Suriname    False       True      False         win   \n",
       "\n",
       "      result_away  \n",
       "0            draw  \n",
       "1            lose  \n",
       "2            lose  \n",
       "3            draw  \n",
       "4            lose  \n",
       "...           ...  \n",
       "43179        lose  \n",
       "43180         win  \n",
       "43181        lose  \n",
       "43182        draw  \n",
       "43183        lose  \n",
       "\n",
       "[14457 rows x 13 columns]"
      ]
     },
     "execution_count": 234,
     "metadata": {},
     "output_type": "execute_result"
    }
   ],
   "source": [
    "df_f=df[df[\"tournament\"]==\"Friendly\"]\n",
    "df_homegame=df_f[df_f[\"home_match\"]==True]\n",
    "df_homegame"
   ]
  },
  {
   "cell_type": "code",
   "execution_count": 235,
   "id": "6ab73cea",
   "metadata": {},
   "outputs": [
    {
     "data": {
      "text/plain": [
       "(292, 13)"
      ]
     },
     "execution_count": 235,
     "metadata": {},
     "output_type": "execute_result"
    }
   ],
   "source": [
    "df_francehome=df_homegame[df_homegame[\"country\"]==\"France\"]\n",
    "df_francehome.shape"
   ]
  },
  {
   "cell_type": "code",
   "execution_count": 375,
   "id": "bd843b1c",
   "metadata": {},
   "outputs": [],
   "source": [
    "a=np.array(df_francehome[\"result_home\"].value_counts())\n",
    "a1=a.sum()\n",
    "aw=a[0]/a1\n",
    "al=a[1]/a1\n",
    "ad=a[2]/a1"
   ]
  },
  {
   "cell_type": "code",
   "execution_count": 376,
   "id": "583da582",
   "metadata": {},
   "outputs": [
    {
     "data": {
      "text/plain": [
       "(0.4632472850239812, 0.5778486053869777)"
      ]
     },
     "execution_count": 376,
     "metadata": {},
     "output_type": "execute_result"
    }
   ],
   "source": [
    "CI_france=proportion_confint(count=a[0],nobs=a1,alpha=(1-.95))\n",
    "CI_france"
   ]
  },
  {
   "cell_type": "code",
   "execution_count": 377,
   "id": "62d3ec50",
   "metadata": {},
   "outputs": [
    {
     "data": {
      "text/plain": [
       "(271, 13)"
      ]
     },
     "execution_count": 377,
     "metadata": {},
     "output_type": "execute_result"
    }
   ],
   "source": [
    "df_englandhome=df_homegame[df_homegame[\"country\"]==\"England\"]\n",
    "df_englandhome.shape"
   ]
  },
  {
   "cell_type": "code",
   "execution_count": 391,
   "id": "6d550044",
   "metadata": {},
   "outputs": [],
   "source": [
    "b=np.array(df_englandhome[\"result_home\"].value_counts())\n",
    "b1=b.sum()\n",
    "bw=b[0]/b1\n",
    "bl=b[1]/b1\n",
    "bd=b[2]/b1"
   ]
  },
  {
   "cell_type": "code",
   "execution_count": 392,
   "id": "5b193222",
   "metadata": {},
   "outputs": [
    {
     "data": {
      "text/plain": [
       "(0.6272415832438014, 0.7380720698927299)"
      ]
     },
     "execution_count": 392,
     "metadata": {},
     "output_type": "execute_result"
    }
   ],
   "source": [
    "CI_england=proportion_confint(count=b[0],nobs=b1,alpha=(1-.95))\n",
    "CI_england\n",
    "(0.6272415832438014, 0.7380720698927299)"
   ]
  },
  {
   "cell_type": "code",
   "execution_count": 393,
   "id": "eff3c6bc",
   "metadata": {},
   "outputs": [
    {
     "data": {
      "text/plain": [
       "(170, 13)"
      ]
     },
     "execution_count": 393,
     "metadata": {},
     "output_type": "execute_result"
    }
   ],
   "source": [
    "df_italyhome=df_homegame[df_homegame[\"country\"]==\"Italy\"]\n",
    "df_italyhome.shape"
   ]
  },
  {
   "cell_type": "code",
   "execution_count": 394,
   "id": "f08e2dfc",
   "metadata": {},
   "outputs": [],
   "source": [
    "c=np.array(df_italyhome[\"result_home\"].value_counts())\n",
    "c1=c.sum()\n",
    "cw=c[0]/c1\n",
    "cl=c[1]/c1\n",
    "cd=c[2]/c1\n"
   ]
  },
  {
   "cell_type": "code",
   "execution_count": 395,
   "id": "f40b7f1a",
   "metadata": {},
   "outputs": [
    {
     "data": {
      "text/plain": [
       "(0.6499803205186274, 0.7853137971284314)"
      ]
     },
     "execution_count": 395,
     "metadata": {},
     "output_type": "execute_result"
    }
   ],
   "source": [
    "CI_italy=proportion_confint(count=c[0],nobs=c1,alpha=(1-.95))\n",
    "CI_italy"
   ]
  },
  {
   "cell_type": "code",
   "execution_count": 396,
   "id": "29ed2147",
   "metadata": {},
   "outputs": [
    {
     "data": {
      "text/plain": [
       "(136, 13)"
      ]
     },
     "execution_count": 396,
     "metadata": {},
     "output_type": "execute_result"
    }
   ],
   "source": [
    "df_germanyhome=df_homegame[df_homegame[\"country\"]==\"Germany\"]\n",
    "df_germanyhome.shape"
   ]
  },
  {
   "cell_type": "code",
   "execution_count": 397,
   "id": "ef4d3c5c",
   "metadata": {},
   "outputs": [],
   "source": [
    "d=np.array(df_germanyhome[\"result_home\"].value_counts())\n",
    "d1=d.sum()\n",
    "dw=d[0]/d1\n",
    "dl=d[1]/d1\n",
    "dd=d[2]/d1\n"
   ]
  },
  {
   "cell_type": "code",
   "execution_count": 398,
   "id": "516edc45",
   "metadata": {},
   "outputs": [
    {
     "data": {
      "text/plain": [
       "(0.6611475624384795, 0.8094406728556383)"
      ]
     },
     "execution_count": 398,
     "metadata": {},
     "output_type": "execute_result"
    }
   ],
   "source": [
    "CI_germany=proportion_confint(count=d[0],nobs=d1,alpha=(1-.95))\n",
    "CI_germany"
   ]
  },
  {
   "cell_type": "code",
   "execution_count": 399,
   "id": "78377ae8",
   "metadata": {},
   "outputs": [],
   "source": [
    "df_spainhome=df_homegame[df_homegame[\"country\"]==\"Spain\"]"
   ]
  },
  {
   "cell_type": "code",
   "execution_count": 400,
   "id": "1af0d4e5",
   "metadata": {},
   "outputs": [],
   "source": [
    "e=np.array(df_spainhome[\"result_home\"].value_counts())\n",
    "e1=e.sum()\n",
    "ew=e[0]/e1\n",
    "el=e[1]/e1\n",
    "ed=e[2]/e1"
   ]
  },
  {
   "cell_type": "code",
   "execution_count": 401,
   "id": "6fefc875",
   "metadata": {},
   "outputs": [
    {
     "data": {
      "text/plain": [
       "(0.7381608053236275, 0.8705348468502856)"
      ]
     },
     "execution_count": 401,
     "metadata": {},
     "output_type": "execute_result"
    }
   ],
   "source": [
    "CI_spain=proportion_confint(count=e[0],nobs=e1,alpha=(1-.95))\n",
    "CI_spain"
   ]
  },
  {
   "cell_type": "markdown",
   "id": "07cfed75",
   "metadata": {},
   "source": [
    "Probabibilty of wining, losing and drawing for friendly home matches."
   ]
  },
  {
   "cell_type": "code",
   "execution_count": 402,
   "id": "c7a906a6",
   "metadata": {},
   "outputs": [
    {
     "data": {
      "text/html": [
       "<div>\n",
       "<style scoped>\n",
       "    .dataframe tbody tr th:only-of-type {\n",
       "        vertical-align: middle;\n",
       "    }\n",
       "\n",
       "    .dataframe tbody tr th {\n",
       "        vertical-align: top;\n",
       "    }\n",
       "\n",
       "    .dataframe thead th {\n",
       "        text-align: right;\n",
       "    }\n",
       "</style>\n",
       "<table border=\"1\" class=\"dataframe\">\n",
       "  <thead>\n",
       "    <tr style=\"text-align: right;\">\n",
       "      <th></th>\n",
       "      <th>Country</th>\n",
       "      <th>Win</th>\n",
       "      <th>Lose</th>\n",
       "      <th>draw</th>\n",
       "    </tr>\n",
       "  </thead>\n",
       "  <tbody>\n",
       "    <tr>\n",
       "      <th>0</th>\n",
       "      <td>France</td>\n",
       "      <td>0.520548</td>\n",
       "      <td>0.267123</td>\n",
       "      <td>0.212329</td>\n",
       "    </tr>\n",
       "    <tr>\n",
       "      <th>1</th>\n",
       "      <td>England</td>\n",
       "      <td>0.682657</td>\n",
       "      <td>0.199262</td>\n",
       "      <td>0.118081</td>\n",
       "    </tr>\n",
       "    <tr>\n",
       "      <th>2</th>\n",
       "      <td>Italy</td>\n",
       "      <td>0.717647</td>\n",
       "      <td>0.235294</td>\n",
       "      <td>0.047059</td>\n",
       "    </tr>\n",
       "    <tr>\n",
       "      <th>3</th>\n",
       "      <td>Germany</td>\n",
       "      <td>0.735294</td>\n",
       "      <td>0.183824</td>\n",
       "      <td>0.080882</td>\n",
       "    </tr>\n",
       "    <tr>\n",
       "      <th>4</th>\n",
       "      <td>Spain</td>\n",
       "      <td>0.804348</td>\n",
       "      <td>0.144928</td>\n",
       "      <td>0.050725</td>\n",
       "    </tr>\n",
       "  </tbody>\n",
       "</table>\n",
       "</div>"
      ],
      "text/plain": [
       "   Country       Win      Lose      draw\n",
       "0   France  0.520548  0.267123  0.212329\n",
       "1  England  0.682657  0.199262  0.118081\n",
       "2    Italy  0.717647  0.235294  0.047059\n",
       "3  Germany  0.735294  0.183824  0.080882\n",
       "4    Spain  0.804348  0.144928  0.050725"
      ]
     },
     "execution_count": 402,
     "metadata": {},
     "output_type": "execute_result"
    }
   ],
   "source": [
    "prob_friendlyhome={}\n",
    "prob_friendlyhome[\"Country\"]=[\"France\",\"England\",\"Italy\",\"Germany\",\"Spain\"]\n",
    "prob_friendlyhome[\"Win\"]=[aw,bw,cw,dw,ew]                   \n",
    "prob_friendlyhome[\"Lose\"]=[al,bl,cl,dl,el]\n",
    "prob_friendlyhome[\"draw\"]=[ad,bd,cd,dd,ed]\n",
    "pd.fh=pd.DataFrame(prob_friendlyhome)\n",
    "pd.fh"
   ]
  },
  {
   "cell_type": "markdown",
   "id": "db0bab60",
   "metadata": {},
   "source": [
    "This data fram shows the probability of wining and losing friendly matches played on home ground for the five countries of France, Engalnd, Italy, Germany, and Spain.It shows that all five countries have a majority chance of wining, with Italy having the largest probbility follwed by Spain, then England and then Germany with a slight diffrence between the four.Finally France which had the lowest probobility of wining with a large diffrence between it and Germany. While all countries have a larger of probibilty of losing than drawing with the exception of germany who has an almost equal probiblty of drawing and losing. On the other hand, Italy  has the lowest probibilty of drawing."
   ]
  },
  {
   "cell_type": "markdown",
   "id": "f2b803f2",
   "metadata": {},
   "source": [
    "Drawing the probiblity of wining freindly home matches confidence interval "
   ]
  },
  {
   "cell_type": "code",
   "execution_count": 403,
   "id": "e6a2b19c",
   "metadata": {},
   "outputs": [
    {
     "data": {
      "text/html": [
       "<div>\n",
       "<style scoped>\n",
       "    .dataframe tbody tr th:only-of-type {\n",
       "        vertical-align: middle;\n",
       "    }\n",
       "\n",
       "    .dataframe tbody tr th {\n",
       "        vertical-align: top;\n",
       "    }\n",
       "\n",
       "    .dataframe thead th {\n",
       "        text-align: right;\n",
       "    }\n",
       "</style>\n",
       "<table border=\"1\" class=\"dataframe\">\n",
       "  <thead>\n",
       "    <tr style=\"text-align: right;\">\n",
       "      <th></th>\n",
       "      <th>country</th>\n",
       "      <th>lb</th>\n",
       "      <th>ub</th>\n",
       "    </tr>\n",
       "  </thead>\n",
       "  <tbody>\n",
       "    <tr>\n",
       "      <th>0</th>\n",
       "      <td>England</td>\n",
       "      <td>0.627242</td>\n",
       "      <td>0.738072</td>\n",
       "    </tr>\n",
       "    <tr>\n",
       "      <th>1</th>\n",
       "      <td>France</td>\n",
       "      <td>0.463247</td>\n",
       "      <td>0.577849</td>\n",
       "    </tr>\n",
       "    <tr>\n",
       "      <th>2</th>\n",
       "      <td>Germany</td>\n",
       "      <td>0.661148</td>\n",
       "      <td>0.809441</td>\n",
       "    </tr>\n",
       "    <tr>\n",
       "      <th>3</th>\n",
       "      <td>Italy</td>\n",
       "      <td>0.649980</td>\n",
       "      <td>0.785314</td>\n",
       "    </tr>\n",
       "    <tr>\n",
       "      <th>4</th>\n",
       "      <td>Spain</td>\n",
       "      <td>0.738161</td>\n",
       "      <td>0.870535</td>\n",
       "    </tr>\n",
       "  </tbody>\n",
       "</table>\n",
       "</div>"
      ],
      "text/plain": [
       "   country        lb        ub\n",
       "0  England  0.627242  0.738072\n",
       "1   France  0.463247  0.577849\n",
       "2  Germany  0.661148  0.809441\n",
       "3    Italy  0.649980  0.785314\n",
       "4    Spain  0.738161  0.870535"
      ]
     },
     "execution_count": 403,
     "metadata": {},
     "output_type": "execute_result"
    }
   ],
   "source": [
    "CI_home={}\n",
    "CI_home[\"country\"]=[\"England\",\"France\",\"Germany\",\"Italy\",\"Spain\"]\n",
    "CI_home[\"lb\"]=[CI_england[0],CI_france[0],CI_germany[0],CI_italy[0],CI_spain[0]]\n",
    "CI_home[\"ub\"]=[CI_england[1],CI_france[1],CI_germany[1],CI_italy[1],CI_spain[1]]\n",
    "df_CIhome=pd.DataFrame(CI_home)\n",
    "df_CIhome"
   ]
  },
  {
   "cell_type": "code",
   "execution_count": 404,
   "id": "af487a63",
   "metadata": {
    "scrolled": true
   },
   "outputs": [
    {
     "data": {
      "text/plain": [
       "([<matplotlib.axis.YTick at 0x1b329be4430>,\n",
       "  <matplotlib.axis.YTick at 0x1b329bdec70>,\n",
       "  <matplotlib.axis.YTick at 0x1b329bd8fd0>,\n",
       "  <matplotlib.axis.YTick at 0x1b329c11be0>,\n",
       "  <matplotlib.axis.YTick at 0x1b329c19160>],\n",
       " [Text(0, 0, 'England'),\n",
       "  Text(0, 1, 'France'),\n",
       "  Text(0, 2, 'Germany'),\n",
       "  Text(0, 3, 'Italy'),\n",
       "  Text(0, 4, 'Spain')])"
      ]
     },
     "execution_count": 404,
     "metadata": {},
     "output_type": "execute_result"
    },
    {
     "data": {
      "image/png": "[encoded data removed]",
      "text/plain": [
       "<Figure size 432x288 with 1 Axes>"
      ]
     },
     "metadata": {
      "needs_background": "light"
     },
     "output_type": "display_data"
    }
   ],
   "source": [
    "for lb,ub,y in zip(df_CIhome['lb'],df_CIhome['ub'],range(len(df_CIhome))):\n",
    "    plt.plot((lb,ub),(y,y),'ro-')\n",
    "plt.yticks(range(len(df_CIhome)),list(df_CIhome['country']))"
   ]
  },
  {
   "cell_type": "markdown",
   "id": "91a78d8f",
   "metadata": {},
   "source": [
    "There is no signifcant diffrence between the countries chances of wining home matches, \n",
    "with all 5 countries have a higher than 50 precent chance of wining home matches. \n",
    "Spain has the highes probility of wining, and France has the lowest"
   ]
  },
  {
   "cell_type": "markdown",
   "id": "62f72363",
   "metadata": {},
   "source": [
    "calculating the probability of losing friendly home matches confidence interval."
   ]
  },
  {
   "cell_type": "code",
   "execution_count": 405,
   "id": "a6d3613a",
   "metadata": {
    "scrolled": true
   },
   "outputs": [
    {
     "data": {
      "text/plain": [
       "(0.21637422773763815, 0.31787234760482763)"
      ]
     },
     "execution_count": 405,
     "metadata": {},
     "output_type": "execute_result"
    }
   ],
   "source": [
    "CI_francel=proportion_confint(count=a[1],nobs=a1,alpha=(1-.95))\n",
    "CI_francel"
   ]
  },
  {
   "cell_type": "code",
   "execution_count": 406,
   "id": "681dc311",
   "metadata": {},
   "outputs": [
    {
     "data": {
      "text/plain": [
       "(0.15170428620595935, 0.24681969903389303)"
      ]
     },
     "execution_count": 406,
     "metadata": {},
     "output_type": "execute_result"
    }
   ],
   "source": [
    "CI_englandl=proportion_confint(count=b[1],nobs=b1,alpha=(1-.95))\n",
    "CI_englandl"
   ]
  },
  {
   "cell_type": "code",
   "execution_count": 407,
   "id": "eed2dfba",
   "metadata": {},
   "outputs": [
    {
     "data": {
      "text/plain": [
       "(0.17152999612812384, 0.29905823916599383)"
      ]
     },
     "execution_count": 407,
     "metadata": {},
     "output_type": "execute_result"
    }
   ],
   "source": [
    "CI_italyl=proportion_confint(count=c[1],nobs=c1,alpha=(1-.95))\n",
    "CI_italyl"
   ]
  },
  {
   "cell_type": "code",
   "execution_count": 408,
   "id": "0ef7e931",
   "metadata": {},
   "outputs": [
    {
     "data": {
      "text/plain": [
       "(0.11872499335806701, 0.24892206546546242)"
      ]
     },
     "execution_count": 408,
     "metadata": {},
     "output_type": "execute_result"
    }
   ],
   "source": [
    "CI_germanyl=proportion_confint(count=d[1],nobs=d1,alpha=(1-.95))\n",
    "CI_germanyl"
   ]
  },
  {
   "cell_type": "code",
   "execution_count": 409,
   "id": "2b084464",
   "metadata": {},
   "outputs": [
    {
     "data": {
      "text/plain": [
       "(0.0861940928755778, 0.20366097958819032)"
      ]
     },
     "execution_count": 409,
     "metadata": {},
     "output_type": "execute_result"
    }
   ],
   "source": [
    "CI_spainl=proportion_confint(count=e[1],nobs=e1,alpha=(1-.95))\n",
    "CI_spainl"
   ]
  },
  {
   "cell_type": "markdown",
   "id": "e04dfc77",
   "metadata": {},
   "source": [
    "Drawing the probaility of losing friendly home games confidence intervals "
   ]
  },
  {
   "cell_type": "code",
   "execution_count": 410,
   "id": "44d27405",
   "metadata": {},
   "outputs": [
    {
     "data": {
      "text/html": [
       "<div>\n",
       "<style scoped>\n",
       "    .dataframe tbody tr th:only-of-type {\n",
       "        vertical-align: middle;\n",
       "    }\n",
       "\n",
       "    .dataframe tbody tr th {\n",
       "        vertical-align: top;\n",
       "    }\n",
       "\n",
       "    .dataframe thead th {\n",
       "        text-align: right;\n",
       "    }\n",
       "</style>\n",
       "<table border=\"1\" class=\"dataframe\">\n",
       "  <thead>\n",
       "    <tr style=\"text-align: right;\">\n",
       "      <th></th>\n",
       "      <th>country</th>\n",
       "      <th>lb</th>\n",
       "      <th>ub</th>\n",
       "    </tr>\n",
       "  </thead>\n",
       "  <tbody>\n",
       "    <tr>\n",
       "      <th>0</th>\n",
       "      <td>England</td>\n",
       "      <td>0.151704</td>\n",
       "      <td>0.246820</td>\n",
       "    </tr>\n",
       "    <tr>\n",
       "      <th>1</th>\n",
       "      <td>France</td>\n",
       "      <td>0.216374</td>\n",
       "      <td>0.317872</td>\n",
       "    </tr>\n",
       "    <tr>\n",
       "      <th>2</th>\n",
       "      <td>Germany</td>\n",
       "      <td>0.118725</td>\n",
       "      <td>0.248922</td>\n",
       "    </tr>\n",
       "    <tr>\n",
       "      <th>3</th>\n",
       "      <td>Italy</td>\n",
       "      <td>0.171530</td>\n",
       "      <td>0.299058</td>\n",
       "    </tr>\n",
       "    <tr>\n",
       "      <th>4</th>\n",
       "      <td>Spain</td>\n",
       "      <td>0.086194</td>\n",
       "      <td>0.203661</td>\n",
       "    </tr>\n",
       "  </tbody>\n",
       "</table>\n",
       "</div>"
      ],
      "text/plain": [
       "   country        lb        ub\n",
       "0  England  0.151704  0.246820\n",
       "1   France  0.216374  0.317872\n",
       "2  Germany  0.118725  0.248922\n",
       "3    Italy  0.171530  0.299058\n",
       "4    Spain  0.086194  0.203661"
      ]
     },
     "execution_count": 410,
     "metadata": {},
     "output_type": "execute_result"
    }
   ],
   "source": [
    "CI_homel={}\n",
    "CI_homel[\"country\"]=[\"England\",\"France\",\"Germany\",\"Italy\",\"Spain\"]\n",
    "CI_homel[\"lb\"]=[CI_englandl[0],CI_francel[0],CI_germanyl[0],CI_italyl[0],CI_spainl[0]]\n",
    "CI_homel[\"ub\"]=[CI_englandl[1],CI_francel[1],CI_germanyl[1],CI_italyl[1],CI_spainl[1]]\n",
    "df_CIhomel=pd.DataFrame(CI_homel)\n",
    "df_CIhomel"
   ]
  },
  {
   "cell_type": "code",
   "execution_count": 411,
   "id": "3162ff28",
   "metadata": {
    "scrolled": true
   },
   "outputs": [
    {
     "data": {
      "text/plain": [
       "([<matplotlib.axis.YTick at 0x1b324181820>,\n",
       "  <matplotlib.axis.YTick at 0x1b32428b7c0>,\n",
       "  <matplotlib.axis.YTick at 0x1b329c9aa30>,\n",
       "  <matplotlib.axis.YTick at 0x1b329cc6250>,\n",
       "  <matplotlib.axis.YTick at 0x1b329cc69a0>],\n",
       " [Text(0, 0, 'England'),\n",
       "  Text(0, 1, 'France'),\n",
       "  Text(0, 2, 'Germany'),\n",
       "  Text(0, 3, 'Italy'),\n",
       "  Text(0, 4, 'Spain')])"
      ]
     },
     "execution_count": 411,
     "metadata": {},
     "output_type": "execute_result"
    },
    {
     "data": {
      "image/png": "[encoded data removed]",
      "text/plain": [
       "<Figure size 432x288 with 1 Axes>"
      ]
     },
     "metadata": {
      "needs_background": "light"
     },
     "output_type": "display_data"
    }
   ],
   "source": [
    "for lb,ub,y in zip(df_CIhomel['lb'],df_CIhomel['ub'],range(len(df_CIhomel))):\n",
    "    plt.plot((lb,ub),(y,y),'ro-')\n",
    "plt.yticks(range(len(df_CIhomel)),list(df_CIhomel['country']))"
   ]
  },
  {
   "cell_type": "markdown",
   "id": "0bdece7e",
   "metadata": {},
   "source": [
    "As seen in the graph all of the countries have a low probiblity of losing home matches, with spain having the lowest probility of losing. There is no signifcant diffrence between the countries, and italy having the highest probility of lose."
   ]
  },
  {
   "cell_type": "markdown",
   "id": "0823c5f5",
   "metadata": {},
   "source": [
    "According to the two graphs above, spain has the best preformnce in freindly games played in their home satdium, followed by England then Germany and then Italy with France having the worst preformence of the five "
   ]
  },
  {
   "cell_type": "markdown",
   "id": "9b68ba94",
   "metadata": {},
   "source": [
    "2:calculating probility of wining, losing and drawing neutral games, and calculating the wining confidence interval."
   ]
  },
  {
   "cell_type": "code",
   "execution_count": 412,
   "id": "4598df26",
   "metadata": {
    "scrolled": true
   },
   "outputs": [
    {
     "data": {
      "text/html": [
       "<div>\n",
       "<style scoped>\n",
       "    .dataframe tbody tr th:only-of-type {\n",
       "        vertical-align: middle;\n",
       "    }\n",
       "\n",
       "    .dataframe tbody tr th {\n",
       "        vertical-align: top;\n",
       "    }\n",
       "\n",
       "    .dataframe thead th {\n",
       "        text-align: right;\n",
       "    }\n",
       "</style>\n",
       "<table border=\"1\" class=\"dataframe\">\n",
       "  <thead>\n",
       "    <tr style=\"text-align: right;\">\n",
       "      <th></th>\n",
       "      <th>date</th>\n",
       "      <th>home_team</th>\n",
       "      <th>away_team</th>\n",
       "      <th>home_score</th>\n",
       "      <th>away_score</th>\n",
       "      <th>tournament</th>\n",
       "      <th>city</th>\n",
       "      <th>country</th>\n",
       "      <th>neutral</th>\n",
       "      <th>home_match</th>\n",
       "      <th>away_match</th>\n",
       "      <th>result_home</th>\n",
       "      <th>result_away</th>\n",
       "    </tr>\n",
       "  </thead>\n",
       "  <tbody>\n",
       "    <tr>\n",
       "      <th>267</th>\n",
       "      <td>5/29/1910</td>\n",
       "      <td>Chile</td>\n",
       "      <td>Uruguay</td>\n",
       "      <td>0</td>\n",
       "      <td>3</td>\n",
       "      <td>Friendly</td>\n",
       "      <td>Buenos Aires</td>\n",
       "      <td>Argentina</td>\n",
       "      <td>True</td>\n",
       "      <td>False</td>\n",
       "      <td>False</td>\n",
       "      <td>lose</td>\n",
       "      <td>win</td>\n",
       "    </tr>\n",
       "    <tr>\n",
       "      <th>331</th>\n",
       "      <td>6/30/1912</td>\n",
       "      <td>Austria</td>\n",
       "      <td>Italy</td>\n",
       "      <td>5</td>\n",
       "      <td>1</td>\n",
       "      <td>Friendly</td>\n",
       "      <td>Stockholm</td>\n",
       "      <td>Sweden</td>\n",
       "      <td>True</td>\n",
       "      <td>False</td>\n",
       "      <td>False</td>\n",
       "      <td>win</td>\n",
       "      <td>lose</td>\n",
       "    </tr>\n",
       "    <tr>\n",
       "      <th>332</th>\n",
       "      <td>7/1/1912</td>\n",
       "      <td>Austria</td>\n",
       "      <td>Norway</td>\n",
       "      <td>1</td>\n",
       "      <td>1</td>\n",
       "      <td>Friendly</td>\n",
       "      <td>Stockholm</td>\n",
       "      <td>Sweden</td>\n",
       "      <td>True</td>\n",
       "      <td>False</td>\n",
       "      <td>False</td>\n",
       "      <td>draw</td>\n",
       "      <td>draw</td>\n",
       "    </tr>\n",
       "    <tr>\n",
       "      <th>333</th>\n",
       "      <td>7/3/1912</td>\n",
       "      <td>Hungary</td>\n",
       "      <td>Austria</td>\n",
       "      <td>3</td>\n",
       "      <td>0</td>\n",
       "      <td>Friendly</td>\n",
       "      <td>Stockholm</td>\n",
       "      <td>Sweden</td>\n",
       "      <td>True</td>\n",
       "      <td>False</td>\n",
       "      <td>False</td>\n",
       "      <td>win</td>\n",
       "      <td>lose</td>\n",
       "    </tr>\n",
       "    <tr>\n",
       "      <th>334</th>\n",
       "      <td>7/3/1912</td>\n",
       "      <td>Norway</td>\n",
       "      <td>Russia</td>\n",
       "      <td>2</td>\n",
       "      <td>1</td>\n",
       "      <td>Friendly</td>\n",
       "      <td>Stockholm</td>\n",
       "      <td>Sweden</td>\n",
       "      <td>True</td>\n",
       "      <td>False</td>\n",
       "      <td>False</td>\n",
       "      <td>win</td>\n",
       "      <td>lose</td>\n",
       "    </tr>\n",
       "    <tr>\n",
       "      <th>...</th>\n",
       "      <td>...</td>\n",
       "      <td>...</td>\n",
       "      <td>...</td>\n",
       "      <td>...</td>\n",
       "      <td>...</td>\n",
       "      <td>...</td>\n",
       "      <td>...</td>\n",
       "      <td>...</td>\n",
       "      <td>...</td>\n",
       "      <td>...</td>\n",
       "      <td>...</td>\n",
       "      <td>...</td>\n",
       "      <td>...</td>\n",
       "    </tr>\n",
       "    <tr>\n",
       "      <th>43135</th>\n",
       "      <td>1/16/2022</td>\n",
       "      <td>Colombia</td>\n",
       "      <td>Honduras</td>\n",
       "      <td>2</td>\n",
       "      <td>1</td>\n",
       "      <td>Friendly</td>\n",
       "      <td>Fort Lauderdale</td>\n",
       "      <td>United States</td>\n",
       "      <td>True</td>\n",
       "      <td>False</td>\n",
       "      <td>False</td>\n",
       "      <td>win</td>\n",
       "      <td>lose</td>\n",
       "    </tr>\n",
       "    <tr>\n",
       "      <th>43143</th>\n",
       "      <td>1/18/2022</td>\n",
       "      <td>Moldova</td>\n",
       "      <td>Uganda</td>\n",
       "      <td>2</td>\n",
       "      <td>3</td>\n",
       "      <td>Friendly</td>\n",
       "      <td>Belek</td>\n",
       "      <td>Turkey</td>\n",
       "      <td>True</td>\n",
       "      <td>False</td>\n",
       "      <td>False</td>\n",
       "      <td>lose</td>\n",
       "      <td>win</td>\n",
       "    </tr>\n",
       "    <tr>\n",
       "      <th>43150</th>\n",
       "      <td>1/20/2022</td>\n",
       "      <td>South Korea</td>\n",
       "      <td>Moldova</td>\n",
       "      <td>4</td>\n",
       "      <td>0</td>\n",
       "      <td>Friendly</td>\n",
       "      <td>Antalya</td>\n",
       "      <td>Turkey</td>\n",
       "      <td>True</td>\n",
       "      <td>False</td>\n",
       "      <td>False</td>\n",
       "      <td>win</td>\n",
       "      <td>lose</td>\n",
       "    </tr>\n",
       "    <tr>\n",
       "      <th>43168</th>\n",
       "      <td>1/27/2022</td>\n",
       "      <td>Uzbekistan</td>\n",
       "      <td>South Sudan</td>\n",
       "      <td>3</td>\n",
       "      <td>0</td>\n",
       "      <td>Friendly</td>\n",
       "      <td>Dubai</td>\n",
       "      <td>United Arab Emirates</td>\n",
       "      <td>True</td>\n",
       "      <td>False</td>\n",
       "      <td>False</td>\n",
       "      <td>win</td>\n",
       "      <td>lose</td>\n",
       "    </tr>\n",
       "    <tr>\n",
       "      <th>43169</th>\n",
       "      <td>1/28/2022</td>\n",
       "      <td>Jordan</td>\n",
       "      <td>New Zealand</td>\n",
       "      <td>3</td>\n",
       "      <td>1</td>\n",
       "      <td>Friendly</td>\n",
       "      <td>Abu Dhabi</td>\n",
       "      <td>United Arab Emirates</td>\n",
       "      <td>True</td>\n",
       "      <td>False</td>\n",
       "      <td>False</td>\n",
       "      <td>win</td>\n",
       "      <td>lose</td>\n",
       "    </tr>\n",
       "  </tbody>\n",
       "</table>\n",
       "<p>2301 rows × 13 columns</p>\n",
       "</div>"
      ],
      "text/plain": [
       "            date    home_team    away_team  home_score  away_score tournament  \\\n",
       "267    5/29/1910        Chile      Uruguay           0           3   Friendly   \n",
       "331    6/30/1912      Austria        Italy           5           1   Friendly   \n",
       "332     7/1/1912      Austria       Norway           1           1   Friendly   \n",
       "333     7/3/1912      Hungary      Austria           3           0   Friendly   \n",
       "334     7/3/1912       Norway       Russia           2           1   Friendly   \n",
       "...          ...          ...          ...         ...         ...        ...   \n",
       "43135  1/16/2022     Colombia     Honduras           2           1   Friendly   \n",
       "43143  1/18/2022      Moldova       Uganda           2           3   Friendly   \n",
       "43150  1/20/2022  South Korea      Moldova           4           0   Friendly   \n",
       "43168  1/27/2022   Uzbekistan  South Sudan           3           0   Friendly   \n",
       "43169  1/28/2022       Jordan  New Zealand           3           1   Friendly   \n",
       "\n",
       "                  city               country  neutral home_match away_match  \\\n",
       "267       Buenos Aires             Argentina     True      False      False   \n",
       "331          Stockholm                Sweden     True      False      False   \n",
       "332          Stockholm                Sweden     True      False      False   \n",
       "333          Stockholm                Sweden     True      False      False   \n",
       "334          Stockholm                Sweden     True      False      False   \n",
       "...                ...                   ...      ...        ...        ...   \n",
       "43135  Fort Lauderdale         United States     True      False      False   \n",
       "43143            Belek                Turkey     True      False      False   \n",
       "43150          Antalya                Turkey     True      False      False   \n",
       "43168            Dubai  United Arab Emirates     True      False      False   \n",
       "43169        Abu Dhabi  United Arab Emirates     True      False      False   \n",
       "\n",
       "      result_home result_away  \n",
       "267          lose         win  \n",
       "331           win        lose  \n",
       "332          draw        draw  \n",
       "333           win        lose  \n",
       "334           win        lose  \n",
       "...           ...         ...  \n",
       "43135         win        lose  \n",
       "43143        lose         win  \n",
       "43150         win        lose  \n",
       "43168         win        lose  \n",
       "43169         win        lose  \n",
       "\n",
       "[2301 rows x 13 columns]"
      ]
     },
     "execution_count": 412,
     "metadata": {},
     "output_type": "execute_result"
    }
   ],
   "source": [
    "df_f=df[df[\"tournament\"]==\"Friendly\"]\n",
    "df_neutral=df_f[df_f[\"neutral\"]==True]\n",
    "df_neutral"
   ]
  },
  {
   "cell_type": "code",
   "execution_count": 413,
   "id": "ce946e9d",
   "metadata": {},
   "outputs": [
    {
     "data": {
      "text/plain": [
       "(162, 13)"
      ]
     },
     "execution_count": 413,
     "metadata": {},
     "output_type": "execute_result"
    }
   ],
   "source": [
    "df_franceneu=df_neutral[df_neutral[\"country\"]==\"France\"]\n",
    "df_franceneu.shape"
   ]
  },
  {
   "cell_type": "code",
   "execution_count": 414,
   "id": "3bf65c86",
   "metadata": {},
   "outputs": [],
   "source": [
    "a=np.array(df_franceneu[\"result_home\"].value_counts())\n",
    "a1=a.sum()\n",
    "awn=a[0]/a1\n",
    "aln=a[1]/a1\n",
    "adn=a[2]/a1\n"
   ]
  },
  {
   "cell_type": "code",
   "execution_count": 415,
   "id": "fbfde548",
   "metadata": {},
   "outputs": [
    {
     "data": {
      "text/plain": [
       "(0.3437565232589405, 0.4957496495805656)"
      ]
     },
     "execution_count": 415,
     "metadata": {},
     "output_type": "execute_result"
    }
   ],
   "source": [
    "CI_france=proportion_confint(count=a[0],nobs=a1,alpha=(1-.95))\n",
    "CI_france"
   ]
  },
  {
   "cell_type": "code",
   "execution_count": 416,
   "id": "ec99419d",
   "metadata": {},
   "outputs": [
    {
     "data": {
      "text/plain": [
       "(77, 13)"
      ]
     },
     "execution_count": 416,
     "metadata": {},
     "output_type": "execute_result"
    }
   ],
   "source": [
    "df_englandneu=df_neutral[df_neutral[\"country\"]==\"England\"]\n",
    "df_englandneu.shape\n"
   ]
  },
  {
   "cell_type": "code",
   "execution_count": 417,
   "id": "fb89ba64",
   "metadata": {},
   "outputs": [],
   "source": [
    "b=np.array(df_englandneu[\"result_home\"].value_counts())\n",
    "b1=b.sum()\n",
    "bwn=b[0]/b1\n",
    "bln=b[1]/b1\n",
    "bdn=b[2]/b1"
   ]
  },
  {
   "cell_type": "code",
   "execution_count": 418,
   "id": "9d89860f",
   "metadata": {},
   "outputs": [
    {
     "data": {
      "text/plain": [
       "(0.31803757494100876, 0.5391052822018484)"
      ]
     },
     "execution_count": 418,
     "metadata": {},
     "output_type": "execute_result"
    }
   ],
   "source": [
    "CI_england=proportion_confint(count=b[0],nobs=b1,alpha=(1-.95))\n",
    "CI_england"
   ]
  },
  {
   "cell_type": "code",
   "execution_count": 419,
   "id": "555a98f6",
   "metadata": {},
   "outputs": [
    {
     "data": {
      "text/plain": [
       "(20, 13)"
      ]
     },
     "execution_count": 419,
     "metadata": {},
     "output_type": "execute_result"
    }
   ],
   "source": [
    "df_italyneu=df_neutral[df_neutral[\"country\"]==\"Italy\"]\n",
    "df_italyneu.shape"
   ]
  },
  {
   "cell_type": "code",
   "execution_count": 420,
   "id": "cb6bdd98",
   "metadata": {},
   "outputs": [],
   "source": [
    "c=np.array(df_italyneu[\"result_home\"].value_counts())\n",
    "c1=c.sum()\n",
    "cwn=c[0]/c1\n",
    "cln=c[1]/c1\n",
    "cdn=c[2]/c1"
   ]
  },
  {
   "cell_type": "code",
   "execution_count": 421,
   "id": "81b4ff8d",
   "metadata": {},
   "outputs": [
    {
     "data": {
      "text/plain": [
       "(0.18529670275394117, 0.6147032972460589)"
      ]
     },
     "execution_count": 421,
     "metadata": {},
     "output_type": "execute_result"
    }
   ],
   "source": [
    "CI_italy=proportion_confint(count=c[0],nobs=c1,alpha=(1-.95))\n",
    "CI_italy"
   ]
  },
  {
   "cell_type": "code",
   "execution_count": 422,
   "id": "0b28364f",
   "metadata": {},
   "outputs": [],
   "source": [
    "df_germanyneu=df_neutral[df_neutral[\"country\"]==\"Germany\"]"
   ]
  },
  {
   "cell_type": "code",
   "execution_count": 423,
   "id": "47115eee",
   "metadata": {},
   "outputs": [],
   "source": [
    "d=np.array(df_germanyneu[\"result_home\"].value_counts())\n",
    "d1=d.sum()\n",
    "dwn=d[0]/d1\n",
    "dln=d[1]/d1\n",
    "ddn=d[2]/d1"
   ]
  },
  {
   "cell_type": "code",
   "execution_count": 424,
   "id": "87468a93",
   "metadata": {},
   "outputs": [
    {
     "data": {
      "text/plain": [
       "(0.27115231267547785, 0.5660569896501035)"
      ]
     },
     "execution_count": 424,
     "metadata": {},
     "output_type": "execute_result"
    }
   ],
   "source": [
    "CI_germany=proportion_confint(count=d[0],nobs=d1,alpha=(1-.95))\n",
    "CI_germany"
   ]
  },
  {
   "cell_type": "code",
   "execution_count": 425,
   "id": "92d4285c",
   "metadata": {},
   "outputs": [],
   "source": [
    "df_spainneu=df_neutral[df_neutral[\"country\"]==\"Spain\"]\n"
   ]
  },
  {
   "cell_type": "code",
   "execution_count": 426,
   "id": "cc9d5fd6",
   "metadata": {},
   "outputs": [],
   "source": [
    "e=np.array(df_spainneu[\"result_home\"].value_counts())\n",
    "e1=e.sum()\n",
    "ewn=e[0]/e1\n",
    "eln=e[1]/e1\n",
    "edn=e[2]/e1\n"
   ]
  },
  {
   "cell_type": "code",
   "execution_count": 427,
   "id": "21dc2a75",
   "metadata": {},
   "outputs": [
    {
     "data": {
      "text/plain": [
       "(0.28641917703539904, 0.5332529541121419)"
      ]
     },
     "execution_count": 427,
     "metadata": {},
     "output_type": "execute_result"
    }
   ],
   "source": [
    "CI_spain=proportion_confint(count=e[0],nobs=e1,alpha=(1-.95))\n",
    "CI_spain"
   ]
  },
  {
   "cell_type": "markdown",
   "id": "dd092813",
   "metadata": {},
   "source": [
    "The probability of wining, losing and drawing in freindly matches played in neutral ground."
   ]
  },
  {
   "cell_type": "code",
   "execution_count": 428,
   "id": "e9894e97",
   "metadata": {},
   "outputs": [
    {
     "data": {
      "text/html": [
       "<div>\n",
       "<style scoped>\n",
       "    .dataframe tbody tr th:only-of-type {\n",
       "        vertical-align: middle;\n",
       "    }\n",
       "\n",
       "    .dataframe tbody tr th {\n",
       "        vertical-align: top;\n",
       "    }\n",
       "\n",
       "    .dataframe thead th {\n",
       "        text-align: right;\n",
       "    }\n",
       "</style>\n",
       "<table border=\"1\" class=\"dataframe\">\n",
       "  <thead>\n",
       "    <tr style=\"text-align: right;\">\n",
       "      <th></th>\n",
       "      <th>Country</th>\n",
       "      <th>Win</th>\n",
       "      <th>Lose</th>\n",
       "      <th>draw</th>\n",
       "    </tr>\n",
       "  </thead>\n",
       "  <tbody>\n",
       "    <tr>\n",
       "      <th>0</th>\n",
       "      <td>France</td>\n",
       "      <td>0.419753</td>\n",
       "      <td>0.308642</td>\n",
       "      <td>0.271605</td>\n",
       "    </tr>\n",
       "    <tr>\n",
       "      <th>1</th>\n",
       "      <td>England</td>\n",
       "      <td>0.428571</td>\n",
       "      <td>0.285714</td>\n",
       "      <td>0.285714</td>\n",
       "    </tr>\n",
       "    <tr>\n",
       "      <th>2</th>\n",
       "      <td>Italy</td>\n",
       "      <td>0.400000</td>\n",
       "      <td>0.300000</td>\n",
       "      <td>0.300000</td>\n",
       "    </tr>\n",
       "    <tr>\n",
       "      <th>3</th>\n",
       "      <td>Germany</td>\n",
       "      <td>0.418605</td>\n",
       "      <td>0.302326</td>\n",
       "      <td>0.279070</td>\n",
       "    </tr>\n",
       "    <tr>\n",
       "      <th>4</th>\n",
       "      <td>Spain</td>\n",
       "      <td>0.409836</td>\n",
       "      <td>0.377049</td>\n",
       "      <td>0.213115</td>\n",
       "    </tr>\n",
       "  </tbody>\n",
       "</table>\n",
       "</div>"
      ],
      "text/plain": [
       "   Country       Win      Lose      draw\n",
       "0   France  0.419753  0.308642  0.271605\n",
       "1  England  0.428571  0.285714  0.285714\n",
       "2    Italy  0.400000  0.300000  0.300000\n",
       "3  Germany  0.418605  0.302326  0.279070\n",
       "4    Spain  0.409836  0.377049  0.213115"
      ]
     },
     "execution_count": 428,
     "metadata": {},
     "output_type": "execute_result"
    }
   ],
   "source": [
    "prob_friendlyneutral={}\n",
    "prob_friendlyneutral[\"Country\"]=[\"France\",\"England\",\"Italy\",\"Germany\",\"Spain\"]\n",
    "prob_friendlyneutral[\"Win\"]=[awn,bwn,cwn,dwn,ewn]                   \n",
    "prob_friendlyneutral[\"Lose\"]=[aln,bln,cln,dln,eln]\n",
    "prob_friendlyneutral[\"draw\"]=[adn,bdn,cdn,ddn,edn]\n",
    "pd.fn=pd.DataFrame(prob_friendlyneutral)\n",
    "pd.fn"
   ]
  },
  {
   "cell_type": "markdown",
   "id": "5334fa11",
   "metadata": {},
   "source": [
    "The follwoing data frame shows the five countries probibility of wining, losing and drawing in friendly matches played in home stadiums. The five countries have an almost equal chance of wining friendly neutral matches, with ENgalnd having the largest if the five, followed by France and Germany with an almost equal chance of wining. Followed by Spain and then Italy with an almost equal chance of wining. Spain also has the largest probility of losing of the five, follwed by the three of Germany, Italy and France with an equal chnace of losing, and finally England with lowest chance of losing. Italy has the highest chance of  drawing, followd by England and Germany and the France and finally Spain."
   ]
  },
  {
   "cell_type": "markdown",
   "id": "3dabb222",
   "metadata": {},
   "source": [
    "The five countires have a smaller chance of wining in neutral stadiums than they do in their home satdiums, with Spain and Italy  having the largest diffrence between probibilty of wining in home and neutral stadiums of the five and France having the lowest. On the other hand, the five countries showed better probabilities of drawing in neutral ground than in home stadiums. \n",
    "This shows that the five countries are affected by wither the match is played in home stadium or not. "
   ]
  },
  {
   "cell_type": "markdown",
   "id": "ec41902e",
   "metadata": {},
   "source": [
    "Drawing the confidence interval of wining friendly home matches"
   ]
  },
  {
   "cell_type": "code",
   "execution_count": 429,
   "id": "02d64b03",
   "metadata": {},
   "outputs": [],
   "source": [
    "CI_neu={}\n",
    "CI_neu[\"country\"]=[\"England\",\"France\",\"Germany\",\"Italy\",\"Spain\"]\n",
    "CI_neu[\"lb\"]=[CI_england[0],CI_france[0],CI_germany[0],CI_italy[0],CI_spain[0]]\n",
    "CI_neu[\"ub\"]=[CI_england[1],CI_france[1],CI_germany[1],CI_italy[1],CI_spain[1]]\n",
    "df_CIneu=pd.DataFrame(CI_neu)"
   ]
  },
  {
   "cell_type": "code",
   "execution_count": 430,
   "id": "ef385e13",
   "metadata": {},
   "outputs": [
    {
     "data": {
      "text/plain": [
       "([<matplotlib.axis.YTick at 0x1b329cf88b0>,\n",
       "  <matplotlib.axis.YTick at 0x1b329cf8130>,\n",
       "  <matplotlib.axis.YTick at 0x1b329cf2130>,\n",
       "  <matplotlib.axis.YTick at 0x1b3299d4250>,\n",
       "  <matplotlib.axis.YTick at 0x1b3299d49a0>],\n",
       " [Text(0, 0, 'England'),\n",
       "  Text(0, 1, 'France'),\n",
       "  Text(0, 2, 'Germany'),\n",
       "  Text(0, 3, 'Italy'),\n",
       "  Text(0, 4, 'Spain')])"
      ]
     },
     "execution_count": 430,
     "metadata": {},
     "output_type": "execute_result"
    },
    {
     "data": {
      "image/png": "[encoded data removed]",
      "text/plain": [
       "<Figure size 432x288 with 1 Axes>"
      ]
     },
     "metadata": {
      "needs_background": "light"
     },
     "output_type": "display_data"
    }
   ],
   "source": [
    "for lb,ub,y in zip(df_CIneu['lb'],df_CIneu['ub'],range(len(df_CIneu))):\n",
    "    plt.plot((lb,ub),(y,y),'ro-')\n",
    "plt.yticks(range(len(df_CIneu)),list(df_CIneu['country']))"
   ]
  },
  {
   "cell_type": "markdown",
   "id": "f0766d32",
   "metadata": {},
   "source": [
    "All four countries have almost equal probilities of wining gmaes on neutral ground, with the exception of italy which has a higher variance in its results in both the upper and lower results."
   ]
  },
  {
   "cell_type": "markdown",
   "id": "0c5c194c",
   "metadata": {},
   "source": [
    "calculating the confidence interval of the probility of losing fiendly matches on neutral stadiums."
   ]
  },
  {
   "cell_type": "code",
   "execution_count": 431,
   "id": "2cb6ac13",
   "metadata": {},
   "outputs": [
    {
     "data": {
      "text/plain": [
       "(0.2375092279597225, 0.3797747226575614)"
      ]
     },
     "execution_count": 431,
     "metadata": {},
     "output_type": "execute_result"
    }
   ],
   "source": [
    "CI_francel=proportion_confint(count=a[1],nobs=a1,alpha=(1-.95))\n",
    "CI_francel"
   ]
  },
  {
   "cell_type": "code",
   "execution_count": 432,
   "id": "357dffe5",
   "metadata": {},
   "outputs": [
    {
     "data": {
      "text/plain": [
       "(0.1848111440453603, 0.3866174273832111)"
      ]
     },
     "execution_count": 432,
     "metadata": {},
     "output_type": "execute_result"
    }
   ],
   "source": [
    "CI_englandl=proportion_confint(count=b[1],nobs=b1,alpha=(1-.95))\n",
    "CI_englandl\n"
   ]
  },
  {
   "cell_type": "code",
   "execution_count": 433,
   "id": "e4b54f1c",
   "metadata": {},
   "outputs": [
    {
     "data": {
      "text/plain": [
       "(0.09916345547364067, 0.5008365445263593)"
      ]
     },
     "execution_count": 433,
     "metadata": {},
     "output_type": "execute_result"
    }
   ],
   "source": [
    "CI_italyl=proportion_confint(count=c[1],nobs=c1,alpha=(1-.95))\n",
    "CI_italyl"
   ]
  },
  {
   "cell_type": "code",
   "execution_count": 434,
   "id": "381e0d72",
   "metadata": {},
   "outputs": [
    {
     "data": {
      "text/plain": [
       "(0.16505492475188838, 0.43959623803880926)"
      ]
     },
     "execution_count": 434,
     "metadata": {},
     "output_type": "execute_result"
    }
   ],
   "source": [
    "CI_germanyl=proportion_confint(count=d[1],nobs=d1,alpha=(1-.95))\n",
    "CI_germanyl"
   ]
  },
  {
   "cell_type": "code",
   "execution_count": 435,
   "id": "86acb1b3",
   "metadata": {},
   "outputs": [
    {
     "data": {
      "text/plain": [
       "(0.25542804455024765, 0.49867031610549)"
      ]
     },
     "execution_count": 435,
     "metadata": {},
     "output_type": "execute_result"
    }
   ],
   "source": [
    "CI_spainl=proportion_confint(count=e[1],nobs=e1,alpha=(1-.95))\n",
    "CI_spainl"
   ]
  },
  {
   "cell_type": "markdown",
   "id": "350c066d",
   "metadata": {},
   "source": [
    "Drawing the confidence interval of the probility of losing fiendly matches on neutral stadiums."
   ]
  },
  {
   "cell_type": "code",
   "execution_count": 436,
   "id": "b1d85f70",
   "metadata": {},
   "outputs": [],
   "source": [
    "CI_neul={}\n",
    "CI_neul[\"country\"]=[\"England\",\"France\",\"Germany\",\"Italy\",\"Spain\"]\n",
    "CI_neul[\"lb\"]=[CI_englandl[0],CI_francel[0],CI_germanyl[0],CI_italyl[0],CI_spainl[0]]\n",
    "CI_neul[\"ub\"]=[CI_englandl[1],CI_francel[1],CI_germanyl[1],CI_italyl[1],CI_spainl[1]]\n",
    "df_CIneul=pd.DataFrame(CI_neul)"
   ]
  },
  {
   "cell_type": "code",
   "execution_count": 437,
   "id": "36d52e54",
   "metadata": {},
   "outputs": [
    {
     "data": {
      "text/plain": [
       "([<matplotlib.axis.YTick at 0x1b329a02760>,\n",
       "  <matplotlib.axis.YTick at 0x1b3299fcfa0>,\n",
       "  <matplotlib.axis.YTick at 0x1b3299fc400>,\n",
       "  <matplotlib.axis.YTick at 0x1b329a3b0d0>,\n",
       "  <matplotlib.axis.YTick at 0x1b329a3b490>],\n",
       " [Text(0, 0, 'England'),\n",
       "  Text(0, 1, 'France'),\n",
       "  Text(0, 2, 'Germany'),\n",
       "  Text(0, 3, 'Italy'),\n",
       "  Text(0, 4, 'Spain')])"
      ]
     },
     "execution_count": 437,
     "metadata": {},
     "output_type": "execute_result"
    },
    {
     "data": {
      "image/png": "[encoded data removed]",
      "text/plain": [
       "<Figure size 432x288 with 1 Axes>"
      ]
     },
     "metadata": {
      "needs_background": "light"
     },
     "output_type": "display_data"
    }
   ],
   "source": [
    "for lb,ub,y in zip(df_CIneul['lb'],df_CIneul['ub'],range(len(df_CIneul))):\n",
    "    plt.plot((lb,ub),(y,y),'ro-')\n",
    "plt.yticks(range(len(df_CIneul)),list(df_CIneul['country']))"
   ]
  },
  {
   "cell_type": "markdown",
   "id": "d1ea76d9",
   "metadata": {},
   "source": [
    "The four of of england,germany ,spain and france, have a similar probility of losing,with the earlier of the three having a lower variance in their probilibty, Italy has a large variance in its results. There is no signifcant diffrence between their probibilty of losing"
   ]
  },
  {
   "cell_type": "markdown",
   "id": "d39f77b0",
   "metadata": {},
   "source": [
    "According to the two graphs above, Spain has the best preformance in friendly matches played in neutral stadiums followed by germany, france and england, and then italy with a small diffrence between their preformance."
   ]
  },
  {
   "cell_type": "markdown",
   "id": "f13fb153",
   "metadata": {},
   "source": [
    "Comparing each country preformance between friendly home games and friendly neutral games:"
   ]
  },
  {
   "cell_type": "markdown",
   "id": "801a793f",
   "metadata": {},
   "source": [
    "Spain: spain has a higher probibility of wining friendly matches on home ground than one neutral ground, and a smaller probility of wining friendly matches in neutral stadiums, showing that they are affected by wither it is a home match or not"
   ]
  },
  {
   "cell_type": "markdown",
   "id": "dce55a0c",
   "metadata": {},
   "source": [
    "Italy: italy has a higher probibliyt of wining friendly matches at home and a lower prbibility of losing at neutral games , showng that the team preforemones better at home game "
   ]
  },
  {
   "cell_type": "markdown",
   "id": "8eea8e97",
   "metadata": {},
   "source": [
    "Germany: germany has a similar probibility of wining and losing frinedly matches played on neutral or hoem stadiums, showing they are not affected by where the match is played "
   ]
  },
  {
   "cell_type": "markdown",
   "id": "c4cc2dff",
   "metadata": {},
   "source": [
    "France: france has a higher probibility of wining friendly matches in home stadiums than one neutral ground, and a smaller probility of losing friendly matches on neutral stadiums, showing that they are affected by wither it is a home match or not"
   ]
  },
  {
   "cell_type": "markdown",
   "id": "5272a551",
   "metadata": {},
   "source": [
    "England: england has a lower probility of wining firendly matches if they are played on neutral ground than in their home stadium, showing that they are affected by wither it is a home match or not"
   ]
  },
  {
   "cell_type": "markdown",
   "id": "b62f2eb3",
   "metadata": {},
   "source": [
    "2:Playing offical matches "
   ]
  },
  {
   "cell_type": "markdown",
   "id": "4d8b07cb",
   "metadata": {},
   "source": [
    "calculating the probiblity of wining, losing and drawing in offical matches played at home, and the confidence interval of wining wining offical matches played at home."
   ]
  },
  {
   "cell_type": "code",
   "execution_count": 438,
   "id": "b12b3b1e",
   "metadata": {},
   "outputs": [
    {
     "data": {
      "text/plain": [
       "(17225, 13)"
      ]
     },
     "execution_count": 438,
     "metadata": {},
     "output_type": "execute_result"
    }
   ],
   "source": [
    "df_o=df[df[\"tournament\"]!=\"Friendly\"]\n",
    "df_homegame=df_o[df_o[\"home_match\"]==True]\n",
    "df_homegame.shape"
   ]
  },
  {
   "cell_type": "code",
   "execution_count": 439,
   "id": "3d1ab285",
   "metadata": {},
   "outputs": [
    {
     "data": {
      "text/plain": [
       "(151, 13)"
      ]
     },
     "execution_count": 439,
     "metadata": {},
     "output_type": "execute_result"
    }
   ],
   "source": [
    "df_francehomeo=df_homegame[df_homegame[\"country\"]==\"France\"]\n",
    "df_francehomeo.shape"
   ]
  },
  {
   "cell_type": "code",
   "execution_count": 440,
   "id": "7fc60eb8",
   "metadata": {},
   "outputs": [],
   "source": [
    "a=np.array(df_francehomeo[\"result_home\"].value_counts())\n",
    "a1=a.sum()\n",
    "awo=a[0]/a1\n",
    "alo=a[1]/a1\n",
    "ado=a[2]/a1"
   ]
  },
  {
   "cell_type": "code",
   "execution_count": 441,
   "id": "193b808e",
   "metadata": {},
   "outputs": [
    {
     "data": {
      "text/plain": [
       "(0.6432489814988812, 0.7872145946600592)"
      ]
     },
     "execution_count": 441,
     "metadata": {},
     "output_type": "execute_result"
    }
   ],
   "source": [
    "CI_franceo=proportion_confint(count=a[0],nobs=a1,alpha=(1-.95))\n",
    "CI_franceo\n"
   ]
  },
  {
   "cell_type": "code",
   "execution_count": 442,
   "id": "eed413e8",
   "metadata": {},
   "outputs": [
    {
     "data": {
      "text/plain": [
       "(271, 13)"
      ]
     },
     "execution_count": 442,
     "metadata": {},
     "output_type": "execute_result"
    }
   ],
   "source": [
    "df_englandhomeo=df_homegame[df_homegame[\"country\"]==\"England\"]\n",
    "df_englandhomeo.shape"
   ]
  },
  {
   "cell_type": "code",
   "execution_count": 443,
   "id": "bf98d5be",
   "metadata": {},
   "outputs": [],
   "source": [
    "b=np.array(df_englandhomeo[\"result_home\"].value_counts())\n",
    "b1=b.sum()\n",
    "bwo=b[0]/b1\n",
    "blo=b[1]/b1\n",
    "bdo=b[2]/b1"
   ]
  },
  {
   "cell_type": "code",
   "execution_count": 444,
   "id": "4a804353",
   "metadata": {},
   "outputs": [
    {
     "data": {
      "text/plain": [
       "(0.6272415832438014, 0.7380720698927299)"
      ]
     },
     "execution_count": 444,
     "metadata": {},
     "output_type": "execute_result"
    }
   ],
   "source": [
    "CI_englando=proportion_confint(count=b[0],nobs=b1,alpha=(1-.95))\n",
    "CI_englando"
   ]
  },
  {
   "cell_type": "code",
   "execution_count": 445,
   "id": "6f37043b",
   "metadata": {},
   "outputs": [
    {
     "data": {
      "text/plain": [
       "(170, 13)"
      ]
     },
     "execution_count": 445,
     "metadata": {},
     "output_type": "execute_result"
    }
   ],
   "source": [
    "df_italyhomeo=df_homegame[df_homegame[\"country\"]==\"Italy\"]\n",
    "df_italyhomeo.shape"
   ]
  },
  {
   "cell_type": "code",
   "execution_count": 446,
   "id": "9bb6c270",
   "metadata": {},
   "outputs": [],
   "source": [
    "c=np.array(df_italyhomeo[\"result_home\"].value_counts())\n",
    "c1=c.sum()\n",
    "cwo=c[0]/c1\n",
    "clo=c[1]/c1\n",
    "cdo=c[2]/c1"
   ]
  },
  {
   "cell_type": "code",
   "execution_count": 447,
   "id": "a382f258",
   "metadata": {},
   "outputs": [
    {
     "data": {
      "text/plain": [
       "(0.6499803205186274, 0.7853137971284314)"
      ]
     },
     "execution_count": 447,
     "metadata": {},
     "output_type": "execute_result"
    }
   ],
   "source": [
    "CI_italyo=proportion_confint(count=c[0],nobs=c1,alpha=(1-.95))\n",
    "CI_italyo"
   ]
  },
  {
   "cell_type": "code",
   "execution_count": 448,
   "id": "5d26c378",
   "metadata": {},
   "outputs": [
    {
     "data": {
      "text/plain": [
       "(136, 13)"
      ]
     },
     "execution_count": 448,
     "metadata": {},
     "output_type": "execute_result"
    }
   ],
   "source": [
    "df_germanyhomeo=df_homegame[df_homegame[\"country\"]==\"Germany\"]\n",
    "df_germanyhomeo.shape\n"
   ]
  },
  {
   "cell_type": "code",
   "execution_count": 449,
   "id": "7eb4bdcd",
   "metadata": {},
   "outputs": [],
   "source": [
    "d=np.array(df_germanyhomeo[\"result_home\"].value_counts())\n",
    "d1=d.sum()\n",
    "dwo=d[0]/d1\n",
    "dlo=d[1]/d1\n",
    "ddo=d[2]/d1"
   ]
  },
  {
   "cell_type": "code",
   "execution_count": 450,
   "id": "16f777cd",
   "metadata": {},
   "outputs": [
    {
     "data": {
      "text/plain": [
       "(0.6611475624384795, 0.8094406728556383)"
      ]
     },
     "execution_count": 450,
     "metadata": {},
     "output_type": "execute_result"
    }
   ],
   "source": [
    "CI_germanyo=proportion_confint(count=d[0],nobs=d1,alpha=(1-.95))\n",
    "CI_germanyo"
   ]
  },
  {
   "cell_type": "code",
   "execution_count": 451,
   "id": "91687ad4",
   "metadata": {},
   "outputs": [],
   "source": [
    "df_spainhomeo=df_homegame[df_homegame[\"country\"]==\"Spain\"]"
   ]
  },
  {
   "cell_type": "code",
   "execution_count": 452,
   "id": "ecb44cf2",
   "metadata": {},
   "outputs": [],
   "source": [
    "e=np.array(df_spainhomeo[\"result_home\"].value_counts())\n",
    "e1=e.sum()\n",
    "ewo=e[0]/e1\n",
    "elo=e[1]/e1\n",
    "edo=e[2]/e1"
   ]
  },
  {
   "cell_type": "code",
   "execution_count": 453,
   "id": "365274e3",
   "metadata": {},
   "outputs": [
    {
     "data": {
      "text/plain": [
       "(0.7381608053236275, 0.8705348468502856)"
      ]
     },
     "execution_count": 453,
     "metadata": {},
     "output_type": "execute_result"
    }
   ],
   "source": [
    "CI_spaino=proportion_confint(count=e[0],nobs=e1,alpha=(1-.95))\n",
    "CI_spaino"
   ]
  },
  {
   "cell_type": "markdown",
   "id": "1e81f891",
   "metadata": {},
   "source": [
    "Probability of wining, losing and drawing offical games played at home."
   ]
  },
  {
   "cell_type": "code",
   "execution_count": 454,
   "id": "38715f2a",
   "metadata": {},
   "outputs": [
    {
     "data": {
      "text/html": [
       "<div>\n",
       "<style scoped>\n",
       "    .dataframe tbody tr th:only-of-type {\n",
       "        vertical-align: middle;\n",
       "    }\n",
       "\n",
       "    .dataframe tbody tr th {\n",
       "        vertical-align: top;\n",
       "    }\n",
       "\n",
       "    .dataframe thead th {\n",
       "        text-align: right;\n",
       "    }\n",
       "</style>\n",
       "<table border=\"1\" class=\"dataframe\">\n",
       "  <thead>\n",
       "    <tr style=\"text-align: right;\">\n",
       "      <th></th>\n",
       "      <th>Country</th>\n",
       "      <th>Win</th>\n",
       "      <th>Lose</th>\n",
       "      <th>draw</th>\n",
       "    </tr>\n",
       "  </thead>\n",
       "  <tbody>\n",
       "    <tr>\n",
       "      <th>0</th>\n",
       "      <td>France</td>\n",
       "      <td>0.715232</td>\n",
       "      <td>0.178808</td>\n",
       "      <td>0.105960</td>\n",
       "    </tr>\n",
       "    <tr>\n",
       "      <th>1</th>\n",
       "      <td>England</td>\n",
       "      <td>0.682657</td>\n",
       "      <td>0.199262</td>\n",
       "      <td>0.118081</td>\n",
       "    </tr>\n",
       "    <tr>\n",
       "      <th>2</th>\n",
       "      <td>Italy</td>\n",
       "      <td>0.717647</td>\n",
       "      <td>0.235294</td>\n",
       "      <td>0.047059</td>\n",
       "    </tr>\n",
       "    <tr>\n",
       "      <th>3</th>\n",
       "      <td>Germany</td>\n",
       "      <td>0.735294</td>\n",
       "      <td>0.183824</td>\n",
       "      <td>0.080882</td>\n",
       "    </tr>\n",
       "    <tr>\n",
       "      <th>4</th>\n",
       "      <td>Spain</td>\n",
       "      <td>0.804348</td>\n",
       "      <td>0.144928</td>\n",
       "      <td>0.050725</td>\n",
       "    </tr>\n",
       "  </tbody>\n",
       "</table>\n",
       "</div>"
      ],
      "text/plain": [
       "   Country       Win      Lose      draw\n",
       "0   France  0.715232  0.178808  0.105960\n",
       "1  England  0.682657  0.199262  0.118081\n",
       "2    Italy  0.717647  0.235294  0.047059\n",
       "3  Germany  0.735294  0.183824  0.080882\n",
       "4    Spain  0.804348  0.144928  0.050725"
      ]
     },
     "execution_count": 454,
     "metadata": {},
     "output_type": "execute_result"
    }
   ],
   "source": [
    "prob_officalhome={}\n",
    "prob_officalhome[\"Country\"]=[\"France\",\"England\",\"Italy\",\"Germany\",\"Spain\"]\n",
    "prob_officalhome[\"Win\"]=[awo,bwo,cwo,dwo,ewo]                   \n",
    "prob_officalhome[\"Lose\"]=[alo,blo,clo,dlo,elo]\n",
    "prob_officalhome[\"draw\"]=[ado,bdo,cdo,ddo,edo]\n",
    "pd.oh=pd.DataFrame(prob_officalhome)\n",
    "pd.oh"
   ]
  },
  {
   "cell_type": "markdown",
   "id": "47070536",
   "metadata": {},
   "source": [
    "Drawing the confidence interval of wining offical home matches"
   ]
  },
  {
   "cell_type": "code",
   "execution_count": 455,
   "id": "92dcf881",
   "metadata": {},
   "outputs": [],
   "source": [
    "CI_homeo={}\n",
    "CI_homeo[\"country\"]=[\"England\",\"France\",\"Germany\",\"Italy\",\"Spain\"]\n",
    "CI_homeo[\"lb\"]=[CI_englando[0],CI_franceo[0],CI_germanyo[0],CI_italyo[0],CI_spaino[0]]\n",
    "CI_homeo[\"ub\"]=[CI_englando[1],CI_franceo[1],CI_germanyo[1],CI_italyo[1],CI_spaino[1]]\n",
    "df_CIhomeo=pd.DataFrame(CI_homeo)"
   ]
  },
  {
   "cell_type": "code",
   "execution_count": 456,
   "id": "e49fc260",
   "metadata": {},
   "outputs": [
    {
     "data": {
      "text/plain": [
       "([<matplotlib.axis.YTick at 0x1b329a76eb0>,\n",
       "  <matplotlib.axis.YTick at 0x1b329a76790>,\n",
       "  <matplotlib.axis.YTick at 0x1b329a706a0>,\n",
       "  <matplotlib.axis.YTick at 0x1b3264ea8b0>,\n",
       "  <matplotlib.axis.YTick at 0x1b3264eaee0>],\n",
       " [Text(0, 0, 'England'),\n",
       "  Text(0, 1, 'France'),\n",
       "  Text(0, 2, 'Germany'),\n",
       "  Text(0, 3, 'Italy'),\n",
       "  Text(0, 4, 'Spain')])"
      ]
     },
     "execution_count": 456,
     "metadata": {},
     "output_type": "execute_result"
    },
    {
     "data": {
      "image/png": "[encoded data removed]",
      "text/plain": [
       "<Figure size 432x288 with 1 Axes>"
      ]
     },
     "metadata": {
      "needs_background": "light"
     },
     "output_type": "display_data"
    }
   ],
   "source": [
    "for lb,ub,y in zip(df_CIhomeo['lb'],df_CIhomeo['ub'],range(len(df_CIhomeo))):\n",
    "    plt.plot((lb,ub),(y,y),'ro-')\n",
    "plt.yticks(range(len(df_CIhomeo)),list(df_CIhomeo['country']))"
   ]
  },
  {
   "cell_type": "markdown",
   "id": "8b09555f",
   "metadata": {},
   "source": [
    "Almost all five countries have equal probability of wining official games at home stadium, with france having the lowest probility of the five."
   ]
  },
  {
   "cell_type": "markdown",
   "id": "2fe592d0",
   "metadata": {},
   "source": [
    "calculating the confidence interval of losing offical matches played at home."
   ]
  },
  {
   "cell_type": "code",
   "execution_count": 457,
   "id": "535d1865",
   "metadata": {},
   "outputs": [
    {
     "data": {
      "text/plain": [
       "(0.11768906596126844, 0.23992682807846666)"
      ]
     },
     "execution_count": 457,
     "metadata": {},
     "output_type": "execute_result"
    }
   ],
   "source": [
    "CI_franceol=proportion_confint(count=a[1],nobs=a1,alpha=(1-.95))\n",
    "CI_franceol"
   ]
  },
  {
   "cell_type": "code",
   "execution_count": 458,
   "id": "98b6bb0f",
   "metadata": {},
   "outputs": [
    {
     "data": {
      "text/plain": [
       "(0.15170428620595935, 0.24681969903389303)"
      ]
     },
     "execution_count": 458,
     "metadata": {},
     "output_type": "execute_result"
    }
   ],
   "source": [
    "CI_englandol=proportion_confint(count=b[1],nobs=b1,alpha=(1-.95))\n",
    "CI_englandol"
   ]
  },
  {
   "cell_type": "code",
   "execution_count": 459,
   "id": "2d91a865",
   "metadata": {},
   "outputs": [
    {
     "data": {
      "text/plain": [
       "(0.17152999612812384, 0.29905823916599383)"
      ]
     },
     "execution_count": 459,
     "metadata": {},
     "output_type": "execute_result"
    }
   ],
   "source": [
    "CI_italyol=proportion_confint(count=c[1],nobs=c1,alpha=(1-.95))\n",
    "CI_italyol"
   ]
  },
  {
   "cell_type": "code",
   "execution_count": 460,
   "id": "d534f0c5",
   "metadata": {},
   "outputs": [
    {
     "data": {
      "text/plain": [
       "(0.11872499335806701, 0.24892206546546242)"
      ]
     },
     "execution_count": 460,
     "metadata": {},
     "output_type": "execute_result"
    }
   ],
   "source": [
    "CI_germanyol=proportion_confint(count=d[1],nobs=d1,alpha=(1-.95))\n",
    "CI_germanyol"
   ]
  },
  {
   "cell_type": "code",
   "execution_count": 461,
   "id": "de98fc98",
   "metadata": {},
   "outputs": [
    {
     "data": {
      "text/plain": [
       "(0.0861940928755778, 0.20366097958819032)"
      ]
     },
     "execution_count": 461,
     "metadata": {},
     "output_type": "execute_result"
    }
   ],
   "source": [
    "CI_spainol=proportion_confint(count=e[1],nobs=e1,alpha=(1-.95))\n",
    "CI_spainol"
   ]
  },
  {
   "cell_type": "markdown",
   "id": "3d013bc4",
   "metadata": {},
   "source": [
    "Graphing the confidence interval of losing offical matches played at home"
   ]
  },
  {
   "cell_type": "code",
   "execution_count": 462,
   "id": "045020d2",
   "metadata": {},
   "outputs": [],
   "source": [
    "CI_homeol={}\n",
    "CI_homeol[\"country\"]=[\"England\",\"France\",\"Germany\",\"Italy\",\"Spain\"]\n",
    "CI_homeol[\"lb\"]=[CI_englandol[0],CI_franceol[0],CI_germanyol[0],CI_italyol[0],CI_spainol[0]]\n",
    "CI_homeol[\"ub\"]=[CI_englandol[1],CI_franceol[1],CI_germanyol[1],CI_italyol[1],CI_spainol[1]]\n",
    "df_CIhomeol=pd.DataFrame(CI_homeol)"
   ]
  },
  {
   "cell_type": "code",
   "execution_count": 463,
   "id": "d4bdd491",
   "metadata": {
    "scrolled": true
   },
   "outputs": [
    {
     "data": {
      "text/plain": [
       "([<matplotlib.axis.YTick at 0x1b326520f40>,\n",
       "  <matplotlib.axis.YTick at 0x1b3265207c0>,\n",
       "  <matplotlib.axis.YTick at 0x1b3265185b0>,\n",
       "  <matplotlib.axis.YTick at 0x1b326559790>,\n",
       "  <matplotlib.axis.YTick at 0x1b326559dc0>],\n",
       " [Text(0, 0, 'England'),\n",
       "  Text(0, 1, 'France'),\n",
       "  Text(0, 2, 'Germany'),\n",
       "  Text(0, 3, 'Italy'),\n",
       "  Text(0, 4, 'Spain')])"
      ]
     },
     "execution_count": 463,
     "metadata": {},
     "output_type": "execute_result"
    },
    {
     "data": {
      "image/png": "[encoded data removed]",
      "text/plain": [
       "<Figure size 432x288 with 1 Axes>"
      ]
     },
     "metadata": {
      "needs_background": "light"
     },
     "output_type": "display_data"
    }
   ],
   "source": [
    "for lb,ub,y in zip(df_CIhomeol['lb'],df_CIhomeol['ub'],range(len(df_CIhomeol))):\n",
    "    plt.plot((lb,ub),(y,y),'ro-')\n",
    "plt.yticks(range(len(df_CIhomeol)),list(df_CIhomeol['country']))"
   ]
  },
  {
   "cell_type": "markdown",
   "id": "56d26c0e",
   "metadata": {},
   "source": [
    "ALl five countires have  an almost equal probobility of losing offical matches in home stadiums."
   ]
  },
  {
   "cell_type": "markdown",
   "id": "ce0d0df1",
   "metadata": {},
   "source": [
    "Italy has the best preformance in offical games at home satdium, followed by Sapin, and then Engalnd, after that Germany, and finally France has the worst preformance of the five, However the diffrence between the five countries is not that large."
   ]
  },
  {
   "cell_type": "markdown",
   "id": "23257dfc",
   "metadata": {},
   "source": [
    "calculating the probability of wining, losing and drawing offical games playd at neutral ground, and calcluating the probability of wining them confdidence interval."
   ]
  },
  {
   "cell_type": "code",
   "execution_count": 464,
   "id": "cd611721",
   "metadata": {},
   "outputs": [],
   "source": [
    "df_o=df[df[\"tournament\"]!=\"Friendly\"]\n",
    "df_neutral=df_o[df_o[\"neutral\"]==True]"
   ]
  },
  {
   "cell_type": "code",
   "execution_count": 465,
   "id": "7a009495",
   "metadata": {},
   "outputs": [],
   "source": [
    "df_franceneuo=df_neutral[df_neutral[\"country\"]==\"France\"]"
   ]
  },
  {
   "cell_type": "code",
   "execution_count": 466,
   "id": "dc9f0d28",
   "metadata": {},
   "outputs": [],
   "source": [
    "a=np.array(df_franceneuo[\"result_home\"].value_counts())\n",
    "a1=a.sum()\n",
    "awon=a[0]/a1\n",
    "alon=a[1]/a1\n",
    "adon=a[2]/a1"
   ]
  },
  {
   "cell_type": "code",
   "execution_count": 467,
   "id": "0b98bc9e",
   "metadata": {},
   "outputs": [
    {
     "data": {
      "text/plain": [
       "(0.34813092544065977, 0.48692062095109284)"
      ]
     },
     "execution_count": 467,
     "metadata": {},
     "output_type": "execute_result"
    }
   ],
   "source": [
    "CI_franceo=proportion_confint(count=a[0],nobs=a1,alpha=(1-.95))\n",
    "CI_franceo"
   ]
  },
  {
   "cell_type": "code",
   "execution_count": 468,
   "id": "ca34c53a",
   "metadata": {},
   "outputs": [],
   "source": [
    "df_englandneuo=df_neutral[df_neutral[\"country\"]==\"England\"]"
   ]
  },
  {
   "cell_type": "code",
   "execution_count": 469,
   "id": "ac689624",
   "metadata": {},
   "outputs": [],
   "source": [
    "b=np.array(df_englandneuo[\"result_home\"].value_counts())\n",
    "b1=b.sum()\n",
    "bwon=b[0]/b1\n",
    "blon=b[1]/b1\n",
    "bdon=b[2]/b1"
   ]
  },
  {
   "cell_type": "code",
   "execution_count": 470,
   "id": "6927e62d",
   "metadata": {},
   "outputs": [
    {
     "data": {
      "text/plain": [
       "(0.3647474741499174, 0.5288695471266783)"
      ]
     },
     "execution_count": 470,
     "metadata": {},
     "output_type": "execute_result"
    }
   ],
   "source": [
    "CI_englando=proportion_confint(count=b[0],nobs=b1,alpha=(1-.95))\n",
    "CI_englando"
   ]
  },
  {
   "cell_type": "code",
   "execution_count": 471,
   "id": "4c2266ab",
   "metadata": {},
   "outputs": [
    {
     "data": {
      "text/plain": [
       "(96, 13)"
      ]
     },
     "execution_count": 471,
     "metadata": {},
     "output_type": "execute_result"
    }
   ],
   "source": [
    "df_italyneuo=df_neutral[df_neutral[\"country\"]==\"Italy\"]\n",
    "df_italyneuo.shape"
   ]
  },
  {
   "cell_type": "code",
   "execution_count": 472,
   "id": "deb5d6d8",
   "metadata": {},
   "outputs": [],
   "source": [
    "c=np.array(df_italyneuo[\"result_home\"].value_counts())\n",
    "c1=c.sum()\n",
    "cwon=c[0]/c1\n",
    "clon=c[1]/c1\n",
    "cdon=c[2]/c1"
   ]
  },
  {
   "cell_type": "code",
   "execution_count": 473,
   "id": "93266f09",
   "metadata": {},
   "outputs": [
    {
     "data": {
      "text/plain": [
       "(0.3080048833111753, 0.5044951166888246)"
      ]
     },
     "execution_count": 473,
     "metadata": {},
     "output_type": "execute_result"
    }
   ],
   "source": [
    "CI_italyo=proportion_confint(count=c[0],nobs=c1,alpha=(1-.95))\n",
    "CI_italyo"
   ]
  },
  {
   "cell_type": "code",
   "execution_count": 474,
   "id": "09eb38a6",
   "metadata": {},
   "outputs": [],
   "source": [
    "df_germanyneuo=df_neutral[df_neutral[\"country\"]==\"Germany\"]"
   ]
  },
  {
   "cell_type": "code",
   "execution_count": 475,
   "id": "57ccc3c7",
   "metadata": {},
   "outputs": [],
   "source": [
    "d=np.array(df_germanyneuo[\"result_home\"].value_counts())\n",
    "d1=d.sum()\n",
    "dwon=d[0]/d1\n",
    "dlon=d[1]/d1\n",
    "ddon=d[2]/d1"
   ]
  },
  {
   "cell_type": "code",
   "execution_count": 476,
   "id": "24f5fd9d",
   "metadata": {},
   "outputs": [
    {
     "data": {
      "text/plain": [
       "(0.34216314039440565, 0.5149797167484514)"
      ]
     },
     "execution_count": 476,
     "metadata": {},
     "output_type": "execute_result"
    }
   ],
   "source": [
    "CI_germanyo=proportion_confint(count=d[0],nobs=d1,alpha=(1-.95))\n",
    "CI_germanyo"
   ]
  },
  {
   "cell_type": "code",
   "execution_count": 477,
   "id": "0e0382dd",
   "metadata": {},
   "outputs": [],
   "source": [
    "df_spainneuo=df_neutral[df_neutral[\"country\"]==\"Spain\"]"
   ]
  },
  {
   "cell_type": "code",
   "execution_count": 478,
   "id": "3d7de9a9",
   "metadata": {},
   "outputs": [],
   "source": [
    "e=np.array(df_spainneuo[\"result_home\"].value_counts())\n",
    "e1=e.sum()\n",
    "ewon=e[0]/e1\n",
    "elon=e[1]/e1\n",
    "edon=e[2]/e1"
   ]
  },
  {
   "cell_type": "code",
   "execution_count": 479,
   "id": "03d9c4e9",
   "metadata": {},
   "outputs": [
    {
     "data": {
      "text/plain": [
       "(0.27605702429421597, 0.5118217635845719)"
      ]
     },
     "execution_count": 479,
     "metadata": {},
     "output_type": "execute_result"
    }
   ],
   "source": [
    "CI_spaino=proportion_confint(count=e[0],nobs=e1,alpha=(1-.95))\n",
    "CI_spaino"
   ]
  },
  {
   "cell_type": "markdown",
   "id": "db93b8d3",
   "metadata": {},
   "source": [
    "Probability of wining, losing and drawing offical matches played at neutral ground"
   ]
  },
  {
   "cell_type": "code",
   "execution_count": 480,
   "id": "5dad7163",
   "metadata": {},
   "outputs": [
    {
     "data": {
      "text/html": [
       "<div>\n",
       "<style scoped>\n",
       "    .dataframe tbody tr th:only-of-type {\n",
       "        vertical-align: middle;\n",
       "    }\n",
       "\n",
       "    .dataframe tbody tr th {\n",
       "        vertical-align: top;\n",
       "    }\n",
       "\n",
       "    .dataframe thead th {\n",
       "        text-align: right;\n",
       "    }\n",
       "</style>\n",
       "<table border=\"1\" class=\"dataframe\">\n",
       "  <thead>\n",
       "    <tr style=\"text-align: right;\">\n",
       "      <th></th>\n",
       "      <th>Country</th>\n",
       "      <th>Win</th>\n",
       "      <th>Lose</th>\n",
       "      <th>draw</th>\n",
       "    </tr>\n",
       "  </thead>\n",
       "  <tbody>\n",
       "    <tr>\n",
       "      <th>0</th>\n",
       "      <td>France</td>\n",
       "      <td>0.417526</td>\n",
       "      <td>0.324742</td>\n",
       "      <td>0.257732</td>\n",
       "    </tr>\n",
       "    <tr>\n",
       "      <th>1</th>\n",
       "      <td>England</td>\n",
       "      <td>0.446809</td>\n",
       "      <td>0.347518</td>\n",
       "      <td>0.205674</td>\n",
       "    </tr>\n",
       "    <tr>\n",
       "      <th>2</th>\n",
       "      <td>Italy</td>\n",
       "      <td>0.406250</td>\n",
       "      <td>0.406250</td>\n",
       "      <td>0.187500</td>\n",
       "    </tr>\n",
       "    <tr>\n",
       "      <th>3</th>\n",
       "      <td>Germany</td>\n",
       "      <td>0.428571</td>\n",
       "      <td>0.333333</td>\n",
       "      <td>0.238095</td>\n",
       "    </tr>\n",
       "    <tr>\n",
       "      <th>4</th>\n",
       "      <td>Spain</td>\n",
       "      <td>0.393939</td>\n",
       "      <td>0.348485</td>\n",
       "      <td>0.257576</td>\n",
       "    </tr>\n",
       "  </tbody>\n",
       "</table>\n",
       "</div>"
      ],
      "text/plain": [
       "   Country       Win      Lose      draw\n",
       "0   France  0.417526  0.324742  0.257732\n",
       "1  England  0.446809  0.347518  0.205674\n",
       "2    Italy  0.406250  0.406250  0.187500\n",
       "3  Germany  0.428571  0.333333  0.238095\n",
       "4    Spain  0.393939  0.348485  0.257576"
      ]
     },
     "execution_count": 480,
     "metadata": {},
     "output_type": "execute_result"
    }
   ],
   "source": [
    "prob_officalneutral={}\n",
    "prob_officalneutral[\"Country\"]=[\"France\",\"England\",\"Italy\",\"Germany\",\"Spain\"]\n",
    "prob_officalneutral[\"Win\"]=[awon,bwon,cwon,dwon,ewon]                   \n",
    "prob_officalneutral[\"Lose\"]=[alon,blon,clon,dlon,elon]\n",
    "prob_officalneutral[\"draw\"]=[adon,bdon,cdon,ddon,edon]\n",
    "pd.on=pd.DataFrame(prob_officalneutral)\n",
    "pd.on"
   ]
  },
  {
   "cell_type": "markdown",
   "id": "f6a2f2ab",
   "metadata": {},
   "source": [
    "Graphing the confidence interval of wining offical games played at neutral ground."
   ]
  },
  {
   "cell_type": "code",
   "execution_count": 481,
   "id": "a6c546f0",
   "metadata": {},
   "outputs": [],
   "source": [
    "CI_neuo={}\n",
    "CI_neuo[\"country\"]=[\"England\",\"France\",\"Germany\",\"Italy\",\"Spain\"]\n",
    "CI_neuo[\"lb\"]=[CI_englando[0],CI_franceo[0],CI_germanyo[0],CI_italyo[0],CI_spaino[0]]\n",
    "CI_neuo[\"ub\"]=[CI_englando[1],CI_franceo[1],CI_germanyo[1],CI_italyo[1],CI_spaino[1]]\n",
    "df_CIneuo=pd.DataFrame(CI_neuo)"
   ]
  },
  {
   "cell_type": "code",
   "execution_count": 482,
   "id": "0ecf77b7",
   "metadata": {
    "scrolled": true
   },
   "outputs": [
    {
     "data": {
      "text/plain": [
       "([<matplotlib.axis.YTick at 0x1b326505c70>,\n",
       "  <matplotlib.axis.YTick at 0x1b32658ba90>,\n",
       "  <matplotlib.axis.YTick at 0x1b326587940>,\n",
       "  <matplotlib.axis.YTick at 0x1b3265c1a90>,\n",
       "  <matplotlib.axis.YTick at 0x1b3265cb220>],\n",
       " [Text(0, 0, 'England'),\n",
       "  Text(0, 1, 'France'),\n",
       "  Text(0, 2, 'Germany'),\n",
       "  Text(0, 3, 'Italy'),\n",
       "  Text(0, 4, 'Spain')])"
      ]
     },
     "execution_count": 482,
     "metadata": {},
     "output_type": "execute_result"
    },
    {
     "data": {
      "image/png": "[encoded data removed]",
      "text/plain": [
       "<Figure size 432x288 with 1 Axes>"
      ]
     },
     "metadata": {
      "needs_background": "light"
     },
     "output_type": "display_data"
    }
   ],
   "source": [
    "for lb,ub,y in zip(df_CIneuo['lb'],df_CIneuo['ub'],range(len(df_CIneuo))):\n",
    "    plt.plot((lb,ub),(y,y),'ro-')\n",
    "plt.yticks(range(len(df_CIneuo)),list(df_CIneuo['country']))"
   ]
  },
  {
   "cell_type": "markdown",
   "id": "06c72fdd",
   "metadata": {},
   "source": [
    "All five have equal probility of losing offical matches in home stadiums, with spain having the largest v=range in its probability "
   ]
  },
  {
   "cell_type": "markdown",
   "id": "ca0099f9",
   "metadata": {},
   "source": [
    "calculating the confidence interval of losing on neutral ground"
   ]
  },
  {
   "cell_type": "code",
   "execution_count": 483,
   "id": "272400ba",
   "metadata": {},
   "outputs": [
    {
     "data": {
      "text/plain": [
       "(0.2588474263915707, 0.39063710969090354)"
      ]
     },
     "execution_count": 483,
     "metadata": {},
     "output_type": "execute_result"
    }
   ],
   "source": [
    "CI_francelo=proportion_confint(count=a[1],nobs=a1,alpha=(1-.95))\n",
    "CI_francelo"
   ]
  },
  {
   "cell_type": "code",
   "execution_count": 484,
   "id": "ef0662d3",
   "metadata": {},
   "outputs": [
    {
     "data": {
      "text/plain": [
       "(0.2689197521097339, 0.4261157088831739)"
      ]
     },
     "execution_count": 484,
     "metadata": {},
     "output_type": "execute_result"
    }
   ],
   "source": [
    "CI_englandlo=proportion_confint(count=b[1],nobs=b1,alpha=(1-.95))\n",
    "CI_englandlo"
   ]
  },
  {
   "cell_type": "code",
   "execution_count": 485,
   "id": "d1366038",
   "metadata": {},
   "outputs": [
    {
     "data": {
      "text/plain": [
       "(0.3080048833111753, 0.5044951166888246)"
      ]
     },
     "execution_count": 485,
     "metadata": {},
     "output_type": "execute_result"
    }
   ],
   "source": [
    "CI_italylo=proportion_confint(count=c[1],nobs=c1,alpha=(1-.95))\n",
    "CI_italylo"
   ]
  },
  {
   "cell_type": "code",
   "execution_count": 486,
   "id": "2637d010",
   "metadata": {},
   "outputs": [
    {
     "data": {
      "text/plain": [
       "(0.2510225828295837, 0.41564408383708296)"
      ]
     },
     "execution_count": 486,
     "metadata": {},
     "output_type": "execute_result"
    }
   ],
   "source": [
    "CI_germanylo=proportion_confint(count=d[1],nobs=d1,alpha=(1-.95))\n",
    "CI_germanylo"
   ]
  },
  {
   "cell_type": "code",
   "execution_count": 487,
   "id": "58989441",
   "metadata": {},
   "outputs": [
    {
     "data": {
      "text/plain": [
       "(0.2335291952906477, 0.4634405016790493)"
      ]
     },
     "execution_count": 487,
     "metadata": {},
     "output_type": "execute_result"
    }
   ],
   "source": [
    "CI_spainlo=proportion_confint(count=e[1],nobs=e1,alpha=(1-.95))\n",
    "CI_spainlo"
   ]
  },
  {
   "cell_type": "markdown",
   "id": "0ebc970d",
   "metadata": {},
   "source": [
    "Graphing the confidence interval of losing on neutral ground"
   ]
  },
  {
   "cell_type": "code",
   "execution_count": 488,
   "id": "32c67762",
   "metadata": {},
   "outputs": [],
   "source": [
    "CI_neulo={}\n",
    "CI_neulo[\"country\"]=[\"England\",\"France\",\"Germany\",\"Italy\",\"Spain\"]\n",
    "CI_neulo[\"lb\"]=[CI_englandlo[0],CI_francelo[0],CI_germanylo[0],CI_italylo[0],CI_spainlo[0]]\n",
    "CI_neulo[\"ub\"]=[CI_englandlo[1],CI_francelo[1],CI_germanylo[1],CI_italylo[1],CI_spainlo[1]]\n",
    "df_CIneulo=pd.DataFrame(CI_neulo)"
   ]
  },
  {
   "cell_type": "code",
   "execution_count": 489,
   "id": "4f334971",
   "metadata": {
    "scrolled": false
   },
   "outputs": [
    {
     "data": {
      "text/plain": [
       "([<matplotlib.axis.YTick at 0x1b3265f3fa0>,\n",
       "  <matplotlib.axis.YTick at 0x1b3265f38b0>,\n",
       "  <matplotlib.axis.YTick at 0x1b3265ee730>,\n",
       "  <matplotlib.axis.YTick at 0x1b329aaa9a0>,\n",
       "  <matplotlib.axis.YTick at 0x1b329ab20d0>],\n",
       " [Text(0, 0, 'England'),\n",
       "  Text(0, 1, 'France'),\n",
       "  Text(0, 2, 'Germany'),\n",
       "  Text(0, 3, 'Italy'),\n",
       "  Text(0, 4, 'Spain')])"
      ]
     },
     "execution_count": 489,
     "metadata": {},
     "output_type": "execute_result"
    },
    {
     "data": {
      "image/png": "[encoded data removed]",
      "text/plain": [
       "<Figure size 432x288 with 1 Axes>"
      ]
     },
     "metadata": {
      "needs_background": "light"
     },
     "output_type": "display_data"
    }
   ],
   "source": [
    "for lb,ub,y in zip(df_CIneulo['lb'],df_CIneulo['ub'],range(len(df_CIneulo))):\n",
    "    plt.plot((lb,ub),(y,y),'ro-')\n",
    "plt.yticks(range(len(df_CIneulo)),list(df_CIneulo['country']))"
   ]
  },
  {
   "cell_type": "markdown",
   "id": "ffa390cb",
   "metadata": {},
   "source": [
    "All five have equal probility of losing offical matches in home stadiums, with spain having the largest range in its probability "
   ]
  },
  {
   "cell_type": "markdown",
   "id": "ee20d469",
   "metadata": {},
   "source": [
    "According to the two graphs above, there is almost no diffrence between the prefromance of the five countries in offical matches played on neutral ground "
   ]
  },
  {
   "cell_type": "markdown",
   "id": "0568d824",
   "metadata": {},
   "source": [
    "Comparing each country preformacne in home and neutral offical games, comparing to their preformance in friendly games:"
   ]
  },
  {
   "cell_type": "markdown",
   "id": "26ae2f7a",
   "metadata": {},
   "source": [
    "Spain: has a higher probibilty of wining official matches if they are played at home, when compared to playing offical matches at neutral ground. This is similar to Spaain's probiblity of wining for friendly matches showing that there is no signifacnt diffrence between spains preformence in offical and friendly matches. They perfrom better at friendly matches even though diffrence is not signifcant."
   ]
  },
  {
   "cell_type": "markdown",
   "id": "c4a717b7",
   "metadata": {},
   "source": [
    "Italy: has an equal probiblity of wining and losing offical matches when playing on neutral or home stadium in friendly games, moreover their probility of wining official matches played at home is higher than that on neutral ground.They also have a similar win proprtion between both friendly and offical matches played on neutral ground.However, their preofrmance is signifacntly better in offical matches played at home than at firendly matches played at home. Indicating that tehy amy be affected by audiance of the match, as offical matches tend to have more audiance. "
   ]
  },
  {
   "cell_type": "markdown",
   "id": "10831042",
   "metadata": {},
   "source": [
    "Germany: has a has a higher probibilty of wining official matches if they are played at home, when compared to playing offical matches at neutral ground. THey also have a higher probavility of wining offical matches than they do of wining friendly matches \n",
    "This is diffrent from their probility for friendly matches where the diffrence is smaller and th \n",
    "there is a signifacnt diffrence in their preformance in neutral games for firendly and offical matches, they preform better in the friendly matches  better for friendly matches "
   ]
  },
  {
   "cell_type": "markdown",
   "id": "54caaf77",
   "metadata": {},
   "source": [
    "France: France has a higher probibilty of wining official matches if they are played at home, when compared to playing offical matches at neutral ground. This is similar to their probiblity of wining friendly matches showing that there is no signifacnt diffrence between spains preformence in offical and friendly matches.However, they perfrom better at offical matches even though diffrence is not signifcant, whcih may indicate that tehy are affected by the audiance present in the stadium.  "
   ]
  },
  {
   "cell_type": "markdown",
   "id": "9566b319",
   "metadata": {},
   "source": [
    "Engalnd:England has an equal probiblity of wining when playing at home wither in offical matches or when playing friendly matches, moreover their probility of wining friendly or neutral matches played at neutral stadiums is lower than that on home ground, which may indicate that the team is affected by the change in stadium , which may be due to the travel associted with that change, the travel may have affected the players physical health. "
   ]
  },
  {
   "cell_type": "markdown",
   "id": "c8accbdc",
   "metadata": {},
   "source": [
    "3: world cup qualifications matches "
   ]
  },
  {
   "cell_type": "markdown",
   "id": "cfd9e0d5",
   "metadata": {},
   "source": [
    "Calculating the confidence interval of wining world cup qualififcation matches, and the probability of wining, losing and drawing world cup qualification matches."
   ]
  },
  {
   "cell_type": "code",
   "execution_count": 338,
   "id": "dfdd7e6b",
   "metadata": {},
   "outputs": [
    {
     "data": {
      "text/html": [
       "<div>\n",
       "<style scoped>\n",
       "    .dataframe tbody tr th:only-of-type {\n",
       "        vertical-align: middle;\n",
       "    }\n",
       "\n",
       "    .dataframe tbody tr th {\n",
       "        vertical-align: top;\n",
       "    }\n",
       "\n",
       "    .dataframe thead th {\n",
       "        text-align: right;\n",
       "    }\n",
       "</style>\n",
       "<table border=\"1\" class=\"dataframe\">\n",
       "  <thead>\n",
       "    <tr style=\"text-align: right;\">\n",
       "      <th></th>\n",
       "      <th>date</th>\n",
       "      <th>home_team</th>\n",
       "      <th>away_team</th>\n",
       "      <th>home_score</th>\n",
       "      <th>away_score</th>\n",
       "      <th>tournament</th>\n",
       "      <th>city</th>\n",
       "      <th>country</th>\n",
       "      <th>neutral</th>\n",
       "      <th>home_match</th>\n",
       "      <th>away_match</th>\n",
       "      <th>result_home</th>\n",
       "      <th>result_away</th>\n",
       "    </tr>\n",
       "  </thead>\n",
       "  <tbody>\n",
       "    <tr>\n",
       "      <th>1591</th>\n",
       "      <td>6/11/1933</td>\n",
       "      <td>Sweden</td>\n",
       "      <td>Estonia</td>\n",
       "      <td>6</td>\n",
       "      <td>2</td>\n",
       "      <td>FIFA World Cup qualification</td>\n",
       "      <td>Stockholm</td>\n",
       "      <td>Sweden</td>\n",
       "      <td>False</td>\n",
       "      <td>True</td>\n",
       "      <td>False</td>\n",
       "      <td>win</td>\n",
       "      <td>lose</td>\n",
       "    </tr>\n",
       "    <tr>\n",
       "      <th>1596</th>\n",
       "      <td>6/29/1933</td>\n",
       "      <td>Lithuania</td>\n",
       "      <td>Sweden</td>\n",
       "      <td>0</td>\n",
       "      <td>2</td>\n",
       "      <td>FIFA World Cup qualification</td>\n",
       "      <td>Kaunas</td>\n",
       "      <td>Lithuania</td>\n",
       "      <td>False</td>\n",
       "      <td>True</td>\n",
       "      <td>False</td>\n",
       "      <td>lose</td>\n",
       "      <td>win</td>\n",
       "    </tr>\n",
       "  </tbody>\n",
       "</table>\n",
       "</div>"
      ],
      "text/plain": [
       "           date  home_team away_team  home_score  away_score  \\\n",
       "1591  6/11/1933     Sweden   Estonia           6           2   \n",
       "1596  6/29/1933  Lithuania    Sweden           0           2   \n",
       "\n",
       "                        tournament       city    country  neutral home_match  \\\n",
       "1591  FIFA World Cup qualification  Stockholm     Sweden    False       True   \n",
       "1596  FIFA World Cup qualification     Kaunas  Lithuania    False       True   \n",
       "\n",
       "     away_match result_home result_away  \n",
       "1591      False         win        lose  \n",
       "1596      False        lose         win  "
      ]
     },
     "execution_count": 338,
     "metadata": {},
     "output_type": "execute_result"
    }
   ],
   "source": [
    "df_quali=df[df[\"tournament\"]==\"FIFA World Cup qualification\"]\n",
    "df_quali.head(2)"
   ]
  },
  {
   "cell_type": "code",
   "execution_count": 339,
   "id": "5a82c48f",
   "metadata": {},
   "outputs": [],
   "source": [
    "df_franceq=df_quali[df_quali[\"country\"]==\"France\"]\n"
   ]
  },
  {
   "cell_type": "code",
   "execution_count": 340,
   "id": "b4b4035c",
   "metadata": {},
   "outputs": [],
   "source": [
    "a=np.array(df_franceq[\"result_home\"].value_counts())\n",
    "a1=a.sum()\n",
    "aqhw=a[0]/a1\n",
    "aqhl=a[1]/a1\n",
    "aqhd=a[2]/a1"
   ]
  },
  {
   "cell_type": "code",
   "execution_count": 341,
   "id": "82eaac35",
   "metadata": {},
   "outputs": [
    {
     "data": {
      "text/plain": [
       "(0.5850838683087067, 0.81174152851669)"
      ]
     },
     "execution_count": 341,
     "metadata": {},
     "output_type": "execute_result"
    }
   ],
   "source": [
    "CI_franceq=proportion_confint(count=a[0],nobs=a1,alpha=(1-.95))\n",
    "CI_franceq"
   ]
  },
  {
   "cell_type": "code",
   "execution_count": 342,
   "id": "f55913ff",
   "metadata": {},
   "outputs": [],
   "source": [
    "df_englandq=df_quali[df_quali[\"country\"]==\"England\"]\n"
   ]
  },
  {
   "cell_type": "code",
   "execution_count": 343,
   "id": "9d31d7bb",
   "metadata": {},
   "outputs": [],
   "source": [
    "b=np.array(df_englandq[\"result_home\"].value_counts())\n",
    "b1=b.sum()\n",
    "bqhw=b[0]/b1\n",
    "bqhl=b[1]/b1\n",
    "bqhd=b[2]/b1"
   ]
  },
  {
   "cell_type": "code",
   "execution_count": 123,
   "id": "a49fd111",
   "metadata": {},
   "outputs": [
    {
     "data": {
      "text/plain": [
       "(0.6439138374303589, 0.8560861625696411)"
      ]
     },
     "execution_count": 123,
     "metadata": {},
     "output_type": "execute_result"
    }
   ],
   "source": [
    "CI_englandq=proportion_confint(count=b[0],nobs=b1,alpha=(1-.95))\n",
    "CI_englandq"
   ]
  },
  {
   "cell_type": "code",
   "execution_count": 124,
   "id": "f1f571cb",
   "metadata": {},
   "outputs": [],
   "source": [
    "df_italyq=df_quali[df_quali[\"country\"]==\"Italy\"]"
   ]
  },
  {
   "cell_type": "code",
   "execution_count": 125,
   "id": "cf4fc2cd",
   "metadata": {},
   "outputs": [],
   "source": [
    "c=np.array(df_italyq[\"result_home\"].value_counts())\n",
    "c1=c.sum()\n",
    "cqhw=c[0]/c1\n",
    "cqhl=c[1]/c1\n",
    "cqhd=c[2]/c1"
   ]
  },
  {
   "cell_type": "code",
   "execution_count": 126,
   "id": "8e1085a0",
   "metadata": {},
   "outputs": [
    {
     "data": {
      "text/plain": [
       "(0.62439657000099, 0.832746287141867)"
      ]
     },
     "execution_count": 126,
     "metadata": {},
     "output_type": "execute_result"
    }
   ],
   "source": [
    "CI_italyq=proportion_confint(count=c[0],nobs=c1,alpha=(1-.95))\n",
    "CI_italyq"
   ]
  },
  {
   "cell_type": "code",
   "execution_count": 127,
   "id": "dc91eb32",
   "metadata": {},
   "outputs": [],
   "source": [
    "df_germanyq=df_quali[df_quali[\"country\"]==\"Germany\"]"
   ]
  },
  {
   "cell_type": "code",
   "execution_count": 128,
   "id": "b7026f06",
   "metadata": {},
   "outputs": [],
   "source": [
    "d=np.array(df_germanyq[\"result_home\"].value_counts())\n",
    "d1=d.sum()\n",
    "dqhw=d[0]/d1\n",
    "dqhl=d[1]/d1\n",
    "dqhd=d[2]/d1"
   ]
  },
  {
   "cell_type": "code",
   "execution_count": 129,
   "id": "c842e32b",
   "metadata": {},
   "outputs": [
    {
     "data": {
      "text/plain": [
       "(0.6426394331057614, 0.8661324967188)"
      ]
     },
     "execution_count": 129,
     "metadata": {},
     "output_type": "execute_result"
    }
   ],
   "source": [
    "CI_germanyq=proportion_confint(count=d[0],nobs=d1,alpha=(1-.95))\n",
    "CI_germanyq"
   ]
  },
  {
   "cell_type": "code",
   "execution_count": 130,
   "id": "81201b2d",
   "metadata": {},
   "outputs": [],
   "source": [
    "df_spainq=df_quali[df_quali[\"country\"]==\"Spain\"]"
   ]
  },
  {
   "cell_type": "code",
   "execution_count": 131,
   "id": "61b6b4f0",
   "metadata": {},
   "outputs": [],
   "source": [
    "e=np.array(df_spainq[\"result_home\"].value_counts())\n",
    "e1=e.sum()\n",
    "eqhw=e[0]/e1\n",
    "eqhl=e[1]/e1\n",
    "eqhd=e[2]/e1"
   ]
  },
  {
   "cell_type": "code",
   "execution_count": 132,
   "id": "7a6009dd",
   "metadata": {},
   "outputs": [
    {
     "data": {
      "text/plain": [
       "(0.6404715250145009, 0.8452427606997849)"
      ]
     },
     "execution_count": 132,
     "metadata": {},
     "output_type": "execute_result"
    }
   ],
   "source": [
    "CI_spainq=proportion_confint(count=e[0],nobs=e1,alpha=(1-.95))\n",
    "CI_spainq"
   ]
  },
  {
   "cell_type": "markdown",
   "id": "2085b62f",
   "metadata": {},
   "source": [
    "Probability of wining, losing and drawing world cup qualification matches played at home."
   ]
  },
  {
   "cell_type": "code",
   "execution_count": 133,
   "id": "a6033749",
   "metadata": {},
   "outputs": [
    {
     "data": {
      "text/html": [
       "<div>\n",
       "<style scoped>\n",
       "    .dataframe tbody tr th:only-of-type {\n",
       "        vertical-align: middle;\n",
       "    }\n",
       "\n",
       "    .dataframe tbody tr th {\n",
       "        vertical-align: top;\n",
       "    }\n",
       "\n",
       "    .dataframe thead th {\n",
       "        text-align: right;\n",
       "    }\n",
       "</style>\n",
       "<table border=\"1\" class=\"dataframe\">\n",
       "  <thead>\n",
       "    <tr style=\"text-align: right;\">\n",
       "      <th></th>\n",
       "      <th>Country</th>\n",
       "      <th>Win</th>\n",
       "      <th>Lose</th>\n",
       "      <th>draw</th>\n",
       "    </tr>\n",
       "  </thead>\n",
       "  <tbody>\n",
       "    <tr>\n",
       "      <th>0</th>\n",
       "      <td>France</td>\n",
       "      <td>0.715232</td>\n",
       "      <td>0.178808</td>\n",
       "      <td>0.105960</td>\n",
       "    </tr>\n",
       "    <tr>\n",
       "      <th>1</th>\n",
       "      <td>England</td>\n",
       "      <td>0.682657</td>\n",
       "      <td>0.199262</td>\n",
       "      <td>0.118081</td>\n",
       "    </tr>\n",
       "    <tr>\n",
       "      <th>2</th>\n",
       "      <td>Italy</td>\n",
       "      <td>0.717647</td>\n",
       "      <td>0.235294</td>\n",
       "      <td>0.047059</td>\n",
       "    </tr>\n",
       "    <tr>\n",
       "      <th>3</th>\n",
       "      <td>Germany</td>\n",
       "      <td>0.735294</td>\n",
       "      <td>0.183824</td>\n",
       "      <td>0.080882</td>\n",
       "    </tr>\n",
       "    <tr>\n",
       "      <th>4</th>\n",
       "      <td>Spain</td>\n",
       "      <td>0.804348</td>\n",
       "      <td>0.144928</td>\n",
       "      <td>0.050725</td>\n",
       "    </tr>\n",
       "  </tbody>\n",
       "</table>\n",
       "</div>"
      ],
      "text/plain": [
       "   Country       Win      Lose      draw\n",
       "0   France  0.715232  0.178808  0.105960\n",
       "1  England  0.682657  0.199262  0.118081\n",
       "2    Italy  0.717647  0.235294  0.047059\n",
       "3  Germany  0.735294  0.183824  0.080882\n",
       "4    Spain  0.804348  0.144928  0.050725"
      ]
     },
     "execution_count": 133,
     "metadata": {},
     "output_type": "execute_result"
    }
   ],
   "source": [
    "prob_homequali={}\n",
    "prob_homequali[\"Country\"]=[\"France\",\"England\",\"Italy\",\"Germany\",\"Spain\"]\n",
    "prob_homequali[\"Win\"]=[awo,bwo,cwo,dwo,ewo]                   \n",
    "prob_homequali[\"Lose\"]=[alo,blo,clo,dlo,elo]\n",
    "prob_homequali[\"draw\"]=[ado,bdo,cdo,ddo,edo]\n",
    "pd.hq=pd.DataFrame(prob_homequali)\n",
    "pd.hq"
   ]
  },
  {
   "cell_type": "markdown",
   "id": "e44d6e80",
   "metadata": {},
   "source": [
    "Graphing the confidence interval of wining world cup qualification matches played at home"
   ]
  },
  {
   "cell_type": "code",
   "execution_count": 134,
   "id": "8205744d",
   "metadata": {},
   "outputs": [],
   "source": [
    "CI_quali={}\n",
    "CI_quali[\"country\"]=[\"England\",\"France\",\"Germany\",\"Italy\",\"Spain\"]\n",
    "CI_quali[\"lb\"]=[CI_englandq[0],CI_franceq[0],CI_germanyq[0],CI_italyq[0],CI_spainq[0]]\n",
    "CI_quali[\"ub\"]=[CI_englandq[1],CI_franceq[1],CI_germanyq[1],CI_italyq[1],CI_spainq[1]]\n",
    "df_CIquali=pd.DataFrame(CI_quali)"
   ]
  },
  {
   "cell_type": "code",
   "execution_count": 135,
   "id": "7eaf9b18",
   "metadata": {},
   "outputs": [
    {
     "data": {
      "text/plain": [
       "([<matplotlib.axis.YTick at 0x1b3262f1700>,\n",
       "  <matplotlib.axis.YTick at 0x1b3262f10a0>,\n",
       "  <matplotlib.axis.YTick at 0x1b3262ed460>,\n",
       "  <matplotlib.axis.YTick at 0x1b3263273d0>,\n",
       "  <matplotlib.axis.YTick at 0x1b326327b20>],\n",
       " [Text(0, 0, 'England'),\n",
       "  Text(0, 1, 'France'),\n",
       "  Text(0, 2, 'Germany'),\n",
       "  Text(0, 3, 'Italy'),\n",
       "  Text(0, 4, 'Spain')])"
      ]
     },
     "execution_count": 135,
     "metadata": {},
     "output_type": "execute_result"
    },
    {
     "data": {
      "image/png": "[encoded data removed]",
      "text/plain": [
       "<Figure size 432x288 with 1 Axes>"
      ]
     },
     "metadata": {
      "needs_background": "light"
     },
     "output_type": "display_data"
    }
   ],
   "source": [
    "for lb,ub,y in zip(df_CIquali['lb'],df_CIquali['ub'],range(len(df_CIquali))):\n",
    "    plt.plot((lb,ub),(y,y),'ro-')\n",
    "plt.yticks(range(len(df_CIquali)),list(df_CIquali['country']))"
   ]
  },
  {
   "cell_type": "code",
   "execution_count": 136,
   "id": "78dfcad2",
   "metadata": {},
   "outputs": [
    {
     "data": {
      "text/plain": [
       "([<matplotlib.axis.YTick at 0x1b32635d250>,\n",
       "  <matplotlib.axis.YTick at 0x1b326356a30>,\n",
       "  <matplotlib.axis.YTick at 0x1b326350940>,\n",
       "  <matplotlib.axis.YTick at 0x1b32638da60>,\n",
       "  <matplotlib.axis.YTick at 0x1b32638dee0>],\n",
       " [Text(0, 0, 'England'),\n",
       "  Text(0, 1, 'France'),\n",
       "  Text(0, 2, 'Germany'),\n",
       "  Text(0, 3, 'Italy'),\n",
       "  Text(0, 4, 'Spain')])"
      ]
     },
     "execution_count": 136,
     "metadata": {},
     "output_type": "execute_result"
    },
    {
     "data": {
      "image/png": "[encoded data removed]",
      "text/plain": [
       "<Figure size 432x288 with 1 Axes>"
      ]
     },
     "metadata": {
      "needs_background": "light"
     },
     "output_type": "display_data"
    }
   ],
   "source": [
    "for lb,ub,y in zip(df_CIhomeo['lb'],df_CIhomeo['ub'],range(len(df_CIhomeo))):\n",
    "    plt.plot((lb,ub),(y,y),'ro-')\n",
    "plt.yticks(range(len(df_CIhomeo)),list(df_CIhomeo['country']))"
   ]
  },
  {
   "cell_type": "markdown",
   "id": "74b689ee",
   "metadata": {},
   "source": [
    "The two of Spain,Germany have the highest probaibilty of wining world cup qualifications played at home, closely follwed by Italy and then France, Moreover there is no significant diffrence between the countries probability of wining"
   ]
  },
  {
   "cell_type": "markdown",
   "id": "e1d4d13e",
   "metadata": {},
   "source": [
    "Comparing each country preforamce in world cup qualification to their overall preformance in offical games:"
   ]
  },
  {
   "cell_type": "markdown",
   "id": "e5ad14ef",
   "metadata": {},
   "source": [
    "Spain:Spain's preformance during the world cup qualification is worse than their perfomencw=ed uring offcial games in genral "
   ]
  },
  {
   "cell_type": "markdown",
   "id": "5facb2e2",
   "metadata": {},
   "source": [
    "Italy:Itay perfoemd better during world cup qualifications than they did in genral "
   ]
  },
  {
   "cell_type": "markdown",
   "id": "01b2c700",
   "metadata": {},
   "source": [
    "Germany: Germany prefromance during world cup qualification is similar to theres durring offical matches in genral."
   ]
  },
  {
   "cell_type": "markdown",
   "id": "3b54124d",
   "metadata": {},
   "source": [
    "France: France preformance during the world cup qualification is worse than their perfomencwe during offcial games in genral "
   ]
  },
  {
   "cell_type": "markdown",
   "id": "c469362d",
   "metadata": {},
   "source": [
    "Engalnd: England preformed susbstanially better in world cup qualification than they did in offical matches in genral "
   ]
  },
  {
   "cell_type": "markdown",
   "id": "ac915528",
   "metadata": {},
   "source": [
    "Conclusion: ALmost all countries preformed better in offical games than they did in freindly matches, which may be due to a multitude of reasons such as the number of fans present, the team whcih is playing as managers usually use the friednly matches to test the substitutions in a real game setting.Furthermore, a signifacnt drop in preformance was seen in all countries when playing in nutral ground for both offical and friendly matches, which may be due to the players being tried from the journey to the stadium, or that they were used to playing in tehir home pitcha nd changing that pitch affected their preformance. \n"
   ]
  },
  {
   "cell_type": "markdown",
   "id": "3b912506",
   "metadata": {},
   "source": [
    "Part 2:"
   ]
  },
  {
   "cell_type": "code",
   "execution_count": 138,
   "id": "114c20ec",
   "metadata": {},
   "outputs": [
    {
     "data": {
      "text/plain": [
       "(122843, 11)"
      ]
     },
     "execution_count": 138,
     "metadata": {},
     "output_type": "execute_result"
    }
   ],
   "source": [
    "df=pd.read_csv('covid_data.csv',encoding='latin-1')\n",
    "df.shape"
   ]
  },
  {
   "cell_type": "code",
   "execution_count": 139,
   "id": "bd7568dd",
   "metadata": {},
   "outputs": [
    {
     "data": {
      "text/html": [
       "<div>\n",
       "<style scoped>\n",
       "    .dataframe tbody tr th:only-of-type {\n",
       "        vertical-align: middle;\n",
       "    }\n",
       "\n",
       "    .dataframe tbody tr th {\n",
       "        vertical-align: top;\n",
       "    }\n",
       "\n",
       "    .dataframe thead th {\n",
       "        text-align: right;\n",
       "    }\n",
       "</style>\n",
       "<table border=\"1\" class=\"dataframe\">\n",
       "  <thead>\n",
       "    <tr style=\"text-align: right;\">\n",
       "      <th></th>\n",
       "      <th>date</th>\n",
       "      <th>iso3c</th>\n",
       "      <th>country</th>\n",
       "      <th>income</th>\n",
       "      <th>region</th>\n",
       "      <th>continent</th>\n",
       "      <th>dcases</th>\n",
       "      <th>ddeaths</th>\n",
       "      <th>population</th>\n",
       "      <th>weekdays</th>\n",
       "      <th>month</th>\n",
       "    </tr>\n",
       "  </thead>\n",
       "  <tbody>\n",
       "    <tr>\n",
       "      <th>0</th>\n",
       "      <td>2020-02-24</td>\n",
       "      <td>AFG</td>\n",
       "      <td>Afghanistan</td>\n",
       "      <td>Low income</td>\n",
       "      <td>South Asia</td>\n",
       "      <td>Asia</td>\n",
       "      <td>5</td>\n",
       "      <td>0</td>\n",
       "      <td>38041754</td>\n",
       "      <td>Mon</td>\n",
       "      <td>Feb</td>\n",
       "    </tr>\n",
       "    <tr>\n",
       "      <th>1</th>\n",
       "      <td>2020-02-25</td>\n",
       "      <td>AFG</td>\n",
       "      <td>Afghanistan</td>\n",
       "      <td>Low income</td>\n",
       "      <td>South Asia</td>\n",
       "      <td>Asia</td>\n",
       "      <td>0</td>\n",
       "      <td>0</td>\n",
       "      <td>38041754</td>\n",
       "      <td>Tue</td>\n",
       "      <td>Feb</td>\n",
       "    </tr>\n",
       "    <tr>\n",
       "      <th>2</th>\n",
       "      <td>2020-02-26</td>\n",
       "      <td>AFG</td>\n",
       "      <td>Afghanistan</td>\n",
       "      <td>Low income</td>\n",
       "      <td>South Asia</td>\n",
       "      <td>Asia</td>\n",
       "      <td>0</td>\n",
       "      <td>0</td>\n",
       "      <td>38041754</td>\n",
       "      <td>Wed</td>\n",
       "      <td>Feb</td>\n",
       "    </tr>\n",
       "    <tr>\n",
       "      <th>3</th>\n",
       "      <td>2020-02-27</td>\n",
       "      <td>AFG</td>\n",
       "      <td>Afghanistan</td>\n",
       "      <td>Low income</td>\n",
       "      <td>South Asia</td>\n",
       "      <td>Asia</td>\n",
       "      <td>0</td>\n",
       "      <td>0</td>\n",
       "      <td>38041754</td>\n",
       "      <td>Thu</td>\n",
       "      <td>Feb</td>\n",
       "    </tr>\n",
       "    <tr>\n",
       "      <th>4</th>\n",
       "      <td>2020-02-28</td>\n",
       "      <td>AFG</td>\n",
       "      <td>Afghanistan</td>\n",
       "      <td>Low income</td>\n",
       "      <td>South Asia</td>\n",
       "      <td>Asia</td>\n",
       "      <td>0</td>\n",
       "      <td>0</td>\n",
       "      <td>38041754</td>\n",
       "      <td>Fri</td>\n",
       "      <td>Feb</td>\n",
       "    </tr>\n",
       "  </tbody>\n",
       "</table>\n",
       "</div>"
      ],
      "text/plain": [
       "         date iso3c      country      income      region continent  dcases  \\\n",
       "0  2020-02-24   AFG  Afghanistan  Low income  South Asia      Asia       5   \n",
       "1  2020-02-25   AFG  Afghanistan  Low income  South Asia      Asia       0   \n",
       "2  2020-02-26   AFG  Afghanistan  Low income  South Asia      Asia       0   \n",
       "3  2020-02-27   AFG  Afghanistan  Low income  South Asia      Asia       0   \n",
       "4  2020-02-28   AFG  Afghanistan  Low income  South Asia      Asia       0   \n",
       "\n",
       "   ddeaths  population weekdays month  \n",
       "0        0    38041754      Mon   Feb  \n",
       "1        0    38041754      Tue   Feb  \n",
       "2        0    38041754      Wed   Feb  \n",
       "3        0    38041754      Thu   Feb  \n",
       "4        0    38041754      Fri   Feb  "
      ]
     },
     "execution_count": 139,
     "metadata": {},
     "output_type": "execute_result"
    }
   ],
   "source": [
    "df.head()"
   ]
  },
  {
   "cell_type": "code",
   "execution_count": 140,
   "id": "199ea3ca",
   "metadata": {},
   "outputs": [],
   "source": [
    "cats=['Fri', 'Sat', 'Sun','Mon','Tue','Wed','Thu']\n",
    "cat_type = CategoricalDtype(categories=cats, ordered=True)\n",
    "df['weekdays'] = df['weekdays'].astype(cat_type)"
   ]
  },
  {
   "cell_type": "code",
   "execution_count": 141,
   "id": "fb6f002d",
   "metadata": {},
   "outputs": [],
   "source": [
    "cats=['Jan', 'Feb', 'Mar','Apr','May','Jun','Jul','Aug','Sep','Oct','Nov','Dec']\n",
    "cat_type = CategoricalDtype(categories=cats, ordered=True)\n",
    "df['month'] = df['month'].astype(cat_type)"
   ]
  },
  {
   "cell_type": "code",
   "execution_count": 142,
   "id": "4a1655f7",
   "metadata": {},
   "outputs": [],
   "source": [
    "def get_ci_lb(x, alpha=0.05):\n",
    "    sample_s=np.std(x)\n",
    "    sample_mean=np.mean(x)\n",
    "    sample_size=len(x)\n",
    "    margin_of_error = t.ppf(1 - alpha/2,sample_size-1)*sample_s/np.sqrt(sample_size-1)\n",
    "    return sample_mean - margin_of_error"
   ]
  },
  {
   "cell_type": "code",
   "execution_count": 143,
   "id": "c5cc0175",
   "metadata": {},
   "outputs": [],
   "source": [
    "def get_ci_ub(x, alpha=0.05):\n",
    "    sample_s=np.std(x)\n",
    "    sample_mean=np.mean(x)\n",
    "    sample_size=len(x)\n",
    "    margin_of_error = t.ppf(1 - alpha/2,sample_size-1)*sample_s/np.sqrt(sample_size-1)\n",
    "    return sample_mean + margin_of_error"
   ]
  },
  {
   "cell_type": "code",
   "execution_count": 144,
   "id": "8f24865b",
   "metadata": {},
   "outputs": [],
   "source": [
    "start_date1='2020-01-01'\n",
    "end_date1='2020-12-31'\n",
    "start_date2='2021-01-01'\n",
    "end_date2='2021-12-31'"
   ]
  },
  {
   "cell_type": "code",
   "execution_count": 145,
   "id": "435f928e",
   "metadata": {},
   "outputs": [],
   "source": [
    "c20=(df[\"date\"]>=start_date1) & (df[\"date\"]<=end_date1)\n",
    "c21=(df[\"date\"]>=start_date2) & (df[\"date\"]<=end_date2)"
   ]
  },
  {
   "cell_type": "code",
   "execution_count": 146,
   "id": "58f0d661",
   "metadata": {},
   "outputs": [],
   "source": [
    "conditions=[(c20==True),(c21==True)]\n",
    "values=[\"2020\",\"2021\"]"
   ]
  },
  {
   "cell_type": "code",
   "execution_count": 147,
   "id": "2705f043",
   "metadata": {},
   "outputs": [
    {
     "data": {
      "text/html": [
       "<div>\n",
       "<style scoped>\n",
       "    .dataframe tbody tr th:only-of-type {\n",
       "        vertical-align: middle;\n",
       "    }\n",
       "\n",
       "    .dataframe tbody tr th {\n",
       "        vertical-align: top;\n",
       "    }\n",
       "\n",
       "    .dataframe thead th {\n",
       "        text-align: right;\n",
       "    }\n",
       "</style>\n",
       "<table border=\"1\" class=\"dataframe\">\n",
       "  <thead>\n",
       "    <tr style=\"text-align: right;\">\n",
       "      <th></th>\n",
       "      <th>date</th>\n",
       "      <th>iso3c</th>\n",
       "      <th>country</th>\n",
       "      <th>income</th>\n",
       "      <th>region</th>\n",
       "      <th>continent</th>\n",
       "      <th>dcases</th>\n",
       "      <th>ddeaths</th>\n",
       "      <th>population</th>\n",
       "      <th>weekdays</th>\n",
       "      <th>month</th>\n",
       "      <th>year</th>\n",
       "    </tr>\n",
       "  </thead>\n",
       "  <tbody>\n",
       "    <tr>\n",
       "      <th>0</th>\n",
       "      <td>2020-02-24</td>\n",
       "      <td>AFG</td>\n",
       "      <td>Afghanistan</td>\n",
       "      <td>Low income</td>\n",
       "      <td>South Asia</td>\n",
       "      <td>Asia</td>\n",
       "      <td>5</td>\n",
       "      <td>0</td>\n",
       "      <td>38041754</td>\n",
       "      <td>Mon</td>\n",
       "      <td>Feb</td>\n",
       "      <td>2020</td>\n",
       "    </tr>\n",
       "    <tr>\n",
       "      <th>1</th>\n",
       "      <td>2020-02-25</td>\n",
       "      <td>AFG</td>\n",
       "      <td>Afghanistan</td>\n",
       "      <td>Low income</td>\n",
       "      <td>South Asia</td>\n",
       "      <td>Asia</td>\n",
       "      <td>0</td>\n",
       "      <td>0</td>\n",
       "      <td>38041754</td>\n",
       "      <td>Tue</td>\n",
       "      <td>Feb</td>\n",
       "      <td>2020</td>\n",
       "    </tr>\n",
       "    <tr>\n",
       "      <th>2</th>\n",
       "      <td>2020-02-26</td>\n",
       "      <td>AFG</td>\n",
       "      <td>Afghanistan</td>\n",
       "      <td>Low income</td>\n",
       "      <td>South Asia</td>\n",
       "      <td>Asia</td>\n",
       "      <td>0</td>\n",
       "      <td>0</td>\n",
       "      <td>38041754</td>\n",
       "      <td>Wed</td>\n",
       "      <td>Feb</td>\n",
       "      <td>2020</td>\n",
       "    </tr>\n",
       "    <tr>\n",
       "      <th>3</th>\n",
       "      <td>2020-02-27</td>\n",
       "      <td>AFG</td>\n",
       "      <td>Afghanistan</td>\n",
       "      <td>Low income</td>\n",
       "      <td>South Asia</td>\n",
       "      <td>Asia</td>\n",
       "      <td>0</td>\n",
       "      <td>0</td>\n",
       "      <td>38041754</td>\n",
       "      <td>Thu</td>\n",
       "      <td>Feb</td>\n",
       "      <td>2020</td>\n",
       "    </tr>\n",
       "    <tr>\n",
       "      <th>4</th>\n",
       "      <td>2020-02-28</td>\n",
       "      <td>AFG</td>\n",
       "      <td>Afghanistan</td>\n",
       "      <td>Low income</td>\n",
       "      <td>South Asia</td>\n",
       "      <td>Asia</td>\n",
       "      <td>0</td>\n",
       "      <td>0</td>\n",
       "      <td>38041754</td>\n",
       "      <td>Fri</td>\n",
       "      <td>Feb</td>\n",
       "      <td>2020</td>\n",
       "    </tr>\n",
       "    <tr>\n",
       "      <th>...</th>\n",
       "      <td>...</td>\n",
       "      <td>...</td>\n",
       "      <td>...</td>\n",
       "      <td>...</td>\n",
       "      <td>...</td>\n",
       "      <td>...</td>\n",
       "      <td>...</td>\n",
       "      <td>...</td>\n",
       "      <td>...</td>\n",
       "      <td>...</td>\n",
       "      <td>...</td>\n",
       "      <td>...</td>\n",
       "    </tr>\n",
       "    <tr>\n",
       "      <th>122838</th>\n",
       "      <td>2021-12-27</td>\n",
       "      <td>ZWE</td>\n",
       "      <td>Zimbabwe</td>\n",
       "      <td>Lower middle income</td>\n",
       "      <td>Sub-Saharan Africa</td>\n",
       "      <td>Africa</td>\n",
       "      <td>1098</td>\n",
       "      <td>17</td>\n",
       "      <td>14645468</td>\n",
       "      <td>Mon</td>\n",
       "      <td>Dec</td>\n",
       "      <td>2021</td>\n",
       "    </tr>\n",
       "    <tr>\n",
       "      <th>122839</th>\n",
       "      <td>2021-12-28</td>\n",
       "      <td>ZWE</td>\n",
       "      <td>Zimbabwe</td>\n",
       "      <td>Lower middle income</td>\n",
       "      <td>Sub-Saharan Africa</td>\n",
       "      <td>Africa</td>\n",
       "      <td>2099</td>\n",
       "      <td>32</td>\n",
       "      <td>14645468</td>\n",
       "      <td>Tue</td>\n",
       "      <td>Dec</td>\n",
       "      <td>2021</td>\n",
       "    </tr>\n",
       "    <tr>\n",
       "      <th>122840</th>\n",
       "      <td>2021-12-29</td>\n",
       "      <td>ZWE</td>\n",
       "      <td>Zimbabwe</td>\n",
       "      <td>Lower middle income</td>\n",
       "      <td>Sub-Saharan Africa</td>\n",
       "      <td>Africa</td>\n",
       "      <td>0</td>\n",
       "      <td>0</td>\n",
       "      <td>14645468</td>\n",
       "      <td>Wed</td>\n",
       "      <td>Dec</td>\n",
       "      <td>2021</td>\n",
       "    </tr>\n",
       "    <tr>\n",
       "      <th>122841</th>\n",
       "      <td>2021-12-30</td>\n",
       "      <td>ZWE</td>\n",
       "      <td>Zimbabwe</td>\n",
       "      <td>Lower middle income</td>\n",
       "      <td>Sub-Saharan Africa</td>\n",
       "      <td>Africa</td>\n",
       "      <td>4180</td>\n",
       "      <td>57</td>\n",
       "      <td>14645468</td>\n",
       "      <td>Thu</td>\n",
       "      <td>Dec</td>\n",
       "      <td>2021</td>\n",
       "    </tr>\n",
       "    <tr>\n",
       "      <th>122842</th>\n",
       "      <td>2021-12-31</td>\n",
       "      <td>ZWE</td>\n",
       "      <td>Zimbabwe</td>\n",
       "      <td>Lower middle income</td>\n",
       "      <td>Sub-Saharan Africa</td>\n",
       "      <td>Africa</td>\n",
       "      <td>1530</td>\n",
       "      <td>7</td>\n",
       "      <td>14645468</td>\n",
       "      <td>Fri</td>\n",
       "      <td>Dec</td>\n",
       "      <td>2021</td>\n",
       "    </tr>\n",
       "  </tbody>\n",
       "</table>\n",
       "<p>122843 rows × 12 columns</p>\n",
       "</div>"
      ],
      "text/plain": [
       "              date iso3c      country               income  \\\n",
       "0       2020-02-24   AFG  Afghanistan           Low income   \n",
       "1       2020-02-25   AFG  Afghanistan           Low income   \n",
       "2       2020-02-26   AFG  Afghanistan           Low income   \n",
       "3       2020-02-27   AFG  Afghanistan           Low income   \n",
       "4       2020-02-28   AFG  Afghanistan           Low income   \n",
       "...            ...   ...          ...                  ...   \n",
       "122838  2021-12-27   ZWE     Zimbabwe  Lower middle income   \n",
       "122839  2021-12-28   ZWE     Zimbabwe  Lower middle income   \n",
       "122840  2021-12-29   ZWE     Zimbabwe  Lower middle income   \n",
       "122841  2021-12-30   ZWE     Zimbabwe  Lower middle income   \n",
       "122842  2021-12-31   ZWE     Zimbabwe  Lower middle income   \n",
       "\n",
       "                    region continent  dcases  ddeaths  population weekdays  \\\n",
       "0               South Asia      Asia       5        0    38041754      Mon   \n",
       "1               South Asia      Asia       0        0    38041754      Tue   \n",
       "2               South Asia      Asia       0        0    38041754      Wed   \n",
       "3               South Asia      Asia       0        0    38041754      Thu   \n",
       "4               South Asia      Asia       0        0    38041754      Fri   \n",
       "...                    ...       ...     ...      ...         ...      ...   \n",
       "122838  Sub-Saharan Africa    Africa    1098       17    14645468      Mon   \n",
       "122839  Sub-Saharan Africa    Africa    2099       32    14645468      Tue   \n",
       "122840  Sub-Saharan Africa    Africa       0        0    14645468      Wed   \n",
       "122841  Sub-Saharan Africa    Africa    4180       57    14645468      Thu   \n",
       "122842  Sub-Saharan Africa    Africa    1530        7    14645468      Fri   \n",
       "\n",
       "       month  year  \n",
       "0        Feb  2020  \n",
       "1        Feb  2020  \n",
       "2        Feb  2020  \n",
       "3        Feb  2020  \n",
       "4        Feb  2020  \n",
       "...      ...   ...  \n",
       "122838   Dec  2021  \n",
       "122839   Dec  2021  \n",
       "122840   Dec  2021  \n",
       "122841   Dec  2021  \n",
       "122842   Dec  2021  \n",
       "\n",
       "[122843 rows x 12 columns]"
      ]
     },
     "execution_count": 147,
     "metadata": {},
     "output_type": "execute_result"
    }
   ],
   "source": [
    "df[\"year\"]=np.select(conditions,values)\n",
    "df"
   ]
  },
  {
   "cell_type": "code",
   "execution_count": 148,
   "id": "11097108",
   "metadata": {
    "scrolled": true
   },
   "outputs": [],
   "source": [
    "df['totalcases'] = df.groupby(['iso3c'])['dcases'].cumsum()\n",
    "df['totaldeaths'] = df.groupby(['iso3c'])['ddeaths'].cumsum()"
   ]
  },
  {
   "cell_type": "code",
   "execution_count": 149,
   "id": "567059dd",
   "metadata": {},
   "outputs": [
    {
     "data": {
      "text/html": [
       "<div>\n",
       "<style scoped>\n",
       "    .dataframe tbody tr th:only-of-type {\n",
       "        vertical-align: middle;\n",
       "    }\n",
       "\n",
       "    .dataframe tbody tr th {\n",
       "        vertical-align: top;\n",
       "    }\n",
       "\n",
       "    .dataframe thead th {\n",
       "        text-align: right;\n",
       "    }\n",
       "</style>\n",
       "<table border=\"1\" class=\"dataframe\">\n",
       "  <thead>\n",
       "    <tr style=\"text-align: right;\">\n",
       "      <th></th>\n",
       "      <th>date</th>\n",
       "      <th>iso3c</th>\n",
       "      <th>country</th>\n",
       "      <th>income</th>\n",
       "      <th>region</th>\n",
       "      <th>continent</th>\n",
       "      <th>dcases</th>\n",
       "      <th>ddeaths</th>\n",
       "      <th>population</th>\n",
       "      <th>weekdays</th>\n",
       "      <th>month</th>\n",
       "      <th>year</th>\n",
       "      <th>totalcases</th>\n",
       "      <th>totaldeaths</th>\n",
       "      <th>rate</th>\n",
       "    </tr>\n",
       "  </thead>\n",
       "  <tbody>\n",
       "    <tr>\n",
       "      <th>0</th>\n",
       "      <td>2020-02-24</td>\n",
       "      <td>AFG</td>\n",
       "      <td>Afghanistan</td>\n",
       "      <td>Low income</td>\n",
       "      <td>South Asia</td>\n",
       "      <td>Asia</td>\n",
       "      <td>5</td>\n",
       "      <td>0</td>\n",
       "      <td>38041754</td>\n",
       "      <td>Mon</td>\n",
       "      <td>Feb</td>\n",
       "      <td>2020</td>\n",
       "      <td>5</td>\n",
       "      <td>0</td>\n",
       "      <td>0.000000</td>\n",
       "    </tr>\n",
       "    <tr>\n",
       "      <th>1</th>\n",
       "      <td>2020-02-25</td>\n",
       "      <td>AFG</td>\n",
       "      <td>Afghanistan</td>\n",
       "      <td>Low income</td>\n",
       "      <td>South Asia</td>\n",
       "      <td>Asia</td>\n",
       "      <td>0</td>\n",
       "      <td>0</td>\n",
       "      <td>38041754</td>\n",
       "      <td>Tue</td>\n",
       "      <td>Feb</td>\n",
       "      <td>2020</td>\n",
       "      <td>5</td>\n",
       "      <td>0</td>\n",
       "      <td>0.000000</td>\n",
       "    </tr>\n",
       "    <tr>\n",
       "      <th>2</th>\n",
       "      <td>2020-02-26</td>\n",
       "      <td>AFG</td>\n",
       "      <td>Afghanistan</td>\n",
       "      <td>Low income</td>\n",
       "      <td>South Asia</td>\n",
       "      <td>Asia</td>\n",
       "      <td>0</td>\n",
       "      <td>0</td>\n",
       "      <td>38041754</td>\n",
       "      <td>Wed</td>\n",
       "      <td>Feb</td>\n",
       "      <td>2020</td>\n",
       "      <td>5</td>\n",
       "      <td>0</td>\n",
       "      <td>0.000000</td>\n",
       "    </tr>\n",
       "    <tr>\n",
       "      <th>3</th>\n",
       "      <td>2020-02-27</td>\n",
       "      <td>AFG</td>\n",
       "      <td>Afghanistan</td>\n",
       "      <td>Low income</td>\n",
       "      <td>South Asia</td>\n",
       "      <td>Asia</td>\n",
       "      <td>0</td>\n",
       "      <td>0</td>\n",
       "      <td>38041754</td>\n",
       "      <td>Thu</td>\n",
       "      <td>Feb</td>\n",
       "      <td>2020</td>\n",
       "      <td>5</td>\n",
       "      <td>0</td>\n",
       "      <td>0.000000</td>\n",
       "    </tr>\n",
       "    <tr>\n",
       "      <th>4</th>\n",
       "      <td>2020-02-28</td>\n",
       "      <td>AFG</td>\n",
       "      <td>Afghanistan</td>\n",
       "      <td>Low income</td>\n",
       "      <td>South Asia</td>\n",
       "      <td>Asia</td>\n",
       "      <td>0</td>\n",
       "      <td>0</td>\n",
       "      <td>38041754</td>\n",
       "      <td>Fri</td>\n",
       "      <td>Feb</td>\n",
       "      <td>2020</td>\n",
       "      <td>5</td>\n",
       "      <td>0</td>\n",
       "      <td>0.000000</td>\n",
       "    </tr>\n",
       "    <tr>\n",
       "      <th>...</th>\n",
       "      <td>...</td>\n",
       "      <td>...</td>\n",
       "      <td>...</td>\n",
       "      <td>...</td>\n",
       "      <td>...</td>\n",
       "      <td>...</td>\n",
       "      <td>...</td>\n",
       "      <td>...</td>\n",
       "      <td>...</td>\n",
       "      <td>...</td>\n",
       "      <td>...</td>\n",
       "      <td>...</td>\n",
       "      <td>...</td>\n",
       "      <td>...</td>\n",
       "      <td>...</td>\n",
       "    </tr>\n",
       "    <tr>\n",
       "      <th>122838</th>\n",
       "      <td>2021-12-27</td>\n",
       "      <td>ZWE</td>\n",
       "      <td>Zimbabwe</td>\n",
       "      <td>Lower middle income</td>\n",
       "      <td>Sub-Saharan Africa</td>\n",
       "      <td>Africa</td>\n",
       "      <td>1098</td>\n",
       "      <td>17</td>\n",
       "      <td>14645468</td>\n",
       "      <td>Mon</td>\n",
       "      <td>Dec</td>\n",
       "      <td>2021</td>\n",
       "      <td>205455</td>\n",
       "      <td>4908</td>\n",
       "      <td>0.023888</td>\n",
       "    </tr>\n",
       "    <tr>\n",
       "      <th>122839</th>\n",
       "      <td>2021-12-28</td>\n",
       "      <td>ZWE</td>\n",
       "      <td>Zimbabwe</td>\n",
       "      <td>Lower middle income</td>\n",
       "      <td>Sub-Saharan Africa</td>\n",
       "      <td>Africa</td>\n",
       "      <td>2099</td>\n",
       "      <td>32</td>\n",
       "      <td>14645468</td>\n",
       "      <td>Tue</td>\n",
       "      <td>Dec</td>\n",
       "      <td>2021</td>\n",
       "      <td>207554</td>\n",
       "      <td>4940</td>\n",
       "      <td>0.023801</td>\n",
       "    </tr>\n",
       "    <tr>\n",
       "      <th>122840</th>\n",
       "      <td>2021-12-29</td>\n",
       "      <td>ZWE</td>\n",
       "      <td>Zimbabwe</td>\n",
       "      <td>Lower middle income</td>\n",
       "      <td>Sub-Saharan Africa</td>\n",
       "      <td>Africa</td>\n",
       "      <td>0</td>\n",
       "      <td>0</td>\n",
       "      <td>14645468</td>\n",
       "      <td>Wed</td>\n",
       "      <td>Dec</td>\n",
       "      <td>2021</td>\n",
       "      <td>207554</td>\n",
       "      <td>4940</td>\n",
       "      <td>0.023801</td>\n",
       "    </tr>\n",
       "    <tr>\n",
       "      <th>122841</th>\n",
       "      <td>2021-12-30</td>\n",
       "      <td>ZWE</td>\n",
       "      <td>Zimbabwe</td>\n",
       "      <td>Lower middle income</td>\n",
       "      <td>Sub-Saharan Africa</td>\n",
       "      <td>Africa</td>\n",
       "      <td>4180</td>\n",
       "      <td>57</td>\n",
       "      <td>14645468</td>\n",
       "      <td>Thu</td>\n",
       "      <td>Dec</td>\n",
       "      <td>2021</td>\n",
       "      <td>211734</td>\n",
       "      <td>4997</td>\n",
       "      <td>0.023600</td>\n",
       "    </tr>\n",
       "    <tr>\n",
       "      <th>122842</th>\n",
       "      <td>2021-12-31</td>\n",
       "      <td>ZWE</td>\n",
       "      <td>Zimbabwe</td>\n",
       "      <td>Lower middle income</td>\n",
       "      <td>Sub-Saharan Africa</td>\n",
       "      <td>Africa</td>\n",
       "      <td>1530</td>\n",
       "      <td>7</td>\n",
       "      <td>14645468</td>\n",
       "      <td>Fri</td>\n",
       "      <td>Dec</td>\n",
       "      <td>2021</td>\n",
       "      <td>213264</td>\n",
       "      <td>5004</td>\n",
       "      <td>0.023464</td>\n",
       "    </tr>\n",
       "  </tbody>\n",
       "</table>\n",
       "<p>122843 rows × 15 columns</p>\n",
       "</div>"
      ],
      "text/plain": [
       "              date iso3c      country               income  \\\n",
       "0       2020-02-24   AFG  Afghanistan           Low income   \n",
       "1       2020-02-25   AFG  Afghanistan           Low income   \n",
       "2       2020-02-26   AFG  Afghanistan           Low income   \n",
       "3       2020-02-27   AFG  Afghanistan           Low income   \n",
       "4       2020-02-28   AFG  Afghanistan           Low income   \n",
       "...            ...   ...          ...                  ...   \n",
       "122838  2021-12-27   ZWE     Zimbabwe  Lower middle income   \n",
       "122839  2021-12-28   ZWE     Zimbabwe  Lower middle income   \n",
       "122840  2021-12-29   ZWE     Zimbabwe  Lower middle income   \n",
       "122841  2021-12-30   ZWE     Zimbabwe  Lower middle income   \n",
       "122842  2021-12-31   ZWE     Zimbabwe  Lower middle income   \n",
       "\n",
       "                    region continent  dcases  ddeaths  population weekdays  \\\n",
       "0               South Asia      Asia       5        0    38041754      Mon   \n",
       "1               South Asia      Asia       0        0    38041754      Tue   \n",
       "2               South Asia      Asia       0        0    38041754      Wed   \n",
       "3               South Asia      Asia       0        0    38041754      Thu   \n",
       "4               South Asia      Asia       0        0    38041754      Fri   \n",
       "...                    ...       ...     ...      ...         ...      ...   \n",
       "122838  Sub-Saharan Africa    Africa    1098       17    14645468      Mon   \n",
       "122839  Sub-Saharan Africa    Africa    2099       32    14645468      Tue   \n",
       "122840  Sub-Saharan Africa    Africa       0        0    14645468      Wed   \n",
       "122841  Sub-Saharan Africa    Africa    4180       57    14645468      Thu   \n",
       "122842  Sub-Saharan Africa    Africa    1530        7    14645468      Fri   \n",
       "\n",
       "       month  year  totalcases  totaldeaths      rate  \n",
       "0        Feb  2020           5            0  0.000000  \n",
       "1        Feb  2020           5            0  0.000000  \n",
       "2        Feb  2020           5            0  0.000000  \n",
       "3        Feb  2020           5            0  0.000000  \n",
       "4        Feb  2020           5            0  0.000000  \n",
       "...      ...   ...         ...          ...       ...  \n",
       "122838   Dec  2021      205455         4908  0.023888  \n",
       "122839   Dec  2021      207554         4940  0.023801  \n",
       "122840   Dec  2021      207554         4940  0.023801  \n",
       "122841   Dec  2021      211734         4997  0.023600  \n",
       "122842   Dec  2021      213264         5004  0.023464  \n",
       "\n",
       "[122843 rows x 15 columns]"
      ]
     },
     "execution_count": 149,
     "metadata": {},
     "output_type": "execute_result"
    }
   ],
   "source": [
    "df['rate']=df['totaldeaths']/df['totalcases']\n",
    "df"
   ]
  },
  {
   "cell_type": "markdown",
   "id": "034df990",
   "metadata": {},
   "source": [
    "4: comparing between 2020 and 2021"
   ]
  },
  {
   "cell_type": "markdown",
   "id": "7580f593",
   "metadata": {},
   "source": [
    "4.1: comparing daily cases reported, by calculating the mean, standred deviation and the confidence intervals of daily case reported."
   ]
  },
  {
   "cell_type": "code",
   "execution_count": 150,
   "id": "c6e989ea",
   "metadata": {},
   "outputs": [
    {
     "data": {
      "text/html": [
       "<div>\n",
       "<style scoped>\n",
       "    .dataframe tbody tr th:only-of-type {\n",
       "        vertical-align: middle;\n",
       "    }\n",
       "\n",
       "    .dataframe tbody tr th {\n",
       "        vertical-align: top;\n",
       "    }\n",
       "\n",
       "    .dataframe thead tr th {\n",
       "        text-align: left;\n",
       "    }\n",
       "\n",
       "    .dataframe thead tr:last-of-type th {\n",
       "        text-align: right;\n",
       "    }\n",
       "</style>\n",
       "<table border=\"1\" class=\"dataframe\">\n",
       "  <thead>\n",
       "    <tr>\n",
       "      <th></th>\n",
       "      <th colspan=\"3\" halign=\"left\">dcases</th>\n",
       "    </tr>\n",
       "    <tr>\n",
       "      <th></th>\n",
       "      <th>mean</th>\n",
       "      <th>std</th>\n",
       "      <th>size</th>\n",
       "    </tr>\n",
       "    <tr>\n",
       "      <th>year</th>\n",
       "      <th></th>\n",
       "      <th></th>\n",
       "      <th></th>\n",
       "    </tr>\n",
       "  </thead>\n",
       "  <tbody>\n",
       "    <tr>\n",
       "      <th>2020</th>\n",
       "      <td>1525.522581</td>\n",
       "      <td>9058.721229</td>\n",
       "      <td>54958</td>\n",
       "    </tr>\n",
       "    <tr>\n",
       "      <th>2021</th>\n",
       "      <td>3024.213361</td>\n",
       "      <td>14296.743795</td>\n",
       "      <td>67885</td>\n",
       "    </tr>\n",
       "  </tbody>\n",
       "</table>\n",
       "</div>"
      ],
      "text/plain": [
       "           dcases                     \n",
       "             mean           std   size\n",
       "year                                  \n",
       "2020  1525.522581   9058.721229  54958\n",
       "2021  3024.213361  14296.743795  67885"
      ]
     },
     "execution_count": 150,
     "metadata": {},
     "output_type": "execute_result"
    }
   ],
   "source": [
    "stats=df.groupby(\"year\").agg({\"dcases\": [np.mean, np.std, np.size]})\n",
    "stats"
   ]
  },
  {
   "cell_type": "markdown",
   "id": "ffc081f2",
   "metadata": {},
   "source": [
    "In 2020, the mean was signifcantly lower than in 2021, indicating that the virues has infected sigificantly more people in 2021, moreover the standred deviation in 2021 is higher indicating that the data is more spread out in 2021 than it is in 2020, wich could be a result of "
   ]
  },
  {
   "cell_type": "code",
   "execution_count": 151,
   "id": "6ef699b1",
   "metadata": {},
   "outputs": [],
   "source": [
    "ci95_hic = []\n",
    "ci95_loc= []"
   ]
  },
  {
   "cell_type": "code",
   "execution_count": 152,
   "id": "891ae806",
   "metadata": {},
   "outputs": [
    {
     "name": "stdout",
     "output_type": "stream",
     "text": [
      "2020\n",
      "2020\n",
      "dcases  mean     1525.522581\n",
      "        std      9058.721229\n",
      "        size    54958.000000\n",
      "Name: 2020, dtype: float64\n",
      "54958.0\n",
      "2021\n",
      "dcases  mean     3024.213361\n",
      "        std     14296.743795\n",
      "        size    67885.000000\n",
      "Name: 2021, dtype: float64\n",
      "67885.0\n"
     ]
    }
   ],
   "source": [
    "print(stats.index[0])\n",
    "for i in stats.index:\n",
    "    print(i)\n",
    "    print(stats.loc[i])\n",
    "    m, s, n,  = stats.loc[i]\n",
    "    print(n)\n",
    "    x=scipy.stats.t.interval(.95, n-1, m,s/np.sqrt(n-1))\n",
    "    ci95_hic.append(x[1])\n",
    "    ci95_loc.append(x[0])"
   ]
  },
  {
   "cell_type": "code",
   "execution_count": 153,
   "id": "4ab66e78",
   "metadata": {},
   "outputs": [
    {
     "data": {
      "text/html": [
       "<div>\n",
       "<style scoped>\n",
       "    .dataframe tbody tr th:only-of-type {\n",
       "        vertical-align: middle;\n",
       "    }\n",
       "\n",
       "    .dataframe tbody tr th {\n",
       "        vertical-align: top;\n",
       "    }\n",
       "\n",
       "    .dataframe thead tr th {\n",
       "        text-align: left;\n",
       "    }\n",
       "\n",
       "    .dataframe thead tr:last-of-type th {\n",
       "        text-align: right;\n",
       "    }\n",
       "</style>\n",
       "<table border=\"1\" class=\"dataframe\">\n",
       "  <thead>\n",
       "    <tr>\n",
       "      <th></th>\n",
       "      <th colspan=\"3\" halign=\"left\">dcases</th>\n",
       "      <th>ci95_hic</th>\n",
       "      <th>ci95_loc</th>\n",
       "    </tr>\n",
       "    <tr>\n",
       "      <th></th>\n",
       "      <th>mean</th>\n",
       "      <th>std</th>\n",
       "      <th>size</th>\n",
       "      <th></th>\n",
       "      <th></th>\n",
       "    </tr>\n",
       "    <tr>\n",
       "      <th>year</th>\n",
       "      <th></th>\n",
       "      <th></th>\n",
       "      <th></th>\n",
       "      <th></th>\n",
       "      <th></th>\n",
       "    </tr>\n",
       "  </thead>\n",
       "  <tbody>\n",
       "    <tr>\n",
       "      <th>2020</th>\n",
       "      <td>1525.522581</td>\n",
       "      <td>9058.721229</td>\n",
       "      <td>54958</td>\n",
       "      <td>1601.260443</td>\n",
       "      <td>1449.784719</td>\n",
       "    </tr>\n",
       "    <tr>\n",
       "      <th>2021</th>\n",
       "      <td>3024.213361</td>\n",
       "      <td>14296.743795</td>\n",
       "      <td>67885</td>\n",
       "      <td>3131.763074</td>\n",
       "      <td>2916.663648</td>\n",
       "    </tr>\n",
       "  </tbody>\n",
       "</table>\n",
       "</div>"
      ],
      "text/plain": [
       "           dcases                          ci95_hic     ci95_loc\n",
       "             mean           std   size                          \n",
       "year                                                            \n",
       "2020  1525.522581   9058.721229  54958  1601.260443  1449.784719\n",
       "2021  3024.213361  14296.743795  67885  3131.763074  2916.663648"
      ]
     },
     "execution_count": 153,
     "metadata": {},
     "output_type": "execute_result"
    }
   ],
   "source": [
    "stats['ci95_hic'] = ci95_hic\n",
    "stats['ci95_loc'] = ci95_loc\n",
    "stats"
   ]
  },
  {
   "cell_type": "code",
   "execution_count": 154,
   "id": "585d4aa7",
   "metadata": {},
   "outputs": [],
   "source": [
    "df_2120c=pd.DataFrame(stats)"
   ]
  },
  {
   "cell_type": "code",
   "execution_count": 155,
   "id": "3a5789f9",
   "metadata": {},
   "outputs": [
    {
     "data": {
      "text/html": [
       "<div>\n",
       "<style scoped>\n",
       "    .dataframe tbody tr th:only-of-type {\n",
       "        vertical-align: middle;\n",
       "    }\n",
       "\n",
       "    .dataframe tbody tr th {\n",
       "        vertical-align: top;\n",
       "    }\n",
       "\n",
       "    .dataframe thead tr th {\n",
       "        text-align: left;\n",
       "    }\n",
       "\n",
       "    .dataframe thead tr:last-of-type th {\n",
       "        text-align: right;\n",
       "    }\n",
       "</style>\n",
       "<table border=\"1\" class=\"dataframe\">\n",
       "  <thead>\n",
       "    <tr>\n",
       "      <th></th>\n",
       "      <th colspan=\"3\" halign=\"left\">dcases</th>\n",
       "      <th>ci95_hic</th>\n",
       "      <th>ci95_loc</th>\n",
       "      <th>year</th>\n",
       "    </tr>\n",
       "    <tr>\n",
       "      <th></th>\n",
       "      <th>mean</th>\n",
       "      <th>std</th>\n",
       "      <th>size</th>\n",
       "      <th></th>\n",
       "      <th></th>\n",
       "      <th></th>\n",
       "    </tr>\n",
       "    <tr>\n",
       "      <th>year</th>\n",
       "      <th></th>\n",
       "      <th></th>\n",
       "      <th></th>\n",
       "      <th></th>\n",
       "      <th></th>\n",
       "      <th></th>\n",
       "    </tr>\n",
       "  </thead>\n",
       "  <tbody>\n",
       "    <tr>\n",
       "      <th>2020</th>\n",
       "      <td>1525.522581</td>\n",
       "      <td>9058.721229</td>\n",
       "      <td>54958</td>\n",
       "      <td>1601.260443</td>\n",
       "      <td>1449.784719</td>\n",
       "      <td>2020</td>\n",
       "    </tr>\n",
       "    <tr>\n",
       "      <th>2021</th>\n",
       "      <td>3024.213361</td>\n",
       "      <td>14296.743795</td>\n",
       "      <td>67885</td>\n",
       "      <td>3131.763074</td>\n",
       "      <td>2916.663648</td>\n",
       "      <td>2021</td>\n",
       "    </tr>\n",
       "  </tbody>\n",
       "</table>\n",
       "</div>"
      ],
      "text/plain": [
       "           dcases                          ci95_hic     ci95_loc  year\n",
       "             mean           std   size                                \n",
       "year                                                                  \n",
       "2020  1525.522581   9058.721229  54958  1601.260443  1449.784719  2020\n",
       "2021  3024.213361  14296.743795  67885  3131.763074  2916.663648  2021"
      ]
     },
     "execution_count": 155,
     "metadata": {},
     "output_type": "execute_result"
    }
   ],
   "source": [
    "y=df_2120c.index\n",
    "df_2120c[\"year\"]=y\n",
    "df_2120c"
   ]
  },
  {
   "cell_type": "code",
   "execution_count": 156,
   "id": "597f18ae",
   "metadata": {},
   "outputs": [
    {
     "data": {
      "text/plain": [
       "Text(0.5, 1.0, ' daily cases 2020 and 2021')"
      ]
     },
     "execution_count": 156,
     "metadata": {},
     "output_type": "execute_result"
    },
    {
     "data": {
      "image/png": "[encoded data removed]",
      "text/plain": [
       "<Figure size 432x288 with 1 Axes>"
      ]
     },
     "metadata": {
      "needs_background": "light"
     },
     "output_type": "display_data"
    }
   ],
   "source": [
    "for lb,ub,y in zip(df_2120c['ci95_loc'],df_2120c['ci95_hic'],range(len(df_2120c))):\n",
    "    plt.plot((lb,ub),(y,y),'ro-')\n",
    "plt.yticks(range(len(df_2120c)),list(df_2120c['year']))\n",
    "plt.xlabel(\"Daily cases\")\n",
    "plt.ylabel(\"year\")\n",
    "plt.title(\" daily cases 2020 and 2021\")"
   ]
  },
  {
   "cell_type": "markdown",
   "id": "faa41704",
   "metadata": {},
   "source": [
    "The mean daily cases in 2021 is almost double that of 2020. This could be due to the new strains that spread more and faster than the original starin such as the delta strain and the increased avalibilty of tests throught 2021, that were not avalibale in 202 due to slow production. "
   ]
  },
  {
   "cell_type": "markdown",
   "id": "4bc17bab",
   "metadata": {},
   "source": [
    "4.2: comparing daily deaths reported, by calculating the mean, standred deviation and the confidence intervals of daily case reported."
   ]
  },
  {
   "cell_type": "code",
   "execution_count": 157,
   "id": "0e8db7bc",
   "metadata": {
    "scrolled": true
   },
   "outputs": [
    {
     "data": {
      "text/html": [
       "<div>\n",
       "<style scoped>\n",
       "    .dataframe tbody tr th:only-of-type {\n",
       "        vertical-align: middle;\n",
       "    }\n",
       "\n",
       "    .dataframe tbody tr th {\n",
       "        vertical-align: top;\n",
       "    }\n",
       "\n",
       "    .dataframe thead tr th {\n",
       "        text-align: left;\n",
       "    }\n",
       "\n",
       "    .dataframe thead tr:last-of-type th {\n",
       "        text-align: right;\n",
       "    }\n",
       "</style>\n",
       "<table border=\"1\" class=\"dataframe\">\n",
       "  <thead>\n",
       "    <tr>\n",
       "      <th></th>\n",
       "      <th colspan=\"3\" halign=\"left\">ddeaths</th>\n",
       "    </tr>\n",
       "    <tr>\n",
       "      <th></th>\n",
       "      <th>mean</th>\n",
       "      <th>std</th>\n",
       "      <th>size</th>\n",
       "    </tr>\n",
       "    <tr>\n",
       "      <th>year</th>\n",
       "      <th></th>\n",
       "      <th></th>\n",
       "      <th></th>\n",
       "    </tr>\n",
       "  </thead>\n",
       "  <tbody>\n",
       "    <tr>\n",
       "      <th>2020</th>\n",
       "      <td>34.275519</td>\n",
       "      <td>150.460086</td>\n",
       "      <td>54958</td>\n",
       "    </tr>\n",
       "    <tr>\n",
       "      <th>2021</th>\n",
       "      <td>52.402946</td>\n",
       "      <td>228.974703</td>\n",
       "      <td>67885</td>\n",
       "    </tr>\n",
       "  </tbody>\n",
       "</table>\n",
       "</div>"
      ],
      "text/plain": [
       "        ddeaths                   \n",
       "           mean         std   size\n",
       "year                              \n",
       "2020  34.275519  150.460086  54958\n",
       "2021  52.402946  228.974703  67885"
      ]
     },
     "execution_count": 157,
     "metadata": {},
     "output_type": "execute_result"
    }
   ],
   "source": [
    "statsd=df.groupby(\"year\").agg({\"ddeaths\": [np.mean, np.std, np.size]})\n",
    "statsd"
   ]
  },
  {
   "cell_type": "code",
   "execution_count": 158,
   "id": "9a530a11",
   "metadata": {},
   "outputs": [],
   "source": [
    "ci95_hid = []\n",
    "ci95_lod= []"
   ]
  },
  {
   "cell_type": "code",
   "execution_count": 159,
   "id": "04bb5551",
   "metadata": {},
   "outputs": [],
   "source": [
    "for i in statsd.index:\n",
    "    m, s, n = statsd.loc[i]\n",
    "    x=scipy.stats.t.interval(.95, n-1, m,s/np.sqrt(n-1))\n",
    "    ci95_hid.append(x[1])\n",
    "    ci95_lod.append(x[0])"
   ]
  },
  {
   "cell_type": "code",
   "execution_count": 160,
   "id": "cc275bcc",
   "metadata": {},
   "outputs": [
    {
     "data": {
      "text/html": [
       "<div>\n",
       "<style scoped>\n",
       "    .dataframe tbody tr th:only-of-type {\n",
       "        vertical-align: middle;\n",
       "    }\n",
       "\n",
       "    .dataframe tbody tr th {\n",
       "        vertical-align: top;\n",
       "    }\n",
       "\n",
       "    .dataframe thead tr th {\n",
       "        text-align: left;\n",
       "    }\n",
       "\n",
       "    .dataframe thead tr:last-of-type th {\n",
       "        text-align: right;\n",
       "    }\n",
       "</style>\n",
       "<table border=\"1\" class=\"dataframe\">\n",
       "  <thead>\n",
       "    <tr>\n",
       "      <th></th>\n",
       "      <th colspan=\"3\" halign=\"left\">ddeaths</th>\n",
       "      <th>ci95_hid</th>\n",
       "      <th>ci95_lod</th>\n",
       "    </tr>\n",
       "    <tr>\n",
       "      <th></th>\n",
       "      <th>mean</th>\n",
       "      <th>std</th>\n",
       "      <th>size</th>\n",
       "      <th></th>\n",
       "      <th></th>\n",
       "    </tr>\n",
       "    <tr>\n",
       "      <th>year</th>\n",
       "      <th></th>\n",
       "      <th></th>\n",
       "      <th></th>\n",
       "      <th></th>\n",
       "      <th></th>\n",
       "    </tr>\n",
       "  </thead>\n",
       "  <tbody>\n",
       "    <tr>\n",
       "      <th>2020</th>\n",
       "      <td>34.275519</td>\n",
       "      <td>150.460086</td>\n",
       "      <td>54958</td>\n",
       "      <td>35.533481</td>\n",
       "      <td>33.017558</td>\n",
       "    </tr>\n",
       "    <tr>\n",
       "      <th>2021</th>\n",
       "      <td>52.402946</td>\n",
       "      <td>228.974703</td>\n",
       "      <td>67885</td>\n",
       "      <td>54.125448</td>\n",
       "      <td>50.680445</td>\n",
       "    </tr>\n",
       "  </tbody>\n",
       "</table>\n",
       "</div>"
      ],
      "text/plain": [
       "        ddeaths                      ci95_hid   ci95_lod\n",
       "           mean         std   size                      \n",
       "year                                                    \n",
       "2020  34.275519  150.460086  54958  35.533481  33.017558\n",
       "2021  52.402946  228.974703  67885  54.125448  50.680445"
      ]
     },
     "execution_count": 160,
     "metadata": {},
     "output_type": "execute_result"
    }
   ],
   "source": [
    "statsd['ci95_hid'] = ci95_hid\n",
    "statsd['ci95_lod'] = ci95_lod\n",
    "statsd"
   ]
  },
  {
   "cell_type": "code",
   "execution_count": 161,
   "id": "a443bba3",
   "metadata": {},
   "outputs": [
    {
     "data": {
      "text/html": [
       "<div>\n",
       "<style scoped>\n",
       "    .dataframe tbody tr th:only-of-type {\n",
       "        vertical-align: middle;\n",
       "    }\n",
       "\n",
       "    .dataframe tbody tr th {\n",
       "        vertical-align: top;\n",
       "    }\n",
       "\n",
       "    .dataframe thead tr th {\n",
       "        text-align: left;\n",
       "    }\n",
       "\n",
       "    .dataframe thead tr:last-of-type th {\n",
       "        text-align: right;\n",
       "    }\n",
       "</style>\n",
       "<table border=\"1\" class=\"dataframe\">\n",
       "  <thead>\n",
       "    <tr>\n",
       "      <th></th>\n",
       "      <th colspan=\"3\" halign=\"left\">ddeaths</th>\n",
       "      <th>ci95_hid</th>\n",
       "      <th>ci95_lod</th>\n",
       "      <th>year</th>\n",
       "    </tr>\n",
       "    <tr>\n",
       "      <th></th>\n",
       "      <th>mean</th>\n",
       "      <th>std</th>\n",
       "      <th>size</th>\n",
       "      <th></th>\n",
       "      <th></th>\n",
       "      <th></th>\n",
       "    </tr>\n",
       "    <tr>\n",
       "      <th>year</th>\n",
       "      <th></th>\n",
       "      <th></th>\n",
       "      <th></th>\n",
       "      <th></th>\n",
       "      <th></th>\n",
       "      <th></th>\n",
       "    </tr>\n",
       "  </thead>\n",
       "  <tbody>\n",
       "    <tr>\n",
       "      <th>2020</th>\n",
       "      <td>34.275519</td>\n",
       "      <td>150.460086</td>\n",
       "      <td>54958</td>\n",
       "      <td>35.533481</td>\n",
       "      <td>33.017558</td>\n",
       "      <td>2020</td>\n",
       "    </tr>\n",
       "    <tr>\n",
       "      <th>2021</th>\n",
       "      <td>52.402946</td>\n",
       "      <td>228.974703</td>\n",
       "      <td>67885</td>\n",
       "      <td>54.125448</td>\n",
       "      <td>50.680445</td>\n",
       "      <td>2021</td>\n",
       "    </tr>\n",
       "  </tbody>\n",
       "</table>\n",
       "</div>"
      ],
      "text/plain": [
       "        ddeaths                      ci95_hid   ci95_lod  year\n",
       "           mean         std   size                            \n",
       "year                                                          \n",
       "2020  34.275519  150.460086  54958  35.533481  33.017558  2020\n",
       "2021  52.402946  228.974703  67885  54.125448  50.680445  2021"
      ]
     },
     "execution_count": 161,
     "metadata": {},
     "output_type": "execute_result"
    }
   ],
   "source": [
    "df_2120d=pd.DataFrame(statsd)\n",
    "y=df_2120d.index\n",
    "df_2120d[\"year\"]=y\n",
    "df_2120d"
   ]
  },
  {
   "cell_type": "code",
   "execution_count": 162,
   "id": "552e7b60",
   "metadata": {},
   "outputs": [
    {
     "data": {
      "text/plain": [
       "Text(0.5, 1.0, 'Daily deaths 2020 and 2021')"
      ]
     },
     "execution_count": 162,
     "metadata": {},
     "output_type": "execute_result"
    },
    {
     "data": {
      "image/png": "[encoded data removed]",
      "text/plain": [
       "<Figure size 432x288 with 1 Axes>"
      ]
     },
     "metadata": {
      "needs_background": "light"
     },
     "output_type": "display_data"
    }
   ],
   "source": [
    "for lb,ub,y in zip(df_2120d['ci95_lod'],df_2120d['ci95_hid'],range(len(df_2120d))):\n",
    "    plt.plot((lb,ub),(y,y),'ro-')\n",
    "plt.yticks(range(len(df_2120d)),list(df_2120d['year']))\n",
    "plt.xlabel(\"Daily deaths\")\n",
    "plt.ylabel(\"year\")\n",
    "plt.title(\"Daily deaths 2020 and 2021\")"
   ]
  },
  {
   "cell_type": "markdown",
   "id": "b60677b4",
   "metadata": {},
   "source": [
    "The daily deaths have substantily increasd between 2020 and 2021, increased testing could be the reason behined the increase in the daily deaths as without tesing covid realted deaths could have been unnoticed or reported as somthing else, moreover the increase is also not proportional to the increase in the number of cases. "
   ]
  },
  {
   "cell_type": "markdown",
   "id": "8b715c0c",
   "metadata": {},
   "source": [
    "4.3 comparing fatality rate, by calculating the mean, standred deviation and the confidence intervals of daily case reported."
   ]
  },
  {
   "cell_type": "code",
   "execution_count": 163,
   "id": "3d531f55",
   "metadata": {},
   "outputs": [
    {
     "data": {
      "text/html": [
       "<div>\n",
       "<style scoped>\n",
       "    .dataframe tbody tr th:only-of-type {\n",
       "        vertical-align: middle;\n",
       "    }\n",
       "\n",
       "    .dataframe tbody tr th {\n",
       "        vertical-align: top;\n",
       "    }\n",
       "\n",
       "    .dataframe thead tr th {\n",
       "        text-align: left;\n",
       "    }\n",
       "\n",
       "    .dataframe thead tr:last-of-type th {\n",
       "        text-align: right;\n",
       "    }\n",
       "</style>\n",
       "<table border=\"1\" class=\"dataframe\">\n",
       "  <thead>\n",
       "    <tr>\n",
       "      <th></th>\n",
       "      <th colspan=\"3\" halign=\"left\">rate</th>\n",
       "    </tr>\n",
       "    <tr>\n",
       "      <th></th>\n",
       "      <th>mean</th>\n",
       "      <th>std</th>\n",
       "      <th>size</th>\n",
       "    </tr>\n",
       "    <tr>\n",
       "      <th>year</th>\n",
       "      <th></th>\n",
       "      <th></th>\n",
       "      <th></th>\n",
       "    </tr>\n",
       "  </thead>\n",
       "  <tbody>\n",
       "    <tr>\n",
       "      <th>2020</th>\n",
       "      <td>0.028714</td>\n",
       "      <td>0.039552</td>\n",
       "      <td>54958</td>\n",
       "    </tr>\n",
       "    <tr>\n",
       "      <th>2021</th>\n",
       "      <td>0.020979</td>\n",
       "      <td>0.024129</td>\n",
       "      <td>67885</td>\n",
       "    </tr>\n",
       "  </tbody>\n",
       "</table>\n",
       "</div>"
      ],
      "text/plain": [
       "          rate                 \n",
       "          mean       std   size\n",
       "year                           \n",
       "2020  0.028714  0.039552  54958\n",
       "2021  0.020979  0.024129  67885"
      ]
     },
     "execution_count": 163,
     "metadata": {},
     "output_type": "execute_result"
    }
   ],
   "source": [
    "statsf=df.groupby(\"year\").agg({\"rate\": [np.mean, np.std, np.size]})\n",
    "statsf"
   ]
  },
  {
   "cell_type": "code",
   "execution_count": 164,
   "id": "01e4e0e6",
   "metadata": {},
   "outputs": [],
   "source": [
    "ci95_hid = []\n",
    "ci95_lod= []"
   ]
  },
  {
   "cell_type": "code",
   "execution_count": 165,
   "id": "6fa7e0c7",
   "metadata": {},
   "outputs": [],
   "source": [
    "for i in statsf.index:\n",
    "    m, s, n = statsf.loc[i]\n",
    "    x=scipy.stats.t.interval(.95, n-1, m,s/np.sqrt(n-1))\n",
    "    ci95_hid.append(x[1])\n",
    "    ci95_lod.append(x[0])"
   ]
  },
  {
   "cell_type": "code",
   "execution_count": 166,
   "id": "5ae9b6a4",
   "metadata": {},
   "outputs": [
    {
     "data": {
      "text/html": [
       "<div>\n",
       "<style scoped>\n",
       "    .dataframe tbody tr th:only-of-type {\n",
       "        vertical-align: middle;\n",
       "    }\n",
       "\n",
       "    .dataframe tbody tr th {\n",
       "        vertical-align: top;\n",
       "    }\n",
       "\n",
       "    .dataframe thead tr th {\n",
       "        text-align: left;\n",
       "    }\n",
       "\n",
       "    .dataframe thead tr:last-of-type th {\n",
       "        text-align: right;\n",
       "    }\n",
       "</style>\n",
       "<table border=\"1\" class=\"dataframe\">\n",
       "  <thead>\n",
       "    <tr>\n",
       "      <th></th>\n",
       "      <th colspan=\"3\" halign=\"left\">rate</th>\n",
       "      <th>ci95_hid</th>\n",
       "      <th>ci95_lod</th>\n",
       "    </tr>\n",
       "    <tr>\n",
       "      <th></th>\n",
       "      <th>mean</th>\n",
       "      <th>std</th>\n",
       "      <th>size</th>\n",
       "      <th></th>\n",
       "      <th></th>\n",
       "    </tr>\n",
       "    <tr>\n",
       "      <th>year</th>\n",
       "      <th></th>\n",
       "      <th></th>\n",
       "      <th></th>\n",
       "      <th></th>\n",
       "      <th></th>\n",
       "    </tr>\n",
       "  </thead>\n",
       "  <tbody>\n",
       "    <tr>\n",
       "      <th>2020</th>\n",
       "      <td>0.028714</td>\n",
       "      <td>0.039552</td>\n",
       "      <td>54958</td>\n",
       "      <td>0.029044</td>\n",
       "      <td>0.028383</td>\n",
       "    </tr>\n",
       "    <tr>\n",
       "      <th>2021</th>\n",
       "      <td>0.020979</td>\n",
       "      <td>0.024129</td>\n",
       "      <td>67885</td>\n",
       "      <td>0.021161</td>\n",
       "      <td>0.020798</td>\n",
       "    </tr>\n",
       "  </tbody>\n",
       "</table>\n",
       "</div>"
      ],
      "text/plain": [
       "          rate                   ci95_hid  ci95_lod\n",
       "          mean       std   size                    \n",
       "year                                               \n",
       "2020  0.028714  0.039552  54958  0.029044  0.028383\n",
       "2021  0.020979  0.024129  67885  0.021161  0.020798"
      ]
     },
     "execution_count": 166,
     "metadata": {},
     "output_type": "execute_result"
    }
   ],
   "source": [
    "statsf['ci95_hid'] = ci95_hid\n",
    "statsf['ci95_lod'] = ci95_lod\n",
    "statsf"
   ]
  },
  {
   "cell_type": "code",
   "execution_count": 167,
   "id": "6789b068",
   "metadata": {},
   "outputs": [
    {
     "data": {
      "text/html": [
       "<div>\n",
       "<style scoped>\n",
       "    .dataframe tbody tr th:only-of-type {\n",
       "        vertical-align: middle;\n",
       "    }\n",
       "\n",
       "    .dataframe tbody tr th {\n",
       "        vertical-align: top;\n",
       "    }\n",
       "\n",
       "    .dataframe thead tr th {\n",
       "        text-align: left;\n",
       "    }\n",
       "\n",
       "    .dataframe thead tr:last-of-type th {\n",
       "        text-align: right;\n",
       "    }\n",
       "</style>\n",
       "<table border=\"1\" class=\"dataframe\">\n",
       "  <thead>\n",
       "    <tr>\n",
       "      <th></th>\n",
       "      <th colspan=\"3\" halign=\"left\">rate</th>\n",
       "      <th>ci95_hid</th>\n",
       "      <th>ci95_lod</th>\n",
       "      <th>year</th>\n",
       "    </tr>\n",
       "    <tr>\n",
       "      <th></th>\n",
       "      <th>mean</th>\n",
       "      <th>std</th>\n",
       "      <th>size</th>\n",
       "      <th></th>\n",
       "      <th></th>\n",
       "      <th></th>\n",
       "    </tr>\n",
       "    <tr>\n",
       "      <th>year</th>\n",
       "      <th></th>\n",
       "      <th></th>\n",
       "      <th></th>\n",
       "      <th></th>\n",
       "      <th></th>\n",
       "      <th></th>\n",
       "    </tr>\n",
       "  </thead>\n",
       "  <tbody>\n",
       "    <tr>\n",
       "      <th>2020</th>\n",
       "      <td>0.028714</td>\n",
       "      <td>0.039552</td>\n",
       "      <td>54958</td>\n",
       "      <td>0.029044</td>\n",
       "      <td>0.028383</td>\n",
       "      <td>2020</td>\n",
       "    </tr>\n",
       "    <tr>\n",
       "      <th>2021</th>\n",
       "      <td>0.020979</td>\n",
       "      <td>0.024129</td>\n",
       "      <td>67885</td>\n",
       "      <td>0.021161</td>\n",
       "      <td>0.020798</td>\n",
       "      <td>2021</td>\n",
       "    </tr>\n",
       "  </tbody>\n",
       "</table>\n",
       "</div>"
      ],
      "text/plain": [
       "          rate                   ci95_hid  ci95_lod  year\n",
       "          mean       std   size                          \n",
       "year                                                     \n",
       "2020  0.028714  0.039552  54958  0.029044  0.028383  2020\n",
       "2021  0.020979  0.024129  67885  0.021161  0.020798  2021"
      ]
     },
     "execution_count": 167,
     "metadata": {},
     "output_type": "execute_result"
    }
   ],
   "source": [
    "df_2120f=pd.DataFrame(statsf)\n",
    "y=df_2120f.index\n",
    "df_2120f[\"year\"]=y\n",
    "df_2120f"
   ]
  },
  {
   "cell_type": "code",
   "execution_count": 168,
   "id": "1b2f37c5",
   "metadata": {
    "scrolled": true
   },
   "outputs": [
    {
     "data": {
      "text/plain": [
       "Text(0.5, 1.0, 'fatality rate  2020 and 2021')"
      ]
     },
     "execution_count": 168,
     "metadata": {},
     "output_type": "execute_result"
    },
    {
     "data": {
      "image/png": "[encoded data removed]",
      "text/plain": [
       "<Figure size 432x288 with 1 Axes>"
      ]
     },
     "metadata": {
      "needs_background": "light"
     },
     "output_type": "display_data"
    }
   ],
   "source": [
    "for lb,ub,y in zip(df_2120f['ci95_lod'],df_2120f['ci95_hid'],range(len(df_2120f))):\n",
    "    plt.plot((lb,ub),(y,y),'ro-')\n",
    "plt.yticks(range(len(df_2120f)),list(df_2120f['year']))\n",
    "plt.xlabel(\"Fatality Rate \")\n",
    "plt.ylabel(\"year\")\n",
    "plt.title(\"fatality rate  2020 and 2021\")"
   ]
  },
  {
   "cell_type": "markdown",
   "id": "1f31d457",
   "metadata": {},
   "source": [
    "The mean fatality rate in 2020 is larger than in 2021, indicating that the virus has gotten weaker from 2020 to 201 or has  had a weakend effect on humans."
   ]
  },
  {
   "cell_type": "markdown",
   "id": "754bad83",
   "metadata": {},
   "source": [
    " The weakned virus may be due to the new weaker variants  of the virus that spread faster, whcih is een in the increased number of cases between 2020 and 2021. Moreover, the new variants have a weaker effect on humans which would result in a decrease in the number of death."
   ]
  },
  {
   "cell_type": "markdown",
   "id": "11a37c14",
   "metadata": {},
   "source": [
    "5: comparing regions between 2020 and 2021"
   ]
  },
  {
   "cell_type": "markdown",
   "id": "db3ad8e5",
   "metadata": {},
   "source": [
    "5.1 comparing daily cases reported, by calculating the mean, standred deviation and the confidence intervals of daily case reported."
   ]
  },
  {
   "cell_type": "code",
   "execution_count": 169,
   "id": "8cc785dd",
   "metadata": {},
   "outputs": [],
   "source": [
    "stats1c=df.groupby(['region','year']).agg({\"dcases\": [np.mean, np.std, np.size,get_ci_lb,get_ci_ub]})"
   ]
  },
  {
   "cell_type": "code",
   "execution_count": 170,
   "id": "510c1930",
   "metadata": {},
   "outputs": [],
   "source": [
    "statsdcases1=stats1c.reset_index()"
   ]
  },
  {
   "cell_type": "code",
   "execution_count": 171,
   "id": "aa41c420",
   "metadata": {},
   "outputs": [],
   "source": [
    "statsdcases1.columns=['region','year','mean','std','size','ub','lb']"
   ]
  },
  {
   "cell_type": "code",
   "execution_count": 172,
   "id": "f671e4b6",
   "metadata": {},
   "outputs": [],
   "source": [
    "df_regionc=pd.DataFrame(statsdcases1)"
   ]
  },
  {
   "cell_type": "code",
   "execution_count": 173,
   "id": "b76129bd",
   "metadata": {},
   "outputs": [],
   "source": [
    "df_regionc20=df_regionc[df_regionc['year']=='2020']\n",
    "df_regionc21=df_regionc[df_regionc['year']=='2021']"
   ]
  },
  {
   "cell_type": "code",
   "execution_count": 174,
   "id": "1ead0a30",
   "metadata": {},
   "outputs": [
    {
     "data": {
      "text/plain": [
       "Text(0.5, 1.0, 'Region  daily cases 2020')"
      ]
     },
     "execution_count": 174,
     "metadata": {},
     "output_type": "execute_result"
    },
    {
     "data": {
      "image/png": "[encoded data removed]",
      "text/plain": [
       "<Figure size 432x288 with 1 Axes>"
      ]
     },
     "metadata": {
      "needs_background": "light"
     },
     "output_type": "display_data"
    }
   ],
   "source": [
    "for lb,ub,y in zip(df_regionc20['ub'],df_regionc20['lb'],range(len(df_regionc20))):\n",
    "    plt.plot((lb,ub),(y,y),'ro-')\n",
    "plt.yticks(range(len(df_regionc20)),list(df_regionc20['region']))\n",
    "plt.xlabel(\"Daily cases\")\n",
    "plt.ylabel(\"Region\")\n",
    "plt.title(\"Region  daily cases 2020\")"
   ]
  },
  {
   "cell_type": "markdown",
   "id": "c3fb1533",
   "metadata": {},
   "source": [
    "North America has a substanialy larger number of cases compared to other regions, this could be to the avaliablity and the conduction of more tests than any other region, its is followed by south asia which is one ofe the moste poulated regions that also has access to covid tests, unlike Latin america and sub_saharan Africa whose small infection number can be due to the lack of tests despite having a large popoulation. IN Europe the samll infection rates could be a result of the strict lockdown that was intiated by multiple countries at the start of the pandamic."
   ]
  },
  {
   "cell_type": "code",
   "execution_count": 175,
   "id": "70e9fc90",
   "metadata": {
    "scrolled": true
   },
   "outputs": [
    {
     "data": {
      "text/plain": [
       "Text(0.5, 1.0, 'Region  daily cases 2021')"
      ]
     },
     "execution_count": 175,
     "metadata": {},
     "output_type": "execute_result"
    },
    {
     "data": {
      "image/png": "[encoded data removed]",
      "text/plain": [
       "<Figure size 432x288 with 1 Axes>"
      ]
     },
     "metadata": {
      "needs_background": "light"
     },
     "output_type": "display_data"
    }
   ],
   "source": [
    "for lb,ub,y in zip(df_regionc21['ub'],df_regionc21['lb'],range(len(df_regionc21))):\n",
    "    plt.plot((lb,ub),(y,y),'ro-')\n",
    "plt.yticks(range(len(df_regionc21)),list(df_regionc21['region']))\n",
    "plt.xlabel(\"Daily cases\")\n",
    "plt.ylabel(\"Region\")\n",
    "plt.title(\"Region  daily cases 2021\")"
   ]
  },
  {
   "cell_type": "markdown",
   "id": "0a23369f",
   "metadata": {},
   "source": [
    "North america has had the largest increase in the reported cases compared to any of the other regions, while all other region has had a substaintle increase in their cases north americas nearly doubled, probably due to the mass testing done through at home covid 19 tests."
   ]
  },
  {
   "cell_type": "markdown",
   "id": "c741c8eb",
   "metadata": {},
   "source": [
    "5.2: comparing daily deaths by region between 2020 and 2021, by computing the mean and  calulating and graphing the confidence interval:"
   ]
  },
  {
   "cell_type": "code",
   "execution_count": 176,
   "id": "60be2b4d",
   "metadata": {},
   "outputs": [],
   "source": [
    "stats1deaths=df.groupby([\"region\",\"year\"]).agg({\"ddeaths\": [np.mean, np.std, np.size,get_ci_lb,get_ci_ub]})"
   ]
  },
  {
   "cell_type": "code",
   "execution_count": 177,
   "id": "6d6c1f15",
   "metadata": {},
   "outputs": [],
   "source": [
    "stats1d=stats1deaths.reset_index()"
   ]
  },
  {
   "cell_type": "code",
   "execution_count": 178,
   "id": "64d3110b",
   "metadata": {},
   "outputs": [],
   "source": [
    "stats1d.columns=['region','year','mean','std','size','ub','lb']\n",
    "df_regiond=pd.DataFrame(stats1d)\n",
    "df_regiond20=df_regiond[df_regiond['year']=='2020']\n",
    "df_regiond21=df_regiond[df_regiond['year']=='2021']"
   ]
  },
  {
   "cell_type": "code",
   "execution_count": 179,
   "id": "fd277a10",
   "metadata": {
    "scrolled": true
   },
   "outputs": [
    {
     "data": {
      "text/plain": [
       "Text(0.5, 1.0, 'Region  daily deaths 2020')"
      ]
     },
     "execution_count": 179,
     "metadata": {},
     "output_type": "execute_result"
    },
    {
     "data": {
      "image/png": "[encoded data removed]",
      "text/plain": [
       "<Figure size 432x288 with 1 Axes>"
      ]
     },
     "metadata": {
      "needs_background": "light"
     },
     "output_type": "display_data"
    }
   ],
   "source": [
    "for lb,ub,y in zip(df_regiond20['lb'],df_regiond20['ub'],range(len(df_regiond20))):\n",
    "    plt.plot((lb,ub),(y,y),'ro-')\n",
    "plt.yticks(range(len(df_regiond20)),list(df_regiond20['region']))\n",
    "plt.xlabel(\"Daily deaths\")\n",
    "plt.ylabel(\"Region\")\n",
    "plt.title(\"Region  daily deaths 2020\")"
   ]
  },
  {
   "cell_type": "markdown",
   "id": "3d28951f",
   "metadata": {},
   "source": [
    "daily number of deaths follows the same pattern as the daily number of infections, where north america has the highest average daily death follwed south asia, however latin america has the third highest death rate even though they had almost the same infection rate as in europe which may be due to the better medical faccultys that are avaliable in europe.MENA region had the fifth highest deaths  closely followed by East Asia and finally Sub Saharan Africa."
   ]
  },
  {
   "cell_type": "code",
   "execution_count": 180,
   "id": "bc8e640c",
   "metadata": {},
   "outputs": [
    {
     "data": {
      "text/plain": [
       "Text(0.5, 1.0, 'Region  daily deaths 2021')"
      ]
     },
     "execution_count": 180,
     "metadata": {},
     "output_type": "execute_result"
    },
    {
     "data": {
      "image/png": "[encoded data removed]",
      "text/plain": [
       "<Figure size 432x288 with 1 Axes>"
      ]
     },
     "metadata": {
      "needs_background": "light"
     },
     "output_type": "display_data"
    }
   ],
   "source": [
    "for lb,ub,y in zip(df_regiond21['lb'],df_regiond21['ub'],range(len(df_regiond21))):\n",
    "    plt.plot((lb,ub),(y,y),'ro-')\n",
    "plt.yticks(range(len(df_regiond21)),list(df_regiond21['region']))\n",
    "plt.xlabel(\"Daily deaths\")\n",
    "plt.ylabel(\"Region\")\n",
    "plt.title(\"Region  daily deaths 2021\")"
   ]
  },
  {
   "cell_type": "markdown",
   "id": "07837fa9",
   "metadata": {},
   "source": [
    "death rate has slightly increased for all regions except for north america which has exprinced a large increase in their daily deaths, whcih is likely due to the increased infection seen in 2021 daily infections."
   ]
  },
  {
   "cell_type": "markdown",
   "id": "25a2f9f4",
   "metadata": {},
   "source": [
    "5.3 comparing fatality rate  by region between 2020 and 2021, by computing the mean and  calulating and graphing the confidence interval:"
   ]
  },
  {
   "cell_type": "code",
   "execution_count": 181,
   "id": "86021b8a",
   "metadata": {},
   "outputs": [],
   "source": [
    "stats1rate=df.groupby([\"region\",\"year\"]).agg({\"rate\": [np.mean, np.std, np.size,get_ci_lb,get_ci_ub]})\n",
    "\n"
   ]
  },
  {
   "cell_type": "code",
   "execution_count": 492,
   "id": "925dc1a7",
   "metadata": {},
   "outputs": [],
   "source": [
    "stats1r=stats1rate.reset_index()\n",
    "stats1r.columns=['region','year','mean','std','size','ub','lb']\n",
    "df_regionr=pd.DataFrame(stats1r)"
   ]
  },
  {
   "cell_type": "code",
   "execution_count": 183,
   "id": "fdd48ec2",
   "metadata": {},
   "outputs": [],
   "source": [
    "df_regionr20=df_regionr[df_regionr['year']=='2020']\n",
    "df_regionr21=df_regionr[df_regionr['year']=='2021']"
   ]
  },
  {
   "cell_type": "code",
   "execution_count": 184,
   "id": "65fd1aaf",
   "metadata": {},
   "outputs": [
    {
     "data": {
      "text/plain": [
       "Text(0.5, 1.0, 'Region  fatality rate 2020')"
      ]
     },
     "execution_count": 184,
     "metadata": {},
     "output_type": "execute_result"
    },
    {
     "data": {
      "image/png": "[encoded data removed]",
      "text/plain": [
       "<Figure size 432x288 with 1 Axes>"
      ]
     },
     "metadata": {
      "needs_background": "light"
     },
     "output_type": "display_data"
    }
   ],
   "source": [
    "for lb,ub,y in zip(df_regionr20['lb'],df_regionr20['ub'],range(len(df_regionr20))):\n",
    "    plt.plot((lb,ub),(y,y),'ro-')\n",
    "plt.yticks(range(len(df_regionr20)),list(df_regionr20['region']))\n",
    "plt.xlabel(\"Fatality rate\")\n",
    "plt.ylabel(\"Region\")\n",
    "plt.title(\"Region  fatality rate 2020\")"
   ]
  },
  {
   "cell_type": "code",
   "execution_count": 185,
   "id": "be807e1a",
   "metadata": {
    "scrolled": true
   },
   "outputs": [
    {
     "data": {
      "text/plain": [
       "Text(0.5, 1.0, 'Region  fatality rate 2021')"
      ]
     },
     "execution_count": 185,
     "metadata": {},
     "output_type": "execute_result"
    },
    {
     "data": {
      "image/png": "[encoded data removed]",
      "text/plain": [
       "<Figure size 432x288 with 1 Axes>"
      ]
     },
     "metadata": {
      "needs_background": "light"
     },
     "output_type": "display_data"
    }
   ],
   "source": [
    "for lb,ub,y in zip(df_regionr21['lb'],df_regionr21['ub'],range(len(df_regionr21))):\n",
    "    plt.plot((lb,ub),(y,y),'ro-')\n",
    "plt.yticks(range(len(df_regionr21)),list(df_regionr21['region']))\n",
    "plt.xlabel(\"Fatality rate\")\n",
    "plt.ylabel(\"Region\")\n",
    "plt.title(\"Region  fatality rate 2021\")"
   ]
  },
  {
   "cell_type": "markdown",
   "id": "98149bcd",
   "metadata": {},
   "source": [
    "ALL regions showed a decreased fatality rate between 2020 and 2021, with the NOrth America region showing the highest dectease in the fatalit rate whcih in 2020 is almot half of it was in 2020, showing a far gretaer decrase than any of the other nations likely due to the devolpment of good treatment protocls and mass vaccination, which would also explain the decrease in Europe fatality rate. Moroever, latin america was not able to show a similar decrease dispite having the same fatality rate as europe in 2020, in 2021 latins america fatality rate is signifacntly higher. In Asia both the region of East and south Asia had a fairly low death rate in 2020 that showed a decrease in 2021, with South asia having a signifacntly lower death rate. On the other hand the MENA rgeion did not show a large decrease between 2020 and 2021 having some of the highest death rate in 2020 and the highest of all regions in 2021. "
   ]
  },
  {
   "cell_type": "markdown",
   "id": "8d507d9a",
   "metadata": {},
   "source": [
    "6: comparing by continent between 2020 and 2021:"
   ]
  },
  {
   "cell_type": "markdown",
   "id": "f103eeb7",
   "metadata": {},
   "source": [
    "6.1 comparing daily cases reported, by calculating the mean, standred deviation and the confidence intervals of daily case reported."
   ]
  },
  {
   "cell_type": "code",
   "execution_count": 186,
   "id": "37185202",
   "metadata": {},
   "outputs": [],
   "source": [
    "stats2cases=df.groupby([\"continent\",\"year\"]).agg({\"dcases\": [np.mean, np.std, np.size,get_ci_lb,get_ci_ub]})"
   ]
  },
  {
   "cell_type": "code",
   "execution_count": 187,
   "id": "be119fbf",
   "metadata": {},
   "outputs": [],
   "source": [
    "stats2c=stats2cases.reset_index()"
   ]
  },
  {
   "cell_type": "code",
   "execution_count": 188,
   "id": "68a6440f",
   "metadata": {},
   "outputs": [],
   "source": [
    "stats2c.columns=['continent','year','mean','std','size','ub','lb']\n",
    "df_regionc=pd.DataFrame(stats2c)"
   ]
  },
  {
   "cell_type": "code",
   "execution_count": 189,
   "id": "50d9d0f6",
   "metadata": {},
   "outputs": [],
   "source": [
    "df_continent20c=df_regionc[df_regionc['year']=='2020']\n",
    "df_continent21c=df_regionc[df_regionc['year']=='2021']"
   ]
  },
  {
   "cell_type": "code",
   "execution_count": 190,
   "id": "ae548798",
   "metadata": {
    "scrolled": true
   },
   "outputs": [
    {
     "data": {
      "text/plain": [
       "Text(0.5, 1.0, 'continent  daily cases 2020')"
      ]
     },
     "execution_count": 190,
     "metadata": {},
     "output_type": "execute_result"
    },
    {
     "data": {
      "image/png": "[encoded data removed]",
      "text/plain": [
       "<Figure size 432x288 with 1 Axes>"
      ]
     },
     "metadata": {
      "needs_background": "light"
     },
     "output_type": "display_data"
    }
   ],
   "source": [
    "for lb,ub,y in zip(df_continent20c['lb'],df_continent20c['ub'],range(len(df_continent20c))):\n",
    "    plt.plot((lb,ub),(y,y),'ro-')\n",
    "plt.yticks(range(len(df_continent20c)),list(df_continent20c['continent']))\n",
    "plt.xlabel(\"Daily cases\")\n",
    "plt.ylabel(\"continent\")\n",
    "plt.title(\"continent  daily cases 2020\")"
   ]
  },
  {
   "cell_type": "markdown",
   "id": "90fbacab",
   "metadata": {},
   "source": [
    "South america has the largest dialy infections, closley follwed by north america. There is a large diffrence between them and europe which is closley follwed by asia and then africa and finally africa. Africa has almost the same infectionm as oceina dispute having a signifacntly larger popukation which is most likely due to the lack of testing. Asia and Europe have similar infection rates dispite Europe having a signifcantly smaller population is also possibly due to many Asian countries having limited acess to covid tests, as they are devolping countries which is similar to the situation in Africa."
   ]
  },
  {
   "cell_type": "code",
   "execution_count": 191,
   "id": "65f865a6",
   "metadata": {
    "scrolled": true
   },
   "outputs": [
    {
     "data": {
      "text/plain": [
       "Text(0.5, 1.0, 'continent  daily cases 2021')"
      ]
     },
     "execution_count": 191,
     "metadata": {},
     "output_type": "execute_result"
    },
    {
     "data": {
      "image/png": "[encoded data removed]",
      "text/plain": [
       "<Figure size 432x288 with 1 Axes>"
      ]
     },
     "metadata": {
      "needs_background": "light"
     },
     "output_type": "display_data"
    }
   ],
   "source": [
    "for lb,ub,y in zip(df_continent21c['lb'],df_continent21c['ub'],range(len(df_continent21c))):\n",
    "    plt.plot((lb,ub),(y,y),'ro-')\n",
    "plt.yticks(range(len(df_continent21c)),list(df_continent21c['continent']))\n",
    "plt.xlabel(\"Daily cases\")\n",
    "plt.ylabel(\"continent\")\n",
    "plt.title(\"continent  daily cases 2021\")"
   ]
  },
  {
   "cell_type": "markdown",
   "id": "db153332",
   "metadata": {},
   "source": [
    "There has benn a drastic increase in the number of daily cases in asia which has more than doubled, Africa and Europe also had a smiar increase where the daily cases have almost doubled, as for north america abd south america the number of cases has increased but not as much as the others"
   ]
  },
  {
   "cell_type": "markdown",
   "id": "96b799fa",
   "metadata": {},
   "source": [
    "6.2 comparing daily deaths reported, by calculating the mean, standred deviation and the confidence intervals of daily case reported.\n"
   ]
  },
  {
   "cell_type": "code",
   "execution_count": 192,
   "id": "bf5c9924",
   "metadata": {},
   "outputs": [],
   "source": [
    "stats2deaths=df.groupby([\"continent\",\"year\"]).agg({\"ddeaths\": [np.mean, np.std, np.size,get_ci_lb,get_ci_ub]})"
   ]
  },
  {
   "cell_type": "code",
   "execution_count": 193,
   "id": "d9027dbf",
   "metadata": {},
   "outputs": [],
   "source": [
    "stats2d=stats2deaths.reset_index()"
   ]
  },
  {
   "cell_type": "code",
   "execution_count": 194,
   "id": "6fad1023",
   "metadata": {},
   "outputs": [],
   "source": [
    "stats2d.columns=['continent','year','mean','std','size','ub','lb']\n",
    "df_regiond=pd.DataFrame(stats2d)"
   ]
  },
  {
   "cell_type": "code",
   "execution_count": 195,
   "id": "76f1efc2",
   "metadata": {},
   "outputs": [],
   "source": [
    "df_continent20=df_regiond[df_regiond['year']=='2020']\n",
    "df_continent21=df_regiond[df_regiond['year']=='2021']"
   ]
  },
  {
   "cell_type": "code",
   "execution_count": 196,
   "id": "76337c65",
   "metadata": {
    "scrolled": true
   },
   "outputs": [
    {
     "data": {
      "text/plain": [
       "Text(0.5, 1.0, 'continent  daily deaths 2020')"
      ]
     },
     "execution_count": 196,
     "metadata": {},
     "output_type": "execute_result"
    },
    {
     "data": {
      "image/png": "[encoded data removed]",
      "text/plain": [
       "<Figure size 432x288 with 1 Axes>"
      ]
     },
     "metadata": {
      "needs_background": "light"
     },
     "output_type": "display_data"
    }
   ],
   "source": [
    "for lb,ub,y in zip(df_continent20['lb'],df_continent20['ub'],range(len(df_continent20))):\n",
    "    plt.plot((lb,ub),(y,y),'ro-')\n",
    "plt.yticks(range(len(df_continent20)),list(df_continent20['continent']))\n",
    "plt.xlabel(\"Daily deaths\")\n",
    "plt.ylabel(\"continent\")\n",
    "plt.title(\"continent  daily deaths 2020\")"
   ]
  },
  {
   "cell_type": "markdown",
   "id": "1b00a11b",
   "metadata": {},
   "source": [
    "South americ has had by far the largest average daily death, followed by north america with a signifcant diffrence between them, a simialr diffrence exists between north america and europe where the average death is almost half of them, asia has had  a samller daily death rate, where the diffrence is not as large, Africa followe asia and finally oceania which follows the cases distrubtion."
   ]
  },
  {
   "cell_type": "code",
   "execution_count": 197,
   "id": "e4472ed7",
   "metadata": {},
   "outputs": [
    {
     "data": {
      "text/plain": [
       "Text(0.5, 1.0, 'continent  daily deaths 2021')"
      ]
     },
     "execution_count": 197,
     "metadata": {},
     "output_type": "execute_result"
    },
    {
     "data": {
      "image/png": "[encoded data removed]",
      "text/plain": [
       "<Figure size 432x288 with 1 Axes>"
      ]
     },
     "metadata": {
      "needs_background": "light"
     },
     "output_type": "display_data"
    }
   ],
   "source": [
    "for lb,ub,y in zip(df_continent21['lb'],df_continent21['ub'],range(len(df_continent21))):\n",
    "    plt.plot((lb,ub),(y,y),'ro-')\n",
    "plt.yticks(range(len(df_continent21)),list(df_continent21['continent']))\n",
    "plt.xlabel(\"Daily deaths\")\n",
    "plt.ylabel(\"continent\")\n",
    "plt.title(\"continent  daily deaths 2021\")"
   ]
  },
  {
   "cell_type": "markdown",
   "id": "a96afa0e",
   "metadata": {},
   "source": [
    "South america has had an increase in its daily death, however the increase in the deaths is signifcantly lower than that of their increase in the number of cases, Similary the rate of increase in average daily death in north america, europe and asia  is smaller than the increase in average daily cases. Africa and Oceinana had almsot no increase in the average daily deaths, despite having a large increase in their daily cases "
   ]
  },
  {
   "cell_type": "markdown",
   "id": "528de83d",
   "metadata": {},
   "source": [
    "6.3 comparing fatality rate, by calculating the mean, standred deviation and the confidence intervals of daily case reported."
   ]
  },
  {
   "cell_type": "code",
   "execution_count": 198,
   "id": "e3930fcd",
   "metadata": {},
   "outputs": [],
   "source": [
    "stats2fatality=df.groupby([\"continent\",\"year\"]).agg({\"rate\":[np.mean,np.std,np.size,get_ci_lb,get_ci_ub]})"
   ]
  },
  {
   "cell_type": "code",
   "execution_count": 199,
   "id": "c64aa02d",
   "metadata": {
    "scrolled": true
   },
   "outputs": [
    {
     "data": {
      "text/html": [
       "<div>\n",
       "<style scoped>\n",
       "    .dataframe tbody tr th:only-of-type {\n",
       "        vertical-align: middle;\n",
       "    }\n",
       "\n",
       "    .dataframe tbody tr th {\n",
       "        vertical-align: top;\n",
       "    }\n",
       "\n",
       "    .dataframe thead tr th {\n",
       "        text-align: left;\n",
       "    }\n",
       "</style>\n",
       "<table border=\"1\" class=\"dataframe\">\n",
       "  <thead>\n",
       "    <tr>\n",
       "      <th></th>\n",
       "      <th>continent</th>\n",
       "      <th>year</th>\n",
       "      <th colspan=\"5\" halign=\"left\">rate</th>\n",
       "    </tr>\n",
       "    <tr>\n",
       "      <th></th>\n",
       "      <th></th>\n",
       "      <th></th>\n",
       "      <th>mean</th>\n",
       "      <th>std</th>\n",
       "      <th>size</th>\n",
       "      <th>get_ci_lb</th>\n",
       "      <th>get_ci_ub</th>\n",
       "    </tr>\n",
       "  </thead>\n",
       "  <tbody>\n",
       "    <tr>\n",
       "      <th>0</th>\n",
       "      <td>Africa</td>\n",
       "      <td>2020</td>\n",
       "      <td>0.026687</td>\n",
       "      <td>0.036548</td>\n",
       "      <td>15332</td>\n",
       "      <td>0.026109</td>\n",
       "      <td>0.027266</td>\n",
       "    </tr>\n",
       "    <tr>\n",
       "      <th>1</th>\n",
       "      <td>Africa</td>\n",
       "      <td>2021</td>\n",
       "      <td>0.021921</td>\n",
       "      <td>0.013963</td>\n",
       "      <td>19345</td>\n",
       "      <td>0.021725</td>\n",
       "      <td>0.022118</td>\n",
       "    </tr>\n",
       "    <tr>\n",
       "      <th>2</th>\n",
       "      <td>Asia</td>\n",
       "      <td>2020</td>\n",
       "      <td>0.020696</td>\n",
       "      <td>0.042093</td>\n",
       "      <td>14313</td>\n",
       "      <td>0.020006</td>\n",
       "      <td>0.021385</td>\n",
       "    </tr>\n",
       "    <tr>\n",
       "      <th>3</th>\n",
       "      <td>Asia</td>\n",
       "      <td>2021</td>\n",
       "      <td>0.018641</td>\n",
       "      <td>0.032137</td>\n",
       "      <td>16790</td>\n",
       "      <td>0.018155</td>\n",
       "      <td>0.019127</td>\n",
       "    </tr>\n",
       "    <tr>\n",
       "      <th>4</th>\n",
       "      <td>Europe</td>\n",
       "      <td>2020</td>\n",
       "      <td>0.036268</td>\n",
       "      <td>0.037584</td>\n",
       "      <td>13408</td>\n",
       "      <td>0.035632</td>\n",
       "      <td>0.036904</td>\n",
       "    </tr>\n",
       "    <tr>\n",
       "      <th>5</th>\n",
       "      <td>Europe</td>\n",
       "      <td>2021</td>\n",
       "      <td>0.018684</td>\n",
       "      <td>0.009132</td>\n",
       "      <td>15695</td>\n",
       "      <td>0.018541</td>\n",
       "      <td>0.018827</td>\n",
       "    </tr>\n",
       "    <tr>\n",
       "      <th>6</th>\n",
       "      <td>North America(continent)</td>\n",
       "      <td>2020</td>\n",
       "      <td>0.031719</td>\n",
       "      <td>0.037452</td>\n",
       "      <td>6834</td>\n",
       "      <td>0.030831</td>\n",
       "      <td>0.032607</td>\n",
       "    </tr>\n",
       "    <tr>\n",
       "      <th>7</th>\n",
       "      <td>North America(continent)</td>\n",
       "      <td>2021</td>\n",
       "      <td>0.020597</td>\n",
       "      <td>0.016344</td>\n",
       "      <td>8395</td>\n",
       "      <td>0.020247</td>\n",
       "      <td>0.020946</td>\n",
       "    </tr>\n",
       "    <tr>\n",
       "      <th>8</th>\n",
       "      <td>Oceania</td>\n",
       "      <td>2020</td>\n",
       "      <td>0.014086</td>\n",
       "      <td>0.017041</td>\n",
       "      <td>1466</td>\n",
       "      <td>0.013213</td>\n",
       "      <td>0.014959</td>\n",
       "    </tr>\n",
       "    <tr>\n",
       "      <th>9</th>\n",
       "      <td>Oceania</td>\n",
       "      <td>2021</td>\n",
       "      <td>0.024448</td>\n",
       "      <td>0.060558</td>\n",
       "      <td>3280</td>\n",
       "      <td>0.022375</td>\n",
       "      <td>0.026521</td>\n",
       "    </tr>\n",
       "    <tr>\n",
       "      <th>10</th>\n",
       "      <td>South America(continent)</td>\n",
       "      <td>2020</td>\n",
       "      <td>0.041318</td>\n",
       "      <td>0.048541</td>\n",
       "      <td>3605</td>\n",
       "      <td>0.039733</td>\n",
       "      <td>0.042903</td>\n",
       "    </tr>\n",
       "    <tr>\n",
       "      <th>11</th>\n",
       "      <td>South America(continent)</td>\n",
       "      <td>2021</td>\n",
       "      <td>0.032145</td>\n",
       "      <td>0.021665</td>\n",
       "      <td>4380</td>\n",
       "      <td>0.031504</td>\n",
       "      <td>0.032787</td>\n",
       "    </tr>\n",
       "  </tbody>\n",
       "</table>\n",
       "</div>"
      ],
      "text/plain": [
       "                   continent  year      rate                             \\\n",
       "                                        mean       std   size get_ci_lb   \n",
       "0                     Africa  2020  0.026687  0.036548  15332  0.026109   \n",
       "1                     Africa  2021  0.021921  0.013963  19345  0.021725   \n",
       "2                       Asia  2020  0.020696  0.042093  14313  0.020006   \n",
       "3                       Asia  2021  0.018641  0.032137  16790  0.018155   \n",
       "4                     Europe  2020  0.036268  0.037584  13408  0.035632   \n",
       "5                     Europe  2021  0.018684  0.009132  15695  0.018541   \n",
       "6   North America(continent)  2020  0.031719  0.037452   6834  0.030831   \n",
       "7   North America(continent)  2021  0.020597  0.016344   8395  0.020247   \n",
       "8                    Oceania  2020  0.014086  0.017041   1466  0.013213   \n",
       "9                    Oceania  2021  0.024448  0.060558   3280  0.022375   \n",
       "10  South America(continent)  2020  0.041318  0.048541   3605  0.039733   \n",
       "11  South America(continent)  2021  0.032145  0.021665   4380  0.031504   \n",
       "\n",
       "              \n",
       "   get_ci_ub  \n",
       "0   0.027266  \n",
       "1   0.022118  \n",
       "2   0.021385  \n",
       "3   0.019127  \n",
       "4   0.036904  \n",
       "5   0.018827  \n",
       "6   0.032607  \n",
       "7   0.020946  \n",
       "8   0.014959  \n",
       "9   0.026521  \n",
       "10  0.042903  \n",
       "11  0.032787  "
      ]
     },
     "execution_count": 199,
     "metadata": {},
     "output_type": "execute_result"
    }
   ],
   "source": [
    "stats2r=stats2fatality.reset_index()\n",
    "stats2r"
   ]
  },
  {
   "cell_type": "code",
   "execution_count": 200,
   "id": "3d81ffba",
   "metadata": {},
   "outputs": [],
   "source": [
    "stats2r.columns=['Continent','year','mean','std','size','ub','lb']\n",
    "df_contientr=pd.DataFrame(stats2r)"
   ]
  },
  {
   "cell_type": "code",
   "execution_count": 201,
   "id": "6b0d3f67",
   "metadata": {},
   "outputs": [],
   "source": [
    "df_contient20r=df_contientr[df_contientr['year']=='2020']\n",
    "df_contient21r=df_contientr[df_contientr['year']=='2021']"
   ]
  },
  {
   "cell_type": "code",
   "execution_count": 202,
   "id": "3989f7c1",
   "metadata": {
    "scrolled": true
   },
   "outputs": [
    {
     "data": {
      "text/plain": [
       "Text(0.5, 1.0, 'contient fatality rate 2020')"
      ]
     },
     "execution_count": 202,
     "metadata": {},
     "output_type": "execute_result"
    },
    {
     "data": {
      "image/png": "[encoded data removed]",
      "text/plain": [
       "<Figure size 432x288 with 1 Axes>"
      ]
     },
     "metadata": {
      "needs_background": "light"
     },
     "output_type": "display_data"
    }
   ],
   "source": [
    "for lb,ub,y in zip(df_contient20r['lb'],df_contient20r['ub'],range(len(df_contient20r))):\n",
    "    plt.plot((lb,ub),(y,y),'ro-')\n",
    "plt.yticks(range(len(df_contient20r)),list(df_contient20r['Continent']))\n",
    "plt.xlabel(\"Fatality rate\")\n",
    "plt.ylabel(\"contient\")\n",
    "plt.title(\"contient fatality rate 2020\")"
   ]
  },
  {
   "cell_type": "code",
   "execution_count": 222,
   "id": "01d16f56",
   "metadata": {
    "scrolled": false
   },
   "outputs": [
    {
     "data": {
      "text/plain": [
       "Text(0.5, 1.0, 'contient fatality rate 2021')"
      ]
     },
     "execution_count": 222,
     "metadata": {},
     "output_type": "execute_result"
    },
    {
     "data": {
      "image/png": "[encoded data removed]",
      "text/plain": [
       "<Figure size 432x288 with 1 Axes>"
      ]
     },
     "metadata": {
      "needs_background": "light"
     },
     "output_type": "display_data"
    }
   ],
   "source": [
    "for lb,ub,y in zip(df_contient21r['lb'],df_contient21r['ub'],range(len(df_contient21r))):\n",
    "    plt.plot((lb,ub),(y,y),'ro-')\n",
    "plt.yticks(range(len(df_contient21r)),list(df_contient21r['Continent']))\n",
    "plt.xlabel(\"Fatality rate\")\n",
    "plt.ylabel(\"contient\")\n",
    "plt.title(\"contient fatality rate 2021\")"
   ]
  },
  {
   "cell_type": "markdown",
   "id": "b23dc901",
   "metadata": {},
   "source": [
    "South america reported the largestr fatality rate of the 6 contients in both 2020 and 2021, morover the fatality rate decreased between 2020 and 2021, on the other hand ociana was the only contient to report an increase in fatality rate between 2020 and 2021. Africa and Asia aslo improvment but the improvment was not as large as the one made by north america and europe who has had a sigifcant drop in the fatality rate between 2020 and 2021."
   ]
  },
  {
   "cell_type": "markdown",
   "id": "0811119c",
   "metadata": {},
   "source": [
    "7 comapring by countries income"
   ]
  },
  {
   "cell_type": "markdown",
   "id": "342e9c5e",
   "metadata": {},
   "source": [
    "7.1 comparing daily cases reported, by calculating the mean, standred deviation and the confidence intervals of daily case reported."
   ]
  },
  {
   "cell_type": "code",
   "execution_count": 204,
   "id": "1e558eb0",
   "metadata": {},
   "outputs": [],
   "source": [
    "stats3cases=df.groupby([\"income\",\"year\"]).agg({\"dcases\": [np.mean, np.std, np.size,get_ci_lb,get_ci_ub]})"
   ]
  },
  {
   "cell_type": "code",
   "execution_count": 205,
   "id": "aecac625",
   "metadata": {},
   "outputs": [],
   "source": [
    "stats3c=stats3cases.reset_index()"
   ]
  },
  {
   "cell_type": "code",
   "execution_count": 206,
   "id": "3a5d936e",
   "metadata": {},
   "outputs": [],
   "source": [
    "stats3c.columns=['Income','year','mean','std','size','ub','lb']\n",
    "df_incomec=pd.DataFrame(stats3c)"
   ]
  },
  {
   "cell_type": "code",
   "execution_count": 207,
   "id": "b0ea6f98",
   "metadata": {},
   "outputs": [],
   "source": [
    "df_income20c=df_incomec[df_incomec['year']=='2020']\n",
    "df_income21c=df_incomec[df_incomec['year']=='2021']"
   ]
  },
  {
   "cell_type": "code",
   "execution_count": 208,
   "id": "e0b63716",
   "metadata": {
    "scrolled": false
   },
   "outputs": [
    {
     "data": {
      "text/plain": [
       "Text(0.5, 1.0, 'income  daily cases 2020')"
      ]
     },
     "execution_count": 208,
     "metadata": {},
     "output_type": "execute_result"
    },
    {
     "data": {
      "image/png": "[encoded data removed]",
      "text/plain": [
       "<Figure size 432x288 with 1 Axes>"
      ]
     },
     "metadata": {
      "needs_background": "light"
     },
     "output_type": "display_data"
    }
   ],
   "source": [
    "for lb,ub,y in zip(df_income20c['lb'],df_income20c['ub'],range(len(df_income20c))):\n",
    "    plt.plot((lb,ub),(y,y),'ro-')\n",
    "plt.yticks(range(len(df_income20c)),list(df_income20c['Income']))\n",
    "plt.xlabel(\"Daily cases\")\n",
    "plt.ylabel(\"income\")\n",
    "plt.title(\"income  daily cases 2020\")"
   ]
  },
  {
   "cell_type": "code",
   "execution_count": 209,
   "id": "1b8d9d04",
   "metadata": {},
   "outputs": [
    {
     "data": {
      "text/plain": [
       "Text(0.5, 1.0, 'Income  daily cases 2021')"
      ]
     },
     "execution_count": 209,
     "metadata": {},
     "output_type": "execute_result"
    },
    {
     "data": {
      "image/png": "[encoded data removed]",
      "text/plain": [
       "<Figure size 432x288 with 1 Axes>"
      ]
     },
     "metadata": {
      "needs_background": "light"
     },
     "output_type": "display_data"
    }
   ],
   "source": [
    "for lb,ub,y in zip(df_income21c['lb'],df_income21c['ub'],range(len(df_income21c))):\n",
    "    plt.plot((lb,ub),(y,y),'ro-')\n",
    "plt.yticks(range(len(df_income21c)),list(df_income21c['Income']))\n",
    "plt.xlabel(\"Daily cases\")\n",
    "plt.ylabel(\"income\")\n",
    "plt.title(\"Income  daily cases 2021\")"
   ]
  },
  {
   "cell_type": "markdown",
   "id": "d052d79b",
   "metadata": {},
   "source": [
    "IN 2020 high income countries had the largeest number of reported cases which is alo the case in 2021, this may be due to the their ability to mass test the population showing increased cases.Upper  middle income countries would also have the smae ability but at a smaller scale whcih may be the cause behined them having less cases as seen in the grpah, a similar situation may have happend for lower middle income countries. While lower income countries have the least reported cases as they probavly have the least number of testr conducted due to their  unavailability due to their high prices. IN 2021 all income followed a similar trend, where high income reoprted the most cases follwed by upper middle then lower middle and then low income. Furthermore, the number of casses reopreted for all incomes has dirasticlly increased from 2020 to 2021, almost double the cases was reported in 2021."
   ]
  },
  {
   "cell_type": "markdown",
   "id": "e6480dcf",
   "metadata": {},
   "source": [
    "7.2 comparing daily deaths reported, by calculating the mean, standred deviation and the confidence intervals of daily case reported."
   ]
  },
  {
   "cell_type": "code",
   "execution_count": 210,
   "id": "95e23bcc",
   "metadata": {},
   "outputs": [],
   "source": [
    "stats3deaths=df.groupby([\"income\",\"year\"]).agg({\"ddeaths\": [np.mean, np.std, np.size,get_ci_lb,get_ci_ub]})"
   ]
  },
  {
   "cell_type": "code",
   "execution_count": 211,
   "id": "62966fed",
   "metadata": {},
   "outputs": [],
   "source": [
    "stats3d=stats3deaths.reset_index()"
   ]
  },
  {
   "cell_type": "code",
   "execution_count": 212,
   "id": "fbb3bd21",
   "metadata": {},
   "outputs": [],
   "source": [
    "stats3d.columns=['Income','year','mean','std','size','ub','lb']\n",
    "df_incomed=pd.DataFrame(stats3d)"
   ]
  },
  {
   "cell_type": "code",
   "execution_count": 213,
   "id": "8eb56400",
   "metadata": {},
   "outputs": [],
   "source": [
    "df_income20d=df_incomed[df_incomed['year']=='2020']\n",
    "df_income21d=df_incomed[df_incomed['year']=='2021']"
   ]
  },
  {
   "cell_type": "code",
   "execution_count": 214,
   "id": "170b2824",
   "metadata": {},
   "outputs": [
    {
     "data": {
      "text/plain": [
       "Text(0.5, 1.0, 'income  daily deaths 2020')"
      ]
     },
     "execution_count": 214,
     "metadata": {},
     "output_type": "execute_result"
    },
    {
     "data": {
      "image/png": "[encoded data removed]",
      "text/plain": [
       "<Figure size 432x288 with 1 Axes>"
      ]
     },
     "metadata": {
      "needs_background": "light"
     },
     "output_type": "display_data"
    }
   ],
   "source": [
    "for lb,ub,y in zip(df_income20d['lb'],df_income20d['ub'],range(len(df_income20d))):\n",
    "    plt.plot((lb,ub),(y,y),'ro-')\n",
    "plt.yticks(range(len(df_income20d)),list(df_income20d['Income']))\n",
    "plt.xlabel(\"Daily deaths\")\n",
    "plt.ylabel(\"income\")\n",
    "plt.title(\"income  daily deaths 2020\")"
   ]
  },
  {
   "cell_type": "code",
   "execution_count": 215,
   "id": "1b415f0f",
   "metadata": {
    "scrolled": false
   },
   "outputs": [
    {
     "data": {
      "text/plain": [
       "Text(0.5, 1.0, 'income  daily deaths 2021')"
      ]
     },
     "execution_count": 215,
     "metadata": {},
     "output_type": "execute_result"
    },
    {
     "data": {
      "image/png": "[encoded data removed]",
      "text/plain": [
       "<Figure size 432x288 with 1 Axes>"
      ]
     },
     "metadata": {
      "needs_background": "light"
     },
     "output_type": "display_data"
    }
   ],
   "source": [
    "for lb,ub,y in zip(df_income21d['lb'],df_income21d['ub'],range(len(df_income21d))):\n",
    "    plt.plot((lb,ub),(y,y),'ro-')\n",
    "plt.yticks(range(len(df_income21d)),list(df_income21d['Income']))\n",
    "plt.xlabel(\"Daily deaths\")\n",
    "plt.ylabel(\"income\")\n",
    "plt.title(\"income  daily deaths 2021\")"
   ]
  },
  {
   "cell_type": "markdown",
   "id": "76ad8706",
   "metadata": {},
   "source": [
    "IN 2020 Upper middle incoem countries and high income countries has had a large "
   ]
  },
  {
   "cell_type": "markdown",
   "id": "61898f42",
   "metadata": {},
   "source": [
    "7.3 comparing fatality rate, by calculating the mean, standred deviation and the confidence intervals of daily case reported."
   ]
  },
  {
   "cell_type": "code",
   "execution_count": 216,
   "id": "8f2662e1",
   "metadata": {},
   "outputs": [],
   "source": [
    "stats3rate=df.groupby([\"income\",\"year\"]).agg({\"rate\":[np.mean,np.std,np.size,get_ci_lb,get_ci_ub]})"
   ]
  },
  {
   "cell_type": "code",
   "execution_count": 217,
   "id": "e1373cf5",
   "metadata": {},
   "outputs": [],
   "source": [
    "stats3r=stats3rate.reset_index()"
   ]
  },
  {
   "cell_type": "code",
   "execution_count": 218,
   "id": "10715f21",
   "metadata": {},
   "outputs": [],
   "source": [
    "stats3r.columns=['Income','year','mean','std','size','lb','ub']\n",
    "df_stats3r=pd.DataFrame(stats3r)\n"
   ]
  },
  {
   "cell_type": "code",
   "execution_count": 219,
   "id": "9c47c38d",
   "metadata": {},
   "outputs": [
    {
     "data": {
      "text/html": [
       "<div>\n",
       "<style scoped>\n",
       "    .dataframe tbody tr th:only-of-type {\n",
       "        vertical-align: middle;\n",
       "    }\n",
       "\n",
       "    .dataframe tbody tr th {\n",
       "        vertical-align: top;\n",
       "    }\n",
       "\n",
       "    .dataframe thead th {\n",
       "        text-align: right;\n",
       "    }\n",
       "</style>\n",
       "<table border=\"1\" class=\"dataframe\">\n",
       "  <thead>\n",
       "    <tr style=\"text-align: right;\">\n",
       "      <th></th>\n",
       "      <th>Income</th>\n",
       "      <th>year</th>\n",
       "      <th>mean</th>\n",
       "      <th>std</th>\n",
       "      <th>size</th>\n",
       "      <th>lb</th>\n",
       "      <th>ub</th>\n",
       "    </tr>\n",
       "  </thead>\n",
       "  <tbody>\n",
       "    <tr>\n",
       "      <th>0</th>\n",
       "      <td>High income</td>\n",
       "      <td>2020</td>\n",
       "      <td>0.030809</td>\n",
       "      <td>0.036505</td>\n",
       "      <td>17865</td>\n",
       "      <td>0.030274</td>\n",
       "      <td>0.031344</td>\n",
       "    </tr>\n",
       "    <tr>\n",
       "      <th>2</th>\n",
       "      <td>Low income</td>\n",
       "      <td>2020</td>\n",
       "      <td>0.034335</td>\n",
       "      <td>0.049796</td>\n",
       "      <td>8351</td>\n",
       "      <td>0.033267</td>\n",
       "      <td>0.035403</td>\n",
       "    </tr>\n",
       "    <tr>\n",
       "      <th>4</th>\n",
       "      <td>Lower middle income</td>\n",
       "      <td>2020</td>\n",
       "      <td>0.024933</td>\n",
       "      <td>0.041938</td>\n",
       "      <td>12879</td>\n",
       "      <td>0.024209</td>\n",
       "      <td>0.025658</td>\n",
       "    </tr>\n",
       "    <tr>\n",
       "      <th>6</th>\n",
       "      <td>Upper middle income</td>\n",
       "      <td>2020</td>\n",
       "      <td>0.026463</td>\n",
       "      <td>0.033877</td>\n",
       "      <td>15863</td>\n",
       "      <td>0.025936</td>\n",
       "      <td>0.026990</td>\n",
       "    </tr>\n",
       "  </tbody>\n",
       "</table>\n",
       "</div>"
      ],
      "text/plain": [
       "                Income  year      mean       std   size        lb        ub\n",
       "0          High income  2020  0.030809  0.036505  17865  0.030274  0.031344\n",
       "2           Low income  2020  0.034335  0.049796   8351  0.033267  0.035403\n",
       "4  Lower middle income  2020  0.024933  0.041938  12879  0.024209  0.025658\n",
       "6  Upper middle income  2020  0.026463  0.033877  15863  0.025936  0.026990"
      ]
     },
     "execution_count": 219,
     "metadata": {},
     "output_type": "execute_result"
    }
   ],
   "source": [
    "df_income20r=df_stats3r[df_stats3r[\"year\"]=='2020']\n",
    "df_income21r=df_stats3r[df_stats3r[\"year\"]=='2021']\n",
    "df_income20r"
   ]
  },
  {
   "cell_type": "code",
   "execution_count": 220,
   "id": "2dfa0d9c",
   "metadata": {
    "scrolled": true
   },
   "outputs": [
    {
     "data": {
      "text/plain": [
       "Text(0.5, 1.0, 'Fatality rate 2020')"
      ]
     },
     "execution_count": 220,
     "metadata": {},
     "output_type": "execute_result"
    },
    {
     "data": {
      "image/png": "[encoded data removed]",
      "text/plain": [
       "<Figure size 432x288 with 1 Axes>"
      ]
     },
     "metadata": {
      "needs_background": "light"
     },
     "output_type": "display_data"
    }
   ],
   "source": [
    "for lb,ub,y in zip(df_income20r['lb'],df_income20r['ub'],range(len(df_income20r))):\n",
    "    plt.plot((lb,ub),(y,y),'ro-')\n",
    "plt.yticks(range(len(df_income20r)),list(df_income20r['Income']))\n",
    "plt.xlabel(\"Fatality rate\")\n",
    "plt.ylabel(\"income\")\n",
    "plt.title(\"Fatality rate 2020\")"
   ]
  },
  {
   "cell_type": "code",
   "execution_count": 221,
   "id": "d04cadb6",
   "metadata": {
    "scrolled": true
   },
   "outputs": [
    {
     "data": {
      "text/plain": [
       "Text(0.5, 1.0, 'Fatality rate 2021')"
      ]
     },
     "execution_count": 221,
     "metadata": {},
     "output_type": "execute_result"
    },
    {
     "data": {
      "image/png": "[encoded data removed]",
      "text/plain": [
       "<Figure size 432x288 with 1 Axes>"
      ]
     },
     "metadata": {
      "needs_background": "light"
     },
     "output_type": "display_data"
    }
   ],
   "source": [
    "for lb,ub,y in zip(df_income21r['lb'],df_income21r['ub'],range(len(df_income21r))):\n",
    "    plt.plot((lb,ub),(y,y),'ro-')\n",
    "plt.yticks(range(len(df_income21r)),list(df_income21r['Income']))\n",
    "plt.xlabel(\"Fatality rate\")\n",
    "plt.ylabel(\"income\")\n",
    "plt.title(\"Fatality rate 2021\")"
   ]
  },
  {
   "cell_type": "markdown",
   "id": "80d17e17",
   "metadata": {},
   "source": [
    "The fatality rate worldwide sigificantly decreased between 2020 and 2021, however the decrease was not even world wide, as high income countries exprinced the largest drop in fatality rate, which may be due to the avalbility of vacciens, hospitals to get treated in and medicines, Upper middle income countries aslo exprinced a similar deccrease, however low inceome countries exprinced almost no improvment, with lower middle income showing a slight decrease in fatality rate."
   ]
  },
  {
   "cell_type": "markdown",
   "id": "39a9726b",
   "metadata": {},
   "source": [
    "Conclusion:"
   ]
  },
  {
   "cell_type": "markdown",
   "id": "c582b600",
   "metadata": {},
   "source": [
    "IN 2020 the countries in north america and europe which are genrally regareded to as high income or upper middle income countries, had high daily cases and a high daily deaths, along with latin america,however in 2021 the daily cases decreased in both of north america and europe along with the fatality rate, but latin america showed no improvment which may be due to the health infrasturcture failing to cope with the pandamic as it is not as devolped as in devolped countries. This is illustarted in the diffrence between the regions of Europe & Central Asia & Latin America & Caribbean, which showed a similar trend, with europe and central asia which mainly contains devolped countries showed better improvment than sub-sharan africa which is filled with devolping countries who may not have the means required to deal with this pandamic. which explains why ociana has such a high death rate even though it contains Australlia and new zealnd who are rich devolped nations, it also contains alot of under devolped nations who may have been hit hard by the pandamic. Moreover , the  MENA region increased fatality rate may be due to the same reason. Overall, It seems that regions that has had a large precentge of its popoulation vaccinated in 2021 has exprienced a large drop in their fatality rate, which aided by the avalibily of medications and hospitals to get treated in. Moreove, the increased vacciantion rates in devolped nations such as ones in north america and europe, could have aidied in the decrease in the daily number of cases as vaccinated people tend to spread the virus less, and have less sevre syptiomes and lower rates of hospitalizition whcih may have realsed som of the pressure of the health care ssystmes in counttries with high vaccination rate. lwading to a further deacrese in the fatality rate."
   ]
  },
  {
   "cell_type": "markdown",
   "id": "ca34ab0f",
   "metadata": {},
   "source": [
    "Thank you !"
   ]
  }
 ],
 "metadata": {
  "kernelspec": {
   "display_name": "Python 3 (ipykernel)",
   "language": "python",
   "name": "python3"
  },
  "language_info": {
   "codemirror_mode": {
    "name": "ipython",
    "version": 3
   },
   "file_extension": ".py",
   "mimetype": "text/x-python",
   "name": "python",
   "nbconvert_exporter": "python",
   "pygments_lexer": "ipython3",
   "version": "3.9.7"
  }
 },
 "nbformat": 4,
 "nbformat_minor": 5
}
