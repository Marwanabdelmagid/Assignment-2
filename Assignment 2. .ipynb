{
 "cells": [
  {
   "cell_type": "markdown",
   "id": "c2d974fc",
   "metadata": {},
   "source": [
    "Assignment 2:\n",
    "    \n",
    "Marwan Abdelmagid, 900211676"
   ]
  },
  {
   "cell_type": "code",
   "execution_count": null,
   "id": "1f950aa1",
   "metadata": {},
   "outputs": [],
   "source": [
    "Abstarct \n",
    "Part 1: compare nations probility of wining friendly home matches, offical home matches, and imoportant home matches.\n",
    "\n",
    "Data description\n",
    "\n",
    "1: calculation of the probability of wining friendly matches in  neutral stadiums and home stadiums. \n",
    "\n",
    "2: calculation of the probability of wining official matches in  neutral stadiums and home stadiums.\n",
    "\n",
    "3: calculation of the probability of wining official matches in  neutral stadiums and home stadiums.\n",
    "\n",
    "Conclusion \n",
    "\n",
    "\n",
    "Part2: comparing the daily infections, deaths and fatality rate across diffrent critaries comparing between 2020 and 2021\n",
    "\n",
    "Data description\n",
    "\n",
    "4: Comparison between daily death infections, daily deaths, and fatality rate between 2020 and 2021.\n",
    "\n",
    "5: Comparison between daily death infections, daily deaths, and fatality rate between the 7 regions.\n",
    "\n",
    "6: Comparison between daily death infections, daily deaths, and fatality rate between the 7 continents.\n",
    "\n",
    "7: Comparison between daily death infections, daily deaths, and fatality rate between countries with diffrent income levels \n",
    "\n",
    "\n",
    "\n"
   ]
  },
  {
   "cell_type": "markdown",
   "id": "150e58a0",
   "metadata": {},
   "source": [
    "\"Results\" data describition:\n",
    "\n",
    "date: date match was played on.\n",
    "\n",
    "home_team, away_team: home team and away team respectively.\n",
    "\n",
    "home_score,away_score: home teams score and away team score respectively.\n",
    "\n",
    "tournament: type of toutnament match was played in.\n",
    "\n",
    "city,country: city and country match was played in.\n",
    "\n",
    "neutral: True if the match is played on ground that does not belong to home or away team.\n",
    "\n",
    "result_home,result_away: win, lose or draw for the home team or away team respectively."
   ]
  },
  {
   "cell_type": "markdown",
   "id": "b85fcd8d",
   "metadata": {},
   "source": [
    "\n",
    "\n",
    "\n",
    "\"Covid data\" data describition:\n",
    "\n",
    "date: date of which data was collected.\n",
    "\n",
    "iso3c: country code. \n",
    "\n",
    "income: country income level.\n",
    "\n",
    "region: which region does country belong to.\n",
    "\n",
    "continent: which contient is the country on.\n",
    "\n",
    "dcases: number of cases reported on that day.\n",
    "\n",
    "ddeaths: number of deaths reported on that day.\n",
    "\n",
    "population: popoulation of country.\n",
    "\n",
    "weekdays: which month was these numbers reoprted in.\n",
    "\n",
    "month: which month was these numbers reoprted in."
   ]
  },
  {
   "cell_type": "code",
   "execution_count": null,
   "id": "b8039178",
   "metadata": {},
   "outputs": [],
   "source": [
    "import pandas as pd\n",
    "import numpy as np\n",
    "from statsmodels.stats.proportion import proportion_confint\n",
    "import statsmodels.api as sm\n",
    "import matplotlib.pyplot as plt\n",
    "import scipy.stats \n",
    "from pandas.api.types import CategoricalDtype\n",
    "from scipy.stats import norm,t"
   ]
  },
  {
   "cell_type": "markdown",
   "id": "52f44a1d",
   "metadata": {},
   "source": [
    "Part 1:"
   ]
  },
  {
   "cell_type": "code",
   "execution_count": 284,
   "id": "95f10f75",
   "metadata": {},
   "outputs": [],
   "source": [
    "df=pd.read_csv(\"results.csv\")"
   ]
  },
  {
   "cell_type": "code",
   "execution_count": 285,
   "id": "fc14980f",
   "metadata": {},
   "outputs": [
    {
     "data": {
      "text/plain": [
       "(43188, 9)"
      ]
     },
     "execution_count": 285,
     "metadata": {},
     "output_type": "execute_result"
    }
   ],
   "source": [
    "df.head()\n",
    "df.shape"
   ]
  },
  {
   "cell_type": "code",
   "execution_count": 286,
   "id": "514edf9c",
   "metadata": {},
   "outputs": [],
   "source": [
    "df.loc[df['home_team'] == df['country'], 'home_match'] = True\n",
    "df.loc[df['home_team'] != df['country'], 'home_match'] = False"
   ]
  },
  {
   "cell_type": "code",
   "execution_count": 287,
   "id": "09c0cb35",
   "metadata": {},
   "outputs": [],
   "source": [
    "df.loc[df['home_match'] == True, 'away_match'] = False\n",
    "df.loc[df['home_match']==False,'away_match']= True\n",
    "df.loc[df['neutral']==True, 'away_match'] = False"
   ]
  },
  {
   "cell_type": "code",
   "execution_count": 288,
   "id": "51ec7abe",
   "metadata": {},
   "outputs": [],
   "source": [
    "x=df[\"home_score\"] - df[\"away_score\"]"
   ]
  },
  {
   "cell_type": "code",
   "execution_count": 289,
   "id": "d229c8a2",
   "metadata": {},
   "outputs": [],
   "source": [
    "conditions=[(x<0),(x>0),(x==0)]\n",
    "values=[\"lose\",\"win\",\"draw\"]"
   ]
  },
  {
   "cell_type": "code",
   "execution_count": 290,
   "id": "4a346f43",
   "metadata": {},
   "outputs": [],
   "source": [
    "df[\"result_home\"]=np.select(conditions,values)"
   ]
  },
  {
   "cell_type": "code",
   "execution_count": 291,
   "id": "18dfe9bb",
   "metadata": {},
   "outputs": [],
   "source": [
    "condition1=[(x>0),(x<0),(x==0)]\n",
    "value1=[\"lose\",\"win\",\"draw\"]"
   ]
  },
  {
   "cell_type": "code",
   "execution_count": 292,
   "id": "3aa6d20f",
   "metadata": {},
   "outputs": [
    {
     "data": {
      "text/html": [
       "<div>\n",
       "<style scoped>\n",
       "    .dataframe tbody tr th:only-of-type {\n",
       "        vertical-align: middle;\n",
       "    }\n",
       "\n",
       "    .dataframe tbody tr th {\n",
       "        vertical-align: top;\n",
       "    }\n",
       "\n",
       "    .dataframe thead th {\n",
       "        text-align: right;\n",
       "    }\n",
       "</style>\n",
       "<table border=\"1\" class=\"dataframe\">\n",
       "  <thead>\n",
       "    <tr style=\"text-align: right;\">\n",
       "      <th></th>\n",
       "      <th>date</th>\n",
       "      <th>home_team</th>\n",
       "      <th>away_team</th>\n",
       "      <th>home_score</th>\n",
       "      <th>away_score</th>\n",
       "      <th>tournament</th>\n",
       "      <th>city</th>\n",
       "      <th>country</th>\n",
       "      <th>neutral</th>\n",
       "      <th>home_match</th>\n",
       "      <th>away_match</th>\n",
       "      <th>result_home</th>\n",
       "      <th>result_away</th>\n",
       "    </tr>\n",
       "  </thead>\n",
       "  <tbody>\n",
       "    <tr>\n",
       "      <th>0</th>\n",
       "      <td>1872-11-30</td>\n",
       "      <td>Scotland</td>\n",
       "      <td>England</td>\n",
       "      <td>0</td>\n",
       "      <td>0</td>\n",
       "      <td>Friendly</td>\n",
       "      <td>Glasgow</td>\n",
       "      <td>Scotland</td>\n",
       "      <td>False</td>\n",
       "      <td>True</td>\n",
       "      <td>False</td>\n",
       "      <td>draw</td>\n",
       "      <td>draw</td>\n",
       "    </tr>\n",
       "    <tr>\n",
       "      <th>1</th>\n",
       "      <td>1873-03-08</td>\n",
       "      <td>England</td>\n",
       "      <td>Scotland</td>\n",
       "      <td>4</td>\n",
       "      <td>2</td>\n",
       "      <td>Friendly</td>\n",
       "      <td>London</td>\n",
       "      <td>England</td>\n",
       "      <td>False</td>\n",
       "      <td>True</td>\n",
       "      <td>False</td>\n",
       "      <td>win</td>\n",
       "      <td>lose</td>\n",
       "    </tr>\n",
       "    <tr>\n",
       "      <th>2</th>\n",
       "      <td>1874-03-07</td>\n",
       "      <td>Scotland</td>\n",
       "      <td>England</td>\n",
       "      <td>2</td>\n",
       "      <td>1</td>\n",
       "      <td>Friendly</td>\n",
       "      <td>Glasgow</td>\n",
       "      <td>Scotland</td>\n",
       "      <td>False</td>\n",
       "      <td>True</td>\n",
       "      <td>False</td>\n",
       "      <td>win</td>\n",
       "      <td>lose</td>\n",
       "    </tr>\n",
       "    <tr>\n",
       "      <th>3</th>\n",
       "      <td>1875-03-06</td>\n",
       "      <td>England</td>\n",
       "      <td>Scotland</td>\n",
       "      <td>2</td>\n",
       "      <td>2</td>\n",
       "      <td>Friendly</td>\n",
       "      <td>London</td>\n",
       "      <td>England</td>\n",
       "      <td>False</td>\n",
       "      <td>True</td>\n",
       "      <td>False</td>\n",
       "      <td>draw</td>\n",
       "      <td>draw</td>\n",
       "    </tr>\n",
       "    <tr>\n",
       "      <th>4</th>\n",
       "      <td>1876-03-04</td>\n",
       "      <td>Scotland</td>\n",
       "      <td>England</td>\n",
       "      <td>3</td>\n",
       "      <td>0</td>\n",
       "      <td>Friendly</td>\n",
       "      <td>Glasgow</td>\n",
       "      <td>Scotland</td>\n",
       "      <td>False</td>\n",
       "      <td>True</td>\n",
       "      <td>False</td>\n",
       "      <td>win</td>\n",
       "      <td>lose</td>\n",
       "    </tr>\n",
       "    <tr>\n",
       "      <th>...</th>\n",
       "      <td>...</td>\n",
       "      <td>...</td>\n",
       "      <td>...</td>\n",
       "      <td>...</td>\n",
       "      <td>...</td>\n",
       "      <td>...</td>\n",
       "      <td>...</td>\n",
       "      <td>...</td>\n",
       "      <td>...</td>\n",
       "      <td>...</td>\n",
       "      <td>...</td>\n",
       "      <td>...</td>\n",
       "      <td>...</td>\n",
       "    </tr>\n",
       "    <tr>\n",
       "      <th>43183</th>\n",
       "      <td>2/1/2022</td>\n",
       "      <td>Suriname</td>\n",
       "      <td>Guyana</td>\n",
       "      <td>2</td>\n",
       "      <td>1</td>\n",
       "      <td>Friendly</td>\n",
       "      <td>Paramaribo</td>\n",
       "      <td>Suriname</td>\n",
       "      <td>False</td>\n",
       "      <td>True</td>\n",
       "      <td>False</td>\n",
       "      <td>win</td>\n",
       "      <td>lose</td>\n",
       "    </tr>\n",
       "    <tr>\n",
       "      <th>43184</th>\n",
       "      <td>2/2/2022</td>\n",
       "      <td>Burkina Faso</td>\n",
       "      <td>Senegal</td>\n",
       "      <td>1</td>\n",
       "      <td>3</td>\n",
       "      <td>African Cup of Nations</td>\n",
       "      <td>Yaoundé</td>\n",
       "      <td>Cameroon</td>\n",
       "      <td>True</td>\n",
       "      <td>False</td>\n",
       "      <td>False</td>\n",
       "      <td>lose</td>\n",
       "      <td>win</td>\n",
       "    </tr>\n",
       "    <tr>\n",
       "      <th>43185</th>\n",
       "      <td>2/3/2022</td>\n",
       "      <td>Cameroon</td>\n",
       "      <td>Egypt</td>\n",
       "      <td>0</td>\n",
       "      <td>0</td>\n",
       "      <td>African Cup of Nations</td>\n",
       "      <td>Yaoundé</td>\n",
       "      <td>Cameroon</td>\n",
       "      <td>False</td>\n",
       "      <td>True</td>\n",
       "      <td>False</td>\n",
       "      <td>draw</td>\n",
       "      <td>draw</td>\n",
       "    </tr>\n",
       "    <tr>\n",
       "      <th>43186</th>\n",
       "      <td>2/5/2022</td>\n",
       "      <td>Cameroon</td>\n",
       "      <td>Burkina Faso</td>\n",
       "      <td>3</td>\n",
       "      <td>3</td>\n",
       "      <td>African Cup of Nations</td>\n",
       "      <td>Yaoundé</td>\n",
       "      <td>Cameroon</td>\n",
       "      <td>False</td>\n",
       "      <td>True</td>\n",
       "      <td>False</td>\n",
       "      <td>draw</td>\n",
       "      <td>draw</td>\n",
       "    </tr>\n",
       "    <tr>\n",
       "      <th>43187</th>\n",
       "      <td>2/6/2022</td>\n",
       "      <td>Senegal</td>\n",
       "      <td>Egypt</td>\n",
       "      <td>0</td>\n",
       "      <td>0</td>\n",
       "      <td>African Cup of Nations</td>\n",
       "      <td>Yaoundé</td>\n",
       "      <td>Cameroon</td>\n",
       "      <td>True</td>\n",
       "      <td>False</td>\n",
       "      <td>False</td>\n",
       "      <td>draw</td>\n",
       "      <td>draw</td>\n",
       "    </tr>\n",
       "  </tbody>\n",
       "</table>\n",
       "<p>43188 rows × 13 columns</p>\n",
       "</div>"
      ],
      "text/plain": [
       "             date     home_team     away_team  home_score  away_score  \\\n",
       "0      1872-11-30      Scotland       England           0           0   \n",
       "1      1873-03-08       England      Scotland           4           2   \n",
       "2      1874-03-07      Scotland       England           2           1   \n",
       "3      1875-03-06       England      Scotland           2           2   \n",
       "4      1876-03-04      Scotland       England           3           0   \n",
       "...           ...           ...           ...         ...         ...   \n",
       "43183    2/1/2022      Suriname        Guyana           2           1   \n",
       "43184    2/2/2022  Burkina Faso       Senegal           1           3   \n",
       "43185    2/3/2022      Cameroon         Egypt           0           0   \n",
       "43186    2/5/2022      Cameroon  Burkina Faso           3           3   \n",
       "43187    2/6/2022       Senegal         Egypt           0           0   \n",
       "\n",
       "                   tournament        city   country  neutral home_match  \\\n",
       "0                    Friendly     Glasgow  Scotland    False       True   \n",
       "1                    Friendly      London   England    False       True   \n",
       "2                    Friendly     Glasgow  Scotland    False       True   \n",
       "3                    Friendly      London   England    False       True   \n",
       "4                    Friendly     Glasgow  Scotland    False       True   \n",
       "...                       ...         ...       ...      ...        ...   \n",
       "43183                Friendly  Paramaribo  Suriname    False       True   \n",
       "43184  African Cup of Nations     Yaoundé  Cameroon     True      False   \n",
       "43185  African Cup of Nations     Yaoundé  Cameroon    False       True   \n",
       "43186  African Cup of Nations     Yaoundé  Cameroon    False       True   \n",
       "43187  African Cup of Nations     Yaoundé  Cameroon     True      False   \n",
       "\n",
       "      away_match result_home result_away  \n",
       "0          False        draw        draw  \n",
       "1          False         win        lose  \n",
       "2          False         win        lose  \n",
       "3          False        draw        draw  \n",
       "4          False         win        lose  \n",
       "...          ...         ...         ...  \n",
       "43183      False         win        lose  \n",
       "43184      False        lose         win  \n",
       "43185      False        draw        draw  \n",
       "43186      False        draw        draw  \n",
       "43187      False        draw        draw  \n",
       "\n",
       "[43188 rows x 13 columns]"
      ]
     },
     "execution_count": 292,
     "metadata": {},
     "output_type": "execute_result"
    }
   ],
   "source": [
    "df[\"result_away\"]=np.select(condition1,value1)\n",
    "df"
   ]
  },
  {
   "cell_type": "markdown",
   "id": "f0a55b7d",
   "metadata": {},
   "source": [
    "1: Friendly matches "
   ]
  },
  {
   "cell_type": "markdown",
   "id": "3be4ca8b",
   "metadata": {},
   "source": [
    "1.1: probility of wining home games "
   ]
  },
  {
   "cell_type": "code",
   "execution_count": 293,
   "id": "de1122ca",
   "metadata": {
    "scrolled": true
   },
   "outputs": [
    {
     "data": {
      "text/html": [
       "<div>\n",
       "<style scoped>\n",
       "    .dataframe tbody tr th:only-of-type {\n",
       "        vertical-align: middle;\n",
       "    }\n",
       "\n",
       "    .dataframe tbody tr th {\n",
       "        vertical-align: top;\n",
       "    }\n",
       "\n",
       "    .dataframe thead th {\n",
       "        text-align: right;\n",
       "    }\n",
       "</style>\n",
       "<table border=\"1\" class=\"dataframe\">\n",
       "  <thead>\n",
       "    <tr style=\"text-align: right;\">\n",
       "      <th></th>\n",
       "      <th>date</th>\n",
       "      <th>home_team</th>\n",
       "      <th>away_team</th>\n",
       "      <th>home_score</th>\n",
       "      <th>away_score</th>\n",
       "      <th>tournament</th>\n",
       "      <th>city</th>\n",
       "      <th>country</th>\n",
       "      <th>neutral</th>\n",
       "      <th>home_match</th>\n",
       "      <th>away_match</th>\n",
       "      <th>result_home</th>\n",
       "      <th>result_away</th>\n",
       "    </tr>\n",
       "  </thead>\n",
       "  <tbody>\n",
       "    <tr>\n",
       "      <th>0</th>\n",
       "      <td>1872-11-30</td>\n",
       "      <td>Scotland</td>\n",
       "      <td>England</td>\n",
       "      <td>0</td>\n",
       "      <td>0</td>\n",
       "      <td>Friendly</td>\n",
       "      <td>Glasgow</td>\n",
       "      <td>Scotland</td>\n",
       "      <td>False</td>\n",
       "      <td>True</td>\n",
       "      <td>False</td>\n",
       "      <td>draw</td>\n",
       "      <td>draw</td>\n",
       "    </tr>\n",
       "    <tr>\n",
       "      <th>1</th>\n",
       "      <td>1873-03-08</td>\n",
       "      <td>England</td>\n",
       "      <td>Scotland</td>\n",
       "      <td>4</td>\n",
       "      <td>2</td>\n",
       "      <td>Friendly</td>\n",
       "      <td>London</td>\n",
       "      <td>England</td>\n",
       "      <td>False</td>\n",
       "      <td>True</td>\n",
       "      <td>False</td>\n",
       "      <td>win</td>\n",
       "      <td>lose</td>\n",
       "    </tr>\n",
       "    <tr>\n",
       "      <th>2</th>\n",
       "      <td>1874-03-07</td>\n",
       "      <td>Scotland</td>\n",
       "      <td>England</td>\n",
       "      <td>2</td>\n",
       "      <td>1</td>\n",
       "      <td>Friendly</td>\n",
       "      <td>Glasgow</td>\n",
       "      <td>Scotland</td>\n",
       "      <td>False</td>\n",
       "      <td>True</td>\n",
       "      <td>False</td>\n",
       "      <td>win</td>\n",
       "      <td>lose</td>\n",
       "    </tr>\n",
       "    <tr>\n",
       "      <th>3</th>\n",
       "      <td>1875-03-06</td>\n",
       "      <td>England</td>\n",
       "      <td>Scotland</td>\n",
       "      <td>2</td>\n",
       "      <td>2</td>\n",
       "      <td>Friendly</td>\n",
       "      <td>London</td>\n",
       "      <td>England</td>\n",
       "      <td>False</td>\n",
       "      <td>True</td>\n",
       "      <td>False</td>\n",
       "      <td>draw</td>\n",
       "      <td>draw</td>\n",
       "    </tr>\n",
       "    <tr>\n",
       "      <th>4</th>\n",
       "      <td>1876-03-04</td>\n",
       "      <td>Scotland</td>\n",
       "      <td>England</td>\n",
       "      <td>3</td>\n",
       "      <td>0</td>\n",
       "      <td>Friendly</td>\n",
       "      <td>Glasgow</td>\n",
       "      <td>Scotland</td>\n",
       "      <td>False</td>\n",
       "      <td>True</td>\n",
       "      <td>False</td>\n",
       "      <td>win</td>\n",
       "      <td>lose</td>\n",
       "    </tr>\n",
       "    <tr>\n",
       "      <th>...</th>\n",
       "      <td>...</td>\n",
       "      <td>...</td>\n",
       "      <td>...</td>\n",
       "      <td>...</td>\n",
       "      <td>...</td>\n",
       "      <td>...</td>\n",
       "      <td>...</td>\n",
       "      <td>...</td>\n",
       "      <td>...</td>\n",
       "      <td>...</td>\n",
       "      <td>...</td>\n",
       "      <td>...</td>\n",
       "      <td>...</td>\n",
       "    </tr>\n",
       "    <tr>\n",
       "      <th>43179</th>\n",
       "      <td>2/1/2022</td>\n",
       "      <td>Bahrain</td>\n",
       "      <td>DR Congo</td>\n",
       "      <td>1</td>\n",
       "      <td>0</td>\n",
       "      <td>Friendly</td>\n",
       "      <td>Riffa</td>\n",
       "      <td>Bahrain</td>\n",
       "      <td>False</td>\n",
       "      <td>True</td>\n",
       "      <td>False</td>\n",
       "      <td>win</td>\n",
       "      <td>lose</td>\n",
       "    </tr>\n",
       "    <tr>\n",
       "      <th>43180</th>\n",
       "      <td>2/1/2022</td>\n",
       "      <td>Kuwait</td>\n",
       "      <td>Libya</td>\n",
       "      <td>0</td>\n",
       "      <td>2</td>\n",
       "      <td>Friendly</td>\n",
       "      <td>Kuwait City</td>\n",
       "      <td>Kuwait</td>\n",
       "      <td>False</td>\n",
       "      <td>True</td>\n",
       "      <td>False</td>\n",
       "      <td>lose</td>\n",
       "      <td>win</td>\n",
       "    </tr>\n",
       "    <tr>\n",
       "      <th>43181</th>\n",
       "      <td>2/1/2022</td>\n",
       "      <td>Nepal</td>\n",
       "      <td>Mauritius</td>\n",
       "      <td>1</td>\n",
       "      <td>0</td>\n",
       "      <td>Friendly</td>\n",
       "      <td>Kathmandu</td>\n",
       "      <td>Nepal</td>\n",
       "      <td>False</td>\n",
       "      <td>True</td>\n",
       "      <td>False</td>\n",
       "      <td>win</td>\n",
       "      <td>lose</td>\n",
       "    </tr>\n",
       "    <tr>\n",
       "      <th>43182</th>\n",
       "      <td>2/1/2022</td>\n",
       "      <td>Nicaragua</td>\n",
       "      <td>Belize</td>\n",
       "      <td>1</td>\n",
       "      <td>1</td>\n",
       "      <td>Friendly</td>\n",
       "      <td>Managua</td>\n",
       "      <td>Nicaragua</td>\n",
       "      <td>False</td>\n",
       "      <td>True</td>\n",
       "      <td>False</td>\n",
       "      <td>draw</td>\n",
       "      <td>draw</td>\n",
       "    </tr>\n",
       "    <tr>\n",
       "      <th>43183</th>\n",
       "      <td>2/1/2022</td>\n",
       "      <td>Suriname</td>\n",
       "      <td>Guyana</td>\n",
       "      <td>2</td>\n",
       "      <td>1</td>\n",
       "      <td>Friendly</td>\n",
       "      <td>Paramaribo</td>\n",
       "      <td>Suriname</td>\n",
       "      <td>False</td>\n",
       "      <td>True</td>\n",
       "      <td>False</td>\n",
       "      <td>win</td>\n",
       "      <td>lose</td>\n",
       "    </tr>\n",
       "  </tbody>\n",
       "</table>\n",
       "<p>14457 rows × 13 columns</p>\n",
       "</div>"
      ],
      "text/plain": [
       "             date  home_team  away_team  home_score  away_score tournament  \\\n",
       "0      1872-11-30   Scotland    England           0           0   Friendly   \n",
       "1      1873-03-08    England   Scotland           4           2   Friendly   \n",
       "2      1874-03-07   Scotland    England           2           1   Friendly   \n",
       "3      1875-03-06    England   Scotland           2           2   Friendly   \n",
       "4      1876-03-04   Scotland    England           3           0   Friendly   \n",
       "...           ...        ...        ...         ...         ...        ...   \n",
       "43179    2/1/2022    Bahrain   DR Congo           1           0   Friendly   \n",
       "43180    2/1/2022     Kuwait      Libya           0           2   Friendly   \n",
       "43181    2/1/2022      Nepal  Mauritius           1           0   Friendly   \n",
       "43182    2/1/2022  Nicaragua     Belize           1           1   Friendly   \n",
       "43183    2/1/2022   Suriname     Guyana           2           1   Friendly   \n",
       "\n",
       "              city    country  neutral home_match away_match result_home  \\\n",
       "0          Glasgow   Scotland    False       True      False        draw   \n",
       "1           London    England    False       True      False         win   \n",
       "2          Glasgow   Scotland    False       True      False         win   \n",
       "3           London    England    False       True      False        draw   \n",
       "4          Glasgow   Scotland    False       True      False         win   \n",
       "...            ...        ...      ...        ...        ...         ...   \n",
       "43179        Riffa    Bahrain    False       True      False         win   \n",
       "43180  Kuwait City     Kuwait    False       True      False        lose   \n",
       "43181    Kathmandu      Nepal    False       True      False         win   \n",
       "43182      Managua  Nicaragua    False       True      False        draw   \n",
       "43183   Paramaribo   Suriname    False       True      False         win   \n",
       "\n",
       "      result_away  \n",
       "0            draw  \n",
       "1            lose  \n",
       "2            lose  \n",
       "3            draw  \n",
       "4            lose  \n",
       "...           ...  \n",
       "43179        lose  \n",
       "43180         win  \n",
       "43181        lose  \n",
       "43182        draw  \n",
       "43183        lose  \n",
       "\n",
       "[14457 rows x 13 columns]"
      ]
     },
     "execution_count": 293,
     "metadata": {},
     "output_type": "execute_result"
    }
   ],
   "source": [
    "df_f=df[df[\"tournament\"]==\"Friendly\"]\n",
    "df_homegame=df_f[df_f[\"home_match\"]==True]\n",
    "df_homegame"
   ]
  },
  {
   "cell_type": "code",
   "execution_count": 294,
   "id": "6ab73cea",
   "metadata": {},
   "outputs": [
    {
     "data": {
      "text/plain": [
       "(292, 13)"
      ]
     },
     "execution_count": 294,
     "metadata": {},
     "output_type": "execute_result"
    }
   ],
   "source": [
    "df_francehome=df_homegame[df_homegame[\"country\"]==\"France\"]\n",
    "df_francehome.shape"
   ]
  },
  {
   "cell_type": "code",
   "execution_count": 295,
   "id": "bd843b1c",
   "metadata": {},
   "outputs": [],
   "source": [
    "a=np.array(df_francehome[\"result_home\"].value_counts())\n",
    "a1=a.sum()"
   ]
  },
  {
   "cell_type": "code",
   "execution_count": 296,
   "id": "583da582",
   "metadata": {},
   "outputs": [
    {
     "data": {
      "text/plain": [
       "(0.4632472850239812, 0.5778486053869777)"
      ]
     },
     "execution_count": 296,
     "metadata": {},
     "output_type": "execute_result"
    }
   ],
   "source": [
    "CI_france=proportion_confint(count=a[0],nobs=a1,alpha=(1-.95))\n",
    "CI_france"
   ]
  },
  {
   "cell_type": "code",
   "execution_count": 297,
   "id": "62d3ec50",
   "metadata": {},
   "outputs": [
    {
     "data": {
      "text/plain": [
       "(193, 13)"
      ]
     },
     "execution_count": 297,
     "metadata": {},
     "output_type": "execute_result"
    }
   ],
   "source": [
    "df_englandhome=df_homegame[df_homegame[\"country\"]==\"England\"]\n",
    "df_englandhome.shape"
   ]
  },
  {
   "cell_type": "code",
   "execution_count": 298,
   "id": "6d550044",
   "metadata": {},
   "outputs": [],
   "source": [
    "b=np.array(df_englandhome[\"result_home\"].value_counts())\n",
    "b1=b.sum()"
   ]
  },
  {
   "cell_type": "code",
   "execution_count": 299,
   "id": "5b193222",
   "metadata": {},
   "outputs": [
    {
     "data": {
      "text/plain": [
       "(0.6272415832438014, 0.7380720698927299)"
      ]
     },
     "execution_count": 299,
     "metadata": {},
     "output_type": "execute_result"
    }
   ],
   "source": [
    "CI_england=proportion_confint(count=b[0],nobs=b1,alpha=(1-.95))\n",
    "CI_england\n",
    "(0.6272415832438014, 0.7380720698927299)"
   ]
  },
  {
   "cell_type": "code",
   "execution_count": 300,
   "id": "eff3c6bc",
   "metadata": {},
   "outputs": [
    {
     "data": {
      "text/plain": [
       "(212, 13)"
      ]
     },
     "execution_count": 300,
     "metadata": {},
     "output_type": "execute_result"
    }
   ],
   "source": [
    "df_italyhome=df_homegame[df_homegame[\"country\"]==\"Italy\"]\n",
    "df_italyhome.shape"
   ]
  },
  {
   "cell_type": "code",
   "execution_count": 301,
   "id": "f08e2dfc",
   "metadata": {},
   "outputs": [],
   "source": [
    "c=np.array(df_italyhome[\"result_home\"].value_counts())\n",
    "c1=c.sum()"
   ]
  },
  {
   "cell_type": "code",
   "execution_count": 302,
   "id": "f40b7f1a",
   "metadata": {},
   "outputs": [
    {
     "data": {
      "text/plain": [
       "(0.5622730774546754, 0.6924439036774002)"
      ]
     },
     "execution_count": 302,
     "metadata": {},
     "output_type": "execute_result"
    }
   ],
   "source": [
    "CI_italy=proportion_confint(count=c[0],nobs=c1,alpha=(1-.95))\n",
    "CI_italy"
   ]
  },
  {
   "cell_type": "code",
   "execution_count": 38,
   "id": "29ed2147",
   "metadata": {},
   "outputs": [
    {
     "data": {
      "text/plain": [
       "(429, 13)"
      ]
     },
     "execution_count": 38,
     "metadata": {},
     "output_type": "execute_result"
    }
   ],
   "source": [
    "df_germanyhome=df_homegame[df_homegame[\"country\"]==\"Germany\"]\n",
    "df_germanyhome.shape"
   ]
  },
  {
   "cell_type": "code",
   "execution_count": 39,
   "id": "ef4d3c5c",
   "metadata": {},
   "outputs": [],
   "source": [
    "d=np.array(df_germanyhome[\"result_home\"].value_counts())\n",
    "d1=d.sum()"
   ]
  },
  {
   "cell_type": "code",
   "execution_count": 40,
   "id": "516edc45",
   "metadata": {},
   "outputs": [
    {
     "data": {
      "text/plain": [
       "(0.5836678515881967, 0.6750734071530621)"
      ]
     },
     "execution_count": 40,
     "metadata": {},
     "output_type": "execute_result"
    }
   ],
   "source": [
    "CI_germany=proportion_confint(count=d[0],nobs=d1,alpha=(1-.95))\n",
    "CI_germany"
   ]
  },
  {
   "cell_type": "code",
   "execution_count": 41,
   "id": "78377ae8",
   "metadata": {},
   "outputs": [],
   "source": [
    "df_spainhome=df_homegame[df_homegame[\"country\"]==\"Spain\"]"
   ]
  },
  {
   "cell_type": "code",
   "execution_count": 42,
   "id": "1af0d4e5",
   "metadata": {},
   "outputs": [],
   "source": [
    "e=np.array(df_spainhome[\"result_home\"].value_counts())\n",
    "e1=e.sum()"
   ]
  },
  {
   "cell_type": "code",
   "execution_count": 43,
   "id": "6fefc875",
   "metadata": {},
   "outputs": [
    {
     "data": {
      "text/plain": [
       "(0.6498844681357391, 0.7507464466907593)"
      ]
     },
     "execution_count": 43,
     "metadata": {},
     "output_type": "execute_result"
    }
   ],
   "source": [
    "CI_spain=proportion_confint(count=e[0],nobs=e1,alpha=(1-.95))\n",
    "CI_spain"
   ]
  },
  {
   "cell_type": "code",
   "execution_count": 46,
   "id": "e6a2b19c",
   "metadata": {},
   "outputs": [],
   "source": [
    "CI_home={}\n",
    "CI_home[\"country\"]=[\"England\",\"France\",\"Germany\",\"Italy\",\"Spain\"]\n",
    "CI_home[\"lb\"]=[CI_england[0],CI_france[0],CI_germany[0],CI_italy[0],CI_spain[0]]\n",
    "CI_home[\"ub\"]=[CI_england[1],CI_france[1],CI_germany[1],CI_italy[1],CI_spain[1]]\n",
    "df_CIhome=pd.DataFrame(CI_home)"
   ]
  },
  {
   "cell_type": "code",
   "execution_count": 60,
   "id": "af487a63",
   "metadata": {
    "scrolled": true
   },
   "outputs": [
    {
     "data": {
      "text/plain": [
       "([<matplotlib.axis.YTick at 0x2328f3d1be0>,\n",
       "  <matplotlib.axis.YTick at 0x2328f3d1ac0>,\n",
       "  <matplotlib.axis.YTick at 0x2328f3c78e0>,\n",
       "  <matplotlib.axis.YTick at 0x2328f404a60>,\n",
       "  <matplotlib.axis.YTick at 0x2328f4101f0>],\n",
       " [Text(0, 0, 'England'),\n",
       "  Text(0, 1, 'France'),\n",
       "  Text(0, 2, 'Germany'),\n",
       "  Text(0, 3, 'Italy'),\n",
       "  Text(0, 4, 'Spain')])"
      ]
     },
     "execution_count": 60,
     "metadata": {},
     "output_type": "execute_result"
    },
    {
     "data": {
      "image/png": "[encoded data removed]",
      "text/plain": [
       "<Figure size 432x288 with 1 Axes>"
      ]
     },
     "metadata": {
      "needs_background": "light"
     },
     "output_type": "display_data"
    }
   ],
   "source": [
    "for lb,ub,y in zip(df_CIhome['lb'],df_CIhome['ub'],range(len(df_CIhome))):\n",
    "    plt.plot((lb,ub),(y,y),'ro-')\n",
    "plt.yticks(range(len(df_CIhome)),list(df_CIhome['country']))"
   ]
  },
  {
   "cell_type": "markdown",
   "id": "91a78d8f",
   "metadata": {},
   "source": [
    "There is no signifcant diffrence between the countries chances of wining home matches, \n",
    "with all 5 countries have a higher than 50 precent chance of wining home matches. \n",
    "Spain has the highes probility of wining, and France has the lowest"
   ]
  },
  {
   "cell_type": "markdown",
   "id": "62f72363",
   "metadata": {},
   "source": [
    "1.2: probility of losing home games"
   ]
  },
  {
   "cell_type": "code",
   "execution_count": 61,
   "id": "a6d3613a",
   "metadata": {
    "scrolled": true
   },
   "outputs": [
    {
     "data": {
      "text/plain": [
       "(0.17411643713822142, 0.2502627953674219)"
      ]
     },
     "execution_count": 61,
     "metadata": {},
     "output_type": "execute_result"
    }
   ],
   "source": [
    "CI_francel=proportion_confint(count=a[1],nobs=a1,alpha=(1-.95))\n",
    "CI_francel"
   ]
  },
  {
   "cell_type": "code",
   "execution_count": 62,
   "id": "681dc311",
   "metadata": {},
   "outputs": [
    {
     "data": {
      "text/plain": [
       "(0.18012455987106055, 0.2552202677151464)"
      ]
     },
     "execution_count": 62,
     "metadata": {},
     "output_type": "execute_result"
    }
   ],
   "source": [
    "CI_englandl=proportion_confint(count=b[1],nobs=b1,alpha=(1-.95))\n",
    "CI_englandl"
   ]
  },
  {
   "cell_type": "code",
   "execution_count": 63,
   "id": "eed2dfba",
   "metadata": {},
   "outputs": [
    {
     "data": {
      "text/plain": [
       "(0.20288031354554617, 0.28926628331309256)"
      ]
     },
     "execution_count": 63,
     "metadata": {},
     "output_type": "execute_result"
    }
   ],
   "source": [
    "CI_italyl=proportion_confint(count=c[1],nobs=c1,alpha=(1-.95))\n",
    "CI_italyl"
   ]
  },
  {
   "cell_type": "code",
   "execution_count": 64,
   "id": "0ef7e931",
   "metadata": {},
   "outputs": [
    {
     "data": {
      "text/plain": [
       "(0.16691788481812214, 0.2433385254382881)"
      ]
     },
     "execution_count": 64,
     "metadata": {},
     "output_type": "execute_result"
    }
   ],
   "source": [
    "CI_germanyl=proportion_confint(count=d[1],nobs=d1,alpha=(1-.95))\n",
    "CI_germanyl"
   ]
  },
  {
   "cell_type": "code",
   "execution_count": 65,
   "id": "2b084464",
   "metadata": {},
   "outputs": [
    {
     "data": {
      "text/plain": [
       "(0.14040319686664388, 0.2255274025024413)"
      ]
     },
     "execution_count": 65,
     "metadata": {},
     "output_type": "execute_result"
    }
   ],
   "source": [
    "CI_spainl=proportion_confint(count=e[1],nobs=e1,alpha=(1-.95))\n",
    "CI_spainl"
   ]
  },
  {
   "cell_type": "code",
   "execution_count": 73,
   "id": "44d27405",
   "metadata": {},
   "outputs": [
    {
     "data": {
      "text/html": [
       "<div>\n",
       "<style scoped>\n",
       "    .dataframe tbody tr th:only-of-type {\n",
       "        vertical-align: middle;\n",
       "    }\n",
       "\n",
       "    .dataframe tbody tr th {\n",
       "        vertical-align: top;\n",
       "    }\n",
       "\n",
       "    .dataframe thead th {\n",
       "        text-align: right;\n",
       "    }\n",
       "</style>\n",
       "<table border=\"1\" class=\"dataframe\">\n",
       "  <thead>\n",
       "    <tr style=\"text-align: right;\">\n",
       "      <th></th>\n",
       "      <th>country</th>\n",
       "      <th>lb</th>\n",
       "      <th>ub</th>\n",
       "    </tr>\n",
       "  </thead>\n",
       "  <tbody>\n",
       "    <tr>\n",
       "      <th>0</th>\n",
       "      <td>England</td>\n",
       "      <td>0.180125</td>\n",
       "      <td>0.255220</td>\n",
       "    </tr>\n",
       "    <tr>\n",
       "      <th>1</th>\n",
       "      <td>France</td>\n",
       "      <td>0.174116</td>\n",
       "      <td>0.250263</td>\n",
       "    </tr>\n",
       "    <tr>\n",
       "      <th>2</th>\n",
       "      <td>Germany</td>\n",
       "      <td>0.166918</td>\n",
       "      <td>0.243339</td>\n",
       "    </tr>\n",
       "    <tr>\n",
       "      <th>3</th>\n",
       "      <td>Italy</td>\n",
       "      <td>0.202880</td>\n",
       "      <td>0.289266</td>\n",
       "    </tr>\n",
       "    <tr>\n",
       "      <th>4</th>\n",
       "      <td>Spain</td>\n",
       "      <td>0.140403</td>\n",
       "      <td>0.225527</td>\n",
       "    </tr>\n",
       "  </tbody>\n",
       "</table>\n",
       "</div>"
      ],
      "text/plain": [
       "   country        lb        ub\n",
       "0  England  0.180125  0.255220\n",
       "1   France  0.174116  0.250263\n",
       "2  Germany  0.166918  0.243339\n",
       "3    Italy  0.202880  0.289266\n",
       "4    Spain  0.140403  0.225527"
      ]
     },
     "execution_count": 73,
     "metadata": {},
     "output_type": "execute_result"
    }
   ],
   "source": [
    "CI_homel={}\n",
    "CI_homel[\"country\"]=[\"England\",\"France\",\"Germany\",\"Italy\",\"Spain\"]\n",
    "CI_homel[\"lb\"]=[CI_englandl[0],CI_francel[0],CI_germanyl[0],CI_italyl[0],CI_spainl[0]]\n",
    "CI_homel[\"ub\"]=[CI_englandl[1],CI_francel[1],CI_germanyl[1],CI_italyl[1],CI_spainl[1]]\n",
    "df_CIhomel=pd.DataFrame(CI_homel)\n",
    "df_CIhomel"
   ]
  },
  {
   "cell_type": "code",
   "execution_count": 74,
   "id": "3162ff28",
   "metadata": {
    "scrolled": true
   },
   "outputs": [
    {
     "data": {
      "text/plain": [
       "([<matplotlib.axis.YTick at 0x2328fc62c70>,\n",
       "  <matplotlib.axis.YTick at 0x2328fc624f0>,\n",
       "  <matplotlib.axis.YTick at 0x2328fc5e2b0>,\n",
       "  <matplotlib.axis.YTick at 0x2328fc9e550>,\n",
       "  <matplotlib.axis.YTick at 0x2328fc9eca0>],\n",
       " [Text(0, 0, 'England'),\n",
       "  Text(0, 1, 'France'),\n",
       "  Text(0, 2, 'Germany'),\n",
       "  Text(0, 3, 'Italy'),\n",
       "  Text(0, 4, 'Spain')])"
      ]
     },
     "execution_count": 74,
     "metadata": {},
     "output_type": "execute_result"
    },
    {
     "data": {
      "image/png": "[encoded data removed]",
      "text/plain": [
       "<Figure size 432x288 with 1 Axes>"
      ]
     },
     "metadata": {
      "needs_background": "light"
     },
     "output_type": "display_data"
    }
   ],
   "source": [
    "for lb,ub,y in zip(df_CIhomel['lb'],df_CIhomel['ub'],range(len(df_CIhomel))):\n",
    "    plt.plot((lb,ub),(y,y),'ro-')\n",
    "plt.yticks(range(len(df_CIhomel)),list(df_CIhomel['country']))"
   ]
  },
  {
   "cell_type": "markdown",
   "id": "0bdece7e",
   "metadata": {},
   "source": [
    "As seen in the graph all of the countries have a low probiblity of losing home matches, with spain having the lowest probility of losing. There is no signifcant diffrence between the countries, and italy having the highest probility of lose."
   ]
  },
  {
   "cell_type": "markdown",
   "id": "0823c5f5",
   "metadata": {},
   "source": [
    "According to the two graphs above, spain has the best preformnce in freindly games played in their home satdium, followed by England then Germany and then Italy with France having the worst preformence of the five "
   ]
  },
  {
   "cell_type": "markdown",
   "id": "9b68ba94",
   "metadata": {},
   "source": [
    "1.3: probility of wining matches on neutral ground"
   ]
  },
  {
   "cell_type": "code",
   "execution_count": 99,
   "id": "4598df26",
   "metadata": {
    "scrolled": true
   },
   "outputs": [
    {
     "data": {
      "text/html": [
       "<div>\n",
       "<style scoped>\n",
       "    .dataframe tbody tr th:only-of-type {\n",
       "        vertical-align: middle;\n",
       "    }\n",
       "\n",
       "    .dataframe tbody tr th {\n",
       "        vertical-align: top;\n",
       "    }\n",
       "\n",
       "    .dataframe thead th {\n",
       "        text-align: right;\n",
       "    }\n",
       "</style>\n",
       "<table border=\"1\" class=\"dataframe\">\n",
       "  <thead>\n",
       "    <tr style=\"text-align: right;\">\n",
       "      <th></th>\n",
       "      <th>date</th>\n",
       "      <th>home_team</th>\n",
       "      <th>away_team</th>\n",
       "      <th>home_score</th>\n",
       "      <th>away_score</th>\n",
       "      <th>tournament</th>\n",
       "      <th>city</th>\n",
       "      <th>country</th>\n",
       "      <th>neutral</th>\n",
       "      <th>home_match</th>\n",
       "      <th>away_match</th>\n",
       "      <th>result_home</th>\n",
       "      <th>result_away</th>\n",
       "    </tr>\n",
       "  </thead>\n",
       "  <tbody>\n",
       "    <tr>\n",
       "      <th>267</th>\n",
       "      <td>5/29/1910</td>\n",
       "      <td>Chile</td>\n",
       "      <td>Uruguay</td>\n",
       "      <td>0</td>\n",
       "      <td>3</td>\n",
       "      <td>Friendly</td>\n",
       "      <td>Buenos Aires</td>\n",
       "      <td>Argentina</td>\n",
       "      <td>True</td>\n",
       "      <td>False</td>\n",
       "      <td>False</td>\n",
       "      <td>lose</td>\n",
       "      <td>win</td>\n",
       "    </tr>\n",
       "    <tr>\n",
       "      <th>331</th>\n",
       "      <td>6/30/1912</td>\n",
       "      <td>Austria</td>\n",
       "      <td>Italy</td>\n",
       "      <td>5</td>\n",
       "      <td>1</td>\n",
       "      <td>Friendly</td>\n",
       "      <td>Stockholm</td>\n",
       "      <td>Sweden</td>\n",
       "      <td>True</td>\n",
       "      <td>False</td>\n",
       "      <td>False</td>\n",
       "      <td>win</td>\n",
       "      <td>lose</td>\n",
       "    </tr>\n",
       "    <tr>\n",
       "      <th>332</th>\n",
       "      <td>7/1/1912</td>\n",
       "      <td>Austria</td>\n",
       "      <td>Norway</td>\n",
       "      <td>1</td>\n",
       "      <td>1</td>\n",
       "      <td>Friendly</td>\n",
       "      <td>Stockholm</td>\n",
       "      <td>Sweden</td>\n",
       "      <td>True</td>\n",
       "      <td>False</td>\n",
       "      <td>False</td>\n",
       "      <td>draw</td>\n",
       "      <td>draw</td>\n",
       "    </tr>\n",
       "    <tr>\n",
       "      <th>333</th>\n",
       "      <td>7/3/1912</td>\n",
       "      <td>Hungary</td>\n",
       "      <td>Austria</td>\n",
       "      <td>3</td>\n",
       "      <td>0</td>\n",
       "      <td>Friendly</td>\n",
       "      <td>Stockholm</td>\n",
       "      <td>Sweden</td>\n",
       "      <td>True</td>\n",
       "      <td>False</td>\n",
       "      <td>False</td>\n",
       "      <td>win</td>\n",
       "      <td>lose</td>\n",
       "    </tr>\n",
       "    <tr>\n",
       "      <th>334</th>\n",
       "      <td>7/3/1912</td>\n",
       "      <td>Norway</td>\n",
       "      <td>Russia</td>\n",
       "      <td>2</td>\n",
       "      <td>1</td>\n",
       "      <td>Friendly</td>\n",
       "      <td>Stockholm</td>\n",
       "      <td>Sweden</td>\n",
       "      <td>True</td>\n",
       "      <td>False</td>\n",
       "      <td>False</td>\n",
       "      <td>win</td>\n",
       "      <td>lose</td>\n",
       "    </tr>\n",
       "    <tr>\n",
       "      <th>...</th>\n",
       "      <td>...</td>\n",
       "      <td>...</td>\n",
       "      <td>...</td>\n",
       "      <td>...</td>\n",
       "      <td>...</td>\n",
       "      <td>...</td>\n",
       "      <td>...</td>\n",
       "      <td>...</td>\n",
       "      <td>...</td>\n",
       "      <td>...</td>\n",
       "      <td>...</td>\n",
       "      <td>...</td>\n",
       "      <td>...</td>\n",
       "    </tr>\n",
       "    <tr>\n",
       "      <th>43135</th>\n",
       "      <td>1/16/2022</td>\n",
       "      <td>Colombia</td>\n",
       "      <td>Honduras</td>\n",
       "      <td>2</td>\n",
       "      <td>1</td>\n",
       "      <td>Friendly</td>\n",
       "      <td>Fort Lauderdale</td>\n",
       "      <td>United States</td>\n",
       "      <td>True</td>\n",
       "      <td>False</td>\n",
       "      <td>False</td>\n",
       "      <td>win</td>\n",
       "      <td>lose</td>\n",
       "    </tr>\n",
       "    <tr>\n",
       "      <th>43143</th>\n",
       "      <td>1/18/2022</td>\n",
       "      <td>Moldova</td>\n",
       "      <td>Uganda</td>\n",
       "      <td>2</td>\n",
       "      <td>3</td>\n",
       "      <td>Friendly</td>\n",
       "      <td>Belek</td>\n",
       "      <td>Turkey</td>\n",
       "      <td>True</td>\n",
       "      <td>False</td>\n",
       "      <td>False</td>\n",
       "      <td>lose</td>\n",
       "      <td>win</td>\n",
       "    </tr>\n",
       "    <tr>\n",
       "      <th>43150</th>\n",
       "      <td>1/20/2022</td>\n",
       "      <td>South Korea</td>\n",
       "      <td>Moldova</td>\n",
       "      <td>4</td>\n",
       "      <td>0</td>\n",
       "      <td>Friendly</td>\n",
       "      <td>Antalya</td>\n",
       "      <td>Turkey</td>\n",
       "      <td>True</td>\n",
       "      <td>False</td>\n",
       "      <td>False</td>\n",
       "      <td>win</td>\n",
       "      <td>lose</td>\n",
       "    </tr>\n",
       "    <tr>\n",
       "      <th>43168</th>\n",
       "      <td>1/27/2022</td>\n",
       "      <td>Uzbekistan</td>\n",
       "      <td>South Sudan</td>\n",
       "      <td>3</td>\n",
       "      <td>0</td>\n",
       "      <td>Friendly</td>\n",
       "      <td>Dubai</td>\n",
       "      <td>United Arab Emirates</td>\n",
       "      <td>True</td>\n",
       "      <td>False</td>\n",
       "      <td>False</td>\n",
       "      <td>win</td>\n",
       "      <td>lose</td>\n",
       "    </tr>\n",
       "    <tr>\n",
       "      <th>43169</th>\n",
       "      <td>1/28/2022</td>\n",
       "      <td>Jordan</td>\n",
       "      <td>New Zealand</td>\n",
       "      <td>3</td>\n",
       "      <td>1</td>\n",
       "      <td>Friendly</td>\n",
       "      <td>Abu Dhabi</td>\n",
       "      <td>United Arab Emirates</td>\n",
       "      <td>True</td>\n",
       "      <td>False</td>\n",
       "      <td>False</td>\n",
       "      <td>win</td>\n",
       "      <td>lose</td>\n",
       "    </tr>\n",
       "  </tbody>\n",
       "</table>\n",
       "<p>2301 rows × 13 columns</p>\n",
       "</div>"
      ],
      "text/plain": [
       "            date    home_team    away_team  home_score  away_score tournament  \\\n",
       "267    5/29/1910        Chile      Uruguay           0           3   Friendly   \n",
       "331    6/30/1912      Austria        Italy           5           1   Friendly   \n",
       "332     7/1/1912      Austria       Norway           1           1   Friendly   \n",
       "333     7/3/1912      Hungary      Austria           3           0   Friendly   \n",
       "334     7/3/1912       Norway       Russia           2           1   Friendly   \n",
       "...          ...          ...          ...         ...         ...        ...   \n",
       "43135  1/16/2022     Colombia     Honduras           2           1   Friendly   \n",
       "43143  1/18/2022      Moldova       Uganda           2           3   Friendly   \n",
       "43150  1/20/2022  South Korea      Moldova           4           0   Friendly   \n",
       "43168  1/27/2022   Uzbekistan  South Sudan           3           0   Friendly   \n",
       "43169  1/28/2022       Jordan  New Zealand           3           1   Friendly   \n",
       "\n",
       "                  city               country  neutral home_match away_match  \\\n",
       "267       Buenos Aires             Argentina     True      False      False   \n",
       "331          Stockholm                Sweden     True      False      False   \n",
       "332          Stockholm                Sweden     True      False      False   \n",
       "333          Stockholm                Sweden     True      False      False   \n",
       "334          Stockholm                Sweden     True      False      False   \n",
       "...                ...                   ...      ...        ...        ...   \n",
       "43135  Fort Lauderdale         United States     True      False      False   \n",
       "43143            Belek                Turkey     True      False      False   \n",
       "43150          Antalya                Turkey     True      False      False   \n",
       "43168            Dubai  United Arab Emirates     True      False      False   \n",
       "43169        Abu Dhabi  United Arab Emirates     True      False      False   \n",
       "\n",
       "      result_home result_away  \n",
       "267          lose         win  \n",
       "331           win        lose  \n",
       "332          draw        draw  \n",
       "333           win        lose  \n",
       "334           win        lose  \n",
       "...           ...         ...  \n",
       "43135         win        lose  \n",
       "43143        lose         win  \n",
       "43150         win        lose  \n",
       "43168         win        lose  \n",
       "43169         win        lose  \n",
       "\n",
       "[2301 rows x 13 columns]"
      ]
     },
     "execution_count": 99,
     "metadata": {},
     "output_type": "execute_result"
    }
   ],
   "source": [
    "df_f=df[df[\"tournament\"]==\"Friendly\"]\n",
    "df_neutral=df_f[df_f[\"neutral\"]==True]\n",
    "df_neutral"
   ]
  },
  {
   "cell_type": "code",
   "execution_count": 100,
   "id": "ce946e9d",
   "metadata": {},
   "outputs": [
    {
     "data": {
      "text/plain": [
       "(162, 13)"
      ]
     },
     "execution_count": 100,
     "metadata": {},
     "output_type": "execute_result"
    }
   ],
   "source": [
    "df_franceneu=df_neutral[df_neutral[\"country\"]==\"France\"]\n",
    "df_franceneu.shape"
   ]
  },
  {
   "cell_type": "code",
   "execution_count": 101,
   "id": "3bf65c86",
   "metadata": {},
   "outputs": [],
   "source": [
    "a=np.array(df_franceneu[\"result_home\"].value_counts())\n",
    "a1=a.sum()\n"
   ]
  },
  {
   "cell_type": "code",
   "execution_count": 102,
   "id": "fbfde548",
   "metadata": {},
   "outputs": [
    {
     "data": {
      "text/plain": [
       "(0.3437565232589405, 0.4957496495805656)"
      ]
     },
     "execution_count": 102,
     "metadata": {},
     "output_type": "execute_result"
    }
   ],
   "source": [
    "CI_france=proportion_confint(count=a[0],nobs=a1,alpha=(1-.95))\n",
    "CI_france"
   ]
  },
  {
   "cell_type": "code",
   "execution_count": 103,
   "id": "ec99419d",
   "metadata": {},
   "outputs": [
    {
     "data": {
      "text/plain": [
       "(77, 13)"
      ]
     },
     "execution_count": 103,
     "metadata": {},
     "output_type": "execute_result"
    }
   ],
   "source": [
    "df_englandneu=df_neutral[df_neutral[\"country\"]==\"England\"]\n",
    "df_englandneu.shape\n"
   ]
  },
  {
   "cell_type": "code",
   "execution_count": 104,
   "id": "fb89ba64",
   "metadata": {},
   "outputs": [],
   "source": [
    "b=np.array(df_englandneu[\"result_home\"].value_counts())\n",
    "b1=b.sum()"
   ]
  },
  {
   "cell_type": "code",
   "execution_count": 105,
   "id": "9d89860f",
   "metadata": {},
   "outputs": [
    {
     "data": {
      "text/plain": [
       "(0.31803757494100876, 0.5391052822018484)"
      ]
     },
     "execution_count": 105,
     "metadata": {},
     "output_type": "execute_result"
    }
   ],
   "source": [
    "CI_england=proportion_confint(count=b[0],nobs=b1,alpha=(1-.95))\n",
    "CI_england"
   ]
  },
  {
   "cell_type": "code",
   "execution_count": 106,
   "id": "555a98f6",
   "metadata": {},
   "outputs": [
    {
     "data": {
      "text/plain": [
       "(20, 13)"
      ]
     },
     "execution_count": 106,
     "metadata": {},
     "output_type": "execute_result"
    }
   ],
   "source": [
    "df_italyneu=df_neutral[df_neutral[\"country\"]==\"Italy\"]\n",
    "df_italyneu.shape"
   ]
  },
  {
   "cell_type": "code",
   "execution_count": 107,
   "id": "cb6bdd98",
   "metadata": {},
   "outputs": [],
   "source": [
    "c=np.array(df_italyneu[\"result_home\"].value_counts())\n",
    "c1=c.sum()\n"
   ]
  },
  {
   "cell_type": "code",
   "execution_count": 108,
   "id": "81b4ff8d",
   "metadata": {},
   "outputs": [
    {
     "data": {
      "text/plain": [
       "(0.18529670275394117, 0.6147032972460589)"
      ]
     },
     "execution_count": 108,
     "metadata": {},
     "output_type": "execute_result"
    }
   ],
   "source": [
    "CI_italy=proportion_confint(count=c[0],nobs=c1,alpha=(1-.95))\n",
    "CI_italy"
   ]
  },
  {
   "cell_type": "code",
   "execution_count": 109,
   "id": "0b28364f",
   "metadata": {},
   "outputs": [],
   "source": [
    "df_germanyneu=df_neutral[df_neutral[\"country\"]==\"Germany\"]"
   ]
  },
  {
   "cell_type": "code",
   "execution_count": 110,
   "id": "47115eee",
   "metadata": {},
   "outputs": [],
   "source": [
    "d=np.array(df_germanyneu[\"result_home\"].value_counts())\n",
    "d1=d.sum()"
   ]
  },
  {
   "cell_type": "code",
   "execution_count": 111,
   "id": "87468a93",
   "metadata": {},
   "outputs": [
    {
     "data": {
      "text/plain": [
       "(0.27115231267547785, 0.5660569896501035)"
      ]
     },
     "execution_count": 111,
     "metadata": {},
     "output_type": "execute_result"
    }
   ],
   "source": [
    "CI_germany=proportion_confint(count=d[0],nobs=d1,alpha=(1-.95))\n",
    "CI_germany"
   ]
  },
  {
   "cell_type": "code",
   "execution_count": 112,
   "id": "92d4285c",
   "metadata": {},
   "outputs": [],
   "source": [
    "df_spainneu=df_neutral[df_neutral[\"country\"]==\"Spain\"]\n"
   ]
  },
  {
   "cell_type": "code",
   "execution_count": 113,
   "id": "cc9d5fd6",
   "metadata": {},
   "outputs": [],
   "source": [
    "e=np.array(df_spainneu[\"result_home\"].value_counts())\n",
    "e1=e.sum()"
   ]
  },
  {
   "cell_type": "code",
   "execution_count": 114,
   "id": "7ba2c48c",
   "metadata": {},
   "outputs": [
    {
     "data": {
      "text/plain": [
       "(0.28641917703539904, 0.5332529541121419)"
      ]
     },
     "execution_count": 114,
     "metadata": {},
     "output_type": "execute_result"
    }
   ],
   "source": [
    "CI_spain=proportion_confint(count=e[0],nobs=e1,alpha=(1-.95))\n",
    "CI_spain"
   ]
  },
  {
   "cell_type": "code",
   "execution_count": 115,
   "id": "02d64b03",
   "metadata": {},
   "outputs": [],
   "source": [
    "CI_neu={}\n",
    "CI_neu[\"country\"]=[\"England\",\"France\",\"Germany\",\"Italy\",\"Spain\"]\n",
    "CI_neu[\"lb\"]=[CI_england[0],CI_france[0],CI_germany[0],CI_italy[0],CI_spain[0]]\n",
    "CI_neu[\"ub\"]=[CI_england[1],CI_france[1],CI_germany[1],CI_italy[1],CI_spain[1]]\n",
    "df_CIneu=pd.DataFrame(CI_neu)"
   ]
  },
  {
   "cell_type": "code",
   "execution_count": 134,
   "id": "ef385e13",
   "metadata": {},
   "outputs": [
    {
     "data": {
      "text/plain": [
       "([<matplotlib.axis.YTick at 0x23290459d60>,\n",
       "  <matplotlib.axis.YTick at 0x232904595e0>,\n",
       "  <matplotlib.axis.YTick at 0x23290453520>,\n",
       "  <matplotlib.axis.YTick at 0x23290490580>,\n",
       "  <matplotlib.axis.YTick at 0x23290490a00>],\n",
       " [Text(0, 0, 'England'),\n",
       "  Text(0, 1, 'France'),\n",
       "  Text(0, 2, 'Germany'),\n",
       "  Text(0, 3, 'Italy'),\n",
       "  Text(0, 4, 'Spain')])"
      ]
     },
     "execution_count": 134,
     "metadata": {},
     "output_type": "execute_result"
    },
    {
     "data": {
      "image/png": "[encoded data removed]",
      "text/plain": [
       "<Figure size 432x288 with 1 Axes>"
      ]
     },
     "metadata": {
      "needs_background": "light"
     },
     "output_type": "display_data"
    }
   ],
   "source": [
    "for lb,ub,y in zip(df_CIneu['lb'],df_CIneu['ub'],range(len(df_CIneu))):\n",
    "    plt.plot((lb,ub),(y,y),'ro-')\n",
    "plt.yticks(range(len(df_CIneu)),list(df_CIneu['country']))"
   ]
  },
  {
   "cell_type": "markdown",
   "id": "f0766d32",
   "metadata": {},
   "source": [
    "All four countries have almost equal probilities of wining gmaes on neutral ground, with the exception of italy which has a higher variance in its results in both the upper and lower results."
   ]
  },
  {
   "cell_type": "markdown",
   "id": "0c5c194c",
   "metadata": {},
   "source": [
    "1.4: probility of losing fiendly matches on neutral stadiums"
   ]
  },
  {
   "cell_type": "code",
   "execution_count": 122,
   "id": "2cb6ac13",
   "metadata": {},
   "outputs": [
    {
     "data": {
      "text/plain": [
       "(0.2375092279597225, 0.3797747226575614)"
      ]
     },
     "execution_count": 122,
     "metadata": {},
     "output_type": "execute_result"
    }
   ],
   "source": [
    "CI_francel=proportion_confint(count=a[1],nobs=a1,alpha=(1-.95))\n",
    "CI_francel"
   ]
  },
  {
   "cell_type": "code",
   "execution_count": 123,
   "id": "357dffe5",
   "metadata": {},
   "outputs": [
    {
     "data": {
      "text/plain": [
       "(0.1848111440453603, 0.3866174273832111)"
      ]
     },
     "execution_count": 123,
     "metadata": {},
     "output_type": "execute_result"
    }
   ],
   "source": [
    "CI_englandl=proportion_confint(count=b[1],nobs=b1,alpha=(1-.95))\n",
    "CI_englandl\n"
   ]
  },
  {
   "cell_type": "code",
   "execution_count": 124,
   "id": "e4b54f1c",
   "metadata": {},
   "outputs": [
    {
     "data": {
      "text/plain": [
       "(0.09916345547364067, 0.5008365445263593)"
      ]
     },
     "execution_count": 124,
     "metadata": {},
     "output_type": "execute_result"
    }
   ],
   "source": [
    "\n",
    "CI_italyl=proportion_confint(count=c[1],nobs=c1,alpha=(1-.95))\n",
    "CI_italyl"
   ]
  },
  {
   "cell_type": "code",
   "execution_count": 125,
   "id": "381e0d72",
   "metadata": {},
   "outputs": [
    {
     "data": {
      "text/plain": [
       "(0.16505492475188838, 0.43959623803880926)"
      ]
     },
     "execution_count": 125,
     "metadata": {},
     "output_type": "execute_result"
    }
   ],
   "source": [
    "CI_germanyl=proportion_confint(count=d[1],nobs=d1,alpha=(1-.95))\n",
    "CI_germanyl"
   ]
  },
  {
   "cell_type": "code",
   "execution_count": 126,
   "id": "86acb1b3",
   "metadata": {},
   "outputs": [
    {
     "data": {
      "text/plain": [
       "(0.25542804455024765, 0.49867031610549)"
      ]
     },
     "execution_count": 126,
     "metadata": {},
     "output_type": "execute_result"
    }
   ],
   "source": [
    "CI_spainl=proportion_confint(count=e[1],nobs=e1,alpha=(1-.95))\n",
    "CI_spainl"
   ]
  },
  {
   "cell_type": "code",
   "execution_count": 132,
   "id": "b1d85f70",
   "metadata": {},
   "outputs": [],
   "source": [
    "CI_neul={}\n",
    "CI_neul[\"country\"]=[\"England\",\"France\",\"Germany\",\"Italy\",\"Spain\"]\n",
    "CI_neul[\"lb\"]=[CI_englandl[0],CI_francel[0],CI_germanyl[0],CI_italyl[0],CI_spainl[0]]\n",
    "CI_neul[\"ub\"]=[CI_englandl[1],CI_francel[1],CI_germanyl[1],CI_italyl[1],CI_spainl[1]]\n",
    "df_CIneul=pd.DataFrame(CI_neul)"
   ]
  },
  {
   "cell_type": "code",
   "execution_count": 309,
   "id": "36d52e54",
   "metadata": {},
   "outputs": [
    {
     "data": {
      "text/plain": [
       "([<matplotlib.axis.YTick at 0x23294531940>,\n",
       "  <matplotlib.axis.YTick at 0x23294402940>,\n",
       "  <matplotlib.axis.YTick at 0x2329495e880>,\n",
       "  <matplotlib.axis.YTick at 0x23293ed4730>,\n",
       "  <matplotlib.axis.YTick at 0x23293ed4cd0>],\n",
       " [Text(0, 0, 'England'),\n",
       "  Text(0, 1, 'France'),\n",
       "  Text(0, 2, 'Germany'),\n",
       "  Text(0, 3, 'Italy'),\n",
       "  Text(0, 4, 'Spain')])"
      ]
     },
     "execution_count": 309,
     "metadata": {},
     "output_type": "execute_result"
    },
    {
     "data": {
      "image/png": "[encoded data removed]",
      "text/plain": [
       "<Figure size 432x288 with 1 Axes>"
      ]
     },
     "metadata": {
      "needs_background": "light"
     },
     "output_type": "display_data"
    }
   ],
   "source": [
    "for lb,ub,y in zip(df_CIneul['lb'],df_CIneul['ub'],range(len(df_CIneul))):\n",
    "    plt.plot((lb,ub),(y,y),'ro-')\n",
    "plt.yticks(range(len(df_CIneul)),list(df_CIneul['country']))"
   ]
  },
  {
   "cell_type": "markdown",
   "id": "d1ea76d9",
   "metadata": {},
   "source": [
    "The four of of england,germany ,spain and france, have a similar probility of losing,with the eralier three having a lower variance in their probilibty, Italy has a large variance in its results. THere is no signifcant diffrence between their probibilty of losing"
   ]
  },
  {
   "cell_type": "markdown",
   "id": "d39f77b0",
   "metadata": {},
   "source": [
    "According to the two graphs above, Spain has the best preformance in friendly matches played in neutral stadiums followed by germany, france and england, and then italy with a small diffrence between their preformance."
   ]
  },
  {
   "cell_type": "markdown",
   "id": "f13fb153",
   "metadata": {},
   "source": [
    "Comparing each country preformance between friendly home games and friendly neutral games:"
   ]
  },
  {
   "cell_type": "markdown",
   "id": "801a793f",
   "metadata": {},
   "source": [
    "Spain: spain has a higher probibility of wining friendly matches on home ground than one neutral ground, and a smaller probility of wining friendly matches in neutral stadiums, showing that they are affected by wither it is a home match or not"
   ]
  },
  {
   "cell_type": "markdown",
   "id": "dce55a0c",
   "metadata": {},
   "source": [
    "Italy: italy has a higher probibliyt of wining friendly matches at home and a lower prbibility of losing at neutral games , showng that the team preforemones better at home game "
   ]
  },
  {
   "cell_type": "markdown",
   "id": "8eea8e97",
   "metadata": {},
   "source": [
    "Germany: germany has a similar probibility of wining and losing frinedly matches played on neutral or hoem stadiums, showing they are not affected by where the match is played "
   ]
  },
  {
   "cell_type": "markdown",
   "id": "c4cc2dff",
   "metadata": {},
   "source": [
    "France: france has a higher probibility of wining friendly matches in home stadiums than one neutral ground, and a smaller probility of losing friendly matches on neutral stadiums, showing that they are affected by wither it is a home match or not"
   ]
  },
  {
   "cell_type": "markdown",
   "id": "5272a551",
   "metadata": {},
   "source": [
    "England: england has a lower probility of wining firendly matches if they are played on neutral ground than in their home stadium, showing that they are affected by wither it is a home match or not"
   ]
  },
  {
   "cell_type": "markdown",
   "id": "b62f2eb3",
   "metadata": {},
   "source": [
    "2: Playing offical matches "
   ]
  },
  {
   "cell_type": "markdown",
   "id": "4d8b07cb",
   "metadata": {},
   "source": [
    "2.1: wining home games"
   ]
  },
  {
   "cell_type": "code",
   "execution_count": 310,
   "id": "b12b3b1e",
   "metadata": {},
   "outputs": [
    {
     "data": {
      "text/plain": [
       "(17225, 13)"
      ]
     },
     "execution_count": 310,
     "metadata": {},
     "output_type": "execute_result"
    }
   ],
   "source": [
    "df_o=df[df[\"tournament\"]!=\"Friendly\"]\n",
    "df_homegame=df_o[df_o[\"home_match\"]==True]\n",
    "df_homegame.shape"
   ]
  },
  {
   "cell_type": "code",
   "execution_count": 311,
   "id": "3d1ab285",
   "metadata": {},
   "outputs": [
    {
     "data": {
      "text/plain": [
       "(151, 13)"
      ]
     },
     "execution_count": 311,
     "metadata": {},
     "output_type": "execute_result"
    }
   ],
   "source": [
    "df_francehomeo=df_homegame[df_homegame[\"country\"]==\"France\"]\n",
    "df_francehomeo.shape"
   ]
  },
  {
   "cell_type": "code",
   "execution_count": 312,
   "id": "7fc60eb8",
   "metadata": {},
   "outputs": [],
   "source": [
    "a=np.array(df_francehomeo[\"result_home\"].value_counts())\n",
    "a1=a.sum()"
   ]
  },
  {
   "cell_type": "code",
   "execution_count": 313,
   "id": "193b808e",
   "metadata": {},
   "outputs": [
    {
     "data": {
      "text/plain": [
       "(0.6432489814988812, 0.7872145946600592)"
      ]
     },
     "execution_count": 313,
     "metadata": {},
     "output_type": "execute_result"
    }
   ],
   "source": [
    "CI_franceo=proportion_confint(count=a[0],nobs=a1,alpha=(1-.95))\n",
    "CI_franceo\n"
   ]
  },
  {
   "cell_type": "code",
   "execution_count": 314,
   "id": "eed413e8",
   "metadata": {},
   "outputs": [
    {
     "data": {
      "text/plain": [
       "(271, 13)"
      ]
     },
     "execution_count": 314,
     "metadata": {},
     "output_type": "execute_result"
    }
   ],
   "source": [
    "df_englandhomeo=df_homegame[df_homegame[\"country\"]==\"England\"]\n",
    "df_englandhomeo.shape"
   ]
  },
  {
   "cell_type": "code",
   "execution_count": 315,
   "id": "bf98d5be",
   "metadata": {},
   "outputs": [],
   "source": [
    "b=np.array(df_englandhomeo[\"result_home\"].value_counts())\n",
    "b1=b.sum()"
   ]
  },
  {
   "cell_type": "code",
   "execution_count": 316,
   "id": "4a804353",
   "metadata": {},
   "outputs": [
    {
     "data": {
      "text/plain": [
       "(0.6272415832438014, 0.7380720698927299)"
      ]
     },
     "execution_count": 316,
     "metadata": {},
     "output_type": "execute_result"
    }
   ],
   "source": [
    "CI_englando=proportion_confint(count=b[0],nobs=b1,alpha=(1-.95))\n",
    "CI_englando"
   ]
  },
  {
   "cell_type": "code",
   "execution_count": 317,
   "id": "6f37043b",
   "metadata": {},
   "outputs": [
    {
     "data": {
      "text/plain": [
       "(170, 13)"
      ]
     },
     "execution_count": 317,
     "metadata": {},
     "output_type": "execute_result"
    }
   ],
   "source": [
    "df_italyhomeo=df_homegame[df_homegame[\"country\"]==\"Italy\"]\n",
    "df_italyhomeo.shape"
   ]
  },
  {
   "cell_type": "code",
   "execution_count": 318,
   "id": "9bb6c270",
   "metadata": {},
   "outputs": [],
   "source": [
    "c=np.array(df_italyhomeo[\"result_home\"].value_counts())\n",
    "c1=c.sum()"
   ]
  },
  {
   "cell_type": "code",
   "execution_count": 319,
   "id": "a382f258",
   "metadata": {},
   "outputs": [
    {
     "data": {
      "text/plain": [
       "(0.6499803205186274, 0.7853137971284314)"
      ]
     },
     "execution_count": 319,
     "metadata": {},
     "output_type": "execute_result"
    }
   ],
   "source": [
    "CI_italyo=proportion_confint(count=c[0],nobs=c1,alpha=(1-.95))\n",
    "CI_italyo"
   ]
  },
  {
   "cell_type": "code",
   "execution_count": 320,
   "id": "5d26c378",
   "metadata": {},
   "outputs": [
    {
     "data": {
      "text/plain": [
       "(136, 13)"
      ]
     },
     "execution_count": 320,
     "metadata": {},
     "output_type": "execute_result"
    }
   ],
   "source": [
    "df_germanyhomeo=df_homegame[df_homegame[\"country\"]==\"Germany\"]\n",
    "df_germanyhomeo.shape\n"
   ]
  },
  {
   "cell_type": "code",
   "execution_count": 321,
   "id": "7eb4bdcd",
   "metadata": {},
   "outputs": [],
   "source": [
    "d=np.array(df_germanyhomeo[\"result_home\"].value_counts())\n",
    "d1=d.sum()"
   ]
  },
  {
   "cell_type": "code",
   "execution_count": 322,
   "id": "16f777cd",
   "metadata": {},
   "outputs": [
    {
     "data": {
      "text/plain": [
       "(0.6611475624384795, 0.8094406728556383)"
      ]
     },
     "execution_count": 322,
     "metadata": {},
     "output_type": "execute_result"
    }
   ],
   "source": [
    "CI_germanyo=proportion_confint(count=d[0],nobs=d1,alpha=(1-.95))\n",
    "CI_germanyo"
   ]
  },
  {
   "cell_type": "code",
   "execution_count": 323,
   "id": "91687ad4",
   "metadata": {},
   "outputs": [],
   "source": [
    "df_spainhomeo=df_homegame[df_homegame[\"country\"]==\"Spain\"]"
   ]
  },
  {
   "cell_type": "code",
   "execution_count": 324,
   "id": "ecb44cf2",
   "metadata": {},
   "outputs": [],
   "source": [
    "e=np.array(df_spainhomeo[\"result_home\"].value_counts())\n",
    "e1=e.sum()"
   ]
  },
  {
   "cell_type": "code",
   "execution_count": 325,
   "id": "365274e3",
   "metadata": {},
   "outputs": [
    {
     "data": {
      "text/plain": [
       "(0.7381608053236275, 0.8705348468502856)"
      ]
     },
     "execution_count": 325,
     "metadata": {},
     "output_type": "execute_result"
    }
   ],
   "source": [
    "CI_spaino=proportion_confint(count=e[0],nobs=e1,alpha=(1-.95))\n",
    "CI_spaino"
   ]
  },
  {
   "cell_type": "code",
   "execution_count": 326,
   "id": "92dcf881",
   "metadata": {},
   "outputs": [],
   "source": [
    "CI_homeo={}\n",
    "CI_homeo[\"country\"]=[\"England\",\"France\",\"Germany\",\"Italy\",\"Spain\"]\n",
    "CI_homeo[\"lb\"]=[CI_englando[0],CI_franceo[0],CI_germanyo[0],CI_italyo[0],CI_spaino[0]]\n",
    "CI_homeo[\"ub\"]=[CI_englando[1],CI_franceo[1],CI_germanyo[1],CI_italyo[1],CI_spaino[1]]\n",
    "df_CIhomeo=pd.DataFrame(CI_homeo)"
   ]
  },
  {
   "cell_type": "code",
   "execution_count": 327,
   "id": "e49fc260",
   "metadata": {},
   "outputs": [
    {
     "data": {
      "text/plain": [
       "([<matplotlib.axis.YTick at 0x23293efa190>,\n",
       "  <matplotlib.axis.YTick at 0x23293ee8a60>,\n",
       "  <matplotlib.axis.YTick at 0x23293ee65b0>,\n",
       "  <matplotlib.axis.YTick at 0x23293ef31c0>,\n",
       "  <matplotlib.axis.YTick at 0x23293ef3a00>],\n",
       " [Text(0, 0, 'England'),\n",
       "  Text(0, 1, 'France'),\n",
       "  Text(0, 2, 'Germany'),\n",
       "  Text(0, 3, 'Italy'),\n",
       "  Text(0, 4, 'Spain')])"
      ]
     },
     "execution_count": 327,
     "metadata": {},
     "output_type": "execute_result"
    },
    {
     "data": {
      "image/png": "[encoded data removed]",
      "text/plain": [
       "<Figure size 432x288 with 1 Axes>"
      ]
     },
     "metadata": {
      "needs_background": "light"
     },
     "output_type": "display_data"
    }
   ],
   "source": [
    "for lb,ub,y in zip(df_CIhomeo['lb'],df_CIhomeo['ub'],range(len(df_CIhomeo))):\n",
    "    plt.plot((lb,ub),(y,y),'ro-')\n",
    "plt.yticks(range(len(df_CIhomeo)),list(df_CIhomeo['country']))"
   ]
  },
  {
   "cell_type": "markdown",
   "id": "8b09555f",
   "metadata": {},
   "source": [
    "Almost all five countries have equal probilitt of wining official games at home stadium, with france having the lowest probility of the five."
   ]
  },
  {
   "cell_type": "markdown",
   "id": "2fe592d0",
   "metadata": {},
   "source": [
    "2.2:losing in home stadium"
   ]
  },
  {
   "cell_type": "code",
   "execution_count": 160,
   "id": "535d1865",
   "metadata": {},
   "outputs": [
    {
     "data": {
      "text/plain": [
       "(0.21637422773763815, 0.31787234760482763)"
      ]
     },
     "execution_count": 160,
     "metadata": {},
     "output_type": "execute_result"
    }
   ],
   "source": [
    "CI_franceol=proportion_confint(count=a[1],nobs=a1,alpha=(1-.95))\n",
    "CI_franceol"
   ]
  },
  {
   "cell_type": "code",
   "execution_count": 161,
   "id": "98b6bb0f",
   "metadata": {},
   "outputs": [
    {
     "data": {
      "text/plain": [
       "(0.18297006230998059, 0.30407656981437176)"
      ]
     },
     "execution_count": 161,
     "metadata": {},
     "output_type": "execute_result"
    }
   ],
   "source": [
    "CI_englandol=proportion_confint(count=b[1],nobs=b1,alpha=(1-.95))\n",
    "CI_englandol"
   ]
  },
  {
   "cell_type": "code",
   "execution_count": 162,
   "id": "2d91a865",
   "metadata": {},
   "outputs": [
    {
     "data": {
      "text/plain": [
       "(0.19606675066590884, 0.3133672115982421)"
      ]
     },
     "execution_count": 162,
     "metadata": {},
     "output_type": "execute_result"
    }
   ],
   "source": [
    "CI_italyol=proportion_confint(count=c[1],nobs=c1,alpha=(1-.95))\n",
    "CI_italyol"
   ]
  },
  {
   "cell_type": "code",
   "execution_count": 163,
   "id": "d534f0c5",
   "metadata": {},
   "outputs": [
    {
     "data": {
      "text/plain": [
       "(0.16797559824042385, 0.2620585314524089)"
      ]
     },
     "execution_count": 163,
     "metadata": {},
     "output_type": "execute_result"
    }
   ],
   "source": [
    "CI_germanyol=proportion_confint(count=d[1],nobs=d1,alpha=(1-.95))\n",
    "CI_germanyol"
   ]
  },
  {
   "cell_type": "code",
   "execution_count": 164,
   "id": "de98fc98",
   "metadata": {},
   "outputs": [
    {
     "data": {
      "text/plain": [
       "(0.15238456113798096, 0.2721964444486112)"
      ]
     },
     "execution_count": 164,
     "metadata": {},
     "output_type": "execute_result"
    }
   ],
   "source": [
    "CI_spainol=proportion_confint(count=e[1],nobs=e1,alpha=(1-.95))\n",
    "CI_spainol"
   ]
  },
  {
   "cell_type": "code",
   "execution_count": 165,
   "id": "045020d2",
   "metadata": {},
   "outputs": [
    {
     "data": {
      "text/html": [
       "<div>\n",
       "<style scoped>\n",
       "    .dataframe tbody tr th:only-of-type {\n",
       "        vertical-align: middle;\n",
       "    }\n",
       "\n",
       "    .dataframe tbody tr th {\n",
       "        vertical-align: top;\n",
       "    }\n",
       "\n",
       "    .dataframe thead th {\n",
       "        text-align: right;\n",
       "    }\n",
       "</style>\n",
       "<table border=\"1\" class=\"dataframe\">\n",
       "  <thead>\n",
       "    <tr style=\"text-align: right;\">\n",
       "      <th></th>\n",
       "      <th>country</th>\n",
       "      <th>lb</th>\n",
       "      <th>ub</th>\n",
       "    </tr>\n",
       "  </thead>\n",
       "  <tbody>\n",
       "    <tr>\n",
       "      <th>0</th>\n",
       "      <td>England</td>\n",
       "      <td>0.182970</td>\n",
       "      <td>0.304077</td>\n",
       "    </tr>\n",
       "    <tr>\n",
       "      <th>1</th>\n",
       "      <td>France</td>\n",
       "      <td>0.216374</td>\n",
       "      <td>0.317872</td>\n",
       "    </tr>\n",
       "    <tr>\n",
       "      <th>2</th>\n",
       "      <td>Germany</td>\n",
       "      <td>0.167976</td>\n",
       "      <td>0.262059</td>\n",
       "    </tr>\n",
       "    <tr>\n",
       "      <th>3</th>\n",
       "      <td>Italy</td>\n",
       "      <td>0.196067</td>\n",
       "      <td>0.313367</td>\n",
       "    </tr>\n",
       "    <tr>\n",
       "      <th>4</th>\n",
       "      <td>Spain</td>\n",
       "      <td>0.152385</td>\n",
       "      <td>0.272196</td>\n",
       "    </tr>\n",
       "  </tbody>\n",
       "</table>\n",
       "</div>"
      ],
      "text/plain": [
       "   country        lb        ub\n",
       "0  England  0.182970  0.304077\n",
       "1   France  0.216374  0.317872\n",
       "2  Germany  0.167976  0.262059\n",
       "3    Italy  0.196067  0.313367\n",
       "4    Spain  0.152385  0.272196"
      ]
     },
     "execution_count": 165,
     "metadata": {},
     "output_type": "execute_result"
    }
   ],
   "source": [
    "CI_homeol={}\n",
    "CI_homeol[\"country\"]=[\"England\",\"France\",\"Germany\",\"Italy\",\"Spain\"]\n",
    "CI_homeol[\"lb\"]=[CI_englandol[0],CI_franceol[0],CI_germanyol[0],CI_italyol[0],CI_spainol[0]]\n",
    "CI_homeol[\"ub\"]=[CI_englandol[1],CI_franceol[1],CI_germanyol[1],CI_italyol[1],CI_spainol[1]]\n",
    "df_CIhomeol=pd.DataFrame(CI_homeol)"
   ]
  },
  {
   "cell_type": "code",
   "execution_count": 166,
   "id": "d4bdd491",
   "metadata": {
    "scrolled": true
   },
   "outputs": [
    {
     "data": {
      "text/plain": [
       "([<matplotlib.axis.YTick at 0x2328f49a0d0>,\n",
       "  <matplotlib.axis.YTick at 0x2329106ec10>,\n",
       "  <matplotlib.axis.YTick at 0x2328ddb9b50>,\n",
       "  <matplotlib.axis.YTick at 0x23291094d00>,\n",
       "  <matplotlib.axis.YTick at 0x2329109a490>],\n",
       " [Text(0, 0, 'England'),\n",
       "  Text(0, 1, 'France'),\n",
       "  Text(0, 2, 'Germany'),\n",
       "  Text(0, 3, 'Italy'),\n",
       "  Text(0, 4, 'Spain')])"
      ]
     },
     "execution_count": 166,
     "metadata": {},
     "output_type": "execute_result"
    },
    {
     "data": {
      "image/png": "[encoded data removed]",
      "text/plain": [
       "<Figure size 432x288 with 1 Axes>"
      ]
     },
     "metadata": {
      "needs_background": "light"
     },
     "output_type": "display_data"
    }
   ],
   "source": [
    "for lb,ub,y in zip(df_CIhomeol['lb'],df_CIhomeol['ub'],range(len(df_CIhomeol))):\n",
    "    plt.plot((lb,ub),(y,y),'ro-')\n",
    "plt.yticks(range(len(df_CIhomeol)),list(df_CIhomeol['country']))"
   ]
  },
  {
   "cell_type": "markdown",
   "id": "56d26c0e",
   "metadata": {},
   "source": [
    "ALl five countires have  an almost equal probobility of losing offical matches in home stadiums."
   ]
  },
  {
   "cell_type": "markdown",
   "id": "ce0d0df1",
   "metadata": {},
   "source": [
    "Italy has the best preformance in offical games at home satdium, followed by Sapin, and then Engalnd, after that Germany, and finally France has the worst preformance of the five, However the diffrence between the five countries is not that large."
   ]
  },
  {
   "cell_type": "markdown",
   "id": "23257dfc",
   "metadata": {},
   "source": [
    "2.3: wining on neutral ground"
   ]
  },
  {
   "cell_type": "code",
   "execution_count": 191,
   "id": "cd611721",
   "metadata": {},
   "outputs": [],
   "source": [
    "df_o=df[df[\"tournament\"]!=\"Friendly\"]\n",
    "df_neutral=df_o[df_o[\"neutral\"]==True]"
   ]
  },
  {
   "cell_type": "code",
   "execution_count": 192,
   "id": "7a009495",
   "metadata": {},
   "outputs": [],
   "source": [
    "df_franceneuo=df_neutral[df_neutral[\"country\"]==\"France\"]"
   ]
  },
  {
   "cell_type": "code",
   "execution_count": 193,
   "id": "dc9f0d28",
   "metadata": {},
   "outputs": [],
   "source": [
    "a=np.array(df_franceneuo[\"result_home\"].value_counts())\n",
    "a1=a.sum()"
   ]
  },
  {
   "cell_type": "code",
   "execution_count": 194,
   "id": "0b98bc9e",
   "metadata": {},
   "outputs": [
    {
     "data": {
      "text/plain": [
       "(0.34813092544065977, 0.48692062095109284)"
      ]
     },
     "execution_count": 194,
     "metadata": {},
     "output_type": "execute_result"
    }
   ],
   "source": [
    "CI_franceo=proportion_confint(count=a[0],nobs=a1,alpha=(1-.95))\n",
    "CI_franceo"
   ]
  },
  {
   "cell_type": "code",
   "execution_count": 195,
   "id": "ca34c53a",
   "metadata": {},
   "outputs": [],
   "source": [
    "df_englandneuo=df_neutral[df_neutral[\"country\"]==\"England\"]"
   ]
  },
  {
   "cell_type": "code",
   "execution_count": 196,
   "id": "ac689624",
   "metadata": {},
   "outputs": [],
   "source": [
    "b=np.array(df_englandneuo[\"result_home\"].value_counts())\n",
    "b1=b.sum()"
   ]
  },
  {
   "cell_type": "code",
   "execution_count": 197,
   "id": "6927e62d",
   "metadata": {},
   "outputs": [
    {
     "data": {
      "text/plain": [
       "(0.3647474741499174, 0.5288695471266783)"
      ]
     },
     "execution_count": 197,
     "metadata": {},
     "output_type": "execute_result"
    }
   ],
   "source": [
    "CI_englando=proportion_confint(count=b[0],nobs=b1,alpha=(1-.95))\n",
    "CI_englando"
   ]
  },
  {
   "cell_type": "code",
   "execution_count": 198,
   "id": "4c2266ab",
   "metadata": {},
   "outputs": [
    {
     "data": {
      "text/plain": [
       "(96, 13)"
      ]
     },
     "execution_count": 198,
     "metadata": {},
     "output_type": "execute_result"
    }
   ],
   "source": [
    "df_italyneuo=df_neutral[df_neutral[\"country\"]==\"Italy\"]\n",
    "df_italyneuo.shape"
   ]
  },
  {
   "cell_type": "code",
   "execution_count": 199,
   "id": "deb5d6d8",
   "metadata": {},
   "outputs": [],
   "source": [
    "c=np.array(df_italyneuo[\"result_home\"].value_counts())\n",
    "c1=c.sum()"
   ]
  },
  {
   "cell_type": "code",
   "execution_count": 200,
   "id": "93266f09",
   "metadata": {},
   "outputs": [
    {
     "data": {
      "text/plain": [
       "(0.3080048833111753, 0.5044951166888246)"
      ]
     },
     "execution_count": 200,
     "metadata": {},
     "output_type": "execute_result"
    }
   ],
   "source": [
    "CI_italyo=proportion_confint(count=c[0],nobs=c1,alpha=(1-.95))\n",
    "CI_italyo"
   ]
  },
  {
   "cell_type": "code",
   "execution_count": 201,
   "id": "09eb38a6",
   "metadata": {},
   "outputs": [],
   "source": [
    "df_germanyneuo=df_neutral[df_neutral[\"country\"]==\"Germany\"]"
   ]
  },
  {
   "cell_type": "code",
   "execution_count": 202,
   "id": "57ccc3c7",
   "metadata": {},
   "outputs": [],
   "source": [
    "d=np.array(df_germanyneuo[\"result_home\"].value_counts())\n",
    "d1=d.sum()"
   ]
  },
  {
   "cell_type": "code",
   "execution_count": 203,
   "id": "24f5fd9d",
   "metadata": {},
   "outputs": [
    {
     "data": {
      "text/plain": [
       "(0.34216314039440565, 0.5149797167484514)"
      ]
     },
     "execution_count": 203,
     "metadata": {},
     "output_type": "execute_result"
    }
   ],
   "source": [
    "CI_germanyo=proportion_confint(count=d[0],nobs=d1,alpha=(1-.95))\n",
    "CI_germanyo"
   ]
  },
  {
   "cell_type": "code",
   "execution_count": 303,
   "id": "0e0382dd",
   "metadata": {},
   "outputs": [
    {
     "data": {
      "text/plain": [
       "(66, 13)"
      ]
     },
     "execution_count": 303,
     "metadata": {},
     "output_type": "execute_result"
    }
   ],
   "source": [
    "df_spainneuo=df_neutral[df_neutral[\"country\"]==\"Spain\"]"
   ]
  },
  {
   "cell_type": "code",
   "execution_count": 205,
   "id": "3d7de9a9",
   "metadata": {},
   "outputs": [],
   "source": [
    "e=np.array(df_spainneuo[\"result_home\"].value_counts())\n",
    "e1=e.sum()"
   ]
  },
  {
   "cell_type": "code",
   "execution_count": 206,
   "id": "03d9c4e9",
   "metadata": {},
   "outputs": [
    {
     "data": {
      "text/plain": [
       "(0.27605702429421597, 0.5118217635845719)"
      ]
     },
     "execution_count": 206,
     "metadata": {},
     "output_type": "execute_result"
    }
   ],
   "source": [
    "CI_spaino=proportion_confint(count=e[0],nobs=e1,alpha=(1-.95))\n",
    "CI_spaino"
   ]
  },
  {
   "cell_type": "code",
   "execution_count": 207,
   "id": "a6c546f0",
   "metadata": {},
   "outputs": [],
   "source": [
    "CI_neuo={}\n",
    "CI_neuo[\"country\"]=[\"England\",\"France\",\"Germany\",\"Italy\",\"Spain\"]\n",
    "CI_neuo[\"lb\"]=[CI_englando[0],CI_franceo[0],CI_germanyo[0],CI_italyo[0],CI_spaino[0]]\n",
    "CI_neuo[\"ub\"]=[CI_englando[1],CI_franceo[1],CI_germanyo[1],CI_italyo[1],CI_spaino[1]]\n",
    "df_CIneuo=pd.DataFrame(CI_neuo)"
   ]
  },
  {
   "cell_type": "code",
   "execution_count": 208,
   "id": "0ecf77b7",
   "metadata": {
    "scrolled": true
   },
   "outputs": [
    {
     "data": {
      "text/plain": [
       "([<matplotlib.axis.YTick at 0x23292357a00>,\n",
       "  <matplotlib.axis.YTick at 0x23292357280>,\n",
       "  <matplotlib.axis.YTick at 0x2329234f820>,\n",
       "  <matplotlib.axis.YTick at 0x2329238d250>,\n",
       "  <matplotlib.axis.YTick at 0x2329238d6d0>],\n",
       " [Text(0, 0, 'England'),\n",
       "  Text(0, 1, 'France'),\n",
       "  Text(0, 2, 'Germany'),\n",
       "  Text(0, 3, 'Italy'),\n",
       "  Text(0, 4, 'Spain')])"
      ]
     },
     "execution_count": 208,
     "metadata": {},
     "output_type": "execute_result"
    },
    {
     "data": {
      "image/png": "[encoded data removed]",
      "text/plain": [
       "<Figure size 432x288 with 1 Axes>"
      ]
     },
     "metadata": {
      "needs_background": "light"
     },
     "output_type": "display_data"
    }
   ],
   "source": [
    "for lb,ub,y in zip(df_CIneuo['lb'],df_CIneuo['ub'],range(len(df_CIneuo))):\n",
    "    plt.plot((lb,ub),(y,y),'ro-')\n",
    "plt.yticks(range(len(df_CIneuo)),list(df_CIneuo['country']))"
   ]
  },
  {
   "cell_type": "markdown",
   "id": "06c72fdd",
   "metadata": {},
   "source": [
    "All five have equal probility of losing offical matches in home stadiums, with spain having the largest v=range in its probability "
   ]
  },
  {
   "cell_type": "markdown",
   "id": "ca0099f9",
   "metadata": {},
   "source": [
    "2.4: losing on neutral ground"
   ]
  },
  {
   "cell_type": "code",
   "execution_count": 209,
   "id": "272400ba",
   "metadata": {},
   "outputs": [
    {
     "data": {
      "text/plain": [
       "(0.2588474263915707, 0.39063710969090354)"
      ]
     },
     "execution_count": 209,
     "metadata": {},
     "output_type": "execute_result"
    }
   ],
   "source": [
    "CI_francelo=proportion_confint(count=a[1],nobs=a1,alpha=(1-.95))\n",
    "CI_francelo"
   ]
  },
  {
   "cell_type": "code",
   "execution_count": 210,
   "id": "ef0662d3",
   "metadata": {},
   "outputs": [
    {
     "data": {
      "text/plain": [
       "(0.2689197521097339, 0.4261157088831739)"
      ]
     },
     "execution_count": 210,
     "metadata": {},
     "output_type": "execute_result"
    }
   ],
   "source": [
    "CI_englandlo=proportion_confint(count=b[1],nobs=b1,alpha=(1-.95))\n",
    "CI_englandlo"
   ]
  },
  {
   "cell_type": "code",
   "execution_count": 211,
   "id": "d1366038",
   "metadata": {},
   "outputs": [
    {
     "data": {
      "text/plain": [
       "(0.3080048833111753, 0.5044951166888246)"
      ]
     },
     "execution_count": 211,
     "metadata": {},
     "output_type": "execute_result"
    }
   ],
   "source": [
    "CI_italylo=proportion_confint(count=c[1],nobs=c1,alpha=(1-.95))\n",
    "CI_italylo"
   ]
  },
  {
   "cell_type": "code",
   "execution_count": 212,
   "id": "2637d010",
   "metadata": {},
   "outputs": [
    {
     "data": {
      "text/plain": [
       "(0.2510225828295837, 0.41564408383708296)"
      ]
     },
     "execution_count": 212,
     "metadata": {},
     "output_type": "execute_result"
    }
   ],
   "source": [
    "CI_germanylo=proportion_confint(count=d[1],nobs=d1,alpha=(1-.95))\n",
    "CI_germanylo"
   ]
  },
  {
   "cell_type": "code",
   "execution_count": 215,
   "id": "58989441",
   "metadata": {},
   "outputs": [
    {
     "data": {
      "text/plain": [
       "(0.2335291952906477, 0.4634405016790493)"
      ]
     },
     "execution_count": 215,
     "metadata": {},
     "output_type": "execute_result"
    }
   ],
   "source": [
    "CI_spainlo=proportion_confint(count=e[1],nobs=e1,alpha=(1-.95))\n",
    "CI_spainlo"
   ]
  },
  {
   "cell_type": "code",
   "execution_count": 216,
   "id": "32c67762",
   "metadata": {},
   "outputs": [],
   "source": [
    "CI_neulo={}\n",
    "CI_neulo[\"country\"]=[\"England\",\"France\",\"Germany\",\"Italy\",\"Spain\"]\n",
    "CI_neulo[\"lb\"]=[CI_englandlo[0],CI_francelo[0],CI_germanylo[0],CI_italylo[0],CI_spainlo[0]]\n",
    "CI_neulo[\"ub\"]=[CI_englandlo[1],CI_francelo[1],CI_germanylo[1],CI_italylo[1],CI_spainlo[1]]\n",
    "df_CIneulo=pd.DataFrame(CI_neulo)"
   ]
  },
  {
   "cell_type": "code",
   "execution_count": 217,
   "id": "4f334971",
   "metadata": {
    "scrolled": false
   },
   "outputs": [
    {
     "data": {
      "text/plain": [
       "([<matplotlib.axis.YTick at 0x232923c3f70>,\n",
       "  <matplotlib.axis.YTick at 0x232923c37f0>,\n",
       "  <matplotlib.axis.YTick at 0x232923bd790>,\n",
       "  <matplotlib.axis.YTick at 0x232923fa8b0>,\n",
       "  <matplotlib.axis.YTick at 0x23292402100>],\n",
       " [Text(0, 0, 'England'),\n",
       "  Text(0, 1, 'France'),\n",
       "  Text(0, 2, 'Germany'),\n",
       "  Text(0, 3, 'Italy'),\n",
       "  Text(0, 4, 'Spain')])"
      ]
     },
     "execution_count": 217,
     "metadata": {},
     "output_type": "execute_result"
    },
    {
     "data": {
      "image/png": "[encoded data removed]",
      "text/plain": [
       "<Figure size 432x288 with 1 Axes>"
      ]
     },
     "metadata": {
      "needs_background": "light"
     },
     "output_type": "display_data"
    }
   ],
   "source": [
    "for lb,ub,y in zip(df_CIneulo['lb'],df_CIneulo['ub'],range(len(df_CIneulo))):\n",
    "    plt.plot((lb,ub),(y,y),'ro-')\n",
    "plt.yticks(range(len(df_CIneulo)),list(df_CIneulo['country']))"
   ]
  },
  {
   "cell_type": "markdown",
   "id": "ffa390cb",
   "metadata": {},
   "source": [
    "All five have equal probility of losing offical matches in home stadiums, with spain having the largest range in its probability "
   ]
  },
  {
   "cell_type": "markdown",
   "id": "ee20d469",
   "metadata": {},
   "source": [
    "According to the two graphs above, there is almost no diffrence between the prefromance of the five countries in offical matches played on neutral ground "
   ]
  },
  {
   "cell_type": "markdown",
   "id": "0568d824",
   "metadata": {},
   "source": [
    "Comparing each country preformacne in home and neutral offical games, comparing to their preformance in friendly games:"
   ]
  },
  {
   "cell_type": "markdown",
   "id": "26ae2f7a",
   "metadata": {},
   "source": [
    "Spain: has a higher probibilty of wining official matches if they are played at home, when compared to playing offical matches at neutral ground. This is similar to Spaain's probiblity of wining for friendly matches showing that there is no signifacnt diffrence between spains preformence in offical and friendly matches. They perfrom better at friendly matches even though diffrence is not signifcant "
   ]
  },
  {
   "cell_type": "markdown",
   "id": "c4a717b7",
   "metadata": {},
   "source": [
    "Italy: has an equal probiblity of wining and losing offical matches when playing on neutral, moreover their probility of wining friendly matches played at home is higher than that on neutral ground. This is diffrent than their probiblity of wining friendly matches where they preform worse in offical matches played on neutral ground than they do in friendly matches "
   ]
  },
  {
   "cell_type": "markdown",
   "id": "10831042",
   "metadata": {},
   "source": [
    "Germany: has a has a higher probibilty of wining official matches if they are played at home, when compared to playing offical matches at neutral ground. This is diffrent from their probility for friendly matches where there is a signifacnt diffrence in their preformance in neutral games for firendly and offical matches, they preform better in the friendly matches  better for friendly matches "
   ]
  },
  {
   "cell_type": "markdown",
   "id": "54caaf77",
   "metadata": {},
   "source": [
    "France: France has a higher probibilty of wining official matches if they are played at home, when compared to playing offical matches at neutral ground. This is similar to their probiblity of wining friendly matches showing that there is no signifacnt diffrence between spains preformence in offical and friendly matches.However, they perfrom better at friendly matches even though diffrence is not signifcant "
   ]
  },
  {
   "cell_type": "markdown",
   "id": "9566b319",
   "metadata": {},
   "source": [
    "Engalnd:England has an equal probiblity of wining and losing offical matches when playing on neutral, moreover their probility of wining friendly matches played at home is higher than that on neutral ground. This is diffrent than their probiblity of wining friendly matches where they preform worse in offical matches played on neutral ground than they do in friendly matches "
   ]
  },
  {
   "cell_type": "markdown",
   "id": "c8accbdc",
   "metadata": {},
   "source": [
    "3: world cup qualifications matches "
   ]
  },
  {
   "cell_type": "markdown",
   "id": "cfd9e0d5",
   "metadata": {},
   "source": [
    "3.1: wining world cup qualification matches "
   ]
  },
  {
   "cell_type": "code",
   "execution_count": 240,
   "id": "dfdd7e6b",
   "metadata": {},
   "outputs": [
    {
     "data": {
      "text/html": [
       "<div>\n",
       "<style scoped>\n",
       "    .dataframe tbody tr th:only-of-type {\n",
       "        vertical-align: middle;\n",
       "    }\n",
       "\n",
       "    .dataframe tbody tr th {\n",
       "        vertical-align: top;\n",
       "    }\n",
       "\n",
       "    .dataframe thead th {\n",
       "        text-align: right;\n",
       "    }\n",
       "</style>\n",
       "<table border=\"1\" class=\"dataframe\">\n",
       "  <thead>\n",
       "    <tr style=\"text-align: right;\">\n",
       "      <th></th>\n",
       "      <th>date</th>\n",
       "      <th>home_team</th>\n",
       "      <th>away_team</th>\n",
       "      <th>home_score</th>\n",
       "      <th>away_score</th>\n",
       "      <th>tournament</th>\n",
       "      <th>city</th>\n",
       "      <th>country</th>\n",
       "      <th>neutral</th>\n",
       "      <th>home_match</th>\n",
       "      <th>away_match</th>\n",
       "      <th>result_home</th>\n",
       "      <th>result_away</th>\n",
       "    </tr>\n",
       "  </thead>\n",
       "  <tbody>\n",
       "    <tr>\n",
       "      <th>1591</th>\n",
       "      <td>6/11/1933</td>\n",
       "      <td>Sweden</td>\n",
       "      <td>Estonia</td>\n",
       "      <td>6</td>\n",
       "      <td>2</td>\n",
       "      <td>FIFA World Cup qualification</td>\n",
       "      <td>Stockholm</td>\n",
       "      <td>Sweden</td>\n",
       "      <td>False</td>\n",
       "      <td>True</td>\n",
       "      <td>False</td>\n",
       "      <td>win</td>\n",
       "      <td>lose</td>\n",
       "    </tr>\n",
       "    <tr>\n",
       "      <th>1596</th>\n",
       "      <td>6/29/1933</td>\n",
       "      <td>Lithuania</td>\n",
       "      <td>Sweden</td>\n",
       "      <td>0</td>\n",
       "      <td>2</td>\n",
       "      <td>FIFA World Cup qualification</td>\n",
       "      <td>Kaunas</td>\n",
       "      <td>Lithuania</td>\n",
       "      <td>False</td>\n",
       "      <td>True</td>\n",
       "      <td>False</td>\n",
       "      <td>lose</td>\n",
       "      <td>win</td>\n",
       "    </tr>\n",
       "  </tbody>\n",
       "</table>\n",
       "</div>"
      ],
      "text/plain": [
       "           date  home_team away_team  home_score  away_score  \\\n",
       "1591  6/11/1933     Sweden   Estonia           6           2   \n",
       "1596  6/29/1933  Lithuania    Sweden           0           2   \n",
       "\n",
       "                        tournament       city    country  neutral home_match  \\\n",
       "1591  FIFA World Cup qualification  Stockholm     Sweden    False       True   \n",
       "1596  FIFA World Cup qualification     Kaunas  Lithuania    False       True   \n",
       "\n",
       "     away_match result_home result_away  \n",
       "1591      False         win        lose  \n",
       "1596      False        lose         win  "
      ]
     },
     "execution_count": 240,
     "metadata": {},
     "output_type": "execute_result"
    }
   ],
   "source": [
    "df_quali=df[df[\"tournament\"]==\"FIFA World Cup qualification\"]\n",
    "df_quali.head(2)"
   ]
  },
  {
   "cell_type": "code",
   "execution_count": 258,
   "id": "5a82c48f",
   "metadata": {},
   "outputs": [],
   "source": [
    "df_franceq=df_quali[df_quali[\"country\"]==\"France\"]\n"
   ]
  },
  {
   "cell_type": "code",
   "execution_count": 259,
   "id": "b4b4035c",
   "metadata": {},
   "outputs": [],
   "source": [
    "a=np.array(df_franceq[\"result_home\"].value_counts())\n",
    "a1=a.sum()"
   ]
  },
  {
   "cell_type": "code",
   "execution_count": 260,
   "id": "82eaac35",
   "metadata": {},
   "outputs": [
    {
     "data": {
      "text/plain": [
       "(0.5850838683087067, 0.81174152851669)"
      ]
     },
     "execution_count": 260,
     "metadata": {},
     "output_type": "execute_result"
    }
   ],
   "source": [
    "CI_franceq=proportion_confint(count=a[0],nobs=a1,alpha=(1-.95))\n",
    "CI_franceq"
   ]
  },
  {
   "cell_type": "code",
   "execution_count": 270,
   "id": "f55913ff",
   "metadata": {},
   "outputs": [],
   "source": [
    "df_englandq=df_quali[df_quali[\"country\"]==\"England\"]\n"
   ]
  },
  {
   "cell_type": "code",
   "execution_count": 271,
   "id": "9d31d7bb",
   "metadata": {},
   "outputs": [
    {
     "data": {
      "text/plain": [
       "array([48, 13,  3], dtype=int64)"
      ]
     },
     "execution_count": 271,
     "metadata": {},
     "output_type": "execute_result"
    }
   ],
   "source": [
    "b=np.array(df_englandq[\"result_home\"].value_counts())\n",
    "b1=b.sum()\n",
    "b"
   ]
  },
  {
   "cell_type": "code",
   "execution_count": 272,
   "id": "a49fd111",
   "metadata": {},
   "outputs": [
    {
     "data": {
      "text/plain": [
       "(0.6439138374303589, 0.8560861625696411)"
      ]
     },
     "execution_count": 272,
     "metadata": {},
     "output_type": "execute_result"
    }
   ],
   "source": [
    "CI_englandq=proportion_confint(count=b[0],nobs=b1,alpha=(1-.95))\n",
    "CI_englandq"
   ]
  },
  {
   "cell_type": "code",
   "execution_count": 308,
   "id": "f1f571cb",
   "metadata": {},
   "outputs": [
    {
     "data": {
      "text/plain": [
       "(70, 13)"
      ]
     },
     "execution_count": 308,
     "metadata": {},
     "output_type": "execute_result"
    }
   ],
   "source": [
    "df_italyq=df_quali[df_quali[\"country\"]==\"Italy\"]"
   ]
  },
  {
   "cell_type": "code",
   "execution_count": 274,
   "id": "cf4fc2cd",
   "metadata": {},
   "outputs": [],
   "source": [
    "c=np.array(df_italyq[\"result_home\"].value_counts())\n",
    "c1=c.sum()"
   ]
  },
  {
   "cell_type": "code",
   "execution_count": 275,
   "id": "8e1085a0",
   "metadata": {},
   "outputs": [
    {
     "data": {
      "text/plain": [
       "(0.62439657000099, 0.832746287141867)"
      ]
     },
     "execution_count": 275,
     "metadata": {},
     "output_type": "execute_result"
    }
   ],
   "source": [
    "CI_italyq=proportion_confint(count=c[0],nobs=c1,alpha=(1-.95))\n",
    "CI_italyq"
   ]
  },
  {
   "cell_type": "code",
   "execution_count": 307,
   "id": "dc91eb32",
   "metadata": {},
   "outputs": [
    {
     "data": {
      "text/plain": [
       "(57, 13)"
      ]
     },
     "execution_count": 307,
     "metadata": {},
     "output_type": "execute_result"
    }
   ],
   "source": [
    "df_germanyq=df_quali[df_quali[\"country\"]==\"Germany\"]"
   ]
  },
  {
   "cell_type": "code",
   "execution_count": 277,
   "id": "b7026f06",
   "metadata": {},
   "outputs": [],
   "source": [
    "d=np.array(df_germanyq[\"result_home\"].value_counts())\n",
    "d1=d.sum()"
   ]
  },
  {
   "cell_type": "code",
   "execution_count": 278,
   "id": "c842e32b",
   "metadata": {},
   "outputs": [
    {
     "data": {
      "text/plain": [
       "(0.6426394331057614, 0.8661324967188)"
      ]
     },
     "execution_count": 278,
     "metadata": {},
     "output_type": "execute_result"
    }
   ],
   "source": [
    "CI_germanyq=proportion_confint(count=d[0],nobs=d1,alpha=(1-.95))\n",
    "CI_germanyq"
   ]
  },
  {
   "cell_type": "code",
   "execution_count": 306,
   "id": "81201b2d",
   "metadata": {},
   "outputs": [
    {
     "data": {
      "text/plain": [
       "(70, 13)"
      ]
     },
     "execution_count": 306,
     "metadata": {},
     "output_type": "execute_result"
    }
   ],
   "source": [
    "df_spainq=df_quali[df_quali[\"country\"]==\"Spain\"]"
   ]
  },
  {
   "cell_type": "code",
   "execution_count": 280,
   "id": "61b6b4f0",
   "metadata": {},
   "outputs": [],
   "source": [
    "e=np.array(df_spainq[\"result_home\"].value_counts())\n",
    "e1=e.sum()"
   ]
  },
  {
   "cell_type": "code",
   "execution_count": 281,
   "id": "7a6009dd",
   "metadata": {},
   "outputs": [
    {
     "data": {
      "text/plain": [
       "(0.6404715250145009, 0.8452427606997849)"
      ]
     },
     "execution_count": 281,
     "metadata": {},
     "output_type": "execute_result"
    }
   ],
   "source": [
    "CI_spainq=proportion_confint(count=e[0],nobs=e1,alpha=(1-.95))\n",
    "CI_spainq"
   ]
  },
  {
   "cell_type": "code",
   "execution_count": 282,
   "id": "8205744d",
   "metadata": {},
   "outputs": [],
   "source": [
    "CI_quali={}\n",
    "CI_quali[\"country\"]=[\"England\",\"France\",\"Germany\",\"Italy\",\"Spain\"]\n",
    "CI_quali[\"lb\"]=[CI_englandq[0],CI_franceq[0],CI_germanyq[0],CI_italyq[0],CI_spainq[0]]\n",
    "CI_quali[\"ub\"]=[CI_englandq[1],CI_franceq[1],CI_germanyq[1],CI_italyq[1],CI_spainq[1]]\n",
    "df_CIquali=pd.DataFrame(CI_quali)"
   ]
  },
  {
   "cell_type": "code",
   "execution_count": 283,
   "id": "7eaf9b18",
   "metadata": {},
   "outputs": [
    {
     "data": {
      "text/plain": [
       "([<matplotlib.axis.YTick at 0x232924e7670>,\n",
       "  <matplotlib.axis.YTick at 0x232924e0eb0>,\n",
       "  <matplotlib.axis.YTick at 0x2329242f0d0>,\n",
       "  <matplotlib.axis.YTick at 0x23292515f70>,\n",
       "  <matplotlib.axis.YTick at 0x2329251e5e0>],\n",
       " [Text(0, 0, 'England'),\n",
       "  Text(0, 1, 'France'),\n",
       "  Text(0, 2, 'Germany'),\n",
       "  Text(0, 3, 'Italy'),\n",
       "  Text(0, 4, 'Spain')])"
      ]
     },
     "execution_count": 283,
     "metadata": {},
     "output_type": "execute_result"
    },
    {
     "data": {
      "image/png": "[encoded data removed]",
      "text/plain": [
       "<Figure size 432x288 with 1 Axes>"
      ]
     },
     "metadata": {
      "needs_background": "light"
     },
     "output_type": "display_data"
    }
   ],
   "source": [
    "for lb,ub,y in zip(df_CIquali['lb'],df_CIquali['ub'],range(len(df_CIquali))):\n",
    "    plt.plot((lb,ub),(y,y),'ro-')\n",
    "plt.yticks(range(len(df_CIquali)),list(df_CIquali['country']))"
   ]
  },
  {
   "cell_type": "code",
   "execution_count": 328,
   "id": "78dfcad2",
   "metadata": {},
   "outputs": [
    {
     "data": {
      "text/plain": [
       "([<matplotlib.axis.YTick at 0x23293efdeb0>,\n",
       "  <matplotlib.axis.YTick at 0x23293efd820>,\n",
       "  <matplotlib.axis.YTick at 0x23293eda4c0>,\n",
       "  <matplotlib.axis.YTick at 0x232949ebe20>,\n",
       "  <matplotlib.axis.YTick at 0x23294a205b0>],\n",
       " [Text(0, 0, 'England'),\n",
       "  Text(0, 1, 'France'),\n",
       "  Text(0, 2, 'Germany'),\n",
       "  Text(0, 3, 'Italy'),\n",
       "  Text(0, 4, 'Spain')])"
      ]
     },
     "execution_count": 328,
     "metadata": {},
     "output_type": "execute_result"
    },
    {
     "data": {
      "image/png": "[encoded data removed]",
      "text/plain": [
       "<Figure size 432x288 with 1 Axes>"
      ]
     },
     "metadata": {
      "needs_background": "light"
     },
     "output_type": "display_data"
    }
   ],
   "source": [
    "for lb,ub,y in zip(df_CIhomeo['lb'],df_CIhomeo['ub'],range(len(df_CIhomeo))):\n",
    "    plt.plot((lb,ub),(y,y),'ro-')\n",
    "plt.yticks(range(len(df_CIhomeo)),list(df_CIhomeo['country']))"
   ]
  },
  {
   "cell_type": "markdown",
   "id": "74b689ee",
   "metadata": {},
   "source": [
    "The three of Spain,England,Germany have the highest probaibilty of wining world cup qualifications played at home, closely follwed by Italy and then France, Moreover there is no significant diffrence between the countries probability of wining"
   ]
  },
  {
   "cell_type": "markdown",
   "id": "e1d4d13e",
   "metadata": {},
   "source": [
    "Comparing each country preforamce in world cup qualification to their overall preformance in offical games:"
   ]
  },
  {
   "cell_type": "markdown",
   "id": "e5ad14ef",
   "metadata": {},
   "source": [
    "Spain:Spain's preformance during the owrld cup qualification is worse than their perfomencw=ed uring offcial games in genral "
   ]
  },
  {
   "cell_type": "markdown",
   "id": "5facb2e2",
   "metadata": {},
   "source": [
    "Italy:Itay perfoemd better during world cup qualifications than they did in genral "
   ]
  },
  {
   "cell_type": "markdown",
   "id": "01b2c700",
   "metadata": {},
   "source": [
    "Germany: Germany prefromance during world cup qualification is similar to theres durring offical matches in genral."
   ]
  },
  {
   "cell_type": "markdown",
   "id": "3b54124d",
   "metadata": {},
   "source": [
    "France: France preformance during the owrld cup qualification is worse than their perfomencw=ed uring offcial games in genral "
   ]
  },
  {
   "cell_type": "markdown",
   "id": "c469362d",
   "metadata": {},
   "source": [
    "Engalnd: England preformed susbstanially better in world cup qualification than they did in offical matches in genral "
   ]
  },
  {
   "cell_type": "markdown",
   "id": "a77d9028",
   "metadata": {},
   "source": [
    "Conclusion:"
   ]
  },
  {
   "cell_type": "markdown",
   "id": "c35677f0",
   "metadata": {},
   "source": []
  },
  {
   "cell_type": "markdown",
   "id": "3b912506",
   "metadata": {},
   "source": [
    "Part 2:"
   ]
  },
  {
   "cell_type": "code",
   "execution_count": 329,
   "id": "114c20ec",
   "metadata": {},
   "outputs": [
    {
     "data": {
      "text/plain": [
       "(122843, 11)"
      ]
     },
     "execution_count": 329,
     "metadata": {},
     "output_type": "execute_result"
    }
   ],
   "source": [
    "df=pd.read_csv('covid_data.csv',encoding='latin-1')\n",
    "df.shape"
   ]
  },
  {
   "cell_type": "code",
   "execution_count": 330,
   "id": "bd7568dd",
   "metadata": {},
   "outputs": [
    {
     "data": {
      "text/html": [
       "<div>\n",
       "<style scoped>\n",
       "    .dataframe tbody tr th:only-of-type {\n",
       "        vertical-align: middle;\n",
       "    }\n",
       "\n",
       "    .dataframe tbody tr th {\n",
       "        vertical-align: top;\n",
       "    }\n",
       "\n",
       "    .dataframe thead th {\n",
       "        text-align: right;\n",
       "    }\n",
       "</style>\n",
       "<table border=\"1\" class=\"dataframe\">\n",
       "  <thead>\n",
       "    <tr style=\"text-align: right;\">\n",
       "      <th></th>\n",
       "      <th>date</th>\n",
       "      <th>iso3c</th>\n",
       "      <th>country</th>\n",
       "      <th>income</th>\n",
       "      <th>region</th>\n",
       "      <th>continent</th>\n",
       "      <th>dcases</th>\n",
       "      <th>ddeaths</th>\n",
       "      <th>population</th>\n",
       "      <th>weekdays</th>\n",
       "      <th>month</th>\n",
       "    </tr>\n",
       "  </thead>\n",
       "  <tbody>\n",
       "    <tr>\n",
       "      <th>0</th>\n",
       "      <td>2020-02-24</td>\n",
       "      <td>AFG</td>\n",
       "      <td>Afghanistan</td>\n",
       "      <td>Low income</td>\n",
       "      <td>South Asia</td>\n",
       "      <td>Asia</td>\n",
       "      <td>5</td>\n",
       "      <td>0</td>\n",
       "      <td>38041754</td>\n",
       "      <td>Mon</td>\n",
       "      <td>Feb</td>\n",
       "    </tr>\n",
       "    <tr>\n",
       "      <th>1</th>\n",
       "      <td>2020-02-25</td>\n",
       "      <td>AFG</td>\n",
       "      <td>Afghanistan</td>\n",
       "      <td>Low income</td>\n",
       "      <td>South Asia</td>\n",
       "      <td>Asia</td>\n",
       "      <td>0</td>\n",
       "      <td>0</td>\n",
       "      <td>38041754</td>\n",
       "      <td>Tue</td>\n",
       "      <td>Feb</td>\n",
       "    </tr>\n",
       "    <tr>\n",
       "      <th>2</th>\n",
       "      <td>2020-02-26</td>\n",
       "      <td>AFG</td>\n",
       "      <td>Afghanistan</td>\n",
       "      <td>Low income</td>\n",
       "      <td>South Asia</td>\n",
       "      <td>Asia</td>\n",
       "      <td>0</td>\n",
       "      <td>0</td>\n",
       "      <td>38041754</td>\n",
       "      <td>Wed</td>\n",
       "      <td>Feb</td>\n",
       "    </tr>\n",
       "    <tr>\n",
       "      <th>3</th>\n",
       "      <td>2020-02-27</td>\n",
       "      <td>AFG</td>\n",
       "      <td>Afghanistan</td>\n",
       "      <td>Low income</td>\n",
       "      <td>South Asia</td>\n",
       "      <td>Asia</td>\n",
       "      <td>0</td>\n",
       "      <td>0</td>\n",
       "      <td>38041754</td>\n",
       "      <td>Thu</td>\n",
       "      <td>Feb</td>\n",
       "    </tr>\n",
       "    <tr>\n",
       "      <th>4</th>\n",
       "      <td>2020-02-28</td>\n",
       "      <td>AFG</td>\n",
       "      <td>Afghanistan</td>\n",
       "      <td>Low income</td>\n",
       "      <td>South Asia</td>\n",
       "      <td>Asia</td>\n",
       "      <td>0</td>\n",
       "      <td>0</td>\n",
       "      <td>38041754</td>\n",
       "      <td>Fri</td>\n",
       "      <td>Feb</td>\n",
       "    </tr>\n",
       "  </tbody>\n",
       "</table>\n",
       "</div>"
      ],
      "text/plain": [
       "         date iso3c      country      income      region continent  dcases  \\\n",
       "0  2020-02-24   AFG  Afghanistan  Low income  South Asia      Asia       5   \n",
       "1  2020-02-25   AFG  Afghanistan  Low income  South Asia      Asia       0   \n",
       "2  2020-02-26   AFG  Afghanistan  Low income  South Asia      Asia       0   \n",
       "3  2020-02-27   AFG  Afghanistan  Low income  South Asia      Asia       0   \n",
       "4  2020-02-28   AFG  Afghanistan  Low income  South Asia      Asia       0   \n",
       "\n",
       "   ddeaths  population weekdays month  \n",
       "0        0    38041754      Mon   Feb  \n",
       "1        0    38041754      Tue   Feb  \n",
       "2        0    38041754      Wed   Feb  \n",
       "3        0    38041754      Thu   Feb  \n",
       "4        0    38041754      Fri   Feb  "
      ]
     },
     "execution_count": 330,
     "metadata": {},
     "output_type": "execute_result"
    }
   ],
   "source": [
    "df.head()"
   ]
  },
  {
   "cell_type": "code",
   "execution_count": 332,
   "id": "199ea3ca",
   "metadata": {},
   "outputs": [],
   "source": [
    "cats=['Fri', 'Sat', 'Sun','Mon','Tue','Wed','Thu']\n",
    "cat_type = CategoricalDtype(categories=cats, ordered=True)\n",
    "df['weekdays'] = df['weekdays'].astype(cat_type)"
   ]
  },
  {
   "cell_type": "code",
   "execution_count": 333,
   "id": "fb6f002d",
   "metadata": {},
   "outputs": [],
   "source": [
    "cats=['Jan', 'Feb', 'Mar','Apr','May','Jun','Jul','Aug','Sep','Oct','Nov','Dec']\n",
    "cat_type = CategoricalDtype(categories=cats, ordered=True)\n",
    "df['month'] = df['month'].astype(cat_type)"
   ]
  },
  {
   "cell_type": "code",
   "execution_count": 334,
   "id": "4a1655f7",
   "metadata": {},
   "outputs": [],
   "source": [
    "def get_ci_lb(x, alpha=0.05):\n",
    "    sample_s=np.std(x)\n",
    "    sample_mean=np.mean(x)\n",
    "    sample_size=len(x)\n",
    "    margin_of_error = t.ppf(1 - alpha/2,sample_size-1)*sample_s/np.sqrt(sample_size-1)\n",
    "    return sample_mean - margin_of_error"
   ]
  },
  {
   "cell_type": "code",
   "execution_count": 336,
   "id": "c5cc0175",
   "metadata": {},
   "outputs": [],
   "source": [
    "def get_ci_ub(x, alpha=0.05):\n",
    "    sample_s=np.std(x)\n",
    "    sample_mean=np.mean(x)\n",
    "    sample_size=len(x)\n",
    "    margin_of_error = t.ppf(1 - alpha/2,sample_size-1)*sample_s/np.sqrt(sample_size-1)\n",
    "    return sample_mean + margin_of_error"
   ]
  },
  {
   "cell_type": "code",
   "execution_count": 337,
   "id": "8f24865b",
   "metadata": {},
   "outputs": [],
   "source": [
    "start_date1='2020-01-01'\n",
    "end_date1='2020-12-31'\n",
    "start_date2='2021-01-01'\n",
    "end_date2='2021-12-31'"
   ]
  },
  {
   "cell_type": "code",
   "execution_count": 338,
   "id": "435f928e",
   "metadata": {},
   "outputs": [],
   "source": [
    "c20=(df[\"date\"]>=start_date1) & (df[\"date\"]<=end_date1)\n",
    "c21=(df[\"date\"]>=start_date2) & (df[\"date\"]<=end_date2)"
   ]
  },
  {
   "cell_type": "code",
   "execution_count": 339,
   "id": "58f0d661",
   "metadata": {},
   "outputs": [],
   "source": [
    "conditions=[(c20==True),(c21==True)]\n",
    "values=[\"2020\",\"2021\"]"
   ]
  },
  {
   "cell_type": "code",
   "execution_count": 340,
   "id": "2705f043",
   "metadata": {},
   "outputs": [
    {
     "data": {
      "text/html": [
       "<div>\n",
       "<style scoped>\n",
       "    .dataframe tbody tr th:only-of-type {\n",
       "        vertical-align: middle;\n",
       "    }\n",
       "\n",
       "    .dataframe tbody tr th {\n",
       "        vertical-align: top;\n",
       "    }\n",
       "\n",
       "    .dataframe thead th {\n",
       "        text-align: right;\n",
       "    }\n",
       "</style>\n",
       "<table border=\"1\" class=\"dataframe\">\n",
       "  <thead>\n",
       "    <tr style=\"text-align: right;\">\n",
       "      <th></th>\n",
       "      <th>date</th>\n",
       "      <th>iso3c</th>\n",
       "      <th>country</th>\n",
       "      <th>income</th>\n",
       "      <th>region</th>\n",
       "      <th>continent</th>\n",
       "      <th>dcases</th>\n",
       "      <th>ddeaths</th>\n",
       "      <th>population</th>\n",
       "      <th>weekdays</th>\n",
       "      <th>month</th>\n",
       "      <th>year</th>\n",
       "    </tr>\n",
       "  </thead>\n",
       "  <tbody>\n",
       "    <tr>\n",
       "      <th>0</th>\n",
       "      <td>2020-02-24</td>\n",
       "      <td>AFG</td>\n",
       "      <td>Afghanistan</td>\n",
       "      <td>Low income</td>\n",
       "      <td>South Asia</td>\n",
       "      <td>Asia</td>\n",
       "      <td>5</td>\n",
       "      <td>0</td>\n",
       "      <td>38041754</td>\n",
       "      <td>Mon</td>\n",
       "      <td>Feb</td>\n",
       "      <td>2020</td>\n",
       "    </tr>\n",
       "    <tr>\n",
       "      <th>1</th>\n",
       "      <td>2020-02-25</td>\n",
       "      <td>AFG</td>\n",
       "      <td>Afghanistan</td>\n",
       "      <td>Low income</td>\n",
       "      <td>South Asia</td>\n",
       "      <td>Asia</td>\n",
       "      <td>0</td>\n",
       "      <td>0</td>\n",
       "      <td>38041754</td>\n",
       "      <td>Tue</td>\n",
       "      <td>Feb</td>\n",
       "      <td>2020</td>\n",
       "    </tr>\n",
       "    <tr>\n",
       "      <th>2</th>\n",
       "      <td>2020-02-26</td>\n",
       "      <td>AFG</td>\n",
       "      <td>Afghanistan</td>\n",
       "      <td>Low income</td>\n",
       "      <td>South Asia</td>\n",
       "      <td>Asia</td>\n",
       "      <td>0</td>\n",
       "      <td>0</td>\n",
       "      <td>38041754</td>\n",
       "      <td>Wed</td>\n",
       "      <td>Feb</td>\n",
       "      <td>2020</td>\n",
       "    </tr>\n",
       "    <tr>\n",
       "      <th>3</th>\n",
       "      <td>2020-02-27</td>\n",
       "      <td>AFG</td>\n",
       "      <td>Afghanistan</td>\n",
       "      <td>Low income</td>\n",
       "      <td>South Asia</td>\n",
       "      <td>Asia</td>\n",
       "      <td>0</td>\n",
       "      <td>0</td>\n",
       "      <td>38041754</td>\n",
       "      <td>Thu</td>\n",
       "      <td>Feb</td>\n",
       "      <td>2020</td>\n",
       "    </tr>\n",
       "    <tr>\n",
       "      <th>4</th>\n",
       "      <td>2020-02-28</td>\n",
       "      <td>AFG</td>\n",
       "      <td>Afghanistan</td>\n",
       "      <td>Low income</td>\n",
       "      <td>South Asia</td>\n",
       "      <td>Asia</td>\n",
       "      <td>0</td>\n",
       "      <td>0</td>\n",
       "      <td>38041754</td>\n",
       "      <td>Fri</td>\n",
       "      <td>Feb</td>\n",
       "      <td>2020</td>\n",
       "    </tr>\n",
       "    <tr>\n",
       "      <th>...</th>\n",
       "      <td>...</td>\n",
       "      <td>...</td>\n",
       "      <td>...</td>\n",
       "      <td>...</td>\n",
       "      <td>...</td>\n",
       "      <td>...</td>\n",
       "      <td>...</td>\n",
       "      <td>...</td>\n",
       "      <td>...</td>\n",
       "      <td>...</td>\n",
       "      <td>...</td>\n",
       "      <td>...</td>\n",
       "    </tr>\n",
       "    <tr>\n",
       "      <th>122838</th>\n",
       "      <td>2021-12-27</td>\n",
       "      <td>ZWE</td>\n",
       "      <td>Zimbabwe</td>\n",
       "      <td>Lower middle income</td>\n",
       "      <td>Sub-Saharan Africa</td>\n",
       "      <td>Africa</td>\n",
       "      <td>1098</td>\n",
       "      <td>17</td>\n",
       "      <td>14645468</td>\n",
       "      <td>Mon</td>\n",
       "      <td>Dec</td>\n",
       "      <td>2021</td>\n",
       "    </tr>\n",
       "    <tr>\n",
       "      <th>122839</th>\n",
       "      <td>2021-12-28</td>\n",
       "      <td>ZWE</td>\n",
       "      <td>Zimbabwe</td>\n",
       "      <td>Lower middle income</td>\n",
       "      <td>Sub-Saharan Africa</td>\n",
       "      <td>Africa</td>\n",
       "      <td>2099</td>\n",
       "      <td>32</td>\n",
       "      <td>14645468</td>\n",
       "      <td>Tue</td>\n",
       "      <td>Dec</td>\n",
       "      <td>2021</td>\n",
       "    </tr>\n",
       "    <tr>\n",
       "      <th>122840</th>\n",
       "      <td>2021-12-29</td>\n",
       "      <td>ZWE</td>\n",
       "      <td>Zimbabwe</td>\n",
       "      <td>Lower middle income</td>\n",
       "      <td>Sub-Saharan Africa</td>\n",
       "      <td>Africa</td>\n",
       "      <td>0</td>\n",
       "      <td>0</td>\n",
       "      <td>14645468</td>\n",
       "      <td>Wed</td>\n",
       "      <td>Dec</td>\n",
       "      <td>2021</td>\n",
       "    </tr>\n",
       "    <tr>\n",
       "      <th>122841</th>\n",
       "      <td>2021-12-30</td>\n",
       "      <td>ZWE</td>\n",
       "      <td>Zimbabwe</td>\n",
       "      <td>Lower middle income</td>\n",
       "      <td>Sub-Saharan Africa</td>\n",
       "      <td>Africa</td>\n",
       "      <td>4180</td>\n",
       "      <td>57</td>\n",
       "      <td>14645468</td>\n",
       "      <td>Thu</td>\n",
       "      <td>Dec</td>\n",
       "      <td>2021</td>\n",
       "    </tr>\n",
       "    <tr>\n",
       "      <th>122842</th>\n",
       "      <td>2021-12-31</td>\n",
       "      <td>ZWE</td>\n",
       "      <td>Zimbabwe</td>\n",
       "      <td>Lower middle income</td>\n",
       "      <td>Sub-Saharan Africa</td>\n",
       "      <td>Africa</td>\n",
       "      <td>1530</td>\n",
       "      <td>7</td>\n",
       "      <td>14645468</td>\n",
       "      <td>Fri</td>\n",
       "      <td>Dec</td>\n",
       "      <td>2021</td>\n",
       "    </tr>\n",
       "  </tbody>\n",
       "</table>\n",
       "<p>122843 rows × 12 columns</p>\n",
       "</div>"
      ],
      "text/plain": [
       "              date iso3c      country               income  \\\n",
       "0       2020-02-24   AFG  Afghanistan           Low income   \n",
       "1       2020-02-25   AFG  Afghanistan           Low income   \n",
       "2       2020-02-26   AFG  Afghanistan           Low income   \n",
       "3       2020-02-27   AFG  Afghanistan           Low income   \n",
       "4       2020-02-28   AFG  Afghanistan           Low income   \n",
       "...            ...   ...          ...                  ...   \n",
       "122838  2021-12-27   ZWE     Zimbabwe  Lower middle income   \n",
       "122839  2021-12-28   ZWE     Zimbabwe  Lower middle income   \n",
       "122840  2021-12-29   ZWE     Zimbabwe  Lower middle income   \n",
       "122841  2021-12-30   ZWE     Zimbabwe  Lower middle income   \n",
       "122842  2021-12-31   ZWE     Zimbabwe  Lower middle income   \n",
       "\n",
       "                    region continent  dcases  ddeaths  population weekdays  \\\n",
       "0               South Asia      Asia       5        0    38041754      Mon   \n",
       "1               South Asia      Asia       0        0    38041754      Tue   \n",
       "2               South Asia      Asia       0        0    38041754      Wed   \n",
       "3               South Asia      Asia       0        0    38041754      Thu   \n",
       "4               South Asia      Asia       0        0    38041754      Fri   \n",
       "...                    ...       ...     ...      ...         ...      ...   \n",
       "122838  Sub-Saharan Africa    Africa    1098       17    14645468      Mon   \n",
       "122839  Sub-Saharan Africa    Africa    2099       32    14645468      Tue   \n",
       "122840  Sub-Saharan Africa    Africa       0        0    14645468      Wed   \n",
       "122841  Sub-Saharan Africa    Africa    4180       57    14645468      Thu   \n",
       "122842  Sub-Saharan Africa    Africa    1530        7    14645468      Fri   \n",
       "\n",
       "       month  year  \n",
       "0        Feb  2020  \n",
       "1        Feb  2020  \n",
       "2        Feb  2020  \n",
       "3        Feb  2020  \n",
       "4        Feb  2020  \n",
       "...      ...   ...  \n",
       "122838   Dec  2021  \n",
       "122839   Dec  2021  \n",
       "122840   Dec  2021  \n",
       "122841   Dec  2021  \n",
       "122842   Dec  2021  \n",
       "\n",
       "[122843 rows x 12 columns]"
      ]
     },
     "execution_count": 340,
     "metadata": {},
     "output_type": "execute_result"
    }
   ],
   "source": [
    "df[\"year\"]=np.select(conditions,values)\n",
    "df"
   ]
  },
  {
   "cell_type": "code",
   "execution_count": 359,
   "id": "11097108",
   "metadata": {},
   "outputs": [],
   "source": [
    "df[\"Fatality_rate\"]=df[\"ddeaths\"]/df[\"dcases\"]"
   ]
  },
  {
   "cell_type": "code",
   "execution_count": null,
   "id": "567059dd",
   "metadata": {},
   "outputs": [],
   "source": []
  },
  {
   "cell_type": "code",
   "execution_count": 360,
   "id": "3c138d30",
   "metadata": {},
   "outputs": [
    {
     "data": {
      "text/html": [
       "<div>\n",
       "<style scoped>\n",
       "    .dataframe tbody tr th:only-of-type {\n",
       "        vertical-align: middle;\n",
       "    }\n",
       "\n",
       "    .dataframe tbody tr th {\n",
       "        vertical-align: top;\n",
       "    }\n",
       "\n",
       "    .dataframe thead th {\n",
       "        text-align: right;\n",
       "    }\n",
       "</style>\n",
       "<table border=\"1\" class=\"dataframe\">\n",
       "  <thead>\n",
       "    <tr style=\"text-align: right;\">\n",
       "      <th></th>\n",
       "      <th>date</th>\n",
       "      <th>iso3c</th>\n",
       "      <th>country</th>\n",
       "      <th>income</th>\n",
       "      <th>region</th>\n",
       "      <th>continent</th>\n",
       "      <th>dcases</th>\n",
       "      <th>ddeaths</th>\n",
       "      <th>population</th>\n",
       "      <th>weekdays</th>\n",
       "      <th>month</th>\n",
       "      <th>year</th>\n",
       "      <th>Fatality_rate</th>\n",
       "    </tr>\n",
       "  </thead>\n",
       "  <tbody>\n",
       "    <tr>\n",
       "      <th>0</th>\n",
       "      <td>2020-02-24</td>\n",
       "      <td>AFG</td>\n",
       "      <td>Afghanistan</td>\n",
       "      <td>Low income</td>\n",
       "      <td>South Asia</td>\n",
       "      <td>Asia</td>\n",
       "      <td>5</td>\n",
       "      <td>0</td>\n",
       "      <td>38041754</td>\n",
       "      <td>Mon</td>\n",
       "      <td>Feb</td>\n",
       "      <td>2020</td>\n",
       "      <td>0.0</td>\n",
       "    </tr>\n",
       "    <tr>\n",
       "      <th>1</th>\n",
       "      <td>2020-02-25</td>\n",
       "      <td>AFG</td>\n",
       "      <td>Afghanistan</td>\n",
       "      <td>Low income</td>\n",
       "      <td>South Asia</td>\n",
       "      <td>Asia</td>\n",
       "      <td>0</td>\n",
       "      <td>0</td>\n",
       "      <td>38041754</td>\n",
       "      <td>Tue</td>\n",
       "      <td>Feb</td>\n",
       "      <td>2020</td>\n",
       "      <td>NaN</td>\n",
       "    </tr>\n",
       "  </tbody>\n",
       "</table>\n",
       "</div>"
      ],
      "text/plain": [
       "         date iso3c      country      income      region continent  dcases  \\\n",
       "0  2020-02-24   AFG  Afghanistan  Low income  South Asia      Asia       5   \n",
       "1  2020-02-25   AFG  Afghanistan  Low income  South Asia      Asia       0   \n",
       "\n",
       "   ddeaths  population weekdays month  year  Fatality_rate  \n",
       "0        0    38041754      Mon   Feb  2020            0.0  \n",
       "1        0    38041754      Tue   Feb  2020            NaN  "
      ]
     },
     "execution_count": 360,
     "metadata": {},
     "output_type": "execute_result"
    }
   ],
   "source": [
    "df.head(2)"
   ]
  },
  {
   "cell_type": "code",
   "execution_count": null,
   "id": "6989270a",
   "metadata": {},
   "outputs": [],
   "source": []
  },
  {
   "cell_type": "markdown",
   "id": "034df990",
   "metadata": {},
   "source": [
    "4: comparing between 2020 and 2021"
   ]
  },
  {
   "cell_type": "markdown",
   "id": "7580f593",
   "metadata": {},
   "source": [
    "4.1: comparing daily cases reported:"
   ]
  },
  {
   "cell_type": "code",
   "execution_count": 341,
   "id": "c6e989ea",
   "metadata": {},
   "outputs": [
    {
     "data": {
      "text/html": [
       "<div>\n",
       "<style scoped>\n",
       "    .dataframe tbody tr th:only-of-type {\n",
       "        vertical-align: middle;\n",
       "    }\n",
       "\n",
       "    .dataframe tbody tr th {\n",
       "        vertical-align: top;\n",
       "    }\n",
       "\n",
       "    .dataframe thead tr th {\n",
       "        text-align: left;\n",
       "    }\n",
       "\n",
       "    .dataframe thead tr:last-of-type th {\n",
       "        text-align: right;\n",
       "    }\n",
       "</style>\n",
       "<table border=\"1\" class=\"dataframe\">\n",
       "  <thead>\n",
       "    <tr>\n",
       "      <th></th>\n",
       "      <th colspan=\"3\" halign=\"left\">dcases</th>\n",
       "    </tr>\n",
       "    <tr>\n",
       "      <th></th>\n",
       "      <th>mean</th>\n",
       "      <th>std</th>\n",
       "      <th>size</th>\n",
       "    </tr>\n",
       "    <tr>\n",
       "      <th>year</th>\n",
       "      <th></th>\n",
       "      <th></th>\n",
       "      <th></th>\n",
       "    </tr>\n",
       "  </thead>\n",
       "  <tbody>\n",
       "    <tr>\n",
       "      <th>2020</th>\n",
       "      <td>1525.522581</td>\n",
       "      <td>9058.721229</td>\n",
       "      <td>54958</td>\n",
       "    </tr>\n",
       "    <tr>\n",
       "      <th>2021</th>\n",
       "      <td>3024.213361</td>\n",
       "      <td>14296.743795</td>\n",
       "      <td>67885</td>\n",
       "    </tr>\n",
       "  </tbody>\n",
       "</table>\n",
       "</div>"
      ],
      "text/plain": [
       "           dcases                     \n",
       "             mean           std   size\n",
       "year                                  \n",
       "2020  1525.522581   9058.721229  54958\n",
       "2021  3024.213361  14296.743795  67885"
      ]
     },
     "execution_count": 341,
     "metadata": {},
     "output_type": "execute_result"
    }
   ],
   "source": [
    "stats=df.groupby(\"year\").agg({\"dcases\": [np.mean, np.std, np.size]})\n",
    "stats"
   ]
  },
  {
   "cell_type": "code",
   "execution_count": 342,
   "id": "6ef699b1",
   "metadata": {},
   "outputs": [],
   "source": [
    "ci95_hic = []\n",
    "ci95_loc= []"
   ]
  },
  {
   "cell_type": "code",
   "execution_count": 343,
   "id": "891ae806",
   "metadata": {},
   "outputs": [
    {
     "name": "stdout",
     "output_type": "stream",
     "text": [
      "2020\n",
      "2020\n",
      "dcases  mean     1525.522581\n",
      "        std      9058.721229\n",
      "        size    54958.000000\n",
      "Name: 2020, dtype: float64\n",
      "54958.0\n",
      "2021\n",
      "dcases  mean     3024.213361\n",
      "        std     14296.743795\n",
      "        size    67885.000000\n",
      "Name: 2021, dtype: float64\n",
      "67885.0\n"
     ]
    }
   ],
   "source": [
    "print(stats.index[0])\n",
    "for i in stats.index:\n",
    "    print(i)\n",
    "    print(stats.loc[i])\n",
    "    m, s, n,  = stats.loc[i]\n",
    "    print(n)\n",
    "    x=scipy.stats.t.interval(.95, n-1, m,s/np.sqrt(n-1))\n",
    "    ci95_hic.append(x[1])\n",
    "    ci95_loc.append(x[0])"
   ]
  },
  {
   "cell_type": "code",
   "execution_count": 344,
   "id": "4ab66e78",
   "metadata": {},
   "outputs": [
    {
     "data": {
      "text/html": [
       "<div>\n",
       "<style scoped>\n",
       "    .dataframe tbody tr th:only-of-type {\n",
       "        vertical-align: middle;\n",
       "    }\n",
       "\n",
       "    .dataframe tbody tr th {\n",
       "        vertical-align: top;\n",
       "    }\n",
       "\n",
       "    .dataframe thead tr th {\n",
       "        text-align: left;\n",
       "    }\n",
       "\n",
       "    .dataframe thead tr:last-of-type th {\n",
       "        text-align: right;\n",
       "    }\n",
       "</style>\n",
       "<table border=\"1\" class=\"dataframe\">\n",
       "  <thead>\n",
       "    <tr>\n",
       "      <th></th>\n",
       "      <th colspan=\"3\" halign=\"left\">dcases</th>\n",
       "      <th>ci95_hic</th>\n",
       "      <th>ci95_loc</th>\n",
       "    </tr>\n",
       "    <tr>\n",
       "      <th></th>\n",
       "      <th>mean</th>\n",
       "      <th>std</th>\n",
       "      <th>size</th>\n",
       "      <th></th>\n",
       "      <th></th>\n",
       "    </tr>\n",
       "    <tr>\n",
       "      <th>year</th>\n",
       "      <th></th>\n",
       "      <th></th>\n",
       "      <th></th>\n",
       "      <th></th>\n",
       "      <th></th>\n",
       "    </tr>\n",
       "  </thead>\n",
       "  <tbody>\n",
       "    <tr>\n",
       "      <th>2020</th>\n",
       "      <td>1525.522581</td>\n",
       "      <td>9058.721229</td>\n",
       "      <td>54958</td>\n",
       "      <td>1601.260443</td>\n",
       "      <td>1449.784719</td>\n",
       "    </tr>\n",
       "    <tr>\n",
       "      <th>2021</th>\n",
       "      <td>3024.213361</td>\n",
       "      <td>14296.743795</td>\n",
       "      <td>67885</td>\n",
       "      <td>3131.763074</td>\n",
       "      <td>2916.663648</td>\n",
       "    </tr>\n",
       "  </tbody>\n",
       "</table>\n",
       "</div>"
      ],
      "text/plain": [
       "           dcases                          ci95_hic     ci95_loc\n",
       "             mean           std   size                          \n",
       "year                                                            \n",
       "2020  1525.522581   9058.721229  54958  1601.260443  1449.784719\n",
       "2021  3024.213361  14296.743795  67885  3131.763074  2916.663648"
      ]
     },
     "execution_count": 344,
     "metadata": {},
     "output_type": "execute_result"
    }
   ],
   "source": [
    "stats['ci95_hic'] = ci95_hic\n",
    "stats['ci95_loc'] = ci95_loc\n",
    "stats"
   ]
  },
  {
   "cell_type": "code",
   "execution_count": 345,
   "id": "585d4aa7",
   "metadata": {},
   "outputs": [],
   "source": [
    "df_2120c=pd.DataFrame(stats)"
   ]
  },
  {
   "cell_type": "code",
   "execution_count": 346,
   "id": "3a5789f9",
   "metadata": {},
   "outputs": [
    {
     "data": {
      "text/html": [
       "<div>\n",
       "<style scoped>\n",
       "    .dataframe tbody tr th:only-of-type {\n",
       "        vertical-align: middle;\n",
       "    }\n",
       "\n",
       "    .dataframe tbody tr th {\n",
       "        vertical-align: top;\n",
       "    }\n",
       "\n",
       "    .dataframe thead tr th {\n",
       "        text-align: left;\n",
       "    }\n",
       "\n",
       "    .dataframe thead tr:last-of-type th {\n",
       "        text-align: right;\n",
       "    }\n",
       "</style>\n",
       "<table border=\"1\" class=\"dataframe\">\n",
       "  <thead>\n",
       "    <tr>\n",
       "      <th></th>\n",
       "      <th colspan=\"3\" halign=\"left\">dcases</th>\n",
       "      <th>ci95_hic</th>\n",
       "      <th>ci95_loc</th>\n",
       "      <th>year</th>\n",
       "    </tr>\n",
       "    <tr>\n",
       "      <th></th>\n",
       "      <th>mean</th>\n",
       "      <th>std</th>\n",
       "      <th>size</th>\n",
       "      <th></th>\n",
       "      <th></th>\n",
       "      <th></th>\n",
       "    </tr>\n",
       "    <tr>\n",
       "      <th>year</th>\n",
       "      <th></th>\n",
       "      <th></th>\n",
       "      <th></th>\n",
       "      <th></th>\n",
       "      <th></th>\n",
       "      <th></th>\n",
       "    </tr>\n",
       "  </thead>\n",
       "  <tbody>\n",
       "    <tr>\n",
       "      <th>2020</th>\n",
       "      <td>1525.522581</td>\n",
       "      <td>9058.721229</td>\n",
       "      <td>54958</td>\n",
       "      <td>1601.260443</td>\n",
       "      <td>1449.784719</td>\n",
       "      <td>2020</td>\n",
       "    </tr>\n",
       "    <tr>\n",
       "      <th>2021</th>\n",
       "      <td>3024.213361</td>\n",
       "      <td>14296.743795</td>\n",
       "      <td>67885</td>\n",
       "      <td>3131.763074</td>\n",
       "      <td>2916.663648</td>\n",
       "      <td>2021</td>\n",
       "    </tr>\n",
       "  </tbody>\n",
       "</table>\n",
       "</div>"
      ],
      "text/plain": [
       "           dcases                          ci95_hic     ci95_loc  year\n",
       "             mean           std   size                                \n",
       "year                                                                  \n",
       "2020  1525.522581   9058.721229  54958  1601.260443  1449.784719  2020\n",
       "2021  3024.213361  14296.743795  67885  3131.763074  2916.663648  2021"
      ]
     },
     "execution_count": 346,
     "metadata": {},
     "output_type": "execute_result"
    }
   ],
   "source": [
    "y=df_2120c.index\n",
    "df_2120c[\"year\"]=y\n",
    "df_2120c"
   ]
  },
  {
   "cell_type": "code",
   "execution_count": 368,
   "id": "597f18ae",
   "metadata": {},
   "outputs": [
    {
     "data": {
      "text/plain": [
       "Text(0.5, 1.0, ' daily cases 2020 and 2021')"
      ]
     },
     "execution_count": 368,
     "metadata": {},
     "output_type": "execute_result"
    },
    {
     "data": {
      "image/png": "[encoded data removed]",
      "text/plain": [
       "<Figure size 432x288 with 1 Axes>"
      ]
     },
     "metadata": {
      "needs_background": "light"
     },
     "output_type": "display_data"
    }
   ],
   "source": [
    "for lb,ub,y in zip(df_2120c['ci95_loc'],df_2120c['ci95_hic'],range(len(df_2120c))):\n",
    "    plt.plot((lb,ub),(y,y),'ro-')\n",
    "plt.yticks(range(len(df_2120c)),list(df_2120c['year']))\n",
    "plt.xlabel(\"Daily cases\")\n",
    "plt.ylabel(\"year\")\n",
    "plt.title(\" daily cases 2020 and 2021\")"
   ]
  },
  {
   "cell_type": "markdown",
   "id": "faa41704",
   "metadata": {},
   "source": [
    "The mean daily cases in 2021 is almost double that of 2020. This could be due to the new strains that spread more and faster than the original starin such as the delta strain and the increased avalibilty of tests throught 2021, that were not avalibale in 202 due to slow production. "
   ]
  },
  {
   "cell_type": "markdown",
   "id": "4bc17bab",
   "metadata": {},
   "source": [
    "4.2: comparing daily deaths:"
   ]
  },
  {
   "cell_type": "code",
   "execution_count": 348,
   "id": "0e8db7bc",
   "metadata": {},
   "outputs": [
    {
     "data": {
      "text/html": [
       "<div>\n",
       "<style scoped>\n",
       "    .dataframe tbody tr th:only-of-type {\n",
       "        vertical-align: middle;\n",
       "    }\n",
       "\n",
       "    .dataframe tbody tr th {\n",
       "        vertical-align: top;\n",
       "    }\n",
       "\n",
       "    .dataframe thead tr th {\n",
       "        text-align: left;\n",
       "    }\n",
       "\n",
       "    .dataframe thead tr:last-of-type th {\n",
       "        text-align: right;\n",
       "    }\n",
       "</style>\n",
       "<table border=\"1\" class=\"dataframe\">\n",
       "  <thead>\n",
       "    <tr>\n",
       "      <th></th>\n",
       "      <th colspan=\"3\" halign=\"left\">ddeaths</th>\n",
       "    </tr>\n",
       "    <tr>\n",
       "      <th></th>\n",
       "      <th>mean</th>\n",
       "      <th>std</th>\n",
       "      <th>size</th>\n",
       "    </tr>\n",
       "    <tr>\n",
       "      <th>year</th>\n",
       "      <th></th>\n",
       "      <th></th>\n",
       "      <th></th>\n",
       "    </tr>\n",
       "  </thead>\n",
       "  <tbody>\n",
       "    <tr>\n",
       "      <th>2020</th>\n",
       "      <td>34.275519</td>\n",
       "      <td>150.460086</td>\n",
       "      <td>54958</td>\n",
       "    </tr>\n",
       "    <tr>\n",
       "      <th>2021</th>\n",
       "      <td>52.402946</td>\n",
       "      <td>228.974703</td>\n",
       "      <td>67885</td>\n",
       "    </tr>\n",
       "  </tbody>\n",
       "</table>\n",
       "</div>"
      ],
      "text/plain": [
       "        ddeaths                   \n",
       "           mean         std   size\n",
       "year                              \n",
       "2020  34.275519  150.460086  54958\n",
       "2021  52.402946  228.974703  67885"
      ]
     },
     "execution_count": 348,
     "metadata": {},
     "output_type": "execute_result"
    }
   ],
   "source": [
    "statsd=df.groupby(\"year\").agg({\"ddeaths\": [np.mean, np.std, np.size]})\n",
    "statsd"
   ]
  },
  {
   "cell_type": "code",
   "execution_count": 349,
   "id": "9a530a11",
   "metadata": {},
   "outputs": [],
   "source": [
    "ci95_hid = []\n",
    "ci95_lod= []"
   ]
  },
  {
   "cell_type": "code",
   "execution_count": 353,
   "id": "04bb5551",
   "metadata": {},
   "outputs": [],
   "source": [
    "for i in statsd.index:\n",
    "    m, s, n = statsd.loc[i]\n",
    "    x=scipy.stats.t.interval(.95, n-1, m,s/np.sqrt(n-1))\n",
    "    ci95_hid.append(x[1])\n",
    "    ci95_lod.append(x[0])"
   ]
  },
  {
   "cell_type": "code",
   "execution_count": 354,
   "id": "cc275bcc",
   "metadata": {},
   "outputs": [
    {
     "data": {
      "text/html": [
       "<div>\n",
       "<style scoped>\n",
       "    .dataframe tbody tr th:only-of-type {\n",
       "        vertical-align: middle;\n",
       "    }\n",
       "\n",
       "    .dataframe tbody tr th {\n",
       "        vertical-align: top;\n",
       "    }\n",
       "\n",
       "    .dataframe thead tr th {\n",
       "        text-align: left;\n",
       "    }\n",
       "\n",
       "    .dataframe thead tr:last-of-type th {\n",
       "        text-align: right;\n",
       "    }\n",
       "</style>\n",
       "<table border=\"1\" class=\"dataframe\">\n",
       "  <thead>\n",
       "    <tr>\n",
       "      <th></th>\n",
       "      <th colspan=\"3\" halign=\"left\">ddeaths</th>\n",
       "      <th>ci95_hid</th>\n",
       "      <th>ci95_lod</th>\n",
       "    </tr>\n",
       "    <tr>\n",
       "      <th></th>\n",
       "      <th>mean</th>\n",
       "      <th>std</th>\n",
       "      <th>size</th>\n",
       "      <th></th>\n",
       "      <th></th>\n",
       "    </tr>\n",
       "    <tr>\n",
       "      <th>year</th>\n",
       "      <th></th>\n",
       "      <th></th>\n",
       "      <th></th>\n",
       "      <th></th>\n",
       "      <th></th>\n",
       "    </tr>\n",
       "  </thead>\n",
       "  <tbody>\n",
       "    <tr>\n",
       "      <th>2020</th>\n",
       "      <td>34.275519</td>\n",
       "      <td>150.460086</td>\n",
       "      <td>54958</td>\n",
       "      <td>35.533481</td>\n",
       "      <td>33.017558</td>\n",
       "    </tr>\n",
       "    <tr>\n",
       "      <th>2021</th>\n",
       "      <td>52.402946</td>\n",
       "      <td>228.974703</td>\n",
       "      <td>67885</td>\n",
       "      <td>54.125448</td>\n",
       "      <td>50.680445</td>\n",
       "    </tr>\n",
       "  </tbody>\n",
       "</table>\n",
       "</div>"
      ],
      "text/plain": [
       "        ddeaths                      ci95_hid   ci95_lod\n",
       "           mean         std   size                      \n",
       "year                                                    \n",
       "2020  34.275519  150.460086  54958  35.533481  33.017558\n",
       "2021  52.402946  228.974703  67885  54.125448  50.680445"
      ]
     },
     "execution_count": 354,
     "metadata": {},
     "output_type": "execute_result"
    }
   ],
   "source": [
    "statsd['ci95_hid'] = ci95_hid\n",
    "statsd['ci95_lod'] = ci95_lod\n",
    "statsd"
   ]
  },
  {
   "cell_type": "code",
   "execution_count": 357,
   "id": "a443bba3",
   "metadata": {},
   "outputs": [
    {
     "data": {
      "text/html": [
       "<div>\n",
       "<style scoped>\n",
       "    .dataframe tbody tr th:only-of-type {\n",
       "        vertical-align: middle;\n",
       "    }\n",
       "\n",
       "    .dataframe tbody tr th {\n",
       "        vertical-align: top;\n",
       "    }\n",
       "\n",
       "    .dataframe thead tr th {\n",
       "        text-align: left;\n",
       "    }\n",
       "\n",
       "    .dataframe thead tr:last-of-type th {\n",
       "        text-align: right;\n",
       "    }\n",
       "</style>\n",
       "<table border=\"1\" class=\"dataframe\">\n",
       "  <thead>\n",
       "    <tr>\n",
       "      <th></th>\n",
       "      <th colspan=\"3\" halign=\"left\">ddeaths</th>\n",
       "      <th>ci95_hid</th>\n",
       "      <th>ci95_lod</th>\n",
       "      <th>year</th>\n",
       "    </tr>\n",
       "    <tr>\n",
       "      <th></th>\n",
       "      <th>mean</th>\n",
       "      <th>std</th>\n",
       "      <th>size</th>\n",
       "      <th></th>\n",
       "      <th></th>\n",
       "      <th></th>\n",
       "    </tr>\n",
       "    <tr>\n",
       "      <th>year</th>\n",
       "      <th></th>\n",
       "      <th></th>\n",
       "      <th></th>\n",
       "      <th></th>\n",
       "      <th></th>\n",
       "      <th></th>\n",
       "    </tr>\n",
       "  </thead>\n",
       "  <tbody>\n",
       "    <tr>\n",
       "      <th>2020</th>\n",
       "      <td>34.275519</td>\n",
       "      <td>150.460086</td>\n",
       "      <td>54958</td>\n",
       "      <td>35.533481</td>\n",
       "      <td>33.017558</td>\n",
       "      <td>2020</td>\n",
       "    </tr>\n",
       "    <tr>\n",
       "      <th>2021</th>\n",
       "      <td>52.402946</td>\n",
       "      <td>228.974703</td>\n",
       "      <td>67885</td>\n",
       "      <td>54.125448</td>\n",
       "      <td>50.680445</td>\n",
       "      <td>2021</td>\n",
       "    </tr>\n",
       "  </tbody>\n",
       "</table>\n",
       "</div>"
      ],
      "text/plain": [
       "        ddeaths                      ci95_hid   ci95_lod  year\n",
       "           mean         std   size                            \n",
       "year                                                          \n",
       "2020  34.275519  150.460086  54958  35.533481  33.017558  2020\n",
       "2021  52.402946  228.974703  67885  54.125448  50.680445  2021"
      ]
     },
     "execution_count": 357,
     "metadata": {},
     "output_type": "execute_result"
    }
   ],
   "source": [
    "df_2120d=pd.DataFrame(statsd)\n",
    "y=df_2120d.index\n",
    "df_2120d[\"year\"]=y\n",
    "df_2120d"
   ]
  },
  {
   "cell_type": "code",
   "execution_count": 358,
   "id": "552e7b60",
   "metadata": {},
   "outputs": [
    {
     "data": {
      "text/plain": [
       "([<matplotlib.axis.YTick at 0x23295331ee0>,\n",
       "  <matplotlib.axis.YTick at 0x232953317c0>],\n",
       " [Text(0, 0, '2020'), Text(0, 1, '2021')])"
      ]
     },
     "execution_count": 358,
     "metadata": {},
     "output_type": "execute_result"
    },
    {
     "data": {
      "image/png": "[encoded data removed]",
      "text/plain": [
       "<Figure size 432x288 with 1 Axes>"
      ]
     },
     "metadata": {
      "needs_background": "light"
     },
     "output_type": "display_data"
    }
   ],
   "source": [
    "for lb,ub,y in zip(df_2120d['ci95_lod'],df_2120d['ci95_hid'],range(len(df_2120d))):\n",
    "    plt.plot((lb,ub),(y,y),'ro-')\n",
    "plt.yticks(range(len(df_2120d)),list(df_2120d['year']))\n",
    "plt.xlabel(\"Daily deaths\")\n",
    "plt.ylabel(\"year\")\n",
    "plt.title(\"Daily deaths 2020 and 2021\")"
   ]
  },
  {
   "cell_type": "markdown",
   "id": "b60677b4",
   "metadata": {},
   "source": [
    "The daily deaths have substantily increasd between 2020 and 2021, increased testing could be the reason behined the increase in the daily deaths as without tesing covid realted deaths could have been unnoticed or reported as somthing else."
   ]
  },
  {
   "cell_type": "code",
   "execution_count": null,
   "id": "dd4bdf69",
   "metadata": {},
   "outputs": [],
   "source": [
    "4.3 comparing fatality rate:"
   ]
  },
  {
   "cell_type": "code",
   "execution_count": null,
   "id": "3d531f55",
   "metadata": {},
   "outputs": [],
   "source": [
    "stats"
   ]
  },
  {
   "cell_type": "markdown",
   "id": "67f1e3c0",
   "metadata": {},
   "source": [
    "The increased infection rate does not equal the increase in deaths or fatality rate, indicating that the viruse has gotten weaker from 2020 to 2021 or has had a reduced affect on our health."
   ]
  },
  {
   "cell_type": "markdown",
   "id": "11a37c14",
   "metadata": {},
   "source": [
    "5: comparing regions between 2020 and 2021"
   ]
  },
  {
   "cell_type": "markdown",
   "id": "db3ad8e5",
   "metadata": {},
   "source": [
    "5.1 comparing daily cases"
   ]
  },
  {
   "cell_type": "code",
   "execution_count": 361,
   "id": "8cc785dd",
   "metadata": {},
   "outputs": [],
   "source": [
    "stats1c=df.groupby(['region','year']).agg({\"dcases\": [np.mean, np.std, np.size,get_ci_lb,get_ci_ub]})"
   ]
  },
  {
   "cell_type": "code",
   "execution_count": 362,
   "id": "510c1930",
   "metadata": {},
   "outputs": [],
   "source": [
    "statsdcases1=stats1c.reset_index()"
   ]
  },
  {
   "cell_type": "code",
   "execution_count": 363,
   "id": "aa41c420",
   "metadata": {},
   "outputs": [],
   "source": [
    "statsdcases1.columns=['region','year','mean','std','size','ub','lb']"
   ]
  },
  {
   "cell_type": "code",
   "execution_count": 364,
   "id": "f671e4b6",
   "metadata": {},
   "outputs": [],
   "source": [
    "df_regionc=pd.DataFrame(statsdcases1)"
   ]
  },
  {
   "cell_type": "code",
   "execution_count": 365,
   "id": "b76129bd",
   "metadata": {},
   "outputs": [],
   "source": [
    "df_regionc20=df_regionc[df_regionc['year']=='2020']\n",
    "df_regionc21=df_regionc[df_regionc['year']=='2021']"
   ]
  },
  {
   "cell_type": "code",
   "execution_count": 366,
   "id": "1ead0a30",
   "metadata": {},
   "outputs": [
    {
     "data": {
      "text/plain": [
       "([<matplotlib.axis.YTick at 0x23295394be0>,\n",
       "  <matplotlib.axis.YTick at 0x23295394460>,\n",
       "  <matplotlib.axis.YTick at 0x2329538e490>,\n",
       "  <matplotlib.axis.YTick at 0x232953c9cd0>,\n",
       "  <matplotlib.axis.YTick at 0x232953d4460>,\n",
       "  <matplotlib.axis.YTick at 0x232953d4bb0>,\n",
       "  <matplotlib.axis.YTick at 0x232953d43a0>],\n",
       " [Text(0, 0, 'East Asia & Pacific'),\n",
       "  Text(0, 1, 'Europe & Central Asia'),\n",
       "  Text(0, 2, 'Latin America & Caribbean'),\n",
       "  Text(0, 3, 'Middle East & North Africa'),\n",
       "  Text(0, 4, 'North America(region)'),\n",
       "  Text(0, 5, 'South Asia'),\n",
       "  Text(0, 6, 'Sub-Saharan Africa')])"
      ]
     },
     "execution_count": 366,
     "metadata": {},
     "output_type": "execute_result"
    },
    {
     "data": {
      "image/png": "[encoded data removed]",
      "text/plain": [
       "<Figure size 432x288 with 1 Axes>"
      ]
     },
     "metadata": {
      "needs_background": "light"
     },
     "output_type": "display_data"
    }
   ],
   "source": [
    "for lb,ub,y in zip(df_regionc20['ub'],df_regionc20['lb'],range(len(df_regionc20))):\n",
    "    plt.plot((lb,ub),(y,y),'ro-')\n",
    "plt.yticks(range(len(df_regionc20)),list(df_regionc20['region']))\n",
    "plt.xlabel(\"Daily cases\")\n",
    "plt.ylabel(\"Region\")\n",
    "plt.title(\"Region  daily cases 2020\")"
   ]
  },
  {
   "cell_type": "markdown",
   "id": "c3fb1533",
   "metadata": {},
   "source": [
    "North America has a substanialy larger number of cases compared to other regions, this could be to the avaliablity and the conduction of more tests than any other region, its is followed by south asia which is one ofe the moste poulated regions that also has access to covid tests, unlike Latin america and sub_saharan Africa whose small infection number can be due to the lack of tests despite having a large popoulation. IN Europe the samll infection rates could be a result of the strict lockdown that was intiated by multiple countries at the start of the pandamic."
   ]
  },
  {
   "cell_type": "code",
   "execution_count": 367,
   "id": "70e9fc90",
   "metadata": {
    "scrolled": true
   },
   "outputs": [
    {
     "data": {
      "text/plain": [
       "([<matplotlib.axis.YTick at 0x2329540c9a0>,\n",
       "  <matplotlib.axis.YTick at 0x2329540c220>,\n",
       "  <matplotlib.axis.YTick at 0x232954070d0>,\n",
       "  <matplotlib.axis.YTick at 0x23295445850>,\n",
       "  <matplotlib.axis.YTick at 0x2329544d0a0>,\n",
       "  <matplotlib.axis.YTick at 0x2329544d730>,\n",
       "  <matplotlib.axis.YTick at 0x2329544de80>],\n",
       " [Text(0, 0, 'East Asia & Pacific'),\n",
       "  Text(0, 1, 'Europe & Central Asia'),\n",
       "  Text(0, 2, 'Latin America & Caribbean'),\n",
       "  Text(0, 3, 'Middle East & North Africa'),\n",
       "  Text(0, 4, 'North America(region)'),\n",
       "  Text(0, 5, 'South Asia'),\n",
       "  Text(0, 6, 'Sub-Saharan Africa')])"
      ]
     },
     "execution_count": 367,
     "metadata": {},
     "output_type": "execute_result"
    },
    {
     "data": {
      "image/png": "[encoded data removed]",
      "text/plain": [
       "<Figure size 432x288 with 1 Axes>"
      ]
     },
     "metadata": {
      "needs_background": "light"
     },
     "output_type": "display_data"
    }
   ],
   "source": [
    "for lb,ub,y in zip(df_regionc21['ub'],df_regionc21['lb'],range(len(df_regionc21))):\n",
    "    plt.plot((lb,ub),(y,y),'ro-')\n",
    "plt.yticks(range(len(df_regionc21)),list(df_regionc21['region']))\n",
    "plt.xlabel(\"Daily cases\")\n",
    "plt.ylabel(\"Region\")\n",
    "plt.title(\"Region  daily cases 2021\")"
   ]
  },
  {
   "cell_type": "markdown",
   "id": "0a23369f",
   "metadata": {},
   "source": [
    "North america has had the largest increase in the reported cases compared to any of the other regions,"
   ]
  },
  {
   "cell_type": "markdown",
   "id": "c741c8eb",
   "metadata": {},
   "source": [
    "5.2: daily deaths by region"
   ]
  },
  {
   "cell_type": "code",
   "execution_count": 405,
   "id": "60be2b4d",
   "metadata": {},
   "outputs": [],
   "source": [
    "stats1deaths=df.groupby([\"region\",\"year\"]).agg({\"ddeaths\": [np.mean, np.std, np.size,get_ci_lb,get_ci_ub]})"
   ]
  },
  {
   "cell_type": "code",
   "execution_count": 406,
   "id": "6d6c1f15",
   "metadata": {},
   "outputs": [],
   "source": [
    "stats1d=stats1deaths.reset_index()"
   ]
  },
  {
   "cell_type": "code",
   "execution_count": 407,
   "id": "64d3110b",
   "metadata": {},
   "outputs": [],
   "source": [
    "stats1d.columns=['region','year','mean','std','size','ub','lb']\n",
    "df_regiond=pd.DataFrame(stats1d)\n",
    "df_regiond20=df_regiond[df_regiond['year']=='2020']\n",
    "df_regiond21=df_regiond[df_regiond['year']=='2021']"
   ]
  },
  {
   "cell_type": "code",
   "execution_count": 401,
   "id": "fd277a10",
   "metadata": {},
   "outputs": [
    {
     "data": {
      "text/plain": [
       "([<matplotlib.axis.YTick at 0x232956e0d00>,\n",
       "  <matplotlib.axis.YTick at 0x232956e0580>,\n",
       "  <matplotlib.axis.YTick at 0x232956d8430>,\n",
       "  <matplotlib.axis.YTick at 0x23295717bb0>,\n",
       "  <matplotlib.axis.YTick at 0x23295721340>,\n",
       "  <matplotlib.axis.YTick at 0x23295721a90>,\n",
       "  <matplotlib.axis.YTick at 0x23295727220>],\n",
       " [Text(0, 0, 'East Asia & Pacific'),\n",
       "  Text(0, 1, 'Europe & Central Asia'),\n",
       "  Text(0, 2, 'Latin America & Caribbean'),\n",
       "  Text(0, 3, 'Middle East & North Africa'),\n",
       "  Text(0, 4, 'North America(region)'),\n",
       "  Text(0, 5, 'South Asia'),\n",
       "  Text(0, 6, 'Sub-Saharan Africa')])"
      ]
     },
     "execution_count": 401,
     "metadata": {},
     "output_type": "execute_result"
    },
    {
     "data": {
      "image/png": "[encoded data removed]",
      "text/plain": [
       "<Figure size 432x288 with 1 Axes>"
      ]
     },
     "metadata": {
      "needs_background": "light"
     },
     "output_type": "display_data"
    }
   ],
   "source": [
    "for lb,ub,y in zip(df_regiond20['lb'],df_regiond20['ub'],range(len(df_regiond20))):\n",
    "    plt.plot((lb,ub),(y,y),'ro-')\n",
    "plt.yticks(range(len(df_regiond20)),list(df_regiond20['region']))\n",
    "plt.xlabel(\"Daily deaths\")\n",
    "plt.ylabel(\"Region\")\n",
    "plt.title(\"Region  daily deaths 2020\")"
   ]
  },
  {
   "cell_type": "markdown",
   "id": "3d28951f",
   "metadata": {},
   "source": []
  },
  {
   "cell_type": "code",
   "execution_count": 402,
   "id": "bc8e640c",
   "metadata": {},
   "outputs": [
    {
     "data": {
      "text/plain": [
       "([<matplotlib.axis.YTick at 0x23295758160>,\n",
       "  <matplotlib.axis.YTick at 0x23295750ac0>,\n",
       "  <matplotlib.axis.YTick at 0x2329574b970>,\n",
       "  <matplotlib.axis.YTick at 0x2329578d100>,\n",
       "  <matplotlib.axis.YTick at 0x2329578d850>,\n",
       "  <matplotlib.axis.YTick at 0x2329578d2b0>,\n",
       "  <matplotlib.axis.YTick at 0x23295795190>],\n",
       " [Text(0, 0, 'East Asia & Pacific'),\n",
       "  Text(0, 1, 'Europe & Central Asia'),\n",
       "  Text(0, 2, 'Latin America & Caribbean'),\n",
       "  Text(0, 3, 'Middle East & North Africa'),\n",
       "  Text(0, 4, 'North America(region)'),\n",
       "  Text(0, 5, 'South Asia'),\n",
       "  Text(0, 6, 'Sub-Saharan Africa')])"
      ]
     },
     "execution_count": 402,
     "metadata": {},
     "output_type": "execute_result"
    },
    {
     "data": {
      "image/png": "[encoded data removed]",
      "text/plain": [
       "<Figure size 432x288 with 1 Axes>"
      ]
     },
     "metadata": {
      "needs_background": "light"
     },
     "output_type": "display_data"
    }
   ],
   "source": [
    "for lb,ub,y in zip(df_regiond21['lb'],df_regiond21['ub'],range(len(df_regiond21))):\n",
    "    plt.plot((lb,ub),(y,y),'ro-')\n",
    "plt.yticks(range(len(df_regiond21)),list(df_regiond21['region']))\n",
    "plt.xlabel(\"Daily deaths\")\n",
    "plt.ylabel(\"Region\")\n",
    "plt.title(\"Region  daily deaths 2021\")"
   ]
  },
  {
   "cell_type": "markdown",
   "id": "25a2f9f4",
   "metadata": {},
   "source": [
    "5.3 comparing fatality rate:"
   ]
  },
  {
   "cell_type": "code",
   "execution_count": null,
   "id": "86021b8a",
   "metadata": {},
   "outputs": [],
   "source": []
  },
  {
   "cell_type": "markdown",
   "id": "8d507d9a",
   "metadata": {},
   "source": [
    "6: comparing by continent:"
   ]
  },
  {
   "cell_type": "markdown",
   "id": "f103eeb7",
   "metadata": {},
   "source": [
    "6.1 comparing daily cases :"
   ]
  },
  {
   "cell_type": "code",
   "execution_count": 415,
   "id": "37185202",
   "metadata": {},
   "outputs": [],
   "source": [
    "stats2cases=df.groupby([\"continent\",\"year\"]).agg({\"dcases\": [np.mean, np.std, np.size,get_ci_lb,get_ci_ub]})"
   ]
  },
  {
   "cell_type": "code",
   "execution_count": 416,
   "id": "be119fbf",
   "metadata": {},
   "outputs": [],
   "source": [
    "stats2c=stats2cases.reset_index()"
   ]
  },
  {
   "cell_type": "code",
   "execution_count": 417,
   "id": "68a6440f",
   "metadata": {},
   "outputs": [],
   "source": [
    "stats2c.columns=['continent','year','mean','std','size','ub','lb']\n",
    "df_regionc=pd.DataFrame(stats2c)"
   ]
  },
  {
   "cell_type": "code",
   "execution_count": 418,
   "id": "50d9d0f6",
   "metadata": {},
   "outputs": [],
   "source": [
    "df_continent20c=df_regionc[df_regionc['year']=='2020']\n",
    "df_continent21c=df_regionc[df_regionc['year']=='2021']"
   ]
  },
  {
   "cell_type": "code",
   "execution_count": 419,
   "id": "ae548798",
   "metadata": {},
   "outputs": [
    {
     "data": {
      "text/plain": [
       "Text(0.5, 1.0, 'continent  daily cases 2020')"
      ]
     },
     "execution_count": 419,
     "metadata": {},
     "output_type": "execute_result"
    },
    {
     "data": {
      "image/png": "[encoded data removed]",
      "text/plain": [
       "<Figure size 432x288 with 1 Axes>"
      ]
     },
     "metadata": {
      "needs_background": "light"
     },
     "output_type": "display_data"
    }
   ],
   "source": [
    "for lb,ub,y in zip(df_continent20c['lb'],df_continent20c['ub'],range(len(df_continent20c))):\n",
    "    plt.plot((lb,ub),(y,y),'ro-')\n",
    "plt.yticks(range(len(df_continent20c)),list(df_continent20c['continent']))\n",
    "plt.xlabel(\"Daily cases\")\n",
    "plt.ylabel(\"continent\")\n",
    "plt.title(\"continent  daily cases 2020\")"
   ]
  },
  {
   "cell_type": "code",
   "execution_count": 420,
   "id": "65f865a6",
   "metadata": {},
   "outputs": [
    {
     "data": {
      "text/plain": [
       "Text(0.5, 1.0, 'continent  daily cases 2020')"
      ]
     },
     "execution_count": 420,
     "metadata": {},
     "output_type": "execute_result"
    },
    {
     "data": {
      "image/png": "[encoded data removed]",
      "text/plain": [
       "<Figure size 432x288 with 1 Axes>"
      ]
     },
     "metadata": {
      "needs_background": "light"
     },
     "output_type": "display_data"
    }
   ],
   "source": [
    "for lb,ub,y in zip(df_continent21c['lb'],df_continent21c['ub'],range(len(df_continent21c))):\n",
    "    plt.plot((lb,ub),(y,y),'ro-')\n",
    "plt.yticks(range(len(df_continent21c)),list(df_continent21c['continent']))\n",
    "plt.xlabel(\"Daily cases\")\n",
    "plt.ylabel(\"continent\")\n",
    "plt.title(\"continent  daily cases 2020\")"
   ]
  },
  {
   "cell_type": "markdown",
   "id": "96b799fa",
   "metadata": {},
   "source": [
    "6.2 comapring daily deaths:"
   ]
  },
  {
   "cell_type": "code",
   "execution_count": 409,
   "id": "bf5c9924",
   "metadata": {},
   "outputs": [],
   "source": [
    "stats2deaths=df.groupby([\"continent\",\"year\"]).agg({\"ddeaths\": [np.mean, np.std, np.size,get_ci_lb,get_ci_ub]})"
   ]
  },
  {
   "cell_type": "code",
   "execution_count": 410,
   "id": "d9027dbf",
   "metadata": {},
   "outputs": [],
   "source": [
    "stats2d=stats2deaths.reset_index()"
   ]
  },
  {
   "cell_type": "code",
   "execution_count": 411,
   "id": "6fad1023",
   "metadata": {},
   "outputs": [],
   "source": [
    "stats2d.columns=['continent','year','mean','std','size','ub','lb']\n",
    "df_regiond=pd.DataFrame(stats2d)"
   ]
  },
  {
   "cell_type": "code",
   "execution_count": 412,
   "id": "76f1efc2",
   "metadata": {},
   "outputs": [],
   "source": [
    "df_continent20=df_regiond[df_regiond['year']=='2020']\n",
    "df_continent21=df_regiond[df_regiond['year']=='2021']"
   ]
  },
  {
   "cell_type": "code",
   "execution_count": 413,
   "id": "76337c65",
   "metadata": {},
   "outputs": [
    {
     "data": {
      "text/plain": [
       "Text(0.5, 1.0, 'continent  daily deaths 2020')"
      ]
     },
     "execution_count": 413,
     "metadata": {},
     "output_type": "execute_result"
    },
    {
     "data": {
      "image/png": "[encoded data removed]",
      "text/plain": [
       "<Figure size 432x288 with 1 Axes>"
      ]
     },
     "metadata": {
      "needs_background": "light"
     },
     "output_type": "display_data"
    }
   ],
   "source": [
    "for lb,ub,y in zip(df_continent20['lb'],df_continent20['ub'],range(len(df_continent20))):\n",
    "    plt.plot((lb,ub),(y,y),'ro-')\n",
    "plt.yticks(range(len(df_continent20)),list(df_continent20['continent']))\n",
    "plt.xlabel(\"Daily deaths\")\n",
    "plt.ylabel(\"continent\")\n",
    "plt.title(\"continent  daily deaths 2020\")"
   ]
  },
  {
   "cell_type": "code",
   "execution_count": 414,
   "id": "e4472ed7",
   "metadata": {},
   "outputs": [
    {
     "data": {
      "text/plain": [
       "Text(0.5, 1.0, 'continent  daily deaths 2021')"
      ]
     },
     "execution_count": 414,
     "metadata": {},
     "output_type": "execute_result"
    },
    {
     "data": {
      "image/png": "[encoded data removed]",
      "text/plain": [
       "<Figure size 432x288 with 1 Axes>"
      ]
     },
     "metadata": {
      "needs_background": "light"
     },
     "output_type": "display_data"
    }
   ],
   "source": [
    "for lb,ub,y in zip(df_continent21['lb'],df_continent21['ub'],range(len(df_continent21))):\n",
    "    plt.plot((lb,ub),(y,y),'ro-')\n",
    "plt.yticks(range(len(df_continent21)),list(df_continent21['continent']))\n",
    "plt.xlabel(\"Daily deaths\")\n",
    "plt.ylabel(\"continent\")\n",
    "plt.title(\"continent  daily deaths 2021\")"
   ]
  },
  {
   "cell_type": "markdown",
   "id": "528de83d",
   "metadata": {},
   "source": [
    "6.3 comparing fatality rate:"
   ]
  },
  {
   "cell_type": "code",
   "execution_count": null,
   "id": "e3930fcd",
   "metadata": {},
   "outputs": [],
   "source": []
  },
  {
   "cell_type": "markdown",
   "id": "0811119c",
   "metadata": {},
   "source": [
    "7 comapring by countries income"
   ]
  },
  {
   "cell_type": "markdown",
   "id": "342e9c5e",
   "metadata": {},
   "source": [
    "7.1comparing daily infections:"
   ]
  },
  {
   "cell_type": "code",
   "execution_count": 429,
   "id": "1e558eb0",
   "metadata": {},
   "outputs": [],
   "source": [
    "stats3cases=df.groupby([\"income\",\"year\"]).agg({\"dcases\": [np.mean, np.std, np.size,get_ci_lb,get_ci_ub]})"
   ]
  },
  {
   "cell_type": "code",
   "execution_count": 422,
   "id": "aecac625",
   "metadata": {},
   "outputs": [],
   "source": [
    "stats3c=stats3cases.reset_index()"
   ]
  },
  {
   "cell_type": "code",
   "execution_count": 423,
   "id": "3a5d936e",
   "metadata": {},
   "outputs": [],
   "source": [
    "stats3c.columns=['Income','year','mean','std','size','ub','lb']\n",
    "df_incomec=pd.DataFrame(stats3c)"
   ]
  },
  {
   "cell_type": "code",
   "execution_count": 424,
   "id": "b0ea6f98",
   "metadata": {},
   "outputs": [],
   "source": [
    "df_income20c=df_incomec[df_incomec['year']=='2020']\n",
    "df_income21c=df_incomec[df_incomec['year']=='2021']"
   ]
  },
  {
   "cell_type": "code",
   "execution_count": 426,
   "id": "e0b63716",
   "metadata": {},
   "outputs": [
    {
     "data": {
      "text/plain": [
       "Text(0.5, 1.0, 'income  daily cases 2020')"
      ]
     },
     "execution_count": 426,
     "metadata": {},
     "output_type": "execute_result"
    },
    {
     "data": {
      "image/png": "[encoded data removed]",
      "text/plain": [
       "<Figure size 432x288 with 1 Axes>"
      ]
     },
     "metadata": {
      "needs_background": "light"
     },
     "output_type": "display_data"
    }
   ],
   "source": [
    "for lb,ub,y in zip(df_income20c['lb'],df_income20c['ub'],range(len(df_income20c))):\n",
    "    plt.plot((lb,ub),(y,y),'ro-')\n",
    "plt.yticks(range(len(df_income20c)),list(df_income20c['Income']))\n",
    "plt.xlabel(\"Daily cases\")\n",
    "plt.ylabel(\"income\")\n",
    "plt.title(\"income  daily cases 2020\")"
   ]
  },
  {
   "cell_type": "code",
   "execution_count": 428,
   "id": "1b8d9d04",
   "metadata": {},
   "outputs": [
    {
     "data": {
      "text/plain": [
       "Text(0.5, 1.0, 'Income  daily cases 2021')"
      ]
     },
     "execution_count": 428,
     "metadata": {},
     "output_type": "execute_result"
    },
    {
     "data": {
      "image/png": "[encoded data removed]",
      "text/plain": [
       "<Figure size 432x288 with 1 Axes>"
      ]
     },
     "metadata": {
      "needs_background": "light"
     },
     "output_type": "display_data"
    }
   ],
   "source": [
    "for lb,ub,y in zip(df_income21c['lb'],df_income21c['ub'],range(len(df_income21c))):\n",
    "    plt.plot((lb,ub),(y,y),'ro-')\n",
    "plt.yticks(range(len(df_income21c)),list(df_income21c['Income']))\n",
    "plt.xlabel(\"Daily cases\")\n",
    "plt.ylabel(\"income\")\n",
    "plt.title(\"Income  daily cases 2021\")"
   ]
  },
  {
   "cell_type": "markdown",
   "id": "d052d79b",
   "metadata": {},
   "source": []
  },
  {
   "cell_type": "markdown",
   "id": "e6480dcf",
   "metadata": {},
   "source": [
    "7.2 comparing daily deaths:"
   ]
  },
  {
   "cell_type": "code",
   "execution_count": 431,
   "id": "95e23bcc",
   "metadata": {},
   "outputs": [],
   "source": [
    "stats3deaths=df.groupby([\"income\",\"year\"]).agg({\"ddeaths\": [np.mean, np.std, np.size,get_ci_lb,get_ci_ub]})"
   ]
  },
  {
   "cell_type": "code",
   "execution_count": 432,
   "id": "62966fed",
   "metadata": {},
   "outputs": [],
   "source": [
    "stats3d=stats3deaths.reset_index()"
   ]
  },
  {
   "cell_type": "code",
   "execution_count": 433,
   "id": "fbb3bd21",
   "metadata": {},
   "outputs": [],
   "source": [
    "stats3d.columns=['Income','year','mean','std','size','ub','lb']\n",
    "df_incomed=pd.DataFrame(stats3d)"
   ]
  },
  {
   "cell_type": "code",
   "execution_count": 434,
   "id": "8eb56400",
   "metadata": {},
   "outputs": [],
   "source": [
    "df_income20d=df_incomed[df_incomed['year']=='2020']\n",
    "df_income21d=df_incomed[df_incomed['year']=='2021']"
   ]
  },
  {
   "cell_type": "code",
   "execution_count": 435,
   "id": "170b2824",
   "metadata": {},
   "outputs": [
    {
     "data": {
      "text/plain": [
       "Text(0.5, 1.0, 'income  daily deaths 2020')"
      ]
     },
     "execution_count": 435,
     "metadata": {},
     "output_type": "execute_result"
    },
    {
     "data": {
      "image/png": "[encoded data removed]",
      "text/plain": [
       "<Figure size 432x288 with 1 Axes>"
      ]
     },
     "metadata": {
      "needs_background": "light"
     },
     "output_type": "display_data"
    }
   ],
   "source": [
    "for lb,ub,y in zip(df_income20d['lb'],df_income20d['ub'],range(len(df_income20d))):\n",
    "    plt.plot((lb,ub),(y,y),'ro-')\n",
    "plt.yticks(range(len(df_income20d)),list(df_income20d['Income']))\n",
    "plt.xlabel(\"Daily deaths\")\n",
    "plt.ylabel(\"income\")\n",
    "plt.title(\"income  daily deaths 2020\")"
   ]
  },
  {
   "cell_type": "code",
   "execution_count": 436,
   "id": "1b415f0f",
   "metadata": {
    "scrolled": true
   },
   "outputs": [
    {
     "data": {
      "text/plain": [
       "Text(0.5, 1.0, 'income  daily deaths 2021')"
      ]
     },
     "execution_count": 436,
     "metadata": {},
     "output_type": "execute_result"
    },
    {
     "data": {
      "image/png": "[encoded data removed]",
      "text/plain": [
       "<Figure size 432x288 with 1 Axes>"
      ]
     },
     "metadata": {
      "needs_background": "light"
     },
     "output_type": "display_data"
    }
   ],
   "source": [
    "for lb,ub,y in zip(df_income21d['lb'],df_income21d['ub'],range(len(df_income21d))):\n",
    "    plt.plot((lb,ub),(y,y),'ro-')\n",
    "plt.yticks(range(len(df_income21d)),list(df_income21d['Income']))\n",
    "plt.xlabel(\"Daily deaths\")\n",
    "plt.ylabel(\"income\")\n",
    "plt.title(\"income  daily deaths 2021\")"
   ]
  },
  {
   "cell_type": "markdown",
   "id": "61898f42",
   "metadata": {},
   "source": [
    "7.3 comparing fatality rate:"
   ]
  },
  {
   "cell_type": "markdown",
   "id": "39a9726b",
   "metadata": {},
   "source": [
    "Conclusion"
   ]
  }
 ],
 "metadata": {
  "kernelspec": {
   "display_name": "Python 3 (ipykernel)",
   "language": "python",
   "name": "python3"
  },
  "language_info": {
   "codemirror_mode": {
    "name": "ipython",
    "version": 3
   },
   "file_extension": ".py",
   "mimetype": "text/x-python",
   "name": "python",
   "nbconvert_exporter": "python",
   "pygments_lexer": "ipython3",
   "version": "3.9.7"
  }
 },
 "nbformat": 4,
 "nbformat_minor": 5
}
